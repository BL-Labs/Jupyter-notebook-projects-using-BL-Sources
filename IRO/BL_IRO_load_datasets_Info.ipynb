{
  "nbformat": 4,
  "nbformat_minor": 0,
  "metadata": {
    "colab": {
      "name": "BL IRO: load datasets Info.ipynb",
      "provenance": [],
      "history_visible": true,
      "authorship_tag": "ABX9TyPg6NnWlRTieWbtury9RcdG",
      "include_colab_link": true
    },
    "kernelspec": {
      "name": "python3",
      "display_name": "Python 3"
    }
  },
  "cells": [
    {
      "cell_type": "markdown",
      "metadata": {
        "id": "view-in-github",
        "colab_type": "text"
      },
      "source": [
        "<a href=\"https://colab.research.google.com/github/BL-Labs/Jupyter-notebooks-projects-using-BL-Sources/blob/master/IRO/BL_IRO_load_datasets_Info.ipynb\" target=\"_parent\"><img src=\"https://colab.research.google.com/assets/colab-badge.svg\" alt=\"Open In Colab\"/></a>"
      ]
    },
    {
      "cell_type": "code",
      "metadata": {
        "id": "MglXOE3HexLf",
        "colab_type": "code",
        "colab": {
          "base_uri": "https://localhost:8080/",
          "height": 34
        },
        "outputId": "47ea51a7-6fc3-4cd5-bf15-3bb47c4f8f59"
      },
      "source": [
        "import requests\n",
        "\n",
        "url = 'https://bl.oar.bl.uk/api/v1/tenant/d08baa53-5174-40bb-89ea-9e5f642d2ac1/search?f%5Bcollection_names_sim%5D%5B%5D=British%20Library%20Datasets'\n",
        "\n",
        "r = requests.get(url)\n",
        "print('Elements retrieved!')"
      ],
      "execution_count": 1,
      "outputs": [
        {
          "output_type": "stream",
          "text": [
            "Elements retrieved!\n"
          ],
          "name": "stdout"
        }
      ]
    },
    {
      "cell_type": "code",
      "metadata": {
        "id": "6A08eKA7ezOg",
        "colab_type": "code",
        "colab": {
          "base_uri": "https://localhost:8080/",
          "height": 54
        },
        "outputId": "a7f94a12-a972-4462-8d69-320ba3a335c7"
      },
      "source": [
        "print(r.text)"
      ],
      "execution_count": 2,
      "outputs": [
        {
          "output_type": "stream",
          "text": [
            "{\"total\":150,\"items\":[{\"uuid\":\"23ac0382-d423-4686-885b-4930040d3ed5\",\"type\":\"work\",\"related_url\":null,\"work_type\":\"Dataset\",\"title\":\"UK Doctoral Thesis Metadata from EThOS\",\"alternative_title\":null,\"resource_type\":\"Dataset default Dataset\",\"visibility\":\"open\",\"workflow_status\":[\"deposited\"],\"creator\":[{\"creator_organization_name\":\"British Library\",\"creator_name_type\":\"Organisational\",\"creator_isni\":\"0000000123081542\",\"creator_position\":\"0\"},{\"creator_given_name\":\"Heather\",\"creator_family_name\":\"Rosie\",\"creator_name_type\":\"Personal\",\"creator_orcid\":\"0000-0002-0268-7059\",\"creator_position\":\"1\"}],\"contributor\":[{\"contributor_name_type\":\"Personal\",\"contributor_position\":\"0\",\"contributor_institutional_relationship\":[\"Staff member\"]}],\"cname\":\"bl.oar.bl.uk\",\"abstract\":\"The data in this collection comprises the bibliographic metadata for all UK doctoral theses listed in EThOS, the UK's national thesis service. We estimate the data covers around 98% of all PhDs ever awarded by UK Higher Education institutions, dating back to 1787. Thesis metadata from every PhD-awarding university in the UK is included. You can investigate and re-use this unique collection of UK universities' PhD thesis data to analyse trends in postgraduate research, make connections between researchers, apply large data analysis, improve citation of theses and many more applications.\\r\\n\",\"date_published\":[\"2020-7\"],\"institution\":[\"British Library\"],\"organisational_unit\":[\"Research Services\"],\"project_name\":null,\"funder\":null,\"publisher\":[\"British Library\"],\"date_accepted\":null,\"date_submitted\":null,\"official_url\":[\"https://doi.org/10.23636/1188\"],\"language\":null,\"license\":[{\"name\":\"CC BY 4.0 Attribution\",\"link\":\"https://creativecommons.org/licenses/by/4.0/\"}],\"rights_statement\":null,\"rights_holder\":null,\"doi\":[\"doi.org/10.23636/1188\"],\"peer_reviewed\":true,\"keywords\":[\"student\",\"dissertations\"],\"dewey\":[\"\"],\"library_of_congress_classification\":null,\"additional_info\":[\"\"],\"thumbnail_url\":\"https://bl.oar.bl.uk/downloads/fc818390-dc18-4952-aaad-7c903ac4c146?file=thumbnail\",\"download_link\":\"https://bl.oar.bl.uk/downloads/23ac0382-d423-4686-885b-4930040d3ed5\",\"version\":[\"4\"],\"duration\":null,\"pagination\":null,\"series_name\":null,\"issue\":null,\"volume\":null,\"material_media\":null,\"edition\":null,\"journal_title\":null,\"book_title\":null,\"article_number\":null,\"eissn\":null,\"issn\":null,\"isbn\":null,\"current_he_institution\":null,\"qualification_name\":null,\"qualification_level\":null,\"alternative_journal_title\":null,\"place_of_publication\":[\"London, UK\"],\"funder_project_reference\":null,\"event_title\":null,\"event_location\":null,\"event_date\":null,\"related_exhibition\":null,\"related_exhibition_date\":null,\"related_exhibition_venue\":null,\"files\":null,\"collections\":null,\"thumbnail_base64_string\":null},{\"uuid\":\"6fd723eb-8cbe-43ba-be77-c263d9f8c828\",\"type\":\"work\",\"related_url\":null,\"work_type\":\"Dataset\",\"title\":\"Books related to theatre derived from the Digitised 19th Century Books dataset\",\"alternative_title\":null,\"resource_type\":\"Dataset default Dataset\",\"visibility\":\"open\",\"workflow_status\":[\"deposited\"],\"creator\":[{\"creator_organization_name\":\"British Library\",\"creator_name_type\":\"Organisational\",\"creator_isni\":\"0000000123081542\",\"creator_position\":\"0\"},{\"creator_organization_name\":\"British Library Labs\",\"creator_name_type\":\"Organisational\",\"creator_position\":\"1\"}],\"contributor\":[{\"contributor_given_name\":\"Ibuki\",\"contributor_family_name\":\"Yamade\",\"contributor_name_type\":\"Personal\",\"contributor_position\":\"0\",\"contributor_type\":\"Data Curator\"},{\"contributor_given_name\":\"Jack\",\"contributor_family_name\":\"Whiteley\",\"contributor_name_type\":\"Personal\",\"contributor_position\":\"1\",\"contributor_type\":\"Data Curator\"},{\"contributor_given_name\":\"Lena\",\"contributor_family_name\":\"Kim\",\"contributor_name_type\":\"Personal\",\"contributor_position\":\"2\",\"contributor_type\":\"Data Curator\"},{\"contributor_given_name\":\"Marisol\",\"contributor_family_name\":\"Acuna\",\"contributor_name_type\":\"Personal\",\"contributor_position\":\"3\",\"contributor_type\":\"Data Curator\"},{\"contributor_given_name\":\"Sean\",\"contributor_family_name\":\"Chua\",\"contributor_name_type\":\"Personal\",\"contributor_position\":\"4\",\"contributor_type\":\"Data Curator\"}],\"cname\":\"bl.oar.bl.uk\",\"abstract\":\"A dataset derived from the Digitised 19th Century Books dataset which contains books pertaining to theatre written in English. The dataset of 841 items was created by filtering by keywords which are related to different genre of play including Drama, Act, Scene, Play, Comedy, Farce, Pantomime, Tragedy and Shakespeare and manual curation to identify works which were written to be performed. This dataset was curated by students at University College London for the module BASC003, Information through the ages in Autumn 2019.\",\"date_published\":[\"2020\"],\"institution\":[\"British Library\"],\"organisational_unit\":null,\"project_name\":null,\"funder\":null,\"publisher\":[\"British Library\"],\"date_accepted\":null,\"date_submitted\":null,\"official_url\":[\"https://doi.org/10.23636/1146\"],\"language\":[\"English\"],\"license\":[{\"name\":\"CC Public Domain Mark 1.0\",\"link\":\"https://creativecommons.org/publicdomain/mark/1.0/\"}],\"rights_statement\":null,\"rights_holder\":null,\"doi\":[\"doi.org/10.23636/1146\"],\"peer_reviewed\":true,\"keywords\":[\"theatre\",\"play\",\"metadata\",\"books\",\"bibliographic\",\"act\",\"genre\"],\"dewey\":[\"\"],\"library_of_congress_classification\":null,\"additional_info\":[\"\"],\"related_identifier\":[{\"name\":\"https://doi.org/10.21250/DB21\",\"type\":\"DOI\",\"relationship\":\"IsDerivedFrom\",\"postion\":0}],\"thumbnail_url\":\"https://bl.oar.bl.uk/downloads/f1f13b55-c83c-4350-8209-d07c3323dd6e?file=thumbnail\",\"download_link\":\"https://bl.oar.bl.uk/downloads/6fd723eb-8cbe-43ba-be77-c263d9f8c828\",\"version\":null,\"duration\":null,\"pagination\":[\"\"],\"series_name\":null,\"issue\":[\"\"],\"volume\":null,\"material_media\":null,\"edition\":[\"\"],\"journal_title\":[\"\"],\"book_title\":[\"\"],\"article_number\":[\"\"],\"eissn\":[\"\"],\"issn\":[\"\"],\"isbn\":[\"\"],\"current_he_institution\":[\"\"],\"qualification_name\":[\"\"],\"qualification_level\":[\"\"],\"alternative_journal_title\":null,\"place_of_publication\":[\"London, UK\"],\"funder_project_reference\":null,\"event_title\":null,\"event_location\":null,\"event_date\":null,\"related_exhibition\":null,\"related_exhibition_date\":null,\"related_exhibition_venue\":null,\"files\":null,\"collections\":null,\"thumbnail_base64_string\":null},{\"uuid\":\"93f2f951-839d-4c11-bf68-395262681d25\",\"type\":\"work\",\"related_url\":null,\"work_type\":\"Dataset\",\"title\":\"Books related to India from the Digitised 19th Century Books dataset\",\"alternative_title\":null,\"resource_type\":\"Dataset default Dataset\",\"visibility\":\"open\",\"workflow_status\":[\"deposited\"],\"creator\":[{\"creator_organization_name\":\"British Library\",\"creator_name_type\":\"Organisational\",\"creator_isni\":\"0000000123081542\",\"creator_position\":\"0\"},{\"creator_organization_name\":\"British Library Labs\",\"creator_name_type\":\"Organisational\",\"creator_position\":\"1\"}],\"cname\":\"bl.oar.bl.uk\",\"abstract\":\"A dataset which is derived from the Digitised 19th Century books dataset focusing on books related to India. The dataset was created by refining the book title field using keywords related to names used for India during the period, places within India, cultural terms such as 'Hindu' and another term 'Mughal Empire'. It was manually cleaned resulting in a dataset of 599 rows. This dataset was curated by the HUJI group of students at University College London for the module BASC003, Information through the ages in Autumn 2019.\",\"date_published\":[\"2020\"],\"institution\":[\"British Library\"],\"organisational_unit\":null,\"project_name\":null,\"funder\":null,\"publisher\":[\"British Library\"],\"date_accepted\":null,\"date_submitted\":null,\"official_url\":[\"https://doi.org/10.23636/1145\"],\"language\":[\"English\"],\"license\":[{\"name\":\"CC Public Domain Mark 1.0\",\"link\":\"https://creativecommons.org/publicdomain/mark/1.0/\"}],\"rights_statement\":null,\"rights_holder\":null,\"doi\":[\"doi.org/10.23636/1145\"],\"peer_reviewed\":true,\"keywords\":[\"metadata\",\"India\",\"books\",\"bibliographic\"],\"dewey\":[\"\"],\"library_of_congress_classification\":null,\"additional_info\":[\"\"],\"related_identifier\":[{\"name\":\"https://doi.org/10.21250/DB21\",\"type\":\"DOI\",\"relationship\":\"IsDerivedFrom\",\"postion\":0}],\"thumbnail_url\":\"https://bl.oar.bl.uk/downloads/9373a745-f1ec-4c30-99a7-f9a8540aa5bd?file=thumbnail\",\"download_link\":\"https://bl.oar.bl.uk/downloads/93f2f951-839d-4c11-bf68-395262681d25\",\"version\":null,\"duration\":null,\"pagination\":[\"\"],\"series_name\":null,\"issue\":[\"\"],\"volume\":null,\"material_media\":null,\"edition\":[\"\"],\"journal_title\":[\"\"],\"book_title\":[\"\"],\"article_number\":[\"\"],\"eissn\":[\"\"],\"issn\":[\"\"],\"isbn\":[\"\"],\"current_he_institution\":[\"\"],\"qualification_name\":[\"\"],\"qualification_level\":[\"\"],\"alternative_journal_title\":null,\"place_of_publication\":[\"London, UK\"],\"funder_project_reference\":null,\"event_title\":null,\"event_location\":null,\"event_date\":null,\"related_exhibition\":null,\"related_exhibition_date\":null,\"related_exhibition_venue\":null,\"files\":null,\"collections\":null,\"thumbnail_base64_string\":null},{\"uuid\":\"03bbb875-1a50-4ca9-9cdc-f90f1d090e2e\",\"type\":\"work\",\"related_url\":null,\"work_type\":\"Dataset\",\"title\":\"Books related to 19th Century British Colonies derived from the Digitised 19th Century books dataset\",\"alternative_title\":null,\"resource_type\":\"Dataset default Dataset\",\"visibility\":\"open\",\"workflow_status\":[\"deposited\"],\"creator\":[{\"creator_organization_name\":\"British Library\",\"creator_name_type\":\"Organisational\",\"creator_isni\":\"0000000123081542\",\"creator_position\":\"0\"},{\"creator_organization_name\":\"British Library Labs\",\"creator_name_type\":\"Organisational\",\"creator_position\":\"1\"}],\"contributor\":[{\"contributor_given_name\":\"Ji Won\",\"contributor_family_name\":\"Im\",\"contributor_name_type\":\"Personal\",\"contributor_position\":\"0\",\"contributor_type\":\"Data Curator\"},{\"contributor_given_name\":\"Yen Wei\",\"contributor_family_name\":\"Kuang\",\"contributor_name_type\":\"Personal\",\"contributor_position\":\"1\",\"contributor_type\":\"Data Curator\"},{\"contributor_given_name\":\"Gautier\",\"contributor_family_name\":\"Omel\",\"contributor_name_type\":\"Personal\",\"contributor_position\":\"2\",\"contributor_type\":\"Data Curator\"},{\"contributor_given_name\":\"José María Fuentes\",\"contributor_family_name\":\"Rajo\",\"contributor_name_type\":\"Personal\",\"contributor_position\":\"3\",\"contributor_type\":\"Data Curator\"},{\"contributor_given_name\":\"Francisco Donado\",\"contributor_family_name\":\"Carro\",\"contributor_name_type\":\"Personal\",\"contributor_position\":\"4\",\"contributor_type\":\"Data Curator\"}],\"cname\":\"bl.oar.bl.uk\",\"abstract\":\"A dataset derived from the Digitised 19th Century Books dataset which contains books related to 19th Century British Colonies. The dataset of 1288 items was created using filtering by keywords of locations and then manually checked for accuracy. The data was augmented with additional columns including 'City', 'Colony Name' and 'Continent'. The exisiting metadta was also analysed to augment gaps within the existing data including 'Place of Publication'. This dataset was curated by students at University College London for the module BASC003, Information through the ages in Autumn 2019.\",\"date_published\":[\"2020\"],\"institution\":[\"British Library\"],\"organisational_unit\":null,\"project_name\":null,\"funder\":null,\"publisher\":[\"British Library\"],\"date_accepted\":null,\"date_submitted\":null,\"official_url\":[\"https://doi.org/10.23636/1144\"],\"language\":[\"English\"],\"license\":[{\"name\":\"CC Public Domain Mark 1.0\",\"link\":\"https://creativecommons.org/publicdomain/mark/1.0/\"}],\"rights_statement\":null,\"rights_holder\":null,\"doi\":[\"doi.org/10.23636/1144\"],\"peer_reviewed\":true,\"keywords\":[\"Canada\",\"British Colony\",\"Australia\",\"Africa\",\"India\",\"Ceylon\",\"British Colonies\",\"books\",\"bibliographic\",\"metadata\",\"colonialism\"],\"dewey\":[\"\"],\"library_of_congress_classification\":null,\"additional_info\":[\"\"],\"related_identifier\":[{\"name\":\"https://doi.org/10.21250/DB21\",\"type\":\"DOI\",\"relationship\":\"IsDerivedFrom\",\"postion\":0}],\"thumbnail_url\":\"https://bl.oar.bl.uk/downloads/4564af7d-4f7a-470d-95cc-06adc995890f?file=thumbnail\",\"download_link\":\"https://bl.oar.bl.uk/downloads/03bbb875-1a50-4ca9-9cdc-f90f1d090e2e\",\"version\":null,\"duration\":null,\"pagination\":[\"\"],\"series_name\":null,\"issue\":[\"\"],\"volume\":null,\"material_media\":null,\"edition\":[\"\"],\"journal_title\":[\"\"],\"book_title\":[\"\"],\"article_number\":[\"\"],\"eissn\":[\"\"],\"issn\":[\"\"],\"isbn\":[\"\"],\"current_he_institution\":[\"\"],\"qualification_name\":[\"\"],\"qualification_level\":[\"\"],\"alternative_journal_title\":null,\"place_of_publication\":[\"London, UK\"],\"funder_project_reference\":null,\"event_title\":null,\"event_location\":null,\"event_date\":null,\"related_exhibition\":null,\"related_exhibition_date\":null,\"related_exhibition_venue\":null,\"files\":null,\"collections\":null,\"thumbnail_base64_string\":null},{\"uuid\":\"e1e53697-5ea7-444c-b3e9-f365ad085647\",\"type\":\"work\",\"related_url\":null,\"work_type\":\"Dataset\",\"title\":\"Books related to War derived from the Digitised 19th Century Books Dataset\",\"alternative_title\":null,\"resource_type\":\"Dataset default Dataset\",\"visibility\":\"open\",\"workflow_status\":[\"deposited\"],\"creator\":[{\"creator_organization_name\":\"British Library\",\"creator_name_type\":\"Organisational\",\"creator_isni\":\"0000000123081542\",\"creator_position\":\"0\"},{\"creator_organization_name\":\"British Library Labs\",\"creator_name_type\":\"Organisational\",\"creator_position\":\"1\"}],\"contributor\":[{\"contributor_given_name\":\"P.\",\"contributor_family_name\":\"Bailey\",\"contributor_name_type\":\"Personal\",\"contributor_position\":\"0\",\"contributor_type\":\"Data Curator\"},{\"contributor_given_name\":\"J.\",\"contributor_family_name\":\"Byrne\",\"contributor_name_type\":\"Personal\",\"contributor_position\":\"1\",\"contributor_type\":\"Data Curator\"},{\"contributor_given_name\":\"L.\",\"contributor_family_name\":\"Sythes\",\"contributor_name_type\":\"Personal\",\"contributor_position\":\"2\",\"contributor_type\":\"Data Curator\"},{\"contributor_given_name\":\"R.\",\"contributor_family_name\":\"Zafar\",\"contributor_name_type\":\"Personal\",\"contributor_position\":\"3\",\"contributor_type\":\"Data Curator\"}],\"cname\":\"bl.oar.bl.uk\",\"abstract\":\"A dataset which is derived from the Digitised 19th Century Books dataset comprising all non-fiction English language books related to armed conflicts. The dataset of 1127 items was developed by refining based on keywords such as 'war', 'battle', 'uprising', 'revolt', 'rebellion', 'invasion' and 'mutiny'. This dataset was curated by students at University College London for the module BASC003, Information through the ages in Autumn 2019.\",\"date_published\":[\"2020\"],\"institution\":[\"British Library\"],\"organisational_unit\":null,\"project_name\":null,\"funder\":null,\"publisher\":[\"British Library\"],\"date_accepted\":null,\"date_submitted\":null,\"official_url\":[\"https://doi.org/10.23636/1143\"],\"language\":[\"English\"],\"license\":[{\"name\":\"CC Public Domain Mark 1.0\",\"link\":\"https://creativecommons.org/publicdomain/mark/1.0/\"}],\"rights_statement\":null,\"rights_holder\":null,\"doi\":[\"doi.org/10.23636/1143\"],\"peer_reviewed\":true,\"keywords\":[\"metadata\",\"War\",\"non-fiction\",\"books\",\"bibliographic\"],\"dewey\":[\"\"],\"library_of_congress_classification\":null,\"additional_info\":[\"\"],\"related_identifier\":[{\"name\":\"https://doi.org/10.21250/DB21\",\"type\":\"DOI\",\"relationship\":\"IsDerivedFrom\",\"postion\":0}],\"thumbnail_url\":\"https://bl.oar.bl.uk/downloads/ee918685-aff0-469d-88e6-bce471454003?file=thumbnail\",\"download_link\":\"https://bl.oar.bl.uk/downloads/e1e53697-5ea7-444c-b3e9-f365ad085647\",\"version\":null,\"duration\":null,\"pagination\":[\"\"],\"series_name\":null,\"issue\":[\"\"],\"volume\":null,\"material_media\":null,\"edition\":[\"\"],\"journal_title\":[\"\"],\"book_title\":[\"\"],\"article_number\":[\"\"],\"eissn\":[\"\"],\"issn\":[\"\"],\"isbn\":[\"\"],\"current_he_institution\":[\"\"],\"qualification_name\":[\"\"],\"qualification_level\":[\"\"],\"alternative_journal_title\":null,\"place_of_publication\":[\"London, UK\"],\"funder_project_reference\":null,\"event_title\":null,\"event_location\":null,\"event_date\":null,\"related_exhibition\":null,\"related_exhibition_date\":null,\"related_exhibition_venue\":null,\"files\":null,\"collections\":null,\"thumbnail_base64_string\":null},{\"uuid\":\"3f6e9b6a-bd81-48df-855d-1f8db6a126a9\",\"type\":\"work\",\"related_url\":null,\"work_type\":\"Dataset\",\"title\":\"Books related to the Industrial Revolution derived from the Digitised 19th Century books dataset\",\"alternative_title\":null,\"resource_type\":\"Dataset default Dataset\",\"visibility\":\"open\",\"workflow_status\":[\"deposited\"],\"creator\":[{\"creator_organization_name\":\"British Library\",\"creator_name_type\":\"Organisational\",\"creator_isni\":\"0000000123081542\",\"creator_position\":\"0\"},{\"creator_organization_name\":\"British Library Labs\",\"creator_name_type\":\"Organisational\",\"creator_position\":\"1\"}],\"cname\":\"bl.oar.bl.uk\",\"abstract\":\"A dataset which is a subset of the Digitised 19th Century Books dataset comprising books related to the Industrial Revolution in Britain. The subset of 354 items was refined by using keywords associated with placenames and the topic of industrialism. This dataset was curated by the Aepyi student group at University College London for the module BASC003, Information through the ages in Autumn 2019.\",\"date_published\":[\"2020\"],\"institution\":[\"British Library\"],\"organisational_unit\":null,\"project_name\":null,\"funder\":null,\"publisher\":[\"British Library\"],\"date_accepted\":null,\"date_submitted\":null,\"official_url\":[\"https://doi.org/10.23636/1142\"],\"language\":[\"English\"],\"license\":[{\"name\":\"CC Public Domain Mark 1.0\",\"link\":\"https://creativecommons.org/publicdomain/mark/1.0/\"}],\"rights_statement\":null,\"rights_holder\":null,\"doi\":[\"doi.org/10.23636/1142\"],\"peer_reviewed\":true,\"keywords\":[\"industrialism\",\"metadata\",\"Industrial Revolution\",\"books\",\"bibliographic\"],\"dewey\":[\"\"],\"library_of_congress_classification\":null,\"additional_info\":[\"\"],\"related_identifier\":[{\"name\":\"https://doi.org/10.21250/DB21\",\"type\":\"DOI\",\"relationship\":\"IsDerivedFrom\",\"postion\":0}],\"thumbnail_url\":\"https://bl.oar.bl.uk/downloads/15eaa2dc-1945-401f-81f7-febc0f7b2fab?file=thumbnail\",\"download_link\":\"https://bl.oar.bl.uk/downloads/3f6e9b6a-bd81-48df-855d-1f8db6a126a9\",\"version\":null,\"duration\":null,\"pagination\":[\"\"],\"series_name\":null,\"issue\":[\"\"],\"volume\":null,\"material_media\":null,\"edition\":[\"\"],\"journal_title\":[\"\"],\"book_title\":[\"\"],\"article_number\":[\"\"],\"eissn\":[\"\"],\"issn\":[\"\"],\"isbn\":[\"\"],\"current_he_institution\":[\"\"],\"qualification_name\":[\"\"],\"qualification_level\":[\"\"],\"alternative_journal_title\":null,\"place_of_publication\":[\"London, UK\"],\"funder_project_reference\":null,\"event_title\":null,\"event_location\":null,\"event_date\":null,\"related_exhibition\":null,\"related_exhibition_date\":null,\"related_exhibition_venue\":null,\"files\":null,\"collections\":null,\"thumbnail_base64_string\":null},{\"uuid\":\"a03410ac-3c1f-4f8d-a04f-55cc7211f291\",\"type\":\"work\",\"related_url\":null,\"work_type\":\"Dataset\",\"title\":\"Latin American books in Digitised 19th century books\",\"alternative_title\":null,\"resource_type\":\"Dataset default Dataset\",\"visibility\":\"open\",\"workflow_status\":[\"deposited\"],\"creator\":[{\"creator_organization_name\":\"British Library\",\"creator_name_type\":\"Organisational\",\"creator_isni\":\"0000000123081542\",\"creator_position\":\"0\"},{\"creator_organization_name\":\"British Library Labs\",\"creator_name_type\":\"Organisational\",\"creator_position\":\"1\"}],\"contributor\":[{\"contributor_given_name\":\"Catherine\",\"contributor_family_name\":\"Davies\",\"contributor_name_type\":\"Personal\",\"contributor_position\":\"0\",\"contributor_type\":\"Data Curator\"}],\"cname\":\"bl.oar.bl.uk\",\"abstract\":\"A dataset which is derived from the 19th Century Books dataset comprising c.1,100 books which are related to Latin America, written in Spanish, English, German, French, Italian, Swedish and Dutch.\",\"date_published\":[\"2019\"],\"institution\":[\"British Library\"],\"organisational_unit\":null,\"project_name\":null,\"funder\":null,\"publisher\":[\"British Library\"],\"date_accepted\":null,\"date_submitted\":null,\"official_url\":[\"https://doi.org/10.23636/1141\"],\"language\":[\"English\"],\"license\":[{\"name\":\"CC Public Domain Mark 1.0\",\"link\":\"https://creativecommons.org/publicdomain/mark/1.0/\"}],\"rights_statement\":null,\"rights_holder\":null,\"doi\":[\"doi.org/10.23636/1141\"],\"peer_reviewed\":true,\"keywords\":[\"metadata\",\"books\",\"bibliographic\",\"Latin America\"],\"dewey\":[\"\"],\"library_of_congress_classification\":null,\"additional_info\":[\"\"],\"related_identifier\":[{\"name\":\"https://doi.org/10.21250/DB21\",\"type\":\"DOI\",\"relationship\":\"IsDerivedFrom\",\"postion\":0}],\"thumbnail_url\":\"https://bl.oar.bl.uk/downloads/2920e944-3714-4dd4-a8ed-cefe0acc6a55?file=thumbnail\",\"download_link\":\"https://bl.oar.bl.uk/downloads/a03410ac-3c1f-4f8d-a04f-55cc7211f291\",\"version\":null,\"duration\":null,\"pagination\":[\"\"],\"series_name\":null,\"issue\":[\"\"],\"volume\":null,\"material_media\":null,\"edition\":[\"\"],\"journal_title\":[\"\"],\"book_title\":[\"\"],\"article_number\":[\"\"],\"eissn\":[\"\"],\"issn\":[\"\"],\"isbn\":[\"\"],\"current_he_institution\":[\"\"],\"qualification_name\":[\"\"],\"qualification_level\":[\"\"],\"alternative_journal_title\":null,\"place_of_publication\":[\"London, UK\"],\"funder_project_reference\":null,\"event_title\":null,\"event_location\":null,\"event_date\":null,\"related_exhibition\":null,\"related_exhibition_date\":null,\"related_exhibition_venue\":null,\"files\":null,\"collections\":null,\"thumbnail_base64_string\":null},{\"uuid\":\"ff82a4ff-12a3-4abe-8108-2c9b1172ccc4\",\"type\":\"work\",\"related_url\":null,\"work_type\":\"Dataset\",\"title\":\"Books divided by Genre from the Digitised 19th century books dataset\",\"alternative_title\":null,\"resource_type\":\"Dataset default Dataset\",\"visibility\":\"open\",\"workflow_status\":[\"deposited\"],\"creator\":[{\"creator_organization_name\":\"British Library\",\"creator_name_type\":\"Organisational\",\"creator_isni\":\"0000000123081542\",\"creator_position\":\"0\"},{\"creator_organization_name\":\"British Library Labs\",\"creator_name_type\":\"Organisational\",\"creator_position\":\"1\"}],\"contributor\":[{\"contributor_given_name\":\"Christin\",\"contributor_family_name\":\"Hoene\",\"contributor_name_type\":\"Personal\",\"contributor_position\":\"0\",\"contributor_type\":\"Data Curator\",\"contributor_institutional_relationship\":[\"Research associate\"]}],\"cname\":\"bl.oar.bl.uk\",\"abstract\":\"A dataset derived from the Digitised 19th Century Books dataset which classifies the books by genre (Drama, Poetry, Prose, Music and unidentified). For Drama, Music and Prose several types were identified. For Drama: comedy, play, recitation and tragedy. For Prose: novel, parody, romance, satire, story, history subset of story and tale. For Music: hymn, melody, opera, pantomime and song. Each spreadsheet contains a sheet with the whole dataset including a type column and separate sheets with the different types.\",\"date_published\":[\"2019\"],\"institution\":[\"British Library\"],\"organisational_unit\":null,\"project_name\":null,\"funder\":null,\"publisher\":[\"British Library\"],\"date_accepted\":null,\"date_submitted\":null,\"official_url\":[\"https://doi.org/10.23636/1140\"],\"language\":[\"English\"],\"license\":[{\"name\":\"CC Public Domain Mark 1.0\",\"link\":\"https://creativecommons.org/publicdomain/mark/1.0/\"}],\"rights_statement\":null,\"rights_holder\":null,\"doi\":[\"doi.org/10.23636/1140\"],\"peer_reviewed\":true,\"keywords\":[\"Music\",\"Prose\",\"metadata\",\"Poetry\",\"books\",\"bibliographic\",\"Genre\",\"Drama\"],\"dewey\":[\"\"],\"library_of_congress_classification\":null,\"additional_info\":[\"\"],\"related_identifier\":[{\"name\":\"https://doi.org/10.21250/DB21\",\"type\":\"DOI\",\"relationship\":\"IsDerivedFrom\",\"postion\":0}],\"thumbnail_url\":\"https://bl.oar.bl.uk/downloads/e50a5287-2c93-493d-83a0-7357b8d88d37?file=thumbnail\",\"download_link\":\"https://bl.oar.bl.uk/downloads/ff82a4ff-12a3-4abe-8108-2c9b1172ccc4\",\"version\":null,\"duration\":null,\"pagination\":[\"\"],\"series_name\":null,\"issue\":[\"\"],\"volume\":null,\"material_media\":null,\"edition\":[\"\"],\"journal_title\":[\"\"],\"book_title\":[\"\"],\"article_number\":[\"\"],\"eissn\":[\"\"],\"issn\":[\"\"],\"isbn\":[\"\"],\"current_he_institution\":[\"\"],\"qualification_name\":[\"\"],\"qualification_level\":[\"\"],\"alternative_journal_title\":null,\"place_of_publication\":[\"London, UK\"],\"funder_project_reference\":null,\"event_title\":null,\"event_location\":null,\"event_date\":null,\"related_exhibition\":null,\"related_exhibition_date\":null,\"related_exhibition_venue\":null,\"files\":null,\"collections\":null,\"thumbnail_base64_string\":null},{\"uuid\":\"f68dd6ab-7586-4a5a-b8d8-1f5906775731\",\"type\":\"work\",\"related_url\":[\"https://britishlibrary.typepad.co.uk/digital-scholarship/2016/07/finding-digitised-books-and-images-about-finland-in-a-collection-of-65000-books.html\"],\"work_type\":\"Dataset\",\"title\":\"Books containing images about Finland\",\"alternative_title\":null,\"resource_type\":\"Dataset default Dataset\",\"visibility\":\"open\",\"workflow_status\":[\"deposited\"],\"creator\":[{\"creator_organization_name\":\"British Library\",\"creator_name_type\":\"Organisational\",\"creator_isni\":\"0000000123081542\",\"creator_position\":\"0\"},{\"creator_organization_name\":\"British Library Labs\",\"creator_name_type\":\"Organisational\",\"creator_position\":\"1\"}],\"contributor\":[{\"contributor_given_name\":\"Ruby\",\"contributor_family_name\":\"Dixon\",\"contributor_name_type\":\"Personal\",\"contributor_position\":\"0\",\"contributor_type\":\"Data Curator\",\"contributor_institutional_relationship\":[\"Research associate\"]}],\"cname\":\"bl.oar.bl.uk\",\"abstract\":\"A dataset derived from the Digitised 19th Century books dataset comprising books with images about Finland, approximately 40 titles. This dataset was compiled by Ruby Dixon a student at Graveney School who completed work experience at British Library Labs in 2016.\",\"date_published\":[\"2019\"],\"institution\":[\"British Library\"],\"organisational_unit\":null,\"project_name\":null,\"funder\":null,\"publisher\":[\"British Library\"],\"date_accepted\":null,\"date_submitted\":null,\"official_url\":[\"https://doi.org/10.23636/1139\"],\"language\":[\"English\"],\"license\":[{\"name\":\"CC Public Domain Mark 1.0\",\"link\":\"https://creativecommons.org/publicdomain/mark/1.0/\"}],\"rights_statement\":null,\"rights_holder\":null,\"doi\":[\"doi.org/10.23636/1139\"],\"peer_reviewed\":true,\"keywords\":[\"Finland\",\"metadata\",\"books\",\"bibliographic\"],\"dewey\":[\"\"],\"library_of_congress_classification\":null,\"additional_info\":[\"\"],\"related_identifier\":[{\"name\":\"https://doi.org/10.21250/DB21\",\"type\":\"DOI\",\"relationship\":\"IsDerivedFrom\",\"postion\":0}],\"thumbnail_url\":\"https://bl.oar.bl.uk/downloads/f15b4f9c-f4a6-407d-a903-f41258168be5?file=thumbnail\",\"download_link\":\"https://bl.oar.bl.uk/downloads/f68dd6ab-7586-4a5a-b8d8-1f5906775731\",\"version\":null,\"duration\":null,\"pagination\":[\"\"],\"series_name\":null,\"issue\":[\"\"],\"volume\":null,\"material_media\":null,\"edition\":[\"\"],\"journal_title\":[\"\"],\"book_title\":[\"\"],\"article_number\":[\"\"],\"eissn\":[\"\"],\"issn\":[\"\"],\"isbn\":[\"\"],\"current_he_institution\":[\"\"],\"qualification_name\":[\"\"],\"qualification_level\":[\"\"],\"alternative_journal_title\":null,\"place_of_publication\":[\"London, UK\"],\"funder_project_reference\":null,\"event_title\":null,\"event_location\":null,\"event_date\":null,\"related_exhibition\":null,\"related_exhibition_date\":null,\"related_exhibition_venue\":null,\"files\":null,\"collections\":null,\"thumbnail_base64_string\":null},{\"uuid\":\"91337417-af3f-4c59-9a97-8cba4f358499\",\"type\":\"work\",\"related_url\":[\"https://blogs.bl.uk/digital-scholarship/2017/07/russian-language-books-research-project-by-nadya-miryanova.html\"],\"work_type\":\"Dataset\",\"title\":\"Russian language books in the Digitised 19th century books dataset\",\"alternative_title\":null,\"resource_type\":\"Dataset default Dataset\",\"visibility\":\"open\",\"workflow_status\":[\"deposited\"],\"creator\":[{\"creator_organization_name\":\"British Library\",\"creator_name_type\":\"Organisational\",\"creator_isni\":\"0000000123081542\",\"creator_position\":\"0\"},{\"creator_organization_name\":\"British Library Labs\",\"creator_name_type\":\"Organisational\",\"creator_position\":\"1\"}],\"contributor\":[{\"contributor_given_name\":\"Nadya\",\"contributor_family_name\":\"Miryanova\",\"contributor_name_type\":\"Personal\",\"contributor_position\":\"0\",\"contributor_type\":\"Data Curator\",\"contributor_institutional_relationship\":[\"Research associate\"]}],\"cname\":\"bl.oar.bl.uk\",\"abstract\":\"A dataset which is a subset of the Digitised 19th Century books dataset comprising Russian Language books. The spreadsheet contains metadata of 585 books in Russian. This dataset was compiled by Nadya Miryanova a student at Lady Eleanor Holles who completed work experience at British Library Labs in 2017.\",\"date_published\":[\"2019\"],\"institution\":[\"British Library\"],\"organisational_unit\":null,\"project_name\":null,\"funder\":null,\"publisher\":[\"British Library\"],\"date_accepted\":null,\"date_submitted\":null,\"official_url\":[\"https://doi.org/10.23636/1138\"],\"language\":[\"English\"],\"license\":[{\"name\":\"CC Public Domain Mark 1.0\",\"link\":\"https://creativecommons.org/publicdomain/mark/1.0/\"}],\"rights_statement\":null,\"rights_holder\":null,\"doi\":[\"doi.org/10.23636/1138\"],\"peer_reviewed\":true,\"keywords\":[\"metadata\",\"Russia\",\"bibliographic\",\"books\"],\"dewey\":[\"\"],\"library_of_congress_classification\":null,\"additional_info\":[\"\"],\"related_identifier\":[{\"name\":\"https://doi.org/10.21250/DB21\",\"type\":\"DOI\",\"relationship\":\"IsDerivedFrom\",\"postion\":0}],\"thumbnail_url\":\"https://bl.oar.bl.uk/downloads/d686c072-7acc-4843-aff9-cbfd9116f1ad?file=thumbnail\",\"download_link\":\"https://bl.oar.bl.uk/downloads/91337417-af3f-4c59-9a97-8cba4f358499\",\"version\":null,\"duration\":null,\"pagination\":[\"\"],\"series_name\":null,\"issue\":[\"\"],\"volume\":null,\"material_media\":null,\"edition\":[\"\"],\"journal_title\":[\"\"],\"book_title\":[\"\"],\"article_number\":[\"\"],\"eissn\":[\"\"],\"issn\":[\"\"],\"isbn\":[\"\"],\"current_he_institution\":[\"\"],\"qualification_name\":[\"\"],\"qualification_level\":[\"\"],\"alternative_journal_title\":null,\"place_of_publication\":[\"London, UK\"],\"funder_project_reference\":null,\"event_title\":null,\"event_location\":null,\"event_date\":null,\"related_exhibition\":null,\"related_exhibition_date\":null,\"related_exhibition_venue\":null,\"files\":null,\"collections\":null,\"thumbnail_base64_string\":null}],\"facet_counts\":{\"resource_type_sim\":{\"Dataset default Dataset\":129,\"Image 3D image\":21},\"creator_search_sim\":{\"British Library\":100,\"British Library Labs\":32,\"Keinan-Schoonbaert, Adi\":14,\"Taylor, C M\":8,\"King, Ellie\":5,\"Cronin, Catherine\":4,\"Derrick, Tom\":4,\"Denman, Thomas\":3,\"Everson, Jane\":3,\"Gianfrancesco, Lorenza\":3,\"Moon, Antonia\":3,\"Reidy, Dennis\":3,\"Sampson, Lisa\":3,\"Testa, Simone\":3,\"UK Web Archive\":3,\"Deliot, Corine\":2,\"Rosie, Heather\":2,\"UKWA Open Data\":2,\"Do, Brian\":1,\"Dykes, Nick\":1,\"Kirk, Tanya\":1,\"Middle, Sarah\":1,\"Wang, Karen\":1,\"Zhao, Luda\":1},\"keyword_sim\":{\"metadata\":34,\"books\":33,\"manuscripts\":29,\"AAS\":27,\"catalogue\":27,\"Hebrew\":26,\"card\":26,\"XML\":23,\"Jewish\":22,\"microsoft\":22,\"3D model\":21,\"digitised\":21,\"ALTO\":14,\"OCR\":12,\"nineteenth century\":11,\"bibliographic\":10,\"text\":9,\"Chinese\":8,\"RTF\":8,\"TXT\":8,\"keylogging\":8,\"literary\":8,\"novel\":8,\"AVI\":7,\"maps\":7,\"medieval\":7,\"Shang Dynasty\":6,\"images\":6,\"oracle bone\":6,\"JISC UK\":5,\"UKWA Open Data\":5,\"archive\":5,\"manuscript\":5,\"web domain dataset\":5,\"India\":4,\"Indian\":4,\"dissertations\":4,\"student\":4,\"Academies\":3,\"Arabic\":3,\"India Office Medical Archives\":3,\"Italian\":3,\"Jane Austen\":3,\"desk\":3,\"doctoral\":3,\"playbills\":3,\"transcription\":3,\"wooden\":3,\"writing\":3,\"BNB\":2,\"British National Bibliography\":2,\"Esther\":2,\"Flickr\":2,\"HE\":2,\"Higher education\":2,\"JSON\":2,\"Megila\":2,\"Minor Languages\":2,\"N-Triples\":2,\"NT\":2,\"Persian\":2,\"RDF/XML\":2,\"Scroll\":2,\"UK\":2,\"adverts\":2,\"army\":2,\"box\":2,\"broadsides\":2,\"ethos\":2,\"linked open data\":2,\"medium sized images\":2,\"newspapers\":2,\"playbill\":2,\"portraits\":2,\"research\":2,\"singlesheet\":2,\"tagging\":2,\"tags\":2,\"theses\":2,\"thesis\":2,\"1996-2010\":1,\"1996-2011\":1,\"1996-2012\":1,\"1996-2013\":1,\"1996-2014\":1,\"Africa\":1,\"Armenian\":1,\"Assamese\":1,\"Australia\":1,\"Bengali\":1,\"Bible\":1,\"British Colonies\":1,\"British Colony\":1,\"British East Africa\":1,\"British Museum\":1,\"CIP\":1,\"Canada\":1,\"Ceylon\":1,\"China\":1,\"Christmas\":1},\"collection_names_sim\":{\"British Library Datasets\":150,\"Datasets from Digitised Hebrew Manuscripts\":22,\"British Library 3D Models\":21,\"British Library Labs: Projects\":10,\"Pelagios Project: Medieval maps, itineraries and charts\":7,\"Ground Truth transcriptions for training OCR of historical Bengali printed texts\":2,\"Ground Truth transcriptions for training OCR of historical Arabic handwritten texts\":1,\"War Office Archive\":1},\"member_of_collections_ssim\":{\"British Library Datasets\":149,\"Datasets from Digitised Hebrew Manuscripts\":22,\"British Library 3D Models\":21,\"British Library Labs: Projects\":10,\"Pelagios Project: Medieval maps, itineraries and charts\":7,\"Ground Truth transcriptions for training OCR of historical Bengali printed texts\":2,\"Ground Truth transcriptions for training OCR of historical Arabic handwritten texts\":1},\"institution_sim\":{\"British Library\":150},\"language_sim\":{\"English\":56,\"Bengali\":3,\"Italian\":3,\"Arabic\":2,\"Armenian\":1,\"Assamese\":1,\"Chinese (Pinyin)\":1,\"Chinese (Wade Giles)\":1,\"Coptic\":1,\"Dravidian Minor Languages\":1,\"Gujarati\":1,\"Hindi\":1,\"Kannada\":1,\"Malay and Indonesian\":1,\"Malayalam\":1,\"Marathai\":1,\"Nepali\":1,\"Oriya\":1,\"Persian\":1,\"Punjabi\":1,\"Sanskrit\":1,\"Sindhi\":1,\"Sinhalese\":1,\"South Asian Minor Languages\":1,\"Tamil\":1,\"Telugu\":1,\"Thai\":1,\"Turkish\":1,\"Urdu\":1},\"file_availability_sim\":{\"File available from this repository\":141,\"External link (access may be restricted)\":114,\"File not available\":1}}}\n"
          ],
          "name": "stdout"
        }
      ]
    },
    {
      "cell_type": "code",
      "metadata": {
        "id": "7xDGHpaEe4Uc",
        "colab_type": "code",
        "colab": {
          "base_uri": "https://localhost:8080/",
          "height": 34
        },
        "outputId": "f797dcaa-0af3-4435-c9ec-44dffae610c0"
      },
      "source": [
        "import json\n",
        "meta = json.loads(r.text)\n",
        "n_results = meta[\"total\"]\n",
        "n_results"
      ],
      "execution_count": 15,
      "outputs": [
        {
          "output_type": "execute_result",
          "data": {
            "text/plain": [
              "150"
            ]
          },
          "metadata": {
            "tags": []
          },
          "execution_count": 15
        }
      ]
    },
    {
      "cell_type": "code",
      "metadata": {
        "id": "irds2xVoe7o7",
        "colab_type": "code",
        "colab": {}
      },
      "source": [
        "from pandas import json_normalize\n",
        "\n",
        "df = json_normalize(meta['items'])"
      ],
      "execution_count": 5,
      "outputs": []
    },
    {
      "cell_type": "code",
      "metadata": {
        "id": "TlxJAuYefBq7",
        "colab_type": "code",
        "colab": {
          "base_uri": "https://localhost:8080/",
          "height": 417
        },
        "outputId": "78d038c7-943a-46cc-8189-336b20b553c5"
      },
      "source": [
        "df.head(3)"
      ],
      "execution_count": 6,
      "outputs": [
        {
          "output_type": "execute_result",
          "data": {
            "text/html": [
              "<div>\n",
              "<style scoped>\n",
              "    .dataframe tbody tr th:only-of-type {\n",
              "        vertical-align: middle;\n",
              "    }\n",
              "\n",
              "    .dataframe tbody tr th {\n",
              "        vertical-align: top;\n",
              "    }\n",
              "\n",
              "    .dataframe thead th {\n",
              "        text-align: right;\n",
              "    }\n",
              "</style>\n",
              "<table border=\"1\" class=\"dataframe\">\n",
              "  <thead>\n",
              "    <tr style=\"text-align: right;\">\n",
              "      <th></th>\n",
              "      <th>uuid</th>\n",
              "      <th>type</th>\n",
              "      <th>related_url</th>\n",
              "      <th>work_type</th>\n",
              "      <th>title</th>\n",
              "      <th>alternative_title</th>\n",
              "      <th>resource_type</th>\n",
              "      <th>visibility</th>\n",
              "      <th>workflow_status</th>\n",
              "      <th>creator</th>\n",
              "      <th>contributor</th>\n",
              "      <th>cname</th>\n",
              "      <th>abstract</th>\n",
              "      <th>date_published</th>\n",
              "      <th>institution</th>\n",
              "      <th>organisational_unit</th>\n",
              "      <th>project_name</th>\n",
              "      <th>funder</th>\n",
              "      <th>publisher</th>\n",
              "      <th>date_accepted</th>\n",
              "      <th>date_submitted</th>\n",
              "      <th>official_url</th>\n",
              "      <th>language</th>\n",
              "      <th>license</th>\n",
              "      <th>rights_statement</th>\n",
              "      <th>rights_holder</th>\n",
              "      <th>doi</th>\n",
              "      <th>peer_reviewed</th>\n",
              "      <th>keywords</th>\n",
              "      <th>dewey</th>\n",
              "      <th>library_of_congress_classification</th>\n",
              "      <th>additional_info</th>\n",
              "      <th>thumbnail_url</th>\n",
              "      <th>download_link</th>\n",
              "      <th>version</th>\n",
              "      <th>duration</th>\n",
              "      <th>pagination</th>\n",
              "      <th>series_name</th>\n",
              "      <th>issue</th>\n",
              "      <th>volume</th>\n",
              "      <th>material_media</th>\n",
              "      <th>edition</th>\n",
              "      <th>journal_title</th>\n",
              "      <th>book_title</th>\n",
              "      <th>article_number</th>\n",
              "      <th>eissn</th>\n",
              "      <th>issn</th>\n",
              "      <th>isbn</th>\n",
              "      <th>current_he_institution</th>\n",
              "      <th>qualification_name</th>\n",
              "      <th>qualification_level</th>\n",
              "      <th>alternative_journal_title</th>\n",
              "      <th>place_of_publication</th>\n",
              "      <th>funder_project_reference</th>\n",
              "      <th>event_title</th>\n",
              "      <th>event_location</th>\n",
              "      <th>event_date</th>\n",
              "      <th>related_exhibition</th>\n",
              "      <th>related_exhibition_date</th>\n",
              "      <th>related_exhibition_venue</th>\n",
              "      <th>files</th>\n",
              "      <th>collections</th>\n",
              "      <th>thumbnail_base64_string</th>\n",
              "      <th>related_identifier</th>\n",
              "    </tr>\n",
              "  </thead>\n",
              "  <tbody>\n",
              "    <tr>\n",
              "      <th>0</th>\n",
              "      <td>23ac0382-d423-4686-885b-4930040d3ed5</td>\n",
              "      <td>work</td>\n",
              "      <td>None</td>\n",
              "      <td>Dataset</td>\n",
              "      <td>UK Doctoral Thesis Metadata from EThOS</td>\n",
              "      <td>None</td>\n",
              "      <td>Dataset default Dataset</td>\n",
              "      <td>open</td>\n",
              "      <td>[deposited]</td>\n",
              "      <td>[{'creator_organization_name': 'British Librar...</td>\n",
              "      <td>[{'contributor_name_type': 'Personal', 'contri...</td>\n",
              "      <td>bl.oar.bl.uk</td>\n",
              "      <td>The data in this collection comprises the bibl...</td>\n",
              "      <td>[2020-7]</td>\n",
              "      <td>[British Library]</td>\n",
              "      <td>[Research Services]</td>\n",
              "      <td>None</td>\n",
              "      <td>None</td>\n",
              "      <td>[British Library]</td>\n",
              "      <td>None</td>\n",
              "      <td>None</td>\n",
              "      <td>[https://doi.org/10.23636/1188]</td>\n",
              "      <td>None</td>\n",
              "      <td>[{'name': 'CC BY 4.0 Attribution', 'link': 'ht...</td>\n",
              "      <td>None</td>\n",
              "      <td>None</td>\n",
              "      <td>[doi.org/10.23636/1188]</td>\n",
              "      <td>True</td>\n",
              "      <td>[student, dissertations]</td>\n",
              "      <td>[]</td>\n",
              "      <td>None</td>\n",
              "      <td>[]</td>\n",
              "      <td>https://bl.oar.bl.uk/downloads/fc818390-dc18-4...</td>\n",
              "      <td>https://bl.oar.bl.uk/downloads/23ac0382-d423-4...</td>\n",
              "      <td>[4]</td>\n",
              "      <td>None</td>\n",
              "      <td>None</td>\n",
              "      <td>None</td>\n",
              "      <td>None</td>\n",
              "      <td>None</td>\n",
              "      <td>None</td>\n",
              "      <td>None</td>\n",
              "      <td>None</td>\n",
              "      <td>None</td>\n",
              "      <td>None</td>\n",
              "      <td>None</td>\n",
              "      <td>None</td>\n",
              "      <td>None</td>\n",
              "      <td>None</td>\n",
              "      <td>None</td>\n",
              "      <td>None</td>\n",
              "      <td>None</td>\n",
              "      <td>[London, UK]</td>\n",
              "      <td>None</td>\n",
              "      <td>None</td>\n",
              "      <td>None</td>\n",
              "      <td>None</td>\n",
              "      <td>None</td>\n",
              "      <td>None</td>\n",
              "      <td>None</td>\n",
              "      <td>None</td>\n",
              "      <td>None</td>\n",
              "      <td>None</td>\n",
              "      <td>NaN</td>\n",
              "    </tr>\n",
              "    <tr>\n",
              "      <th>1</th>\n",
              "      <td>6fd723eb-8cbe-43ba-be77-c263d9f8c828</td>\n",
              "      <td>work</td>\n",
              "      <td>None</td>\n",
              "      <td>Dataset</td>\n",
              "      <td>Books related to theatre derived from the Digi...</td>\n",
              "      <td>None</td>\n",
              "      <td>Dataset default Dataset</td>\n",
              "      <td>open</td>\n",
              "      <td>[deposited]</td>\n",
              "      <td>[{'creator_organization_name': 'British Librar...</td>\n",
              "      <td>[{'contributor_given_name': 'Ibuki', 'contribu...</td>\n",
              "      <td>bl.oar.bl.uk</td>\n",
              "      <td>A dataset derived from the Digitised 19th Cent...</td>\n",
              "      <td>[2020]</td>\n",
              "      <td>[British Library]</td>\n",
              "      <td>None</td>\n",
              "      <td>None</td>\n",
              "      <td>None</td>\n",
              "      <td>[British Library]</td>\n",
              "      <td>None</td>\n",
              "      <td>None</td>\n",
              "      <td>[https://doi.org/10.23636/1146]</td>\n",
              "      <td>[English]</td>\n",
              "      <td>[{'name': 'CC Public Domain Mark 1.0', 'link':...</td>\n",
              "      <td>None</td>\n",
              "      <td>None</td>\n",
              "      <td>[doi.org/10.23636/1146]</td>\n",
              "      <td>True</td>\n",
              "      <td>[theatre, play, metadata, books, bibliographic...</td>\n",
              "      <td>[]</td>\n",
              "      <td>None</td>\n",
              "      <td>[]</td>\n",
              "      <td>https://bl.oar.bl.uk/downloads/f1f13b55-c83c-4...</td>\n",
              "      <td>https://bl.oar.bl.uk/downloads/6fd723eb-8cbe-4...</td>\n",
              "      <td>None</td>\n",
              "      <td>None</td>\n",
              "      <td>[]</td>\n",
              "      <td>None</td>\n",
              "      <td>[]</td>\n",
              "      <td>None</td>\n",
              "      <td>None</td>\n",
              "      <td>[]</td>\n",
              "      <td>[]</td>\n",
              "      <td>[]</td>\n",
              "      <td>[]</td>\n",
              "      <td>[]</td>\n",
              "      <td>[]</td>\n",
              "      <td>[]</td>\n",
              "      <td>[]</td>\n",
              "      <td>[]</td>\n",
              "      <td>[]</td>\n",
              "      <td>None</td>\n",
              "      <td>[London, UK]</td>\n",
              "      <td>None</td>\n",
              "      <td>None</td>\n",
              "      <td>None</td>\n",
              "      <td>None</td>\n",
              "      <td>None</td>\n",
              "      <td>None</td>\n",
              "      <td>None</td>\n",
              "      <td>None</td>\n",
              "      <td>None</td>\n",
              "      <td>None</td>\n",
              "      <td>[{'name': 'https://doi.org/10.21250/DB21', 'ty...</td>\n",
              "    </tr>\n",
              "    <tr>\n",
              "      <th>2</th>\n",
              "      <td>93f2f951-839d-4c11-bf68-395262681d25</td>\n",
              "      <td>work</td>\n",
              "      <td>None</td>\n",
              "      <td>Dataset</td>\n",
              "      <td>Books related to India from the Digitised 19th...</td>\n",
              "      <td>None</td>\n",
              "      <td>Dataset default Dataset</td>\n",
              "      <td>open</td>\n",
              "      <td>[deposited]</td>\n",
              "      <td>[{'creator_organization_name': 'British Librar...</td>\n",
              "      <td>NaN</td>\n",
              "      <td>bl.oar.bl.uk</td>\n",
              "      <td>A dataset which is derived from the Digitised ...</td>\n",
              "      <td>[2020]</td>\n",
              "      <td>[British Library]</td>\n",
              "      <td>None</td>\n",
              "      <td>None</td>\n",
              "      <td>None</td>\n",
              "      <td>[British Library]</td>\n",
              "      <td>None</td>\n",
              "      <td>None</td>\n",
              "      <td>[https://doi.org/10.23636/1145]</td>\n",
              "      <td>[English]</td>\n",
              "      <td>[{'name': 'CC Public Domain Mark 1.0', 'link':...</td>\n",
              "      <td>None</td>\n",
              "      <td>None</td>\n",
              "      <td>[doi.org/10.23636/1145]</td>\n",
              "      <td>True</td>\n",
              "      <td>[metadata, India, books, bibliographic]</td>\n",
              "      <td>[]</td>\n",
              "      <td>None</td>\n",
              "      <td>[]</td>\n",
              "      <td>https://bl.oar.bl.uk/downloads/9373a745-f1ec-4...</td>\n",
              "      <td>https://bl.oar.bl.uk/downloads/93f2f951-839d-4...</td>\n",
              "      <td>None</td>\n",
              "      <td>None</td>\n",
              "      <td>[]</td>\n",
              "      <td>None</td>\n",
              "      <td>[]</td>\n",
              "      <td>None</td>\n",
              "      <td>None</td>\n",
              "      <td>[]</td>\n",
              "      <td>[]</td>\n",
              "      <td>[]</td>\n",
              "      <td>[]</td>\n",
              "      <td>[]</td>\n",
              "      <td>[]</td>\n",
              "      <td>[]</td>\n",
              "      <td>[]</td>\n",
              "      <td>[]</td>\n",
              "      <td>[]</td>\n",
              "      <td>None</td>\n",
              "      <td>[London, UK]</td>\n",
              "      <td>None</td>\n",
              "      <td>None</td>\n",
              "      <td>None</td>\n",
              "      <td>None</td>\n",
              "      <td>None</td>\n",
              "      <td>None</td>\n",
              "      <td>None</td>\n",
              "      <td>None</td>\n",
              "      <td>None</td>\n",
              "      <td>None</td>\n",
              "      <td>[{'name': 'https://doi.org/10.21250/DB21', 'ty...</td>\n",
              "    </tr>\n",
              "  </tbody>\n",
              "</table>\n",
              "</div>"
            ],
            "text/plain": [
              "                                   uuid  ...                                 related_identifier\n",
              "0  23ac0382-d423-4686-885b-4930040d3ed5  ...                                                NaN\n",
              "1  6fd723eb-8cbe-43ba-be77-c263d9f8c828  ...  [{'name': 'https://doi.org/10.21250/DB21', 'ty...\n",
              "2  93f2f951-839d-4c11-bf68-395262681d25  ...  [{'name': 'https://doi.org/10.21250/DB21', 'ty...\n",
              "\n",
              "[3 rows x 64 columns]"
            ]
          },
          "metadata": {
            "tags": []
          },
          "execution_count": 6
        }
      ]
    },
    {
      "cell_type": "code",
      "metadata": {
        "id": "QDoJUeS0fITR",
        "colab_type": "code",
        "colab": {
          "base_uri": "https://localhost:8080/",
          "height": 204
        },
        "outputId": "13ac2b85-72bb-429c-93ed-281183e54bd2"
      },
      "source": [
        "df[\"title\"]"
      ],
      "execution_count": 8,
      "outputs": [
        {
          "output_type": "execute_result",
          "data": {
            "text/plain": [
              "0               UK Doctoral Thesis Metadata from EThOS\n",
              "1    Books related to theatre derived from the Digi...\n",
              "2    Books related to India from the Digitised 19th...\n",
              "3    Books related to 19th Century British Colonies...\n",
              "4    Books related to War derived from the Digitise...\n",
              "5    Books related to the Industrial Revolution der...\n",
              "6    Latin American books in Digitised 19th century...\n",
              "7    Books divided by Genre from the Digitised 19th...\n",
              "8                Books containing images about Finland\n",
              "9    Russian language books in the Digitised 19th c...\n",
              "Name: title, dtype: object"
            ]
          },
          "metadata": {
            "tags": []
          },
          "execution_count": 8
        }
      ]
    },
    {
      "cell_type": "code",
      "metadata": {
        "id": "8fpDg_K9fSE9",
        "colab_type": "code",
        "colab": {
          "base_uri": "https://localhost:8080/",
          "height": 255
        },
        "outputId": "9721952e-00a9-4abe-9c57-bd4c11a1ce63"
      },
      "source": [
        "pages = int(n_results / 10)\n",
        "for i in range(pages-1):\n",
        "  url = 'https://bl.oar.bl.uk/api/v1/tenant/d08baa53-5174-40bb-89ea-9e5f642d2ac1/search?f%5Bcollection_names_sim%5D%5B%5D=British%20Library%20Datasets&page=' + str(i+2)\n",
        "  r = requests.get(url)\n",
        "  print('Page ' + str(i+2) + ' retrieved')\n",
        "  meta = json.loads(r.text)\n",
        "  dftmp = json_normalize(meta['items'])\n",
        "  df = df.append(dftmp, ignore_index=True)"
      ],
      "execution_count": 35,
      "outputs": [
        {
          "output_type": "stream",
          "text": [
            "Page 2 retrieved\n",
            "Page 3 retrieved\n",
            "Page 4 retrieved\n",
            "Page 5 retrieved\n",
            "Page 6 retrieved\n",
            "Page 7 retrieved\n",
            "Page 8 retrieved\n",
            "Page 9 retrieved\n",
            "Page 10 retrieved\n",
            "Page 11 retrieved\n",
            "Page 12 retrieved\n",
            "Page 13 retrieved\n",
            "Page 14 retrieved\n",
            "Page 15 retrieved\n"
          ],
          "name": "stdout"
        }
      ]
    },
    {
      "cell_type": "code",
      "metadata": {
        "id": "WUUNCtVUfy1M",
        "colab_type": "code",
        "colab": {
          "base_uri": "https://localhost:8080/",
          "height": 1000
        },
        "outputId": "ced21a99-f17e-41d2-ad2f-a80a36183ad5"
      },
      "source": [
        "df[\"title\"].head(60)"
      ],
      "execution_count": 45,
      "outputs": [
        {
          "output_type": "execute_result",
          "data": {
            "text/plain": [
              "0                UK Doctoral Thesis Metadata from EThOS\n",
              "1     Books related to theatre derived from the Digi...\n",
              "2     Books related to India from the Digitised 19th...\n",
              "3     Books related to 19th Century British Colonies...\n",
              "4     Books related to War derived from the Digitise...\n",
              "5     Books related to the Industrial Revolution der...\n",
              "6     Latin American books in Digitised 19th century...\n",
              "7     Books divided by Genre from the Digitised 19th...\n",
              "8                 Books containing images about Finland\n",
              "9     Russian language books in the Digitised 19th c...\n",
              "10               UK Doctoral Thesis Metadata from EThOS\n",
              "11    Ground Truth transcriptions for training OCR o...\n",
              "12                     The Constance Graduale, IB.15154\n",
              "13          Jane Austen's Desk (open view 2), Add 86841\n",
              "14          Jane Austen's Desk (open view 1), Add 86841\n",
              "15                              Qur'an Case, Or 13706 B\n",
              "16          Jane Austen's Desk (closed view), Add 86841\n",
              "17                                  Pen Box, Foster 926\n",
              "18                       Oracle Bone, Or 7694/1655+1672\n",
              "19                                Silk Mantle, Or 13027\n",
              "20                                          Brass Block\n",
              "21                                 Lacquer Box, Or 6682\n",
              "22                              Book of Esther, Or 1087\n",
              "23                Oracle Bone, Or 7694/1988 (two parts)\n",
              "24                     Oracle Bone, Or 7694/1988 Part 2\n",
              "25                            Soldier Model, Foster 979\n",
              "26                     Oracle Bone, Or 7694/1988 Part 1\n",
              "27                                  Menak, Add MS 12309\n",
              "28                            Oracle Bone, Or 7694/1580\n",
              "29                              Pentateuch, Add MS 4709\n",
              "30                            Oracle Bone, Or 7694/1595\n",
              "31                               Lion Model, Foster 872\n",
              "32                          Esther Scroll, Add MS 11831\n",
              "33    Judicial Committee of the Privy Council: Linke...\n",
              "34    Ground Truth transcriptions for training OCR o...\n",
              "35    Ground Truth transcriptions for training OCR o...\n",
              "36    Digitised Hebrew Manuscripts: Or 74 to Stowe C...\n",
              "37    Digitised Hebrew Manuscripts: Or 1389 to Sloan...\n",
              "38    Digitised Hebrew Manuscripts: Add MS 27169 to ...\n",
              "39     Digitised Hebrew Manuscripts: Or 2518 to Or 5834\n",
              "40     Digitised maps of the former British East Africa\n",
              "41       Italian Academies Project Database XML Records\n",
              "42            Italian Academies Project Database Images\n",
              "43                                     SherlockNet data\n",
              "44    Linked Open British National Bibliography - Fo...\n",
              "45    UK Selective Web Archive Classification Datase...\n",
              "46    Linked Open British National Bibliography - Se...\n",
              "47    JISC UK Web Domain Dataset Format Profile. 199...\n",
              "48    JISC UK Web Domain Dataset Host Link Graph. 19...\n",
              "49    JISC UK Web Domain Dataset Geoindex. 1996 - 20...\n",
              "50    JISC UK Web Domain Dataset Crawled URL Index. ...\n",
              "51    Digitised Books - Images identified as Medium ...\n",
              "52    Digitised Books - Images of the bound covers o...\n",
              "53            AAS Card Catalogues: Chinese (Wade Giles)\n",
              "54    Digitised Books - Images identified as Plates....\n",
              "55        Theatrical playbills from Britain and Ireland\n",
              "56    Digitised Hebrew Manuscripts: Add MS 10456 - A...\n",
              "57      Digitised Hebrew Manuscripts: Or 2510 - Or 2588\n",
              "58    Digitised Hebrew Manuscripts: Add MS 18229 - A...\n",
              "59      Digitised Hebrew Manuscripts: Or 2626 - Or 6425\n",
              "Name: title, dtype: object"
            ]
          },
          "metadata": {
            "tags": []
          },
          "execution_count": 45
        }
      ]
    },
    {
      "cell_type": "code",
      "metadata": {
        "id": "nf2-UnhzjJg2",
        "colab_type": "code",
        "colab": {}
      },
      "source": [
        ""
      ],
      "execution_count": null,
      "outputs": []
    }
  ]
}