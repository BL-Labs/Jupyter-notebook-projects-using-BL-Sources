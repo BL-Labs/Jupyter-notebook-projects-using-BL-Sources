{
  "nbformat": 4,
  "nbformat_minor": 0,
  "metadata": {
    "kernelspec": {
      "display_name": "Python 3",
      "language": "python",
      "name": "python3"
    },
    "language_info": {
      "codemirror_mode": {
        "name": "ipython",
        "version": 3
      },
      "file_extension": ".py",
      "mimetype": "text/x-python",
      "name": "python",
      "nbconvert_exporter": "python",
      "pygments_lexer": "ipython3",
      "version": "3.6.9"
    },
    "colab": {
      "name": "bnb-lod-extraction-map.ipynb",
      "provenance": [],
      "collapsed_sections": [],
      "toc_visible": true,
      "include_colab_link": true
    }
  },
  "cells": [
    {
      "cell_type": "markdown",
      "metadata": {
        "id": "view-in-github",
        "colab_type": "text"
      },
      "source": [
        "<a href=\"https://colab.research.google.com/github/BL-Labs/Jupyter-notebooks-projects-using-BL-Sources/blob/master/LOD_SPARQL/bnb_lod_extraction_map.ipynb\" target=\"_parent\"><img src=\"https://colab.research.google.com/assets/colab-badge.svg\" alt=\"Open In Colab\"/></a>"
      ]
    },
    {
      "cell_type": "markdown",
      "metadata": {
        "id": "IiXuIHeO1b4P",
        "colab_type": "text"
      },
      "source": [
        "# BNB Linked Data Platform\n",
        "\n",
        "The [BNB Linked Data Platform](https://bnb.data.bl.uk/) provides access to the [British National Bibliography (BNB)](http://www.bl.uk/bibliographic/natbib.html) published as linked open data and made available through SPARQL services. \n",
        "\n",
        "This notebook explains how to query the repository and obtain places of publication (fields blt:publication and blt:projectedPublication ) to show an interactive map. Thanks that the works are linked to [GeoNames](https://www.geonames.org/), the records can be linked to external repositories. This notebook  obtains information from [Wikidata](https://www.wikidata.org), showing the benefits of Linked Open Data."
      ]
    },
    {
      "cell_type": "markdown",
      "metadata": {
        "id": "4C27T78D1b4R",
        "colab_type": "text"
      },
      "source": [
        "## Global configuration\n",
        "\n",
        "In this section, you can set the author from the BNB by using its identifier. "
      ]
    },
    {
      "cell_type": "code",
      "metadata": {
        "id": "5jdA9Cwt1b4S",
        "colab_type": "code",
        "colab": {}
      },
      "source": [
        "#bnbIdAuthor = 'http://bnb.data.bl.uk/id/person/DickensCharles1812-1870'\n",
        "#bnbIdAuthor = 'https://bnb.data.bl.uk/doc/person/BlakeWilliam1757-1827'\n",
        "bnbIdAuthor = 'http://bnb.data.bl.uk/id/person/ShakespeareWilliam1564-1616'\n",
        "#bnbIdAuthor = 'http://bnb.data.bl.uk/id/person/WoolfVirginia1882-1941'"
      ],
      "execution_count": 0,
      "outputs": []
    },
    {
      "cell_type": "markdown",
      "metadata": {
        "id": "QPwSGjoh1b4f",
        "colab_type": "text"
      },
      "source": [
        "## Setting up things"
      ]
    },
    {
      "cell_type": "code",
      "metadata": {
        "id": "SsfbIs1sEq-H",
        "colab_type": "code",
        "colab": {
          "base_uri": "https://localhost:8080/",
          "height": 187
        },
        "outputId": "eafc6a46-aa0c-486c-b623-0c7d6031cc18"
      },
      "source": [
        "# This is needed for Google Colab, first run\n",
        "!pip install --upgrade folium"
      ],
      "execution_count": 38,
      "outputs": [
        {
          "output_type": "stream",
          "text": [
            "Requirement already up-to-date: folium in /usr/local/lib/python3.6/dist-packages (0.11.0)\n",
            "Requirement already satisfied, skipping upgrade: jinja2>=2.9 in /usr/local/lib/python3.6/dist-packages (from folium) (2.11.2)\n",
            "Requirement already satisfied, skipping upgrade: branca>=0.3.0 in /usr/local/lib/python3.6/dist-packages (from folium) (0.4.1)\n",
            "Requirement already satisfied, skipping upgrade: numpy in /usr/local/lib/python3.6/dist-packages (from folium) (1.18.4)\n",
            "Requirement already satisfied, skipping upgrade: requests in /usr/local/lib/python3.6/dist-packages (from folium) (2.23.0)\n",
            "Requirement already satisfied, skipping upgrade: MarkupSafe>=0.23 in /usr/local/lib/python3.6/dist-packages (from jinja2>=2.9->folium) (1.1.1)\n",
            "Requirement already satisfied, skipping upgrade: urllib3!=1.25.0,!=1.25.1,<1.26,>=1.21.1 in /usr/local/lib/python3.6/dist-packages (from requests->folium) (1.24.3)\n",
            "Requirement already satisfied, skipping upgrade: chardet<4,>=3.0.2 in /usr/local/lib/python3.6/dist-packages (from requests->folium) (3.0.4)\n",
            "Requirement already satisfied, skipping upgrade: certifi>=2017.4.17 in /usr/local/lib/python3.6/dist-packages (from requests->folium) (2020.4.5.1)\n",
            "Requirement already satisfied, skipping upgrade: idna<3,>=2.5 in /usr/local/lib/python3.6/dist-packages (from requests->folium) (2.9)\n"
          ],
          "name": "stdout"
        }
      ]
    },
    {
      "cell_type": "code",
      "metadata": {
        "id": "__H_ZFN11b4g",
        "colab_type": "code",
        "colab": {}
      },
      "source": [
        "import folium\n",
        "import requests\n",
        "import pandas as pd\n",
        "import json\n",
        "import csv\n",
        "import matplotlib.pyplot as plt\n",
        "from pandas.io.json import json_normalize  "
      ],
      "execution_count": 0,
      "outputs": []
    },
    {
      "cell_type": "markdown",
      "metadata": {
        "id": "QoSepk5Q1b4m",
        "colab_type": "text"
      },
      "source": [
        "## Let's query the repository by asking the publications related to William Shakespeare\n",
        "We will use the [SPARQL endpoint](https://bnb.data.bl.uk/flint-sparql) to create the query and configure the request to retrieve json as a result."
      ]
    },
    {
      "cell_type": "code",
      "metadata": {
        "id": "nO724ns61b4n",
        "colab_type": "code",
        "outputId": "a688864d-a2e5-4590-a72e-cd180d6fbf81",
        "colab": {
          "base_uri": "https://localhost:8080/",
          "height": 34
        }
      },
      "source": [
        "url = 'https://bnb.data.bl.uk/sparql'\n",
        "query = \"\"\"\n",
        "PREFIX bibo: <http://purl.org/ontology/bibo/>\n",
        "PREFIX bio: <http://purl.org/vocab/bio/0.1/>\n",
        "PREFIX blt: <http://www.bl.uk/schemas/bibliographic/blterms#>\n",
        "PREFIX dct: <http://purl.org/dc/terms/>\n",
        "PREFIX event: <http://purl.org/NET/c4dm/event.owl#>\n",
        "PREFIX foaf: <http://xmlns.com/foaf/0.1/>\n",
        "PREFIX geo: <http://www.w3.org/2003/01/geo/wgs84_pos#>\n",
        "PREFIX isbd: <http://iflastandards.info/ns/isbd/elements/>\n",
        "PREFIX org: <http://www.w3.org/ns/org#>\n",
        "PREFIX owl: <http://www.w3.org/2002/07/owl#>\n",
        "PREFIX rdau: <http://rdaregistry.info/Elements/u/>\n",
        "PREFIX madsrdf: <http://www.loc.gov/mads/rdf/v1#>\n",
        "PREFIX rdf: <http://www.w3.org/1999/02/22-rdf-syntax-ns#>\n",
        "PREFIX rdfs: <http://www.w3.org/2000/01/rdf-schema#>\n",
        "PREFIX skos: <http://www.w3.org/2004/02/skos/core#>\n",
        "PREFIX void: <http://rdfs.org/ns/void#>\n",
        "PREFIX xsd: <http://www.w3.org/2001/XMLSchema#>\n",
        "PREFIX umbel: <http://umbel.org/umbel#>\n",
        "PREFIX schema: <http://schema.org/>\n",
        "PREFIX c4dm: <http://purl.org/NET/c4dm/event.owl#>\n",
        "\n",
        "SELECT DISTINCT ?resource ?title ?date ?place WHERE {{\n",
        "   graph <http://bnb.data.bl.uk/id/graph/BNBCIP> {{\n",
        "      ?resource ?p <{0}> ;\n",
        "         dct:title ?title ;\n",
        "         schema:datePublished ?date .\n",
        "      OPTIONAL {{\n",
        "          ?resource blt:projectedPublication ?publication .\n",
        "          ?publication c4dm:place ?place .\n",
        "          FILTER regex(?place, \"geonames\", \"i\")        \n",
        "      }}\n",
        "      OPTIONAL {{\n",
        "          ?resource blt:publication ?publication .\n",
        "          ?publication c4dm:place ?place .\n",
        "          FILTER regex(?place, \"geonames\", \"i\")        \n",
        "      }}\n",
        "   }}\n",
        "}} LIMIT 500\n",
        "\"\"\"\n",
        "\n",
        "query = query.format(bnbIdAuthor)\n",
        "\n",
        "# use json as a result\n",
        "headers = {'Accept': 'application/sparql-results+json'}\n",
        "r = requests.get(url, params = {'format': 'application/sparql-results+json', 'query': query}, headers=headers)\n",
        "print('Elements retrieved!')"
      ],
      "execution_count": 40,
      "outputs": [
        {
          "output_type": "stream",
          "text": [
            "Elements retrieved!\n"
          ],
          "name": "stdout"
        }
      ]
    },
    {
      "cell_type": "markdown",
      "metadata": {
        "id": "bml1HtNK1b4w",
        "colab_type": "text"
      },
      "source": [
        "## Save as a CSV "
      ]
    },
    {
      "cell_type": "code",
      "metadata": {
        "id": "RYiIg_jS1b4x",
        "colab_type": "code",
        "colab": {}
      },
      "source": [
        "bnbdata = json.loads(r.text)\n",
        "\n",
        "csv_out = csv.writer(open('bnb_records.csv', 'w'), delimiter = ',', quotechar = '\"', quoting = csv.QUOTE_MINIMAL)\n",
        "csv_out.writerow(['resource', 'place', 'title', 'date'])\n",
        "\n",
        "for i in bnbdata['results']['bindings']:\n",
        "    resource = place = title = date =''\n",
        "    \n",
        "    resource = i['resource']['value']\n",
        "    place = i['place']['value']\n",
        "    title = i['title']['value']\n",
        "    date = i['date']['value']\n",
        "    \n",
        "    csv_out.writerow([resource,place,title,date])"
      ],
      "execution_count": 0,
      "outputs": []
    },
    {
      "cell_type": "markdown",
      "metadata": {
        "id": "tRe7sK1u1b41",
        "colab_type": "text"
      },
      "source": [
        "## Exploring the data"
      ]
    },
    {
      "cell_type": "code",
      "metadata": {
        "id": "VqcwXp__1b43",
        "colab_type": "code",
        "colab": {}
      },
      "source": [
        "# Load the CSV file from GitHub.\n",
        "# This puts the data in a Pandas DataFrame\n",
        "df = pd.read_csv('bnb_records.csv')"
      ],
      "execution_count": 0,
      "outputs": []
    },
    {
      "cell_type": "code",
      "metadata": {
        "id": "gA7tELsq1b5D",
        "colab_type": "code",
        "outputId": "d6c39783-a47b-4331-c63a-18da9161e7b9",
        "colab": {
          "base_uri": "https://localhost:8080/",
          "height": 419
        }
      },
      "source": [
        "df"
      ],
      "execution_count": 43,
      "outputs": [
        {
          "output_type": "execute_result",
          "data": {
            "text/html": [
              "<div>\n",
              "<style scoped>\n",
              "    .dataframe tbody tr th:only-of-type {\n",
              "        vertical-align: middle;\n",
              "    }\n",
              "\n",
              "    .dataframe tbody tr th {\n",
              "        vertical-align: top;\n",
              "    }\n",
              "\n",
              "    .dataframe thead th {\n",
              "        text-align: right;\n",
              "    }\n",
              "</style>\n",
              "<table border=\"1\" class=\"dataframe\">\n",
              "  <thead>\n",
              "    <tr style=\"text-align: right;\">\n",
              "      <th></th>\n",
              "      <th>resource</th>\n",
              "      <th>place</th>\n",
              "      <th>title</th>\n",
              "      <th>date</th>\n",
              "    </tr>\n",
              "  </thead>\n",
              "  <tbody>\n",
              "    <tr>\n",
              "      <th>0</th>\n",
              "      <td>http://bnb.data.bl.uk/id/resource/013310275</td>\n",
              "      <td>http://sws.geonames.org/6269131/</td>\n",
              "      <td>Macbeth : teachit KS3 interactive pack</td>\n",
              "      <td>2006-01</td>\n",
              "    </tr>\n",
              "    <tr>\n",
              "      <th>1</th>\n",
              "      <td>http://bnb.data.bl.uk/id/resource/013310276</td>\n",
              "      <td>http://sws.geonames.org/6269131/</td>\n",
              "      <td>Much ado about nothing : teachit KS3 interacti...</td>\n",
              "      <td>2006-01</td>\n",
              "    </tr>\n",
              "    <tr>\n",
              "      <th>2</th>\n",
              "      <td>http://bnb.data.bl.uk/id/resource/013315368</td>\n",
              "      <td>http://sws.geonames.org/6269131/</td>\n",
              "      <td>Hamlet</td>\n",
              "      <td>2006-01</td>\n",
              "    </tr>\n",
              "    <tr>\n",
              "      <th>3</th>\n",
              "      <td>http://bnb.data.bl.uk/id/resource/019599478</td>\n",
              "      <td>http://sws.geonames.org/6269131/</td>\n",
              "      <td>Twelfth night</td>\n",
              "      <td>2020-01</td>\n",
              "    </tr>\n",
              "    <tr>\n",
              "      <th>4</th>\n",
              "      <td>http://bnb.data.bl.uk/id/resource/019599479</td>\n",
              "      <td>http://sws.geonames.org/6269131/</td>\n",
              "      <td>The tempest : the alexander text</td>\n",
              "      <td>2019-11</td>\n",
              "    </tr>\n",
              "    <tr>\n",
              "      <th>...</th>\n",
              "      <td>...</td>\n",
              "      <td>...</td>\n",
              "      <td>...</td>\n",
              "      <td>...</td>\n",
              "    </tr>\n",
              "    <tr>\n",
              "      <th>67</th>\n",
              "      <td>http://bnb.data.bl.uk/id/resource/014800638</td>\n",
              "      <td>http://sws.geonames.org/6269131/</td>\n",
              "      <td>Richard III : the graphic novel</td>\n",
              "      <td>2009-02</td>\n",
              "    </tr>\n",
              "    <tr>\n",
              "      <th>68</th>\n",
              "      <td>http://bnb.data.bl.uk/id/resource/014800639</td>\n",
              "      <td>http://sws.geonames.org/6269131/</td>\n",
              "      <td>Richard III : the graphic novel</td>\n",
              "      <td>2009-02</td>\n",
              "    </tr>\n",
              "    <tr>\n",
              "      <th>69</th>\n",
              "      <td>http://bnb.data.bl.uk/id/resource/015978926</td>\n",
              "      <td>http://sws.geonames.org/6269131/</td>\n",
              "      <td>The sonnets</td>\n",
              "      <td>2012-05</td>\n",
              "    </tr>\n",
              "    <tr>\n",
              "      <th>70</th>\n",
              "      <td>http://bnb.data.bl.uk/id/resource/016048669</td>\n",
              "      <td>http://sws.geonames.org/6269131/</td>\n",
              "      <td>Shakespeare's plays : the first folio</td>\n",
              "      <td>2012-07</td>\n",
              "    </tr>\n",
              "    <tr>\n",
              "      <th>71</th>\n",
              "      <td>http://bnb.data.bl.uk/id/resource/016182883</td>\n",
              "      <td>http://sws.geonames.org/1269750/</td>\n",
              "      <td>The tempest</td>\n",
              "      <td>2013-01</td>\n",
              "    </tr>\n",
              "  </tbody>\n",
              "</table>\n",
              "<p>72 rows × 4 columns</p>\n",
              "</div>"
            ],
            "text/plain": [
              "                                       resource  ...     date\n",
              "0   http://bnb.data.bl.uk/id/resource/013310275  ...  2006-01\n",
              "1   http://bnb.data.bl.uk/id/resource/013310276  ...  2006-01\n",
              "2   http://bnb.data.bl.uk/id/resource/013315368  ...  2006-01\n",
              "3   http://bnb.data.bl.uk/id/resource/019599478  ...  2020-01\n",
              "4   http://bnb.data.bl.uk/id/resource/019599479  ...  2019-11\n",
              "..                                          ...  ...      ...\n",
              "67  http://bnb.data.bl.uk/id/resource/014800638  ...  2009-02\n",
              "68  http://bnb.data.bl.uk/id/resource/014800639  ...  2009-02\n",
              "69  http://bnb.data.bl.uk/id/resource/015978926  ...  2012-05\n",
              "70  http://bnb.data.bl.uk/id/resource/016048669  ...  2012-07\n",
              "71  http://bnb.data.bl.uk/id/resource/016182883  ...  2013-01\n",
              "\n",
              "[72 rows x 4 columns]"
            ]
          },
          "metadata": {
            "tags": []
          },
          "execution_count": 43
        }
      ]
    },
    {
      "cell_type": "markdown",
      "metadata": {
        "id": "LJZ3MU4V1b5I",
        "colab_type": "text"
      },
      "source": [
        "## How many items?"
      ]
    },
    {
      "cell_type": "code",
      "metadata": {
        "id": "1OnnkbNN1b5K",
        "colab_type": "code",
        "outputId": "46011737-0709-48cc-8ea0-74383dc76b9c",
        "colab": {
          "base_uri": "https://localhost:8080/",
          "height": 34
        }
      },
      "source": [
        "# How many items?\n",
        "len(df)"
      ],
      "execution_count": 44,
      "outputs": [
        {
          "output_type": "execute_result",
          "data": {
            "text/plain": [
              "72"
            ]
          },
          "metadata": {
            "tags": []
          },
          "execution_count": 44
        }
      ]
    },
    {
      "cell_type": "markdown",
      "metadata": {
        "id": "cc8A-aIt1b5Q",
        "colab_type": "text"
      },
      "source": [
        "### Let's count the number of resources per place"
      ]
    },
    {
      "cell_type": "code",
      "metadata": {
        "id": "fLFKESSK1b5R",
        "colab_type": "code",
        "colab": {}
      },
      "source": [
        "places_by_number = df.groupby(\"place\")[\"resource\"].count()"
      ],
      "execution_count": 0,
      "outputs": []
    },
    {
      "cell_type": "code",
      "metadata": {
        "id": "Ed7wAkz_1b5U",
        "colab_type": "code",
        "outputId": "523a6cfb-22a2-41bd-caf0-4530f3a5b684",
        "colab": {
          "base_uri": "https://localhost:8080/",
          "height": 119
        }
      },
      "source": [
        "places_by_number"
      ],
      "execution_count": 46,
      "outputs": [
        {
          "output_type": "execute_result",
          "data": {
            "text/plain": [
              "place\n",
              "http://sws.geonames.org/1269750/     1\n",
              "http://sws.geonames.org/2921044/     2\n",
              "http://sws.geonames.org/6252001/     9\n",
              "http://sws.geonames.org/6269131/    60\n",
              "Name: resource, dtype: int64"
            ]
          },
          "metadata": {
            "tags": []
          },
          "execution_count": 46
        }
      ]
    },
    {
      "cell_type": "code",
      "metadata": {
        "id": "em1698hE1b5X",
        "colab_type": "code",
        "colab": {}
      },
      "source": [
        "### We can access the count of each place"
      ],
      "execution_count": 0,
      "outputs": []
    },
    {
      "cell_type": "code",
      "metadata": {
        "id": "gIea-swc1b5i",
        "colab_type": "code",
        "outputId": "62dae7f9-d20e-4324-b4c4-f01d1c50dcc6",
        "colab": {
          "base_uri": "https://localhost:8080/",
          "height": 34
        }
      },
      "source": [
        "places_by_number[['http://sws.geonames.org/6269131/']][0]"
      ],
      "execution_count": 48,
      "outputs": [
        {
          "output_type": "execute_result",
          "data": {
            "text/plain": [
              "60"
            ]
          },
          "metadata": {
            "tags": []
          },
          "execution_count": 48
        }
      ]
    },
    {
      "cell_type": "markdown",
      "metadata": {
        "id": "aymbBvZQ1b5l",
        "colab_type": "text"
      },
      "source": [
        "### Create a chart to visualize the results\n",
        "This chart shows the number of resources by date."
      ]
    },
    {
      "cell_type": "code",
      "metadata": {
        "id": "wUSFbaib1b5m",
        "colab_type": "code",
        "outputId": "b07ebd5c-f888-4c94-9a40-f88303cd8cce",
        "colab": {
          "base_uri": "https://localhost:8080/",
          "height": 545
        }
      },
      "source": [
        "ax = df['date'].value_counts().plot(kind='bar',\n",
        "                                    figsize=(14,8),\n",
        "                                    title=\"Number of resources per date\")\n",
        "ax.set_xlabel(\"Dates\")\n",
        "ax.set_ylabel(\"Resources\")\n",
        "plt.show()"
      ],
      "execution_count": 49,
      "outputs": [
        {
          "output_type": "display_data",
          "data": {
            "image/png": "[encoded data removed]",
            "text/plain": [
              "<Figure size 1008x576 with 1 Axes>"
            ]
          },
          "metadata": {
            "tags": [],
            "needs_background": "light"
          }
        }
      ]
    },
    {
      "cell_type": "markdown",
      "metadata": {
        "id": "Fa6VxRFq1b5p",
        "colab_type": "text"
      },
      "source": [
        "### Let's group the items by year"
      ]
    },
    {
      "cell_type": "code",
      "metadata": {
        "id": "_a2aNt-w1b5q",
        "colab_type": "code",
        "colab": {}
      },
      "source": [
        "# First we create a new column in pandas with the year\n",
        "df['year'] = pd.DatetimeIndex(df['date']).year"
      ],
      "execution_count": 0,
      "outputs": []
    },
    {
      "cell_type": "code",
      "metadata": {
        "id": "TS7EMVLn1b5x",
        "colab_type": "code",
        "outputId": "a6fb48e0-31fd-44b5-8324-07cba8fae779",
        "colab": {
          "base_uri": "https://localhost:8080/",
          "height": 221
        }
      },
      "source": [
        "df['year']"
      ],
      "execution_count": 51,
      "outputs": [
        {
          "output_type": "execute_result",
          "data": {
            "text/plain": [
              "0     2006\n",
              "1     2006\n",
              "2     2006\n",
              "3     2020\n",
              "4     2019\n",
              "      ... \n",
              "67    2009\n",
              "68    2009\n",
              "69    2012\n",
              "70    2012\n",
              "71    2013\n",
              "Name: year, Length: 72, dtype: int64"
            ]
          },
          "metadata": {
            "tags": []
          },
          "execution_count": 51
        }
      ]
    },
    {
      "cell_type": "markdown",
      "metadata": {
        "id": "mEjmlFuI1b50",
        "colab_type": "text"
      },
      "source": [
        "### Creating the chart by year"
      ]
    },
    {
      "cell_type": "code",
      "metadata": {
        "id": "fAH-cqFd3CJi",
        "colab_type": "code",
        "outputId": "55e24ff5-4c87-4b99-f783-a788d984a0a4",
        "colab": {
          "base_uri": "https://localhost:8080/",
          "height": 357
        }
      },
      "source": [
        "df['year'].value_counts()"
      ],
      "execution_count": 52,
      "outputs": [
        {
          "output_type": "execute_result",
          "data": {
            "text/plain": [
              "2019    14\n",
              "2018    14\n",
              "2017    10\n",
              "2009     7\n",
              "2020     5\n",
              "2011     3\n",
              "2006     3\n",
              "2012     2\n",
              "2016     2\n",
              "2007     2\n",
              "2002     2\n",
              "2013     1\n",
              "2010     1\n",
              "2008     1\n",
              "2004     1\n",
              "2003     1\n",
              "2001     1\n",
              "2000     1\n",
              "1999     1\n",
              "Name: year, dtype: int64"
            ]
          },
          "metadata": {
            "tags": []
          },
          "execution_count": 52
        }
      ]
    },
    {
      "cell_type": "code",
      "metadata": {
        "id": "RGmHrnUf1b50",
        "colab_type": "code",
        "outputId": "354b447a-90be-4e0c-cfc3-aea03387cc3f",
        "colab": {
          "base_uri": "https://localhost:8080/",
          "height": 528
        }
      },
      "source": [
        "ax = df['year'].value_counts().plot(kind='bar',\n",
        "                                    figsize=(14,8),\n",
        "                                    title=\"Number of resources per year\")\n",
        "ax.set_xlabel(\"Dates\")\n",
        "ax.set_ylabel(\"Resources\")\n",
        "plt.show()"
      ],
      "execution_count": 53,
      "outputs": [
        {
          "output_type": "display_data",
          "data": {
            "image/png": "[encoded data removed]",
            "text/plain": [
              "<Figure size 1008x576 with 1 Axes>"
            ]
          },
          "metadata": {
            "tags": [],
            "needs_background": "light"
          }
        }
      ]
    },
    {
      "cell_type": "markdown",
      "metadata": {
        "id": "OSkhxLz21b56",
        "colab_type": "text"
      },
      "source": [
        "## Exploring the places"
      ]
    },
    {
      "cell_type": "code",
      "metadata": {
        "id": "6CHMStMd1b57",
        "colab_type": "code",
        "outputId": "eafc2510-fda1-4752-f3a6-d8b50e5a5791",
        "colab": {
          "base_uri": "https://localhost:8080/",
          "height": 85
        }
      },
      "source": [
        "# Get unique values\n",
        "places = pd.unique(df['place']).tolist()\n",
        "strplaces = ''\n",
        "for a in sorted(places):\n",
        "    print(a)\n",
        "    strplaces = strplaces + ' \\\"' + a.replace(\"http://sws.geonames.org/\", \"\").replace(\"/\", \"\") + '\\\"'"
      ],
      "execution_count": 54,
      "outputs": [
        {
          "output_type": "stream",
          "text": [
            "http://sws.geonames.org/1269750/\n",
            "http://sws.geonames.org/2921044/\n",
            "http://sws.geonames.org/6252001/\n",
            "http://sws.geonames.org/6269131/\n"
          ],
          "name": "stdout"
        }
      ]
    },
    {
      "cell_type": "markdown",
      "metadata": {
        "id": "IEiNvoSx1b6C",
        "colab_type": "text"
      },
      "source": [
        "### Getting latitude and longitude from Wikidata"
      ]
    },
    {
      "cell_type": "code",
      "metadata": {
        "id": "cI8gF7JP1b6D",
        "colab_type": "code",
        "outputId": "e7062ad0-d6fb-43b6-8e9e-59f6424a8ab1",
        "colab": {
          "base_uri": "https://localhost:8080/",
          "height": 306
        }
      },
      "source": [
        "url = 'https://query.wikidata.org/sparql'\n",
        "query = \"\"\"\n",
        "PREFIX bibo: <http://purl.org/ontology/bibo/>\n",
        "SELECT ?idgeonames ?lat ?lon ?x ?xLabel \n",
        "WHERE {{ \n",
        "  values ?idgeonames {{ {0} }} \n",
        "  ?x wdt:P1566 ?idgeonames ; \n",
        "   p:P625 [\n",
        "     psv:P625 [\n",
        "       wikibase:geoLatitude ?lat ;\n",
        "       wikibase:geoLongitude ?lon ;\n",
        "       wikibase:geoGlobe ?globe ;\n",
        "     ];\n",
        "     ps:P625 ?coord\n",
        "   ]\n",
        "   SERVICE wikibase:label {{ bd:serviceParam wikibase:language \"[AUTO_LANGUAGE],en\". }}\n",
        "}}\n",
        "\"\"\"\n",
        "\n",
        "query = query.format(strplaces)\n",
        "print(query)\n",
        "\n",
        "# use json as a result\n",
        "r = requests.get(url, params = {'format': 'json', 'query': query})\n",
        "geopoints = r.json()"
      ],
      "execution_count": 55,
      "outputs": [
        {
          "output_type": "stream",
          "text": [
            "\n",
            "PREFIX bibo: <http://purl.org/ontology/bibo/>\n",
            "SELECT ?idgeonames ?lat ?lon ?x ?xLabel \n",
            "WHERE { \n",
            "  values ?idgeonames {  \"1269750\" \"2921044\" \"6252001\" \"6269131\" } \n",
            "  ?x wdt:P1566 ?idgeonames ; \n",
            "   p:P625 [\n",
            "     psv:P625 [\n",
            "       wikibase:geoLatitude ?lat ;\n",
            "       wikibase:geoLongitude ?lon ;\n",
            "       wikibase:geoGlobe ?globe ;\n",
            "     ];\n",
            "     ps:P625 ?coord\n",
            "   ]\n",
            "   SERVICE wikibase:label { bd:serviceParam wikibase:language \"[AUTO_LANGUAGE],en\". }\n",
            "}\n",
            "\n"
          ],
          "name": "stdout"
        }
      ]
    },
    {
      "cell_type": "code",
      "metadata": {
        "id": "fAwBimUj8b-P",
        "colab_type": "code",
        "outputId": "ab4128ff-90b9-49c9-d181-70942b3045e6",
        "colab": {
          "base_uri": "https://localhost:8080/",
          "height": 697
        }
      },
      "source": [
        "geopoints"
      ],
      "execution_count": 56,
      "outputs": [
        {
          "output_type": "execute_result",
          "data": {
            "text/plain": [
              "{'head': {'vars': ['idgeonames', 'lat', 'lon', 'x', 'xLabel']},\n",
              " 'results': {'bindings': [{'idgeonames': {'type': 'literal',\n",
              "     'value': '2921044'},\n",
              "    'lat': {'datatype': 'http://www.w3.org/2001/XMLSchema#double',\n",
              "     'type': 'literal',\n",
              "     'value': '51.0'},\n",
              "    'lon': {'datatype': 'http://www.w3.org/2001/XMLSchema#double',\n",
              "     'type': 'literal',\n",
              "     'value': '10.0'},\n",
              "    'x': {'type': 'uri', 'value': 'http://www.wikidata.org/entity/Q183'},\n",
              "    'xLabel': {'type': 'literal', 'value': 'Germany', 'xml:lang': 'en'}},\n",
              "   {'idgeonames': {'type': 'literal', 'value': '1269750'},\n",
              "    'lat': {'datatype': 'http://www.w3.org/2001/XMLSchema#double',\n",
              "     'type': 'literal',\n",
              "     'value': '22.8'},\n",
              "    'lon': {'datatype': 'http://www.w3.org/2001/XMLSchema#double',\n",
              "     'type': 'literal',\n",
              "     'value': '83.0'},\n",
              "    'x': {'type': 'uri', 'value': 'http://www.wikidata.org/entity/Q668'},\n",
              "    'xLabel': {'type': 'literal', 'value': 'India', 'xml:lang': 'en'}},\n",
              "   {'idgeonames': {'type': 'literal', 'value': '6269131'},\n",
              "    'lat': {'datatype': 'http://www.w3.org/2001/XMLSchema#double',\n",
              "     'type': 'literal',\n",
              "     'value': '53.0'},\n",
              "    'lon': {'datatype': 'http://www.w3.org/2001/XMLSchema#double',\n",
              "     'type': 'literal',\n",
              "     'value': '-1.0'},\n",
              "    'x': {'type': 'uri', 'value': 'http://www.wikidata.org/entity/Q21'},\n",
              "    'xLabel': {'type': 'literal', 'value': 'England', 'xml:lang': 'en'}},\n",
              "   {'idgeonames': {'type': 'literal', 'value': '6252001'},\n",
              "    'lat': {'datatype': 'http://www.w3.org/2001/XMLSchema#double',\n",
              "     'type': 'literal',\n",
              "     'value': '39.828175'},\n",
              "    'lon': {'datatype': 'http://www.w3.org/2001/XMLSchema#double',\n",
              "     'type': 'literal',\n",
              "     'value': '-98.5795'},\n",
              "    'x': {'type': 'uri', 'value': 'http://www.wikidata.org/entity/Q30'},\n",
              "    'xLabel': {'type': 'literal',\n",
              "     'value': 'United States of America',\n",
              "     'xml:lang': 'en'}}]}}"
            ]
          },
          "metadata": {
            "tags": []
          },
          "execution_count": 56
        }
      ]
    },
    {
      "cell_type": "markdown",
      "metadata": {
        "id": "IW8S-dMQ1b6J",
        "colab_type": "text"
      },
      "source": [
        "### Finally, we add the markers to the map"
      ]
    },
    {
      "cell_type": "code",
      "metadata": {
        "id": "OWr24fgY1b6J",
        "colab_type": "code",
        "outputId": "2bc602a0-bcd7-4d49-e959-df23b27927d1",
        "colab": {
          "base_uri": "https://localhost:8080/",
          "height": 85
        }
      },
      "source": [
        "map = folium.Map(location=[0,0], zoom_start=1.5)\n",
        "\n",
        "for geo in geopoints['results']['bindings']:\n",
        "    idwikidata = geo['x']['value']\n",
        "    lat = geo['lat']['value']\n",
        "    lon = geo['lon']['value']\n",
        "    idgeonames = geo['idgeonames']['value']\n",
        "    label = geo['xLabel']['value']\n",
        "    print(lat, lon)\n",
        "\n",
        "    # adding a text to the popup\n",
        "    count = places_by_number[['http://sws.geonames.org/' + idgeonames + '/']][0]\n",
        "    popup = str(count) + \" records published in <a hreh='\" + str(idwikidata) + \"'>\" + label + \"</a>\"\n",
        "    #popup = \"\"\n",
        "\n",
        "    folium.Marker([lat,lon], popup= popup).add_to(map)\n",
        "  "
      ],
      "execution_count": 57,
      "outputs": [
        {
          "output_type": "stream",
          "text": [
            "51.0 10.0\n",
            "22.8 83.0\n",
            "53.0 -1.0\n",
            "39.828175 -98.5795\n"
          ],
          "name": "stdout"
        }
      ]
    },
    {
      "cell_type": "code",
      "metadata": {
        "id": "XT3gJ2Ir1b6M",
        "colab_type": "code",
        "outputId": "54003a7f-5d7a-4e0d-f216-e52e9d30b844",
        "colab": {
          "base_uri": "https://localhost:8080/",
          "height": 915
        }
      },
      "source": [
        "map"
      ],
      "execution_count": 58,
      "outputs": [
        {
          "output_type": "execute_result",
          "data": {
            "text/html": [
              "<div style=\"width:100%;\"><div style=\"position:relative;width:100%;height:0;padding-bottom:60%;\"><span style=\"color:#565656\">Make this Notebook Trusted to load map: File -> Trust Notebook</span><iframe src=\"about:blank\" style=\"position:absolute;width:100%;height:100%;left:0;top:0;border:none !important;\" data-html=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 onload=\"this.contentDocument.open();this.contentDocument.write(atob(this.getAttribute('data-html')));this.contentDocument.close();\" allowfullscreen webkitallowfullscreen mozallowfullscreen></iframe></div></div>"
            ],
            "text/plain": [
              "<folium.folium.Map at 0x7fe5e6a855f8>"
            ]
          },
          "metadata": {
            "tags": []
          },
          "execution_count": 58
        }
      ]
    }
  ]
}