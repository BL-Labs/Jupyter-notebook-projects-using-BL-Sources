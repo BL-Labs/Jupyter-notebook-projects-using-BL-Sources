{
  "nbformat": 4,
  "nbformat_minor": 0,
  "metadata": {
    "kernelspec": {
      "display_name": "Python 3",
      "language": "python",
      "name": "python3"
    },
    "language_info": {
      "codemirror_mode": {
        "name": "ipython",
        "version": 3
      },
      "file_extension": ".py",
      "mimetype": "text/x-python",
      "name": "python",
      "nbconvert_exporter": "python",
      "pygments_lexer": "ipython3",
      "version": "3.6.9"
    },
    "colab": {
      "name": "Copy of bnb-lod-extraction-map.ipynb",
      "provenance": [],
      "include_colab_link": true
    }
  },
  "cells": [
    {
      "cell_type": "markdown",
      "metadata": {
        "id": "view-in-github",
        "colab_type": "text"
      },
      "source": [
        "<a href=\"https://colab.research.google.com/github/BL-Labs/Jupyter-notebooks-projects-using-BL-Sources/blob/master/LOD_SPARQL/bnb_lod_extraction_map.ipynb\" target=\"_parent\"><img src=\"https://colab.research.google.com/assets/colab-badge.svg\" alt=\"Open In Colab\"/></a>"
      ]
    },
    {
      "cell_type": "markdown",
      "metadata": {
        "id": "_SHPlxTyIq-n",
        "colab_type": "text"
      },
      "source": [
        "### Copied / Forked from:\n",
        "\n",
        "https://github.com/hibernator11/notebook-lod-libraries \n",
        "\n",
        "https://github.com/hibernator11/notebook-lod-libraries/blob/master/bnb-lod-extraction-map.ipynb\n",
        "\n",
        "Author: Gustavo Candela (https://github.com/hibernator11), Research and Development department at The Biblioteca Virtual Miguel de Cervantes, University of Alicante, Spain\n",
        "\n",
        "#####**:: Adapted to run on Google Colab ::**"
      ]
    },
    {
      "cell_type": "markdown",
      "metadata": {
        "id": "TU0Elp2wIoK_",
        "colab_type": "text"
      },
      "source": [
        "# BNB Linked Data Platform\n",
        "\n",
        "The [BNB Linked Data Platform](https://bnb.data.bl.uk/) provides access to the [British National Bibliography (BNB)](http://www.bl.uk/bibliographic/natbib.html) published as linked open data and made available through SPARQL services. \n",
        "\n",
        "This notebook explains how to query the repository and obtain places of publication (fields blt:publication and blt:projectedPublication ) to show an interactive map. Thanks that the works are linked to [GeoNames](https://www.geonames.org/), the records can be linked to external repositories. This notebook  obtains information from [Wikidata](https://www.wikidata.org), showing the benefits of Linked Open Data."
      ]
    },
    {
      "cell_type": "markdown",
      "metadata": {
        "id": "rkWxy-LgIoLB",
        "colab_type": "text"
      },
      "source": [
        "## Global configuration\n",
        "\n",
        "In this section, you can set the author from the BNB by using its identifier. "
      ]
    },
    {
      "cell_type": "code",
      "metadata": {
        "id": "jbYUkXcXIoLC",
        "colab_type": "code",
        "colab": {}
      },
      "source": [
        "#bnbIdAuthor = 'http://bnb.data.bl.uk/id/person/DickensCharles1812-1870'\n",
        "#bnbIdAuthor = 'http://bnb.data.bl.uk/id/person/BlakeWilliam1757-1827'\n",
        "#bnbIdAuthor = 'http://bnb.data.bl.uk/id/person/WoolfVirginia1882-1941'\n",
        "bnbIdAuthor = 'http://bnb.data.bl.uk/id/person/ShakespeareWilliam1564-1616'"
      ],
      "execution_count": 0,
      "outputs": []
    },
    {
      "cell_type": "markdown",
      "metadata": {
        "id": "qt0a7zDeIoLH",
        "colab_type": "text"
      },
      "source": [
        "## Setting up things"
      ]
    },
    {
      "cell_type": "code",
      "metadata": {
        "id": "aNua3QshJK_Y",
        "colab_type": "code",
        "colab": {
          "base_uri": "https://localhost:8080/",
          "height": 187
        },
        "outputId": "873e6c44-a6e1-4784-a8bd-5ed55894ccd8"
      },
      "source": [
        "# This is needed for Google Colab, first run\n",
        "!pip install --upgrade folium"
      ],
      "execution_count": 91,
      "outputs": [
        {
          "output_type": "stream",
          "text": [
            "Requirement already up-to-date: folium in /usr/local/lib/python3.6/dist-packages (0.11.0)\n",
            "Requirement already satisfied, skipping upgrade: branca>=0.3.0 in /usr/local/lib/python3.6/dist-packages (from folium) (0.4.1)\n",
            "Requirement already satisfied, skipping upgrade: jinja2>=2.9 in /usr/local/lib/python3.6/dist-packages (from folium) (2.11.2)\n",
            "Requirement already satisfied, skipping upgrade: numpy in /usr/local/lib/python3.6/dist-packages (from folium) (1.18.4)\n",
            "Requirement already satisfied, skipping upgrade: requests in /usr/local/lib/python3.6/dist-packages (from folium) (2.23.0)\n",
            "Requirement already satisfied, skipping upgrade: MarkupSafe>=0.23 in /usr/local/lib/python3.6/dist-packages (from jinja2>=2.9->folium) (1.1.1)\n",
            "Requirement already satisfied, skipping upgrade: idna<3,>=2.5 in /usr/local/lib/python3.6/dist-packages (from requests->folium) (2.9)\n",
            "Requirement already satisfied, skipping upgrade: urllib3!=1.25.0,!=1.25.1,<1.26,>=1.21.1 in /usr/local/lib/python3.6/dist-packages (from requests->folium) (1.24.3)\n",
            "Requirement already satisfied, skipping upgrade: chardet<4,>=3.0.2 in /usr/local/lib/python3.6/dist-packages (from requests->folium) (3.0.4)\n",
            "Requirement already satisfied, skipping upgrade: certifi>=2017.4.17 in /usr/local/lib/python3.6/dist-packages (from requests->folium) (2020.4.5.1)\n"
          ],
          "name": "stdout"
        }
      ]
    },
    {
      "cell_type": "code",
      "metadata": {
        "id": "grVj5kG8IoLH",
        "colab_type": "code",
        "colab": {}
      },
      "source": [
        "import folium\n",
        "import requests\n",
        "import pandas as pd\n",
        "import json\n",
        "import csv\n",
        "import matplotlib.pyplot as plt\n",
        "from pandas.io.json import json_normalize  "
      ],
      "execution_count": 0,
      "outputs": []
    },
    {
      "cell_type": "markdown",
      "metadata": {
        "id": "OGC6e5K8IoLL",
        "colab_type": "text"
      },
      "source": [
        "## Let's query the repository by asking the publications related to William Shakespeare\n",
        "We will use the [SPARQL endpoint](https://bnb.data.bl.uk/flint-sparql) to create the query and configure the request to retrieve json as a result."
      ]
    },
    {
      "cell_type": "code",
      "metadata": {
        "id": "orhVTXt0IoLL",
        "colab_type": "code",
        "outputId": "a57afb94-b0b8-469c-bbf8-cc8f02809c4d",
        "colab": {
          "base_uri": "https://localhost:8080/",
          "height": 34
        }
      },
      "source": [
        "url = 'https://bnb.data.bl.uk/sparql'\n",
        "query = \"\"\"\n",
        "PREFIX bibo: <http://purl.org/ontology/bibo/>\n",
        "PREFIX bio: <http://purl.org/vocab/bio/0.1/>\n",
        "PREFIX blt: <http://www.bl.uk/schemas/bibliographic/blterms#>\n",
        "PREFIX dct: <http://purl.org/dc/terms/>\n",
        "PREFIX event: <http://purl.org/NET/c4dm/event.owl#>\n",
        "PREFIX foaf: <http://xmlns.com/foaf/0.1/>\n",
        "PREFIX geo: <http://www.w3.org/2003/01/geo/wgs84_pos#>\n",
        "PREFIX isbd: <http://iflastandards.info/ns/isbd/elements/>\n",
        "PREFIX org: <http://www.w3.org/ns/org#>\n",
        "PREFIX owl: <http://www.w3.org/2002/07/owl#>\n",
        "PREFIX rdau: <http://rdaregistry.info/Elements/u/>\n",
        "PREFIX madsrdf: <http://www.loc.gov/mads/rdf/v1#>\n",
        "PREFIX rdf: <http://www.w3.org/1999/02/22-rdf-syntax-ns#>\n",
        "PREFIX rdfs: <http://www.w3.org/2000/01/rdf-schema#>\n",
        "PREFIX skos: <http://www.w3.org/2004/02/skos/core#>\n",
        "PREFIX void: <http://rdfs.org/ns/void#>\n",
        "PREFIX xsd: <http://www.w3.org/2001/XMLSchema#>\n",
        "PREFIX umbel: <http://umbel.org/umbel#>\n",
        "PREFIX schema: <http://schema.org/>\n",
        "PREFIX c4dm: <http://purl.org/NET/c4dm/event.owl#>\n",
        "\n",
        "SELECT DISTINCT ?resource ?title ?date ?place WHERE {{\n",
        "    graph <http://bnb.data.bl.uk/id/graph/BNBCIP> {{\n",
        "      ?resource ?p <{0}> ;\n",
        "         dct:title ?title ;\n",
        "         schema:datePublished ?date .\n",
        "      OPTIONAL {{\n",
        "          ?resource blt:projectedPublication ?publication .\n",
        "          ?publication c4dm:place ?place .\n",
        "          FILTER regex(?place, \"geonames\", \"i\")        \n",
        "      }}\n",
        "      OPTIONAL {{\n",
        "          ?resource blt:publication ?publication .\n",
        "          ?publication c4dm:place ?place .\n",
        "          FILTER regex(?place, \"geonames\", \"i\")        \n",
        "      }}\n",
        "    }}\n",
        "}} LIMIT 500\n",
        "\"\"\"\n",
        "\n",
        "query = query.format(bnbIdAuthor)\n",
        "\n",
        "# use json as a result\n",
        "headers = {'Accept': 'application/sparql-results+json'}\n",
        "r = requests.get(url, params = {'format': 'application/sparql-results+json', 'query': query}, headers=headers)\n",
        "print('Elements retrieved!')\n",
        "#print(r.text)"
      ],
      "execution_count": 93,
      "outputs": [
        {
          "output_type": "stream",
          "text": [
            "Elements retrieved!\n"
          ],
          "name": "stdout"
        }
      ]
    },
    {
      "cell_type": "markdown",
      "metadata": {
        "id": "IPV7YE5QIoLS",
        "colab_type": "text"
      },
      "source": [
        "## Save as a CSV "
      ]
    },
    {
      "cell_type": "code",
      "metadata": {
        "id": "0G0_FjkEIoLT",
        "colab_type": "code",
        "outputId": "67ff729f-9ca9-4420-f3eb-54fcd8756458",
        "colab": {
          "base_uri": "https://localhost:8080/",
          "height": 34
        }
      },
      "source": [
        "bnbdata = json.loads(r.text)\n",
        "\n",
        "# we need to delete bnb_records.csv case it exists from previous runs \n",
        "# if it doesn't exist yet, it will give an error \"rm: cannot remove 'bnb_records.csv': No such file or directory\", that's just fine! :)\n",
        "!rm bnb_records.csv\n",
        "\n",
        "with open('bnb_records.csv', 'w', newline='') as file:\n",
        "    csv_out = csv.writer(file, delimiter = ',', quotechar = '\"', quoting = csv.QUOTE_MINIMAL)    \n",
        "\n",
        "    #csv_out = csv.writer(open('bnb_records.csv', 'w'), delimiter = ',', quotechar = '\"', quoting = csv.QUOTE_MINIMAL)\n",
        "    csv_out.writerow(['resource', 'place', 'title', 'date'])\n",
        "\n",
        "    for i in bnbdata['results']['bindings']:\n",
        "        resource = place = title = date =''\n",
        "\n",
        "        resource = i['resource']['value']\n",
        "        #if \"place\" in i:\n",
        "        place = i['place']['value']\n",
        "        title = i['title']['value']\n",
        "        date = i['date']['value']\n",
        "\n",
        "        csv_out.writerow([resource,place,title,date])\n",
        "\n",
        "print('Open the generated CSV to see all its contents -- Google Colab: under \"Files\" > click \"bnb_records.csv\" -- we will also explore it bellow.')"
      ],
      "execution_count": 94,
      "outputs": [
        {
          "output_type": "stream",
          "text": [
            "Open the generated CSV to see all its contents -- Google Colab: under \"Files\" > click \"bnb_records.csv\" -- we will also explore it bellow.\n"
          ],
          "name": "stdout"
        }
      ]
    },
    {
      "cell_type": "markdown",
      "metadata": {
        "id": "og1n6iQxIoLX",
        "colab_type": "text"
      },
      "source": [
        "## Exploring the data"
      ]
    },
    {
      "cell_type": "code",
      "metadata": {
        "id": "Ih2izFbnIoLY",
        "colab_type": "code",
        "colab": {}
      },
      "source": [
        "# Load the CSV file from GitHub.\n",
        "# This puts the data in a Pandas DataFrame\n",
        "df = pd.read_csv('bnb_records.csv')"
      ],
      "execution_count": 0,
      "outputs": []
    },
    {
      "cell_type": "code",
      "metadata": {
        "id": "fenQ2OBoIoLc",
        "colab_type": "code",
        "outputId": "054b814e-859f-4126-97c3-ac28b1260d53",
        "colab": {
          "base_uri": "https://localhost:8080/",
          "height": 419
        }
      },
      "source": [
        "df"
      ],
      "execution_count": 96,
      "outputs": [
        {
          "output_type": "execute_result",
          "data": {
            "text/html": [
              "<div>\n",
              "<style scoped>\n",
              "    .dataframe tbody tr th:only-of-type {\n",
              "        vertical-align: middle;\n",
              "    }\n",
              "\n",
              "    .dataframe tbody tr th {\n",
              "        vertical-align: top;\n",
              "    }\n",
              "\n",
              "    .dataframe thead th {\n",
              "        text-align: right;\n",
              "    }\n",
              "</style>\n",
              "<table border=\"1\" class=\"dataframe\">\n",
              "  <thead>\n",
              "    <tr style=\"text-align: right;\">\n",
              "      <th></th>\n",
              "      <th>resource</th>\n",
              "      <th>place</th>\n",
              "      <th>title</th>\n",
              "      <th>date</th>\n",
              "    </tr>\n",
              "  </thead>\n",
              "  <tbody>\n",
              "    <tr>\n",
              "      <th>0</th>\n",
              "      <td>http://bnb.data.bl.uk/id/resource/013310275</td>\n",
              "      <td>http://sws.geonames.org/6269131/</td>\n",
              "      <td>Macbeth : teachit KS3 interactive pack</td>\n",
              "      <td>2006-01</td>\n",
              "    </tr>\n",
              "    <tr>\n",
              "      <th>1</th>\n",
              "      <td>http://bnb.data.bl.uk/id/resource/013310276</td>\n",
              "      <td>http://sws.geonames.org/6269131/</td>\n",
              "      <td>Much ado about nothing : teachit KS3 interacti...</td>\n",
              "      <td>2006-01</td>\n",
              "    </tr>\n",
              "    <tr>\n",
              "      <th>2</th>\n",
              "      <td>http://bnb.data.bl.uk/id/resource/013315368</td>\n",
              "      <td>http://sws.geonames.org/6269131/</td>\n",
              "      <td>Hamlet</td>\n",
              "      <td>2006-01</td>\n",
              "    </tr>\n",
              "    <tr>\n",
              "      <th>3</th>\n",
              "      <td>http://bnb.data.bl.uk/id/resource/019599478</td>\n",
              "      <td>http://sws.geonames.org/6269131/</td>\n",
              "      <td>Twelfth night</td>\n",
              "      <td>2020-01</td>\n",
              "    </tr>\n",
              "    <tr>\n",
              "      <th>4</th>\n",
              "      <td>http://bnb.data.bl.uk/id/resource/019599479</td>\n",
              "      <td>http://sws.geonames.org/6269131/</td>\n",
              "      <td>The tempest : the alexander text</td>\n",
              "      <td>2019-11</td>\n",
              "    </tr>\n",
              "    <tr>\n",
              "      <th>...</th>\n",
              "      <td>...</td>\n",
              "      <td>...</td>\n",
              "      <td>...</td>\n",
              "      <td>...</td>\n",
              "    </tr>\n",
              "    <tr>\n",
              "      <th>122</th>\n",
              "      <td>http://bnb.data.bl.uk/id/resource/019702130</td>\n",
              "      <td>http://sws.geonames.org/6269131/</td>\n",
              "      <td>The tragedies</td>\n",
              "      <td>2020-01</td>\n",
              "    </tr>\n",
              "    <tr>\n",
              "      <th>123</th>\n",
              "      <td>http://bnb.data.bl.uk/id/resource/019702131</td>\n",
              "      <td>http://sws.geonames.org/6269131/</td>\n",
              "      <td>The tragicomedies</td>\n",
              "      <td>2020-01</td>\n",
              "    </tr>\n",
              "    <tr>\n",
              "      <th>124</th>\n",
              "      <td>http://bnb.data.bl.uk/id/resource/019755998</td>\n",
              "      <td>http://sws.geonames.org/6269131/</td>\n",
              "      <td>A midsummer night's dream</td>\n",
              "      <td>2020-06</td>\n",
              "    </tr>\n",
              "    <tr>\n",
              "      <th>125</th>\n",
              "      <td>http://bnb.data.bl.uk/id/resource/019736523</td>\n",
              "      <td>http://sws.geonames.org/6252001/</td>\n",
              "      <td>William Shakespeare comedies</td>\n",
              "      <td>2020-05</td>\n",
              "    </tr>\n",
              "    <tr>\n",
              "      <th>126</th>\n",
              "      <td>http://bnb.data.bl.uk/id/resource/019736524</td>\n",
              "      <td>http://sws.geonames.org/6252001/</td>\n",
              "      <td>William Shakespeare tragedies</td>\n",
              "      <td>2020-05</td>\n",
              "    </tr>\n",
              "  </tbody>\n",
              "</table>\n",
              "<p>127 rows × 4 columns</p>\n",
              "</div>"
            ],
            "text/plain": [
              "                                        resource  ...     date\n",
              "0    http://bnb.data.bl.uk/id/resource/013310275  ...  2006-01\n",
              "1    http://bnb.data.bl.uk/id/resource/013310276  ...  2006-01\n",
              "2    http://bnb.data.bl.uk/id/resource/013315368  ...  2006-01\n",
              "3    http://bnb.data.bl.uk/id/resource/019599478  ...  2020-01\n",
              "4    http://bnb.data.bl.uk/id/resource/019599479  ...  2019-11\n",
              "..                                           ...  ...      ...\n",
              "122  http://bnb.data.bl.uk/id/resource/019702130  ...  2020-01\n",
              "123  http://bnb.data.bl.uk/id/resource/019702131  ...  2020-01\n",
              "124  http://bnb.data.bl.uk/id/resource/019755998  ...  2020-06\n",
              "125  http://bnb.data.bl.uk/id/resource/019736523  ...  2020-05\n",
              "126  http://bnb.data.bl.uk/id/resource/019736524  ...  2020-05\n",
              "\n",
              "[127 rows x 4 columns]"
            ]
          },
          "metadata": {
            "tags": []
          },
          "execution_count": 96
        }
      ]
    },
    {
      "cell_type": "markdown",
      "metadata": {
        "id": "DMgoGtlyIoLj",
        "colab_type": "text"
      },
      "source": [
        "## How many items?"
      ]
    },
    {
      "cell_type": "code",
      "metadata": {
        "id": "bDsScd1gIoLk",
        "colab_type": "code",
        "outputId": "c6f965b6-1113-4141-8721-b8078a2e79bc",
        "colab": {
          "base_uri": "https://localhost:8080/",
          "height": 34
        }
      },
      "source": [
        "# How many items?\n",
        "len(df)"
      ],
      "execution_count": 97,
      "outputs": [
        {
          "output_type": "execute_result",
          "data": {
            "text/plain": [
              "127"
            ]
          },
          "metadata": {
            "tags": []
          },
          "execution_count": 97
        }
      ]
    },
    {
      "cell_type": "markdown",
      "metadata": {
        "id": "DXFWETl7IoLn",
        "colab_type": "text"
      },
      "source": [
        "### Let's count the number of resources per place"
      ]
    },
    {
      "cell_type": "code",
      "metadata": {
        "id": "PjY-cqnqIoLo",
        "colab_type": "code",
        "colab": {}
      },
      "source": [
        "places_by_number = df.groupby(\"place\")[\"resource\"].count()"
      ],
      "execution_count": 0,
      "outputs": []
    },
    {
      "cell_type": "code",
      "metadata": {
        "id": "pDX6b-hjIoLs",
        "colab_type": "code",
        "outputId": "dca3b82c-5fc5-4f28-9f63-21e78fc1fa2c",
        "colab": {
          "base_uri": "https://localhost:8080/",
          "height": 136
        }
      },
      "source": [
        "places_by_number"
      ],
      "execution_count": 99,
      "outputs": [
        {
          "output_type": "execute_result",
          "data": {
            "text/plain": [
              "place\n",
              "http://sws.geonames.org/1269750/     2\n",
              "http://sws.geonames.org/2921044/     9\n",
              "http://sws.geonames.org/6251999/     2\n",
              "http://sws.geonames.org/6252001/    30\n",
              "http://sws.geonames.org/6269131/    84\n",
              "Name: resource, dtype: int64"
            ]
          },
          "metadata": {
            "tags": []
          },
          "execution_count": 99
        }
      ]
    },
    {
      "cell_type": "code",
      "metadata": {
        "id": "qFByrGWpIoLz",
        "colab_type": "code",
        "colab": {}
      },
      "source": [
        "### We can access the count of each place"
      ],
      "execution_count": 0,
      "outputs": []
    },
    {
      "cell_type": "code",
      "metadata": {
        "id": "ALytexj6IoL3",
        "colab_type": "code",
        "outputId": "2e70b1d4-3136-4af0-ba0a-05bc8f4b1361",
        "colab": {
          "base_uri": "https://localhost:8080/",
          "height": 34
        }
      },
      "source": [
        "places_by_number[['http://sws.geonames.org/6269131/']][0]"
      ],
      "execution_count": 101,
      "outputs": [
        {
          "output_type": "execute_result",
          "data": {
            "text/plain": [
              "84"
            ]
          },
          "metadata": {
            "tags": []
          },
          "execution_count": 101
        }
      ]
    },
    {
      "cell_type": "markdown",
      "metadata": {
        "id": "5ty7tAEtIoL9",
        "colab_type": "text"
      },
      "source": [
        "### Create a chart to visualize the results\n",
        "This chart shows the number of resources by date."
      ]
    },
    {
      "cell_type": "code",
      "metadata": {
        "id": "8MOITWYAIoL_",
        "colab_type": "code",
        "outputId": "08500f96-267c-405a-fe7f-c14a3cdce666",
        "colab": {
          "base_uri": "https://localhost:8080/",
          "height": 545
        }
      },
      "source": [
        "ax = df['date'].value_counts().plot(kind='bar',\n",
        "                                    figsize=(14,8),\n",
        "                                    title=\"Number of resources per date\")\n",
        "ax.set_xlabel(\"Dates\")\n",
        "ax.set_ylabel(\"Resources\")\n",
        "plt.show()"
      ],
      "execution_count": 102,
      "outputs": [
        {
          "output_type": "display_data",
          "data": {
            "image/png": "[encoded data removed]",
            "text/plain": [
              "<Figure size 1008x576 with 1 Axes>"
            ]
          },
          "metadata": {
            "tags": [],
            "needs_background": "light"
          }
        }
      ]
    },
    {
      "cell_type": "markdown",
      "metadata": {
        "id": "bzuMZwCSIoMH",
        "colab_type": "text"
      },
      "source": [
        "### Let's group the items by year"
      ]
    },
    {
      "cell_type": "code",
      "metadata": {
        "id": "D56P3lFPIoMJ",
        "colab_type": "code",
        "colab": {}
      },
      "source": [
        "# First we create a new column in pandas with the year\n",
        "df['year'] = pd.DatetimeIndex(df['date']).year"
      ],
      "execution_count": 0,
      "outputs": []
    },
    {
      "cell_type": "code",
      "metadata": {
        "id": "Df-0fPFPIoMR",
        "colab_type": "code",
        "outputId": "3db9e145-a9fa-49fe-ec77-2a22a6c5bf01",
        "colab": {
          "base_uri": "https://localhost:8080/",
          "height": 221
        }
      },
      "source": [
        "df['year']"
      ],
      "execution_count": 104,
      "outputs": [
        {
          "output_type": "execute_result",
          "data": {
            "text/plain": [
              "0      2006\n",
              "1      2006\n",
              "2      2006\n",
              "3      2020\n",
              "4      2019\n",
              "       ... \n",
              "122    2020\n",
              "123    2020\n",
              "124    2020\n",
              "125    2020\n",
              "126    2020\n",
              "Name: year, Length: 127, dtype: int64"
            ]
          },
          "metadata": {
            "tags": []
          },
          "execution_count": 104
        }
      ]
    },
    {
      "cell_type": "markdown",
      "metadata": {
        "id": "kWtHX4lZIoMc",
        "colab_type": "text"
      },
      "source": [
        "### Creating the chart by year"
      ]
    },
    {
      "cell_type": "code",
      "metadata": {
        "id": "xgowNiOHJruE",
        "colab_type": "code",
        "outputId": "b16c2bf2-53cb-43cd-8808-9bfa61e94732",
        "colab": {
          "base_uri": "https://localhost:8080/",
          "height": 391
        }
      },
      "source": [
        "df['year'].value_counts()"
      ],
      "execution_count": 105,
      "outputs": [
        {
          "output_type": "execute_result",
          "data": {
            "text/plain": [
              "2018    34\n",
              "2017    26\n",
              "2019    19\n",
              "2020    11\n",
              "2009     7\n",
              "2016     5\n",
              "2006     4\n",
              "2012     3\n",
              "2011     3\n",
              "2014     2\n",
              "2002     2\n",
              "2007     2\n",
              "2003     1\n",
              "2000     1\n",
              "2001     1\n",
              "2010     1\n",
              "2004     1\n",
              "2008     1\n",
              "2013     1\n",
              "2015     1\n",
              "1999     1\n",
              "Name: year, dtype: int64"
            ]
          },
          "metadata": {
            "tags": []
          },
          "execution_count": 105
        }
      ]
    },
    {
      "cell_type": "code",
      "metadata": {
        "id": "uF6xz6iFIoMd",
        "colab_type": "code",
        "outputId": "ac566622-b004-49ce-c63e-edc26be5e9f2",
        "colab": {
          "base_uri": "https://localhost:8080/",
          "height": 528
        }
      },
      "source": [
        "ax = df['year'].value_counts().plot(kind='bar',\n",
        "                                    figsize=(14,8),\n",
        "                                    title=\"Number of resources per year\")\n",
        "ax.set_xlabel(\"Dates\")\n",
        "ax.set_ylabel(\"Resources\")\n",
        "plt.show()"
      ],
      "execution_count": 106,
      "outputs": [
        {
          "output_type": "display_data",
          "data": {
            "image/png": "[encoded data removed]",
            "text/plain": [
              "<Figure size 1008x576 with 1 Axes>"
            ]
          },
          "metadata": {
            "tags": [],
            "needs_background": "light"
          }
        }
      ]
    },
    {
      "cell_type": "markdown",
      "metadata": {
        "id": "PX9HQzNPIoMn",
        "colab_type": "text"
      },
      "source": [
        "## Exploring the places"
      ]
    },
    {
      "cell_type": "code",
      "metadata": {
        "id": "UHURmHF6IoMn",
        "colab_type": "code",
        "outputId": "cfac97ed-2080-4be2-cc68-50b2e2f09473",
        "colab": {
          "base_uri": "https://localhost:8080/",
          "height": 102
        }
      },
      "source": [
        "# Get unique values\n",
        "places = pd.unique(df['place']).tolist()\n",
        "strplaces = ''\n",
        "for a in sorted(places):\n",
        "    print(a)\n",
        "    strplaces = strplaces + ' \\\"' + a.replace(\"http://sws.geonames.org/\", \"\").replace(\"/\", \"\") + '\\\"'"
      ],
      "execution_count": 107,
      "outputs": [
        {
          "output_type": "stream",
          "text": [
            "http://sws.geonames.org/1269750/\n",
            "http://sws.geonames.org/2921044/\n",
            "http://sws.geonames.org/6251999/\n",
            "http://sws.geonames.org/6252001/\n",
            "http://sws.geonames.org/6269131/\n"
          ],
          "name": "stdout"
        }
      ]
    },
    {
      "cell_type": "markdown",
      "metadata": {
        "id": "2Pj4P6R8IoMq",
        "colab_type": "text"
      },
      "source": [
        "### Getting latitude and longitude from Wikidata"
      ]
    },
    {
      "cell_type": "code",
      "metadata": {
        "id": "kbjrP8CwIoMr",
        "colab_type": "code",
        "outputId": "122d78df-5cb7-4288-bc2b-38314edb08f7",
        "colab": {
          "base_uri": "https://localhost:8080/",
          "height": 306
        }
      },
      "source": [
        "url = 'https://query.wikidata.org/sparql'\n",
        "query = \"\"\"\n",
        "PREFIX bibo: <http://purl.org/ontology/bibo/>\n",
        "SELECT ?idgeonames ?lat ?lon ?x ?xLabel \n",
        "WHERE {{ \n",
        "  values ?idgeonames {{ {0} }} \n",
        "  ?x wdt:P1566 ?idgeonames ; \n",
        "   p:P625 [\n",
        "     psv:P625 [\n",
        "       wikibase:geoLatitude ?lat ;\n",
        "       wikibase:geoLongitude ?lon ;\n",
        "       wikibase:geoGlobe ?globe ;\n",
        "     ];\n",
        "     ps:P625 ?coord\n",
        "   ]\n",
        "   SERVICE wikibase:label {{ bd:serviceParam wikibase:language \"[AUTO_LANGUAGE],en\". }}\n",
        "}}\n",
        "\"\"\"\n",
        "\n",
        "query = query.format(strplaces)\n",
        "print(query)\n",
        "\n",
        "# use json as a result\n",
        "r = requests.get(url, params = {'format': 'json', 'query': query})\n",
        "geopoints = r.json()"
      ],
      "execution_count": 108,
      "outputs": [
        {
          "output_type": "stream",
          "text": [
            "\n",
            "PREFIX bibo: <http://purl.org/ontology/bibo/>\n",
            "SELECT ?idgeonames ?lat ?lon ?x ?xLabel \n",
            "WHERE { \n",
            "  values ?idgeonames {  \"1269750\" \"2921044\" \"6251999\" \"6252001\" \"6269131\" } \n",
            "  ?x wdt:P1566 ?idgeonames ; \n",
            "   p:P625 [\n",
            "     psv:P625 [\n",
            "       wikibase:geoLatitude ?lat ;\n",
            "       wikibase:geoLongitude ?lon ;\n",
            "       wikibase:geoGlobe ?globe ;\n",
            "     ];\n",
            "     ps:P625 ?coord\n",
            "   ]\n",
            "   SERVICE wikibase:label { bd:serviceParam wikibase:language \"[AUTO_LANGUAGE],en\". }\n",
            "}\n",
            "\n"
          ],
          "name": "stdout"
        }
      ]
    },
    {
      "cell_type": "code",
      "metadata": {
        "id": "wocNjHGDJwF5",
        "colab_type": "code",
        "outputId": "e37d2246-ed56-4137-e0a1-dcc31f362ca4",
        "colab": {
          "base_uri": "https://localhost:8080/",
          "height": 850
        }
      },
      "source": [
        "geopoints"
      ],
      "execution_count": 109,
      "outputs": [
        {
          "output_type": "execute_result",
          "data": {
            "text/plain": [
              "{'head': {'vars': ['idgeonames', 'lat', 'lon', 'x', 'xLabel']},\n",
              " 'results': {'bindings': [{'idgeonames': {'type': 'literal',\n",
              "     'value': '2921044'},\n",
              "    'lat': {'datatype': 'http://www.w3.org/2001/XMLSchema#double',\n",
              "     'type': 'literal',\n",
              "     'value': '51.0'},\n",
              "    'lon': {'datatype': 'http://www.w3.org/2001/XMLSchema#double',\n",
              "     'type': 'literal',\n",
              "     'value': '10.0'},\n",
              "    'x': {'type': 'uri', 'value': 'http://www.wikidata.org/entity/Q183'},\n",
              "    'xLabel': {'type': 'literal', 'value': 'Germany', 'xml:lang': 'en'}},\n",
              "   {'idgeonames': {'type': 'literal', 'value': '1269750'},\n",
              "    'lat': {'datatype': 'http://www.w3.org/2001/XMLSchema#double',\n",
              "     'type': 'literal',\n",
              "     'value': '22.8'},\n",
              "    'lon': {'datatype': 'http://www.w3.org/2001/XMLSchema#double',\n",
              "     'type': 'literal',\n",
              "     'value': '83.0'},\n",
              "    'x': {'type': 'uri', 'value': 'http://www.wikidata.org/entity/Q668'},\n",
              "    'xLabel': {'type': 'literal', 'value': 'India', 'xml:lang': 'en'}},\n",
              "   {'idgeonames': {'type': 'literal', 'value': '6269131'},\n",
              "    'lat': {'datatype': 'http://www.w3.org/2001/XMLSchema#double',\n",
              "     'type': 'literal',\n",
              "     'value': '53.0'},\n",
              "    'lon': {'datatype': 'http://www.w3.org/2001/XMLSchema#double',\n",
              "     'type': 'literal',\n",
              "     'value': '-1.0'},\n",
              "    'x': {'type': 'uri', 'value': 'http://www.wikidata.org/entity/Q21'},\n",
              "    'xLabel': {'type': 'literal', 'value': 'England', 'xml:lang': 'en'}},\n",
              "   {'idgeonames': {'type': 'literal', 'value': '6251999'},\n",
              "    'lat': {'datatype': 'http://www.w3.org/2001/XMLSchema#double',\n",
              "     'type': 'literal',\n",
              "     'value': '56.0'},\n",
              "    'lon': {'datatype': 'http://www.w3.org/2001/XMLSchema#double',\n",
              "     'type': 'literal',\n",
              "     'value': '-109.0'},\n",
              "    'x': {'type': 'uri', 'value': 'http://www.wikidata.org/entity/Q16'},\n",
              "    'xLabel': {'type': 'literal', 'value': 'Canada', 'xml:lang': 'en'}},\n",
              "   {'idgeonames': {'type': 'literal', 'value': '6252001'},\n",
              "    'lat': {'datatype': 'http://www.w3.org/2001/XMLSchema#double',\n",
              "     'type': 'literal',\n",
              "     'value': '39.828175'},\n",
              "    'lon': {'datatype': 'http://www.w3.org/2001/XMLSchema#double',\n",
              "     'type': 'literal',\n",
              "     'value': '-98.5795'},\n",
              "    'x': {'type': 'uri', 'value': 'http://www.wikidata.org/entity/Q30'},\n",
              "    'xLabel': {'type': 'literal',\n",
              "     'value': 'United States of America',\n",
              "     'xml:lang': 'en'}}]}}"
            ]
          },
          "metadata": {
            "tags": []
          },
          "execution_count": 109
        }
      ]
    },
    {
      "cell_type": "markdown",
      "metadata": {
        "id": "x6Ff0INhIoMu",
        "colab_type": "text"
      },
      "source": [
        "### Finally, we add the markers to the map"
      ]
    },
    {
      "cell_type": "code",
      "metadata": {
        "id": "jstA9gVvIoMv",
        "colab_type": "code",
        "colab": {}
      },
      "source": [
        "map = folium.Map(location=[0,0], zoom_start=1.5)\n",
        "\n",
        "for geo in geopoints['results']['bindings']:\n",
        "    idwikidata = geo['x']['value']\n",
        "    lat = geo['lat']['value']\n",
        "    lon = geo['lon']['value']\n",
        "    idgeonames = geo['idgeonames']['value']\n",
        "    label = geo['xLabel']['value']\n",
        "    # print(lat, lon)\n",
        "    \n",
        "    # adding a text to the popup\n",
        "    count = places_by_number[['http://sws.geonames.org/' + idgeonames + '/']][0]\n",
        "\n",
        "    # Records that have that Place of Publication -- Obtain the Titles, bellow, for the Map popup\n",
        "    df_local = df[df['place']=='http://sws.geonames.org/' + idgeonames + '/']\n",
        "\n",
        "    popup = str(count) + \" records published in <a href='\" + str(idwikidata) + \"'>\" + label + \"</a><p/>Title(s):<br/><br/>\" + ' ________ '.join(df_local['title'].values)\n",
        "    folium.Marker([lat,lon], popup= popup).add_to(map)"
      ],
      "execution_count": 0,
      "outputs": []
    },
    {
      "cell_type": "code",
      "metadata": {
        "id": "bE4I7vHSIoM1",
        "colab_type": "code",
        "outputId": "b88bd7f9-c859-4dd8-ec59-81b29930a215",
        "colab": {
          "base_uri": "https://localhost:8080/",
          "height": 1000
        }
      },
      "source": [
        "map"
      ],
      "execution_count": 142,
      "outputs": [
        {
          "output_type": "execute_result",
          "data": {
            "text/html": [
              "<div style=\"width:100%;\"><div style=\"position:relative;width:100%;height:0;padding-bottom:60%;\"><span style=\"color:#565656\">Make this Notebook Trusted to load map: File -> Trust Notebook</span><iframe src=\"about:blank\" style=\"position:absolute;width:100%;height:100%;left:0;top:0;border:none !important;\" data-html=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 onload=\"this.contentDocument.open();this.contentDocument.write(atob(this.getAttribute('data-html')));this.contentDocument.close();\" allowfullscreen webkitallowfullscreen mozallowfullscreen></iframe></div></div>"
            ],
            "text/plain": [
              "<folium.folium.Map at 0x7f5164a9a0b8>"
            ]
          },
          "metadata": {
            "tags": []
          },
          "execution_count": 142
        }
      ]
    }
  ]
}