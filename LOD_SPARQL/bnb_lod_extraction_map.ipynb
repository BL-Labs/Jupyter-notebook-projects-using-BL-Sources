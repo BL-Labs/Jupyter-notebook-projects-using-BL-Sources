{
  "nbformat": 4,
  "nbformat_minor": 0,
  "metadata": {
    "kernelspec": {
      "display_name": "Python 3",
      "language": "python",
      "name": "python3"
    },
    "language_info": {
      "codemirror_mode": {
        "name": "ipython",
        "version": 3
      },
      "file_extension": ".py",
      "mimetype": "text/x-python",
      "name": "python",
      "nbconvert_exporter": "python",
      "pygments_lexer": "ipython3",
      "version": "3.6.9"
    },
    "colab": {
      "name": "Copy of bnb-lod-extraction-map.ipynb",
      "provenance": [],
      "include_colab_link": true
    }
  },
  "cells": [
    {
      "cell_type": "markdown",
      "metadata": {
        "id": "view-in-github",
        "colab_type": "text"
      },
      "source": [
        "<a href=\"https://colab.research.google.com/github/BL-Labs/Jupyter-notebooks-projects-using-BL-Sources/blob/master/LOD_SPARQL/bnb_lod_extraction_map.ipynb\" target=\"_parent\"><img src=\"https://colab.research.google.com/assets/colab-badge.svg\" alt=\"Open In Colab\"/></a>"
      ]
    },
    {
      "cell_type": "markdown",
      "metadata": {
        "id": "_SHPlxTyIq-n",
        "colab_type": "text"
      },
      "source": [
        "Forked from:\n",
        "\n",
        "https://github.com/hibernator11/notebook-lod-libraries \n",
        "\n",
        "https://github.com/hibernator11/notebook-lod-libraries/blob/master/bnb-lod-extraction-map.ipynb\n",
        "\n",
        "Author: Gustavo Candela (https://github.com/hibernator11)"
      ]
    },
    {
      "cell_type": "markdown",
      "metadata": {
        "id": "TU0Elp2wIoK_",
        "colab_type": "text"
      },
      "source": [
        "# BNB Linked Data Platform\n",
        "\n",
        "The [BNB Linked Data Platform](https://bnb.data.bl.uk/) provides access to the [British National Bibliography (BNB)](http://www.bl.uk/bibliographic/natbib.html) published as linked open data and made available through SPARQL services. \n",
        "\n",
        "This notebook explains how to query the repository and obtain places of publication (fields blt:publication and blt:projectedPublication ) to show an interactive map. Thanks that the works are linked to [GeoNames](https://www.geonames.org/), the records can be linked to external repositories. This notebook  obtains information from [Wikidata](https://www.wikidata.org), showing the benefits of Linked Open Data."
      ]
    },
    {
      "cell_type": "markdown",
      "metadata": {
        "id": "rkWxy-LgIoLB",
        "colab_type": "text"
      },
      "source": [
        "## Global configuration\n",
        "\n",
        "In this section, you can set the author from the BNB by using its identifier. "
      ]
    },
    {
      "cell_type": "code",
      "metadata": {
        "id": "jbYUkXcXIoLC",
        "colab_type": "code",
        "colab": {}
      },
      "source": [
        "#bnbIdAuthor = 'http://bnb.data.bl.uk/id/person/DickensCharles1812-1870'\n",
        "#bnbIdAuthor = 'http://bnb.data.bl.uk/id/person/BlakeWilliam1757-1827'\n",
        "#bnbIdAuthor = 'http://bnb.data.bl.uk/id/person/WoolfVirginia1882-1941'\n",
        "bnbIdAuthor = 'http://bnb.data.bl.uk/id/person/ShakespeareWilliam1564-1616'"
      ],
      "execution_count": 0,
      "outputs": []
    },
    {
      "cell_type": "markdown",
      "metadata": {
        "id": "qt0a7zDeIoLH",
        "colab_type": "text"
      },
      "source": [
        "## Setting up things"
      ]
    },
    {
      "cell_type": "code",
      "metadata": {
        "id": "aNua3QshJK_Y",
        "colab_type": "code",
        "outputId": "653fcaf1-c2ad-4a49-cd0e-13eab0ebb2f5",
        "colab": {
          "base_uri": "https://localhost:8080/",
          "height": 323
        }
      },
      "source": [
        "# This is needed for Google Colab, first run\n",
        "!pip install --upgrade folium"
      ],
      "execution_count": 0,
      "outputs": [
        {
          "output_type": "stream",
          "text": [
            "Collecting folium\n",
            "\u001b[?25l  Downloading https://files.pythonhosted.org/packages/a4/f0/44e69d50519880287cc41e7c8a6acc58daa9a9acf5f6afc52bcc70f69a6d/folium-0.11.0-py2.py3-none-any.whl (93kB)\n",
            "\r\u001b[K     |███▌                            | 10kB 14.7MB/s eta 0:00:01\r\u001b[K     |███████                         | 20kB 1.7MB/s eta 0:00:01\r\u001b[K     |██████████▌                     | 30kB 2.5MB/s eta 0:00:01\r\u001b[K     |██████████████                  | 40kB 1.7MB/s eta 0:00:01\r\u001b[K     |█████████████████▌              | 51kB 2.1MB/s eta 0:00:01\r\u001b[K     |█████████████████████           | 61kB 2.5MB/s eta 0:00:01\r\u001b[K     |████████████████████████▌       | 71kB 2.8MB/s eta 0:00:01\r\u001b[K     |████████████████████████████    | 81kB 2.2MB/s eta 0:00:01\r\u001b[K     |███████████████████████████████▌| 92kB 2.5MB/s eta 0:00:01\r\u001b[K     |████████████████████████████████| 102kB 2.3MB/s \n",
            "\u001b[?25hRequirement already satisfied, skipping upgrade: numpy in /usr/local/lib/python3.6/dist-packages (from folium) (1.18.4)\n",
            "Requirement already satisfied, skipping upgrade: jinja2>=2.9 in /usr/local/lib/python3.6/dist-packages (from folium) (2.11.2)\n",
            "Requirement already satisfied, skipping upgrade: requests in /usr/local/lib/python3.6/dist-packages (from folium) (2.23.0)\n",
            "Requirement already satisfied, skipping upgrade: branca>=0.3.0 in /usr/local/lib/python3.6/dist-packages (from folium) (0.4.1)\n",
            "Requirement already satisfied, skipping upgrade: MarkupSafe>=0.23 in /usr/local/lib/python3.6/dist-packages (from jinja2>=2.9->folium) (1.1.1)\n",
            "Requirement already satisfied, skipping upgrade: urllib3!=1.25.0,!=1.25.1,<1.26,>=1.21.1 in /usr/local/lib/python3.6/dist-packages (from requests->folium) (1.24.3)\n",
            "Requirement already satisfied, skipping upgrade: chardet<4,>=3.0.2 in /usr/local/lib/python3.6/dist-packages (from requests->folium) (3.0.4)\n",
            "Requirement already satisfied, skipping upgrade: certifi>=2017.4.17 in /usr/local/lib/python3.6/dist-packages (from requests->folium) (2020.4.5.1)\n",
            "Requirement already satisfied, skipping upgrade: idna<3,>=2.5 in /usr/local/lib/python3.6/dist-packages (from requests->folium) (2.9)\n",
            "\u001b[31mERROR: datascience 0.10.6 has requirement folium==0.2.1, but you'll have folium 0.11.0 which is incompatible.\u001b[0m\n",
            "Installing collected packages: folium\n",
            "  Found existing installation: folium 0.8.3\n",
            "    Uninstalling folium-0.8.3:\n",
            "      Successfully uninstalled folium-0.8.3\n",
            "Successfully installed folium-0.11.0\n"
          ],
          "name": "stdout"
        }
      ]
    },
    {
      "cell_type": "code",
      "metadata": {
        "id": "grVj5kG8IoLH",
        "colab_type": "code",
        "colab": {}
      },
      "source": [
        "import folium\n",
        "import requests\n",
        "import pandas as pd\n",
        "import json\n",
        "import csv\n",
        "import matplotlib.pyplot as plt\n",
        "from pandas.io.json import json_normalize  "
      ],
      "execution_count": 0,
      "outputs": []
    },
    {
      "cell_type": "markdown",
      "metadata": {
        "id": "OGC6e5K8IoLL",
        "colab_type": "text"
      },
      "source": [
        "## Let's query the repository by asking the publications related to William Shakespeare\n",
        "We will use the [SPARQL endpoint](https://bnb.data.bl.uk/flint-sparql) to create the query and configure the request to retrieve json as a result."
      ]
    },
    {
      "cell_type": "code",
      "metadata": {
        "id": "orhVTXt0IoLL",
        "colab_type": "code",
        "colab": {}
      },
      "source": [
        "url = 'https://bnb.data.bl.uk/sparql'\n",
        "query = \"\"\"\n",
        "PREFIX bibo: <http://purl.org/ontology/bibo/>\n",
        "PREFIX bio: <http://purl.org/vocab/bio/0.1/>\n",
        "PREFIX blt: <http://www.bl.uk/schemas/bibliographic/blterms#>\n",
        "PREFIX dct: <http://purl.org/dc/terms/>\n",
        "PREFIX event: <http://purl.org/NET/c4dm/event.owl#>\n",
        "PREFIX foaf: <http://xmlns.com/foaf/0.1/>\n",
        "PREFIX geo: <http://www.w3.org/2003/01/geo/wgs84_pos#>\n",
        "PREFIX isbd: <http://iflastandards.info/ns/isbd/elements/>\n",
        "PREFIX org: <http://www.w3.org/ns/org#>\n",
        "PREFIX owl: <http://www.w3.org/2002/07/owl#>\n",
        "PREFIX rdau: <http://rdaregistry.info/Elements/u/>\n",
        "PREFIX madsrdf: <http://www.loc.gov/mads/rdf/v1#>\n",
        "PREFIX rdf: <http://www.w3.org/1999/02/22-rdf-syntax-ns#>\n",
        "PREFIX rdfs: <http://www.w3.org/2000/01/rdf-schema#>\n",
        "PREFIX skos: <http://www.w3.org/2004/02/skos/core#>\n",
        "PREFIX void: <http://rdfs.org/ns/void#>\n",
        "PREFIX xsd: <http://www.w3.org/2001/XMLSchema#>\n",
        "PREFIX umbel: <http://umbel.org/umbel#>\n",
        "PREFIX schema: <http://schema.org/>\n",
        "PREFIX c4dm: <http://purl.org/NET/c4dm/event.owl#>\n",
        "\n",
        "SELECT DISTINCT ?resource ?title ?date ?place WHERE {{\n",
        "    graph <http://bnb.data.bl.uk/id/graph/BNBCIP> {{\n",
        "      ?resource ?p <{0}> ;\n",
        "         dct:title ?title ;\n",
        "         schema:datePublished ?date .\n",
        "      OPTIONAL {{\n",
        "          ?resource blt:projectedPublication ?publication .\n",
        "          ?publication c4dm:place ?place .\n",
        "          FILTER regex(?place, \"geonames\", \"i\")        \n",
        "      }}\n",
        "      OPTIONAL {{\n",
        "          ?resource blt:publication ?publication .\n",
        "          ?publication c4dm:place ?place .\n",
        "          FILTER regex(?place, \"geonames\", \"i\")        \n",
        "      }}\n",
        "    }}\n",
        "}} LIMIT 500\n",
        "\"\"\"\n",
        "\n",
        "query = query.format(bnbIdAuthor)\n",
        "\n",
        "# use json as a result\n",
        "headers = {'Accept': 'application/sparql-results+json'}\n",
        "r = requests.get(url, params = {'format': 'application/sparql-results+json', 'query': query}, headers=headers)\n",
        "print('Elements retrieved! Open the CSV generated to see its contents')\n",
        "#print(r.text)"
      ],
      "execution_count": 0,
      "outputs": []
    },
    {
      "cell_type": "markdown",
      "metadata": {
        "id": "IPV7YE5QIoLS",
        "colab_type": "text"
      },
      "source": [
        "## Save as a CSV "
      ]
    },
    {
      "cell_type": "code",
      "metadata": {
        "id": "0G0_FjkEIoLT",
        "colab_type": "code",
        "colab": {}
      },
      "source": [
        "bnbdata = json.loads(r.text)\n",
        "\n",
        "with open('bnb_records.csv', 'w', newline='') as file:\n",
        "    csv_out = csv.writer(file, delimiter = ',', quotechar = '\"', quoting = csv.QUOTE_MINIMAL)    \n",
        "\n",
        "    #csv_out = csv.writer(open('bnb_records.csv', 'w'), delimiter = ',', quotechar = '\"', quoting = csv.QUOTE_MINIMAL)\n",
        "    csv_out.writerow(['resource', 'place', 'title', 'date'])\n",
        "\n",
        "    for i in bnbdata['results']['bindings']:\n",
        "        resource = place = title = date =''\n",
        "\n",
        "        resource = i['resource']['value']\n",
        "        #if \"place\" in i:\n",
        "        place = i['place']['value']\n",
        "        title = i['title']['value']\n",
        "        date = i['date']['value']\n",
        "\n",
        "        csv_out.writerow([resource,place,title,date])"
      ],
      "execution_count": 0,
      "outputs": []
    },
    {
      "cell_type": "markdown",
      "metadata": {
        "id": "og1n6iQxIoLX",
        "colab_type": "text"
      },
      "source": [
        "## Exploring the data"
      ]
    },
    {
      "cell_type": "code",
      "metadata": {
        "id": "Ih2izFbnIoLY",
        "colab_type": "code",
        "colab": {}
      },
      "source": [
        "# Load the CSV file from GitHub.\n",
        "# This puts the data in a Pandas DataFrame\n",
        "df = pd.read_csv('bnb_records.csv')"
      ],
      "execution_count": 0,
      "outputs": []
    },
    {
      "cell_type": "code",
      "metadata": {
        "id": "fenQ2OBoIoLc",
        "colab_type": "code",
        "outputId": "d908955f-20a5-4424-f99d-0c79b53d5611",
        "colab": {
          "base_uri": "https://localhost:8080/",
          "height": 419
        }
      },
      "source": [
        "df"
      ],
      "execution_count": 0,
      "outputs": [
        {
          "output_type": "execute_result",
          "data": {
            "text/html": [
              "<div>\n",
              "<style scoped>\n",
              "    .dataframe tbody tr th:only-of-type {\n",
              "        vertical-align: middle;\n",
              "    }\n",
              "\n",
              "    .dataframe tbody tr th {\n",
              "        vertical-align: top;\n",
              "    }\n",
              "\n",
              "    .dataframe thead th {\n",
              "        text-align: right;\n",
              "    }\n",
              "</style>\n",
              "<table border=\"1\" class=\"dataframe\">\n",
              "  <thead>\n",
              "    <tr style=\"text-align: right;\">\n",
              "      <th></th>\n",
              "      <th>resource</th>\n",
              "      <th>place</th>\n",
              "      <th>title</th>\n",
              "      <th>date</th>\n",
              "    </tr>\n",
              "  </thead>\n",
              "  <tbody>\n",
              "    <tr>\n",
              "      <th>0</th>\n",
              "      <td>http://bnb.data.bl.uk/id/resource/013310275</td>\n",
              "      <td>http://sws.geonames.org/6269131/</td>\n",
              "      <td>Macbeth : teachit KS3 interactive pack</td>\n",
              "      <td>2006-01</td>\n",
              "    </tr>\n",
              "    <tr>\n",
              "      <th>1</th>\n",
              "      <td>http://bnb.data.bl.uk/id/resource/013310276</td>\n",
              "      <td>http://sws.geonames.org/6269131/</td>\n",
              "      <td>Much ado about nothing : teachit KS3 interacti...</td>\n",
              "      <td>2006-01</td>\n",
              "    </tr>\n",
              "    <tr>\n",
              "      <th>2</th>\n",
              "      <td>http://bnb.data.bl.uk/id/resource/013315368</td>\n",
              "      <td>http://sws.geonames.org/6269131/</td>\n",
              "      <td>Hamlet</td>\n",
              "      <td>2006-01</td>\n",
              "    </tr>\n",
              "    <tr>\n",
              "      <th>3</th>\n",
              "      <td>http://bnb.data.bl.uk/id/resource/019599478</td>\n",
              "      <td>http://sws.geonames.org/6269131/</td>\n",
              "      <td>Twelfth night</td>\n",
              "      <td>2020-01</td>\n",
              "    </tr>\n",
              "    <tr>\n",
              "      <th>4</th>\n",
              "      <td>http://bnb.data.bl.uk/id/resource/019599479</td>\n",
              "      <td>http://sws.geonames.org/6269131/</td>\n",
              "      <td>The tempest : the alexander text</td>\n",
              "      <td>2019-11</td>\n",
              "    </tr>\n",
              "    <tr>\n",
              "      <th>...</th>\n",
              "      <td>...</td>\n",
              "      <td>...</td>\n",
              "      <td>...</td>\n",
              "      <td>...</td>\n",
              "    </tr>\n",
              "    <tr>\n",
              "      <th>122</th>\n",
              "      <td>http://bnb.data.bl.uk/id/resource/019702130</td>\n",
              "      <td>http://sws.geonames.org/6269131/</td>\n",
              "      <td>The tragedies</td>\n",
              "      <td>2020-01</td>\n",
              "    </tr>\n",
              "    <tr>\n",
              "      <th>123</th>\n",
              "      <td>http://bnb.data.bl.uk/id/resource/019702131</td>\n",
              "      <td>http://sws.geonames.org/6269131/</td>\n",
              "      <td>The tragicomedies</td>\n",
              "      <td>2020-01</td>\n",
              "    </tr>\n",
              "    <tr>\n",
              "      <th>124</th>\n",
              "      <td>http://bnb.data.bl.uk/id/resource/019755998</td>\n",
              "      <td>http://sws.geonames.org/6269131/</td>\n",
              "      <td>A midsummer night's dream</td>\n",
              "      <td>2020-06</td>\n",
              "    </tr>\n",
              "    <tr>\n",
              "      <th>125</th>\n",
              "      <td>http://bnb.data.bl.uk/id/resource/019736523</td>\n",
              "      <td>http://sws.geonames.org/6252001/</td>\n",
              "      <td>William Shakespeare comedies</td>\n",
              "      <td>2020-05</td>\n",
              "    </tr>\n",
              "    <tr>\n",
              "      <th>126</th>\n",
              "      <td>http://bnb.data.bl.uk/id/resource/019736524</td>\n",
              "      <td>http://sws.geonames.org/6252001/</td>\n",
              "      <td>William Shakespeare tragedies</td>\n",
              "      <td>2020-05</td>\n",
              "    </tr>\n",
              "  </tbody>\n",
              "</table>\n",
              "<p>127 rows × 4 columns</p>\n",
              "</div>"
            ],
            "text/plain": [
              "                                        resource  ...     date\n",
              "0    http://bnb.data.bl.uk/id/resource/013310275  ...  2006-01\n",
              "1    http://bnb.data.bl.uk/id/resource/013310276  ...  2006-01\n",
              "2    http://bnb.data.bl.uk/id/resource/013315368  ...  2006-01\n",
              "3    http://bnb.data.bl.uk/id/resource/019599478  ...  2020-01\n",
              "4    http://bnb.data.bl.uk/id/resource/019599479  ...  2019-11\n",
              "..                                           ...  ...      ...\n",
              "122  http://bnb.data.bl.uk/id/resource/019702130  ...  2020-01\n",
              "123  http://bnb.data.bl.uk/id/resource/019702131  ...  2020-01\n",
              "124  http://bnb.data.bl.uk/id/resource/019755998  ...  2020-06\n",
              "125  http://bnb.data.bl.uk/id/resource/019736523  ...  2020-05\n",
              "126  http://bnb.data.bl.uk/id/resource/019736524  ...  2020-05\n",
              "\n",
              "[127 rows x 4 columns]"
            ]
          },
          "metadata": {
            "tags": []
          },
          "execution_count": 7
        }
      ]
    },
    {
      "cell_type": "markdown",
      "metadata": {
        "id": "DMgoGtlyIoLj",
        "colab_type": "text"
      },
      "source": [
        "## How many items?"
      ]
    },
    {
      "cell_type": "code",
      "metadata": {
        "id": "bDsScd1gIoLk",
        "colab_type": "code",
        "outputId": "d6b7f12d-f310-4d31-8fbc-089508a4e5b6",
        "colab": {
          "base_uri": "https://localhost:8080/",
          "height": 34
        }
      },
      "source": [
        "# How many items?\n",
        "len(df)"
      ],
      "execution_count": 0,
      "outputs": [
        {
          "output_type": "execute_result",
          "data": {
            "text/plain": [
              "127"
            ]
          },
          "metadata": {
            "tags": []
          },
          "execution_count": 8
        }
      ]
    },
    {
      "cell_type": "markdown",
      "metadata": {
        "id": "DXFWETl7IoLn",
        "colab_type": "text"
      },
      "source": [
        "### Let's count the number of resources per place"
      ]
    },
    {
      "cell_type": "code",
      "metadata": {
        "id": "PjY-cqnqIoLo",
        "colab_type": "code",
        "colab": {}
      },
      "source": [
        "places_by_number = df.groupby(\"place\")[\"resource\"].count()"
      ],
      "execution_count": 0,
      "outputs": []
    },
    {
      "cell_type": "code",
      "metadata": {
        "id": "pDX6b-hjIoLs",
        "colab_type": "code",
        "outputId": "7917cc59-a995-44b6-fa2a-9be6c53af3ad",
        "colab": {
          "base_uri": "https://localhost:8080/",
          "height": 136
        }
      },
      "source": [
        "places_by_number"
      ],
      "execution_count": 0,
      "outputs": [
        {
          "output_type": "execute_result",
          "data": {
            "text/plain": [
              "place\n",
              "http://sws.geonames.org/1269750/     2\n",
              "http://sws.geonames.org/2921044/     9\n",
              "http://sws.geonames.org/6251999/     2\n",
              "http://sws.geonames.org/6252001/    30\n",
              "http://sws.geonames.org/6269131/    84\n",
              "Name: resource, dtype: int64"
            ]
          },
          "metadata": {
            "tags": []
          },
          "execution_count": 10
        }
      ]
    },
    {
      "cell_type": "code",
      "metadata": {
        "id": "qFByrGWpIoLz",
        "colab_type": "code",
        "colab": {}
      },
      "source": [
        "### We can access the count of each place"
      ],
      "execution_count": 0,
      "outputs": []
    },
    {
      "cell_type": "code",
      "metadata": {
        "id": "ALytexj6IoL3",
        "colab_type": "code",
        "outputId": "0c2ff7b8-5c08-4b40-934c-660028b8109e",
        "colab": {
          "base_uri": "https://localhost:8080/",
          "height": 34
        }
      },
      "source": [
        "places_by_number[['http://sws.geonames.org/6269131/']][0]"
      ],
      "execution_count": 0,
      "outputs": [
        {
          "output_type": "execute_result",
          "data": {
            "text/plain": [
              "84"
            ]
          },
          "metadata": {
            "tags": []
          },
          "execution_count": 12
        }
      ]
    },
    {
      "cell_type": "markdown",
      "metadata": {
        "id": "5ty7tAEtIoL9",
        "colab_type": "text"
      },
      "source": [
        "### Create a chart to visualize the results\n",
        "This chart shows the number of resources by date."
      ]
    },
    {
      "cell_type": "code",
      "metadata": {
        "id": "8MOITWYAIoL_",
        "colab_type": "code",
        "outputId": "6f242cbb-2ac8-4972-ef74-4b2afb6a2df8",
        "colab": {
          "base_uri": "https://localhost:8080/",
          "height": 545
        }
      },
      "source": [
        "ax = df['date'].value_counts().plot(kind='bar',\n",
        "                                    figsize=(14,8),\n",
        "                                    title=\"Number of resources per date\")\n",
        "ax.set_xlabel(\"Dates\")\n",
        "ax.set_ylabel(\"Resources\")\n",
        "plt.show()"
      ],
      "execution_count": 0,
      "outputs": [
        {
          "output_type": "display_data",
          "data": {
            "image/png": "[encoded data removed]",
            "text/plain": [
              "<Figure size 1008x576 with 1 Axes>"
            ]
          },
          "metadata": {
            "tags": [],
            "needs_background": "light"
          }
        }
      ]
    },
    {
      "cell_type": "markdown",
      "metadata": {
        "id": "bzuMZwCSIoMH",
        "colab_type": "text"
      },
      "source": [
        "### Let's group the items by year"
      ]
    },
    {
      "cell_type": "code",
      "metadata": {
        "id": "D56P3lFPIoMJ",
        "colab_type": "code",
        "colab": {}
      },
      "source": [
        "# First we create a new column in pandas with the year\n",
        "df['year'] = pd.DatetimeIndex(df['date']).year"
      ],
      "execution_count": 0,
      "outputs": []
    },
    {
      "cell_type": "code",
      "metadata": {
        "id": "Df-0fPFPIoMR",
        "colab_type": "code",
        "outputId": "71fb6f94-6b9f-4aa9-a9f1-bf639e0e84e5",
        "colab": {
          "base_uri": "https://localhost:8080/",
          "height": 221
        }
      },
      "source": [
        "df['year']"
      ],
      "execution_count": 0,
      "outputs": [
        {
          "output_type": "execute_result",
          "data": {
            "text/plain": [
              "0      2006\n",
              "1      2006\n",
              "2      2006\n",
              "3      2020\n",
              "4      2019\n",
              "       ... \n",
              "122    2020\n",
              "123    2020\n",
              "124    2020\n",
              "125    2020\n",
              "126    2020\n",
              "Name: year, Length: 127, dtype: int64"
            ]
          },
          "metadata": {
            "tags": []
          },
          "execution_count": 15
        }
      ]
    },
    {
      "cell_type": "markdown",
      "metadata": {
        "id": "kWtHX4lZIoMc",
        "colab_type": "text"
      },
      "source": [
        "### Creating the chart by year"
      ]
    },
    {
      "cell_type": "code",
      "metadata": {
        "id": "xgowNiOHJruE",
        "colab_type": "code",
        "outputId": "b2cbf038-34bb-4a20-e530-6bcf7db9d71f",
        "colab": {
          "base_uri": "https://localhost:8080/",
          "height": 391
        }
      },
      "source": [
        "df['year'].value_counts()"
      ],
      "execution_count": 0,
      "outputs": [
        {
          "output_type": "execute_result",
          "data": {
            "text/plain": [
              "2018    34\n",
              "2017    26\n",
              "2019    19\n",
              "2020    11\n",
              "2009     7\n",
              "2016     5\n",
              "2006     4\n",
              "2012     3\n",
              "2011     3\n",
              "2014     2\n",
              "2002     2\n",
              "2007     2\n",
              "2003     1\n",
              "2000     1\n",
              "2001     1\n",
              "2010     1\n",
              "2004     1\n",
              "2008     1\n",
              "2013     1\n",
              "2015     1\n",
              "1999     1\n",
              "Name: year, dtype: int64"
            ]
          },
          "metadata": {
            "tags": []
          },
          "execution_count": 16
        }
      ]
    },
    {
      "cell_type": "code",
      "metadata": {
        "id": "uF6xz6iFIoMd",
        "colab_type": "code",
        "outputId": "6a7109d6-1c98-48cb-a15c-a0d88e772541",
        "colab": {
          "base_uri": "https://localhost:8080/",
          "height": 528
        }
      },
      "source": [
        "ax = df['year'].value_counts().plot(kind='bar',\n",
        "                                    figsize=(14,8),\n",
        "                                    title=\"Number of resources per year\")\n",
        "ax.set_xlabel(\"Dates\")\n",
        "ax.set_ylabel(\"Resources\")\n",
        "plt.show()"
      ],
      "execution_count": 0,
      "outputs": [
        {
          "output_type": "display_data",
          "data": {
            "image/png": "[encoded data removed]",
            "text/plain": [
              "<Figure size 1008x576 with 1 Axes>"
            ]
          },
          "metadata": {
            "tags": [],
            "needs_background": "light"
          }
        }
      ]
    },
    {
      "cell_type": "markdown",
      "metadata": {
        "id": "PX9HQzNPIoMn",
        "colab_type": "text"
      },
      "source": [
        "## Exploring the places"
      ]
    },
    {
      "cell_type": "code",
      "metadata": {
        "id": "UHURmHF6IoMn",
        "colab_type": "code",
        "outputId": "0aaa70f4-e0e3-44b9-8be1-26b1a7d33773",
        "colab": {
          "base_uri": "https://localhost:8080/",
          "height": 102
        }
      },
      "source": [
        "# Get unique values\n",
        "places = pd.unique(df['place']).tolist()\n",
        "strplaces = ''\n",
        "for a in sorted(places):\n",
        "    print(a)\n",
        "    strplaces = strplaces + ' \\\"' + a.replace(\"http://sws.geonames.org/\", \"\").replace(\"/\", \"\") + '\\\"'"
      ],
      "execution_count": 0,
      "outputs": [
        {
          "output_type": "stream",
          "text": [
            "http://sws.geonames.org/1269750/\n",
            "http://sws.geonames.org/2921044/\n",
            "http://sws.geonames.org/6251999/\n",
            "http://sws.geonames.org/6252001/\n",
            "http://sws.geonames.org/6269131/\n"
          ],
          "name": "stdout"
        }
      ]
    },
    {
      "cell_type": "markdown",
      "metadata": {
        "id": "2Pj4P6R8IoMq",
        "colab_type": "text"
      },
      "source": [
        "### Getting latitude and longitude from Wikidata"
      ]
    },
    {
      "cell_type": "code",
      "metadata": {
        "id": "kbjrP8CwIoMr",
        "colab_type": "code",
        "outputId": "272bf973-325b-4170-bcae-a3417b61ed58",
        "colab": {
          "base_uri": "https://localhost:8080/",
          "height": 306
        }
      },
      "source": [
        "url = 'https://query.wikidata.org/sparql'\n",
        "query = \"\"\"\n",
        "PREFIX bibo: <http://purl.org/ontology/bibo/>\n",
        "SELECT ?idgeonames ?lat ?lon ?x ?xLabel \n",
        "WHERE {{ \n",
        "  values ?idgeonames {{ {0} }} \n",
        "  ?x wdt:P1566 ?idgeonames ; \n",
        "   p:P625 [\n",
        "     psv:P625 [\n",
        "       wikibase:geoLatitude ?lat ;\n",
        "       wikibase:geoLongitude ?lon ;\n",
        "       wikibase:geoGlobe ?globe ;\n",
        "     ];\n",
        "     ps:P625 ?coord\n",
        "   ]\n",
        "   SERVICE wikibase:label {{ bd:serviceParam wikibase:language \"[AUTO_LANGUAGE],en\". }}\n",
        "}}\n",
        "\"\"\"\n",
        "\n",
        "query = query.format(strplaces)\n",
        "print(query)\n",
        "\n",
        "# use json as a result\n",
        "r = requests.get(url, params = {'format': 'json', 'query': query})\n",
        "geopoints = r.json()"
      ],
      "execution_count": 0,
      "outputs": [
        {
          "output_type": "stream",
          "text": [
            "\n",
            "PREFIX bibo: <http://purl.org/ontology/bibo/>\n",
            "SELECT ?idgeonames ?lat ?lon ?x ?xLabel \n",
            "WHERE { \n",
            "  values ?idgeonames {  \"1269750\" \"2921044\" \"6251999\" \"6252001\" \"6269131\" } \n",
            "  ?x wdt:P1566 ?idgeonames ; \n",
            "   p:P625 [\n",
            "     psv:P625 [\n",
            "       wikibase:geoLatitude ?lat ;\n",
            "       wikibase:geoLongitude ?lon ;\n",
            "       wikibase:geoGlobe ?globe ;\n",
            "     ];\n",
            "     ps:P625 ?coord\n",
            "   ]\n",
            "   SERVICE wikibase:label { bd:serviceParam wikibase:language \"[AUTO_LANGUAGE],en\". }\n",
            "}\n",
            "\n"
          ],
          "name": "stdout"
        }
      ]
    },
    {
      "cell_type": "code",
      "metadata": {
        "id": "wocNjHGDJwF5",
        "colab_type": "code",
        "outputId": "d1b558ff-79a5-4c75-fe9d-1125fd72fb48",
        "colab": {
          "base_uri": "https://localhost:8080/",
          "height": 850
        }
      },
      "source": [
        "geopoints"
      ],
      "execution_count": 0,
      "outputs": [
        {
          "output_type": "execute_result",
          "data": {
            "text/plain": [
              "{'head': {'vars': ['idgeonames', 'lat', 'lon', 'x', 'xLabel']},\n",
              " 'results': {'bindings': [{'idgeonames': {'type': 'literal',\n",
              "     'value': '2921044'},\n",
              "    'lat': {'datatype': 'http://www.w3.org/2001/XMLSchema#double',\n",
              "     'type': 'literal',\n",
              "     'value': '51.0'},\n",
              "    'lon': {'datatype': 'http://www.w3.org/2001/XMLSchema#double',\n",
              "     'type': 'literal',\n",
              "     'value': '10.0'},\n",
              "    'x': {'type': 'uri', 'value': 'http://www.wikidata.org/entity/Q183'},\n",
              "    'xLabel': {'type': 'literal', 'value': 'Germany', 'xml:lang': 'en'}},\n",
              "   {'idgeonames': {'type': 'literal', 'value': '1269750'},\n",
              "    'lat': {'datatype': 'http://www.w3.org/2001/XMLSchema#double',\n",
              "     'type': 'literal',\n",
              "     'value': '22.8'},\n",
              "    'lon': {'datatype': 'http://www.w3.org/2001/XMLSchema#double',\n",
              "     'type': 'literal',\n",
              "     'value': '83.0'},\n",
              "    'x': {'type': 'uri', 'value': 'http://www.wikidata.org/entity/Q668'},\n",
              "    'xLabel': {'type': 'literal', 'value': 'India', 'xml:lang': 'en'}},\n",
              "   {'idgeonames': {'type': 'literal', 'value': '6269131'},\n",
              "    'lat': {'datatype': 'http://www.w3.org/2001/XMLSchema#double',\n",
              "     'type': 'literal',\n",
              "     'value': '53.0'},\n",
              "    'lon': {'datatype': 'http://www.w3.org/2001/XMLSchema#double',\n",
              "     'type': 'literal',\n",
              "     'value': '-1.0'},\n",
              "    'x': {'type': 'uri', 'value': 'http://www.wikidata.org/entity/Q21'},\n",
              "    'xLabel': {'type': 'literal', 'value': 'England', 'xml:lang': 'en'}},\n",
              "   {'idgeonames': {'type': 'literal', 'value': '6251999'},\n",
              "    'lat': {'datatype': 'http://www.w3.org/2001/XMLSchema#double',\n",
              "     'type': 'literal',\n",
              "     'value': '56.0'},\n",
              "    'lon': {'datatype': 'http://www.w3.org/2001/XMLSchema#double',\n",
              "     'type': 'literal',\n",
              "     'value': '-109.0'},\n",
              "    'x': {'type': 'uri', 'value': 'http://www.wikidata.org/entity/Q16'},\n",
              "    'xLabel': {'type': 'literal', 'value': 'Canada', 'xml:lang': 'en'}},\n",
              "   {'idgeonames': {'type': 'literal', 'value': '6252001'},\n",
              "    'lat': {'datatype': 'http://www.w3.org/2001/XMLSchema#double',\n",
              "     'type': 'literal',\n",
              "     'value': '39.828175'},\n",
              "    'lon': {'datatype': 'http://www.w3.org/2001/XMLSchema#double',\n",
              "     'type': 'literal',\n",
              "     'value': '-98.5795'},\n",
              "    'x': {'type': 'uri', 'value': 'http://www.wikidata.org/entity/Q30'},\n",
              "    'xLabel': {'type': 'literal',\n",
              "     'value': 'United States of America',\n",
              "     'xml:lang': 'en'}}]}}"
            ]
          },
          "metadata": {
            "tags": []
          },
          "execution_count": 20
        }
      ]
    },
    {
      "cell_type": "markdown",
      "metadata": {
        "id": "x6Ff0INhIoMu",
        "colab_type": "text"
      },
      "source": [
        "### Finally, we add the markers to the map"
      ]
    },
    {
      "cell_type": "code",
      "metadata": {
        "id": "jstA9gVvIoMv",
        "colab_type": "code",
        "outputId": "bc7d78ad-c97e-47ee-e2de-1c9f84492e69",
        "colab": {
          "base_uri": "https://localhost:8080/",
          "height": 102
        }
      },
      "source": [
        "map = folium.Map(location=[0,0], zoom_start=1.5)\n",
        "\n",
        "for geo in geopoints['results']['bindings']:\n",
        "    idwikidata = geo['x']['value']\n",
        "    lat = geo['lat']['value']\n",
        "    lon = geo['lon']['value']\n",
        "    idgeonames = geo['idgeonames']['value']\n",
        "    label = geo['xLabel']['value']\n",
        "    print(lat, lon)\n",
        "    \n",
        "    # adding a text to the popup\n",
        "    count = places_by_number[['http://sws.geonames.org/' + idgeonames + '/']][0]\n",
        "    popup = str(count) + \" records published in <a hreh='\" + str(idwikidata) + \"'>\" + label + \"</a>\"\n",
        "    \n",
        "    folium.Marker([lat,lon], popup= popup).add_to(map)"
      ],
      "execution_count": 0,
      "outputs": [
        {
          "output_type": "stream",
          "text": [
            "51.0 10.0\n",
            "22.8 83.0\n",
            "53.0 -1.0\n",
            "56.0 -109.0\n",
            "39.828175 -98.5795\n"
          ],
          "name": "stdout"
        }
      ]
    },
    {
      "cell_type": "code",
      "metadata": {
        "id": "bE4I7vHSIoM1",
        "colab_type": "code",
        "outputId": "74b6b4b0-90e7-4f18-aab0-aec2b53edc17",
        "colab": {
          "base_uri": "https://localhost:8080/",
          "height": 1000
        }
      },
      "source": [
        "map"
      ],
      "execution_count": 0,
      "outputs": [
        {
          "output_type": "execute_result",
          "data": {
            "text/html": [
              "<div style=\"width:100%;\"><div style=\"position:relative;width:100%;height:0;padding-bottom:60%;\"><span style=\"color:#565656\">Make this Notebook Trusted to load map: File -> Trust Notebook</span><iframe src=\"about:blank\" style=\"position:absolute;width:100%;height:100%;left:0;top:0;border:none !important;\" data-html=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 onload=\"this.contentDocument.open();this.contentDocument.write(atob(this.getAttribute('data-html')));this.contentDocument.close();\" allowfullscreen webkitallowfullscreen mozallowfullscreen></iframe></div></div>"
            ],
            "text/plain": [
              "<folium.folium.Map at 0x7efd68b2d0b8>"
            ]
          },
          "metadata": {
            "tags": []
          },
          "execution_count": 22
        }
      ]
    }
  ]
}