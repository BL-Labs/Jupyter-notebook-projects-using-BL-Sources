{
 "cells": [
  {
   "cell_type": "markdown",
   "metadata": {
    "colab_type": "text",
    "id": "TU0Elp2wIoK_"
   },
   "source": [
    "<div class=\"jumbotron jumbotron-fluid\">\n",
    "  <div class=\"container\">\n",
    "    <h1 class=\"display-4\">BNB SPARQL<br>Query: Books by Subject</h1>\n",
    "    <p class=\"lead\">This notebook explains how to query BNB SPARQL service to retrieve books' records (that have an ISBN) indexed under a given Subject / Topic (LCSH).\n",
    "</p>\n",
    "  </div>\n",
    "</div>"
   ]
  },
  {
   "cell_type": "markdown",
   "metadata": {
    "colab_type": "text",
    "id": "view-in-github"
   },
   "source": [
    "<a href=\"https://colab.research.google.com/github/BL-Labs/Jupyter-notebooks-projects-using-BL-Sources/blob/master/LOD_SPARQL/00_BNB_SPARQL_books_by_LCSH_subject.ipynb\" target=\"_parent\"><img src=\"https://colab.research.google.com/assets/colab-badge.svg\" alt=\"Open In Colab\"/></a>"
   ]
  },
  {
   "cell_type": "markdown",
   "metadata": {
    "colab_type": "text",
    "id": "iYMT_sfRNOY7"
   },
   "source": [
    "The [BNB Linked Data Platform](https://bnb.data.bl.uk/) provides access to the [British National Bibliography (BNB)](http://www.bl.uk/bibliographic/natbib.html) published as linked open data and made available through SPARQL services. \n",
    "\n",
    "*Inspired by:*\n",
    "\n",
    "https://github.com/hibernator11/notebook-lod-libraries \n",
    "by Gustavo Candela (https://github.com/hibernator11), Research and Development department at The Biblioteca Virtual Miguel de Cervantes, University of Alicante, Spain\n"
   ]
  },
  {
   "cell_type": "markdown",
   "metadata": {
    "colab_type": "text",
    "id": "rkWxy-LgIoLB"
   },
   "source": [
    "<p class=\"alert alert-warning\" role=\"alert\">\n",
    "\n",
    "## Global configuration\n",
    "\n",
    "Set the Subject to search from [LCSH list](http://id.loc.gov/authorities/subjects.html):"
   ]
  },
  {
   "cell_type": "code",
   "execution_count": null,
   "metadata": {
    "colab": {},
    "colab_type": "code",
    "id": "jbYUkXcXIoLC"
   },
   "outputs": [],
   "source": [
    "# Examples -- uncomment the desired subject, or added your own set of Subject and Label, and do \"Run\" or \"Runtime\" > \"Run all\" or \"Run all cells\":\n",
    "\n",
    "# Subject = 'Nanotubes'\n",
    "# Label = 'Nanotubes'\n",
    "\n",
    "# Subject = 'Climaticchanges'\n",
    "# Label = 'Climatic Changes'\n",
    "\n",
    "Subject = 'Globalwarming'\n",
    "Label = 'Global Warming'\n"
   ]
  },
  {
   "cell_type": "markdown",
   "metadata": {
    "colab_type": "text",
    "id": "qt0a7zDeIoLH"
   },
   "source": [
    "#### Required modules / libraries"
   ]
  },
  {
   "cell_type": "code",
   "execution_count": null,
   "metadata": {
    "colab": {},
    "colab_type": "code",
    "id": "grVj5kG8IoLH"
   },
   "outputs": [],
   "source": [
    "import requests\n",
    "import pandas as pd\n",
    "import json\n",
    "import csv\n",
    "import matplotlib.pyplot as plt\n",
    "from pandas.io.json import json_normalize"
   ]
  },
  {
   "cell_type": "markdown",
   "metadata": {
    "colab_type": "text",
    "id": "OGC6e5K8IoLL"
   },
   "source": [
    "## Let's query the repository by asking the publications indexed by the defined Subject\n",
    "We will use the [SPARQL endpoint](https://bnb.data.bl.uk/flint-sparql) to create the query and configure the request to retrieve json as a result."
   ]
  },
  {
   "cell_type": "code",
   "execution_count": null,
   "metadata": {
    "colab": {
     "base_uri": "https://localhost:8080/",
     "height": 34
    },
    "colab_type": "code",
    "id": "orhVTXt0IoLL",
    "outputId": "ca633f25-820e-433a-87dc-0c73b4df2702"
   },
   "outputs": [],
   "source": [
    "url = 'https://bnb.data.bl.uk/sparql'\n",
    "query = \"\"\"\n",
    "PREFIX bibo: <http://purl.org/ontology/bibo/> \n",
    "PREFIX dct: <http://purl.org/dc/terms/> \n",
    "PREFIX schema: <http://schema.org/> \n",
    "PREFIX rdfs: <http://www.w3.org/2000/01/rdf-schema#> \n",
    "\n",
    "SELECT ?book ?isbn ?title ?date ?author ?authorUri WHERE {{\n",
    "      ?book dct:subject <http://bnb.data.bl.uk/id/concept/lcsh/{0}>; \n",
    "            bibo:isbn13 ?isbn ; \n",
    "            dct:title ?title ; \n",
    "            schema:author ?authorUri ; \n",
    "            schema:datePublished ?date . \n",
    "      ?authorUri rdfs:label ?author .\n",
    "}}  \n",
    "\"\"\"\n",
    "\n",
    "query = query.format(Subject)\n",
    "\n",
    "# use json as a result\n",
    "headers = {'Accept': 'application/sparql-results+json'}\n",
    "r = requests.get(url, params = {'format': 'application/sparql-results+json', 'query': query}, headers=headers)\n",
    "print('Elements retrieved!')\n"
   ]
  },
  {
   "cell_type": "code",
   "execution_count": null,
   "metadata": {
    "colab": {},
    "colab_type": "code",
    "id": "_LQpszOt0vZw"
   },
   "outputs": [],
   "source": [
    "# print(r.text)"
   ]
  },
  {
   "cell_type": "markdown",
   "metadata": {
    "colab_type": "text",
    "id": "IPV7YE5QIoLS"
   },
   "source": [
    "## Save as a CSV "
   ]
  },
  {
   "cell_type": "code",
   "execution_count": null,
   "metadata": {
    "colab": {
     "base_uri": "https://localhost:8080/",
     "height": 34
    },
    "colab_type": "code",
    "id": "0G0_FjkEIoLT",
    "outputId": "cc0cc0a2-13c9-4942-d1f9-6b4e57af4785"
   },
   "outputs": [],
   "source": [
    "bnbdata = json.loads(r.text)\n",
    "\n",
    "# we need to delete ret_records.csv case it exists from previous runs \n",
    "# if it doesn't exist yet, it will give an error \"rm: cannot remove 'ret_records.csv': No such file or directory\", that's just fine! :)\n",
    "!rm ret_records.csv\n",
    "\n",
    "with open('ret_records.csv', 'w', newline='') as file:\n",
    "    csv_out = csv.writer(file, delimiter = ',', quotechar = '\"', quoting = csv.QUOTE_MINIMAL)    \n",
    "\n",
    "    #csv_out = csv.writer(open('bnb_records.csv', 'w'), delimiter = ',', quotechar = '\"', quoting = csv.QUOTE_MINIMAL)\n",
    "    csv_out.writerow(['book', 'isbn', 'title', 'date', 'author', 'authorUri'])\n",
    "\n",
    "    for i in bnbdata['results']['bindings']:\n",
    "        book = isbn = title = date = author = authorUri = ''\n",
    "\n",
    "        book = i['book']['value']\n",
    "        #if \"place\" in i:\n",
    "        isbn = i['isbn']['value']\n",
    "        title = i['title']['value']\n",
    "        date = i['date']['value']\n",
    "        author = i['author']['value']\n",
    "        authorUri = i['authorUri']['value']\n",
    "\n",
    "        csv_out.writerow([book,isbn,title,date,author,authorUri])\n",
    "\n",
    "print('Open the generated CSV to see all its contents -- Google Colab: under \"Files\" > click \"ret_records.csv\" -- we will also explore it bellow.')"
   ]
  },
  {
   "cell_type": "markdown",
   "metadata": {
    "colab_type": "text",
    "id": "og1n6iQxIoLX"
   },
   "source": [
    "## Exploring the data"
   ]
  },
  {
   "cell_type": "code",
   "execution_count": null,
   "metadata": {
    "colab": {
     "base_uri": "https://localhost:8080/",
     "height": 204
    },
    "colab_type": "code",
    "id": "Ih2izFbnIoLY",
    "outputId": "d4addca2-9bcd-4dee-90df-07207ee14af2"
   },
   "outputs": [],
   "source": [
    "# Load the CSV file from GitHub.\n",
    "# This puts the data in a Pandas DataFrame\n",
    "df = pd.read_csv('ret_records.csv')\n",
    "df.head(5)"
   ]
  },
  {
   "cell_type": "markdown",
   "metadata": {
    "colab_type": "text",
    "id": "DMgoGtlyIoLj"
   },
   "source": [
    "## How many items?"
   ]
  },
  {
   "cell_type": "code",
   "execution_count": null,
   "metadata": {
    "colab": {
     "base_uri": "https://localhost:8080/",
     "height": 34
    },
    "colab_type": "code",
    "id": "bDsScd1gIoLk",
    "outputId": "7d1f2209-1ec8-47db-c85e-e4414dd1bc80"
   },
   "outputs": [],
   "source": [
    "# How many items?\n",
    "len(df)"
   ]
  },
  {
   "cell_type": "markdown",
   "metadata": {
    "colab_type": "text",
    "id": "DXFWETl7IoLn"
   },
   "source": [
    "### Let's count the number of Books by author"
   ]
  },
  {
   "cell_type": "code",
   "execution_count": null,
   "metadata": {
    "colab": {
     "base_uri": "https://localhost:8080/",
     "height": 221
    },
    "colab_type": "code",
    "id": "PjY-cqnqIoLo",
    "outputId": "a09f35d0-33bc-465e-d329-2b2e368debc4"
   },
   "outputs": [],
   "source": [
    "books_by_author = df['author'].value_counts()\n",
    "books_by_author"
   ]
  },
  {
   "cell_type": "markdown",
   "metadata": {
    "colab_type": "text",
    "id": "5ty7tAEtIoL9"
   },
   "source": [
    "### Create a chart to visualize the results\n",
    "First let's see a top of publication Dates:"
   ]
  },
  {
   "cell_type": "code",
   "execution_count": null,
   "metadata": {
    "colab": {
     "base_uri": "https://localhost:8080/",
     "height": 765
    },
    "colab_type": "code",
    "id": "GFIntesJ35-G",
    "outputId": "b1cb42f7-4501-48f9-9ec3-e714aac980fc"
   },
   "outputs": [],
   "source": [
    "books_by_date = df['date'].value_counts()\n",
    "books_by_date"
   ]
  },
  {
   "cell_type": "markdown",
   "metadata": {
    "colab_type": "text",
    "id": "JX41kpI0OFpI"
   },
   "source": [
    "This chart shows the number of books by date of publication:"
   ]
  },
  {
   "cell_type": "code",
   "execution_count": null,
   "metadata": {
    "colab": {
     "base_uri": "https://localhost:8080/",
     "height": 545
    },
    "colab_type": "code",
    "id": "8MOITWYAIoL_",
    "outputId": "8802b226-c87a-49d9-fab5-71464ba0bdaa"
   },
   "outputs": [],
   "source": [
    "ax = books_by_date.plot(kind='bar',\n",
    "                                    figsize=(14,8),\n",
    "                                    title= Label + \": number of books by date of publication\")\n",
    "ax.set_xlabel(\"Dates\")\n",
    "ax.set_ylabel(\"Books\")\n",
    "plt.show()"
   ]
  },
  {
   "cell_type": "markdown",
   "metadata": {
    "colab_type": "text",
    "id": "bzuMZwCSIoMH"
   },
   "source": [
    "### Let's group the books by year"
   ]
  },
  {
   "cell_type": "code",
   "execution_count": null,
   "metadata": {
    "colab": {
     "base_uri": "https://localhost:8080/",
     "height": 119
    },
    "colab_type": "code",
    "id": "D56P3lFPIoMJ",
    "outputId": "5b542f5e-7079-421a-f67a-cf0a2ec04b55"
   },
   "outputs": [],
   "source": [
    "# First we create a new column in pandas with the year\n",
    "df['year'] = pd.DatetimeIndex(df['date']).year\n",
    "df['year'].head(5)"
   ]
  },
  {
   "cell_type": "markdown",
   "metadata": {
    "colab_type": "text",
    "id": "kWtHX4lZIoMc"
   },
   "source": [
    "### Creating the chart of books by year"
   ]
  },
  {
   "cell_type": "code",
   "execution_count": null,
   "metadata": {
    "colab": {
     "base_uri": "https://localhost:8080/",
     "height": 340
    },
    "colab_type": "code",
    "id": "xgowNiOHJruE",
    "outputId": "8071e0c1-36d2-489d-825a-d44bd70cb6c6"
   },
   "outputs": [],
   "source": [
    "# .sort_index() is very important = sorts by year, instead of the the regular count number\n",
    "\n",
    "books_by_year = df['year'].value_counts().sort_index()\n",
    "books_by_year"
   ]
  },
  {
   "cell_type": "code",
   "execution_count": null,
   "metadata": {
    "colab": {
     "base_uri": "https://localhost:8080/",
     "height": 528
    },
    "colab_type": "code",
    "id": "uF6xz6iFIoMd",
    "outputId": "7b8a4aab-0865-4cbc-f43a-9f298d34fe86"
   },
   "outputs": [],
   "source": [
    "ax = books_by_year.plot(kind='bar',\n",
    "                                    figsize=(14,8),\n",
    "                                    title= Label + \": number of books per year\")\n",
    "ax.set_xlabel(\"Year\")\n",
    "ax.set_ylabel(\"Books\")\n",
    "plt.show()"
   ]
  },
  {
   "cell_type": "markdown",
   "metadata": {
    "colab_type": "text",
    "id": "-PPTbpiQ_1o7"
   },
   "source": [
    "### Creating a Word Cloud of terms in the different titles"
   ]
  },
  {
   "cell_type": "code",
   "execution_count": null,
   "metadata": {
    "colab": {
     "base_uri": "https://localhost:8080/",
     "height": 1000
    },
    "colab_type": "code",
    "id": "DiSAZgjl_KqE",
    "outputId": "11d660f2-1743-40c8-9799-4478d3d38263"
   },
   "outputs": [],
   "source": [
    "#from wordcloud import WordCloud, STOPWORDS\n",
    "from wordcloud import WordCloud\n",
    "import matplotlib.pyplot as plt\n",
    "\n",
    "# Words appearing in the books titles: build the list of documents\n",
    "\n",
    "list_of_documents=[]\n",
    " \n",
    "for i in range (df[\"title\"].size):\n",
    "    list_of_documents.append(str(df[\"title\"][i])) \n",
    "\n",
    "\n",
    "STOP_WORDS = frozenset([\n",
    "    \"a\", \"about\", \"above\", \"across\", \"after\", \"afterwards\", \"again\", \"against\",\n",
    "    \"all\", \"almost\", \"alone\", \"along\", \"already\", \"also\", \"although\", \"always\",\n",
    "    \"am\", \"among\", \"amongst\", \"amoungst\", \"amount\", \"an\", \"and\", \"another\",\n",
    "    \"any\", \"anyhow\", \"anyone\", \"anything\", \"anyway\", \"anywhere\", \"are\",\n",
    "    \"around\", \"as\", \"at\", \"back\", \"be\", \"became\", \"because\", \"become\",\n",
    "    \"becomes\", \"becoming\", \"been\", \"before\", \"beforehand\", \"behind\", \"being\",\n",
    "    \"below\", \"beside\", \"besides\", \"between\", \"beyond\", \"bill\", \"both\",\n",
    "    \"bottom\", \"but\", \"by\", \"call\", \"can\", \"cannot\", \"cant\", \"co\", \"con\",\n",
    "    \"could\", \"couldnt\", \"cry\", \"de\", \"describe\", \"detail\", \"do\", \"done\",\n",
    "    \"down\", \"due\", \"during\", \"each\", \"eg\", \"eight\", \"either\", \"eleven\", \"else\",\n",
    "    \"elsewhere\", \"empty\", \"enough\", \"etc\", \"even\", \"ever\", \"every\", \"everyone\",\n",
    "    \"everything\", \"everywhere\", \"except\", \"few\", \"fifteen\", \"fifty\", \"fill\",\n",
    "    \"find\", \"fire\", \"first\", \"five\", \"for\", \"former\", \"formerly\", \"forty\",\n",
    "    \"found\", \"four\", \"from\", \"front\", \"full\", \"further\", \"get\", \"give\", \"go\",\n",
    "    \"had\", \"has\", \"hasnt\", \"have\", \"he\", \"hence\", \"her\", \"here\", \"hereafter\",\n",
    "    \"hereby\", \"herein\", \"hereupon\", \"hers\", \"herself\", \"him\", \"himself\", \"his\",\n",
    "    \"how\", \"however\", \"hundred\", \"i\", \"ie\", \"if\", \"in\", \"inc\", \"indeed\",\n",
    "    \"interest\", \"into\", \"is\", \"it\", \"its\", \"itself\", \"keep\", \"last\", \"latter\",\n",
    "    \"latterly\", \"least\", \"less\", \"ltd\", \"made\", \"many\", \"may\", \"me\",\n",
    "    \"meanwhile\", \"might\", \"mill\", \"mine\", \"more\", \"moreover\", \"most\", \"mostly\",\n",
    "    \"move\", \"much\", \"must\", \"my\", \"myself\", \"name\", \"namely\", \"neither\",\n",
    "    \"never\", \"nevertheless\", \"next\", \"nine\", \"no\", \"nobody\", \"none\", \"noone\",\n",
    "    \"nor\", \"not\", \"nothing\", \"now\", \"nowhere\", \"of\", \"off\", \"often\", \"on\",\n",
    "    \"once\", \"one\", \"only\", \"onto\", \"or\", \"other\", \"others\", \"otherwise\", \"our\",\n",
    "    \"ours\", \"ourselves\", \"out\", \"over\", \"own\", \"part\", \"per\", \"perhaps\",\n",
    "    \"please\", \"put\", \"rather\", \"re\", \"same\", \"see\", \"seem\", \"seemed\",\n",
    "    \"seeming\", \"seems\", \"serious\", \"several\", \"she\", \"should\", \"show\", \"side\",\n",
    "    \"since\", \"sincere\", \"six\", \"sixty\", \"so\", \"some\", \"somehow\", \"someone\",\n",
    "    \"something\", \"sometime\", \"sometimes\", \"somewhere\", \"still\", \"such\",\n",
    "    \"system\", \"take\", \"ten\", \"than\", \"that\", \"the\", \"their\", \"them\",\n",
    "    \"themselves\", \"then\", \"thence\", \"there\", \"thereafter\", \"thereby\",\n",
    "    \"therefore\", \"therein\", \"thereupon\", \"these\", \"they\", \"thick\", \"thin\",\n",
    "    \"third\", \"this\", \"those\", \"though\", \"three\", \"through\", \"throughout\",\n",
    "    \"thru\", \"thus\", \"to\", \"together\", \"too\", \"top\", \"toward\", \"towards\",\n",
    "    \"twelve\", \"twenty\", \"two\", \"un\", \"under\", \"until\", \"up\", \"upon\", \"us\",\n",
    "    \"very\", \"via\", \"was\", \"we\", \"well\", \"were\", \"what\", \"whatever\", \"when\",\n",
    "    \"whence\", \"whenever\", \"where\", \"whereafter\", \"whereas\", \"whereby\",\n",
    "    \"wherein\", \"whereupon\", \"wherever\", \"whether\", \"which\", \"while\", \"whither\",\n",
    "    \"who\", \"whoever\", \"whole\", \"whom\", \"whose\", \"why\", \"will\", \"with\",\n",
    "    \"within\", \"without\", \"would\", \"yet\", \"said\",\"you\", \"your\", \"yours\", \"yourself\",\n",
    "    \"yourselves\", \"etc\"])\n",
    "\n",
    "\n",
    "wordcloud = WordCloud(\n",
    "    width = 3000,\n",
    "    height = 2000,\n",
    "    background_color = 'white',\n",
    "    stopwords = STOP_WORDS).generate(str(list_of_documents))\n",
    "fig = plt.figure(\n",
    "    figsize = (40, 30),\n",
    "    facecolor = 'k',\n",
    "    edgecolor = 'k')\n",
    "plt.imshow(wordcloud, interpolation = 'bilinear')\n",
    "plt.axis('off')\n",
    "plt.tight_layout(pad=0)\n",
    "plt.show()"
   ]
  }
 ],
 "metadata": {
  "colab": {
   "name": "00_bnb_lod_books_by_subject.ipynb",
   "provenance": []
  },
  "kernelspec": {
   "display_name": "Python 3",
   "language": "python",
   "name": "python3"
  },
  "language_info": {
   "codemirror_mode": {
    "name": "ipython",
    "version": 3
   },
   "file_extension": ".py",
   "mimetype": "text/x-python",
   "name": "python",
   "nbconvert_exporter": "python",
   "pygments_lexer": "ipython3",
   "version": "3.7.3"
  }
 },
 "nbformat": 4,
 "nbformat_minor": 1
}
