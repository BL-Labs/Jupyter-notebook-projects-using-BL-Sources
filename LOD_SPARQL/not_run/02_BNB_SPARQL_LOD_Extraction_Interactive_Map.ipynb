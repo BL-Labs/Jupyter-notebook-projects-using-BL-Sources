{
 "cells": [
  {
   "cell_type": "markdown",
   "metadata": {},
   "source": [
    "<div class=\"jumbotron jumbotron-fluid\">\n",
    "  <div class=\"container\">\n",
    "    <h1 class=\"display-4\">BNB Linked Data Platform</h1>\n",
    "  </div>\n",
    "</div>"
   ]
  },
  {
   "cell_type": "markdown",
   "metadata": {
    "colab_type": "text",
    "id": "view-in-github"
   },
   "source": [
    "<a href=\"https://colab.research.google.com/github/BL-Labs/Jupyter-notebooks-projects-using-BL-Sources/blob/master/LOD_SPARQL/bnb_lod_extraction_map.ipynb\" target=\"_parent\"><img src=\"https://colab.research.google.com/assets/colab-badge.svg\" alt=\"Open In Colab\"/></a>"
   ]
  },
  {
   "cell_type": "markdown",
   "metadata": {
    "colab_type": "text",
    "id": "TU0Elp2wIoK_"
   },
   "source": [
    "The [BNB Linked Data Platform](https://bnb.data.bl.uk/) provides access to the [British National Bibliography (BNB)](http://www.bl.uk/bibliographic/natbib.html) published as linked open data and made available through SPARQL services. \n",
    "\n",
    "This notebook explains how to query the repository and obtain places of publication (fields blt:publication and blt:projectedPublication ) to show an interactive map. Thanks that the works are linked to [GeoNames](https://www.geonames.org/), the records can be linked to external repositories. This notebook  obtains information from [Wikidata](https://www.wikidata.org), showing the benefits of Linked Open Data."
   ]
  },
  {
   "cell_type": "markdown",
   "metadata": {
    "colab_type": "text",
    "id": "_SHPlxTyIq-n"
   },
   "source": [
    "<div class=\"alert alert-info\" role=\"alert\">\n",
    "\n",
    "### Copied / Forked from:\n",
    "\n",
    "https://github.com/hibernator11/notebook-lod-libraries \n",
    "\n",
    "https://github.com/hibernator11/notebook-lod-libraries/blob/master/bnb-lod-extraction-map.ipynb\n",
    "\n",
    "Author: Gustavo Candela (https://github.com/hibernator11), Research and Development department at The Biblioteca Virtual Miguel de Cervantes, University of Alicante, Spain\n",
    "\n",
    "    \n",
    "#### :: Adapted to run on Google Colab ::\n",
    "<div>"
   ]
  },
  {
   "cell_type": "markdown",
   "metadata": {
    "colab_type": "text",
    "id": "rkWxy-LgIoLB"
   },
   "source": [
    "<div class=\"alert alert-warning\" role=\"alert\">\n",
    "\n",
    "## Global configuration\n",
    "\n",
    "In this section, you can set the author from the BNB by using its identifier. \n",
    "\n",
    "</div>"
   ]
  },
  {
   "cell_type": "code",
   "execution_count": null,
   "metadata": {
    "colab": {},
    "colab_type": "code",
    "id": "jbYUkXcXIoLC"
   },
   "outputs": [],
   "source": [
    "#bnbIdAuthor = 'http://bnb.data.bl.uk/id/person/DickensCharles1812-1870'\n",
    "#bnbIdAuthor = 'http://bnb.data.bl.uk/id/person/BlakeWilliam1757-1827'\n",
    "#bnbIdAuthor = 'http://bnb.data.bl.uk/id/person/WoolfVirginia1882-1941'\n",
    "bnbIdAuthor = 'http://bnb.data.bl.uk/id/person/ShakespeareWilliam1564-1616'"
   ]
  },
  {
   "cell_type": "markdown",
   "metadata": {
    "colab_type": "text",
    "id": "qt0a7zDeIoLH"
   },
   "source": [
    "## Setting up things"
   ]
  },
  {
   "cell_type": "code",
   "execution_count": null,
   "metadata": {
    "colab": {
     "base_uri": "https://localhost:8080/",
     "height": 343
    },
    "colab_type": "code",
    "id": "aNua3QshJK_Y",
    "outputId": "607d6902-bfcf-42b2-c55c-1684df4b1c91"
   },
   "outputs": [],
   "source": [
    "# This is needed for Google Colab, first run\n",
    "!pip install --upgrade folium"
   ]
  },
  {
   "cell_type": "code",
   "execution_count": null,
   "metadata": {
    "colab": {},
    "colab_type": "code",
    "id": "grVj5kG8IoLH"
   },
   "outputs": [],
   "source": [
    "import folium\n",
    "import requests\n",
    "import pandas as pd\n",
    "import json\n",
    "import csv\n",
    "import matplotlib.pyplot as plt\n",
    "from pandas.io.json import json_normalize  "
   ]
  },
  {
   "cell_type": "markdown",
   "metadata": {
    "colab_type": "text",
    "id": "OGC6e5K8IoLL"
   },
   "source": [
    "## Let's query the repository by asking the publications related to William Shakespeare\n",
    "We will use the [SPARQL endpoint](https://bnb.data.bl.uk/flint-sparql) to create the query and configure the request to retrieve json as a result."
   ]
  },
  {
   "cell_type": "code",
   "execution_count": null,
   "metadata": {
    "colab": {
     "base_uri": "https://localhost:8080/",
     "height": 34
    },
    "colab_type": "code",
    "id": "orhVTXt0IoLL",
    "outputId": "c8eed932-70ed-4a0f-f13e-929738b5a645"
   },
   "outputs": [],
   "source": [
    "url = 'https://bnb.data.bl.uk/sparql'\n",
    "query = \"\"\"\n",
    "PREFIX bibo: <http://purl.org/ontology/bibo/>\n",
    "PREFIX bio: <http://purl.org/vocab/bio/0.1/>\n",
    "PREFIX blt: <http://www.bl.uk/schemas/bibliographic/blterms#>\n",
    "PREFIX dct: <http://purl.org/dc/terms/>\n",
    "PREFIX event: <http://purl.org/NET/c4dm/event.owl#>\n",
    "PREFIX foaf: <http://xmlns.com/foaf/0.1/>\n",
    "PREFIX geo: <http://www.w3.org/2003/01/geo/wgs84_pos#>\n",
    "PREFIX isbd: <http://iflastandards.info/ns/isbd/elements/>\n",
    "PREFIX org: <http://www.w3.org/ns/org#>\n",
    "PREFIX owl: <http://www.w3.org/2002/07/owl#>\n",
    "PREFIX rdau: <http://rdaregistry.info/Elements/u/>\n",
    "PREFIX madsrdf: <http://www.loc.gov/mads/rdf/v1#>\n",
    "PREFIX rdf: <http://www.w3.org/1999/02/22-rdf-syntax-ns#>\n",
    "PREFIX rdfs: <http://www.w3.org/2000/01/rdf-schema#>\n",
    "PREFIX skos: <http://www.w3.org/2004/02/skos/core#>\n",
    "PREFIX void: <http://rdfs.org/ns/void#>\n",
    "PREFIX xsd: <http://www.w3.org/2001/XMLSchema#>\n",
    "PREFIX umbel: <http://umbel.org/umbel#>\n",
    "PREFIX schema: <http://schema.org/>\n",
    "PREFIX c4dm: <http://purl.org/NET/c4dm/event.owl#>\n",
    "\n",
    "SELECT DISTINCT ?resource ?title ?date ?place WHERE {{\n",
    "    graph <http://bnb.data.bl.uk/id/graph/BNBCIP> {{\n",
    "      ?resource ?p <{0}> ;\n",
    "         dct:title ?title ;\n",
    "         schema:datePublished ?date .\n",
    "      OPTIONAL {{\n",
    "          ?resource blt:projectedPublication ?publication .\n",
    "          ?publication c4dm:place ?place .\n",
    "          FILTER regex(?place, \"geonames\", \"i\")        \n",
    "      }}\n",
    "      OPTIONAL {{\n",
    "          ?resource blt:publication ?publication .\n",
    "          ?publication c4dm:place ?place .\n",
    "          FILTER regex(?place, \"geonames\", \"i\")        \n",
    "      }}\n",
    "    }}\n",
    "}} LIMIT 500\n",
    "\"\"\"\n",
    "\n",
    "query = query.format(bnbIdAuthor)\n",
    "\n",
    "# use json as a result\n",
    "headers = {'Accept': 'application/sparql-results+json'}\n",
    "r = requests.get(url, params = {'format': 'application/sparql-results+json', 'query': query}, headers=headers)\n",
    "print('Elements retrieved!')\n",
    "#print(r.text)"
   ]
  },
  {
   "cell_type": "markdown",
   "metadata": {
    "colab_type": "text",
    "id": "IPV7YE5QIoLS"
   },
   "source": [
    "## Save as a CSV "
   ]
  },
  {
   "cell_type": "code",
   "execution_count": null,
   "metadata": {
    "colab": {
     "base_uri": "https://localhost:8080/",
     "height": 51
    },
    "colab_type": "code",
    "id": "0G0_FjkEIoLT",
    "outputId": "ef049495-254b-4d88-9d3b-5deb72954bec"
   },
   "outputs": [],
   "source": [
    "bnbdata = json.loads(r.text)\n",
    "\n",
    "# we need to delete bnb_records.csv case it exists from previous runs \n",
    "# if it doesn't exist yet, it will give an error \"rm: cannot remove 'bnb_records.csv': No such file or directory\", that's just fine! :)\n",
    "!rm bnb_records.csv\n",
    "\n",
    "with open('bnb_records.csv', 'w', newline='') as file:\n",
    "    csv_out = csv.writer(file, delimiter = ',', quotechar = '\"', quoting = csv.QUOTE_MINIMAL)    \n",
    "\n",
    "    #csv_out = csv.writer(open('bnb_records.csv', 'w'), delimiter = ',', quotechar = '\"', quoting = csv.QUOTE_MINIMAL)\n",
    "    csv_out.writerow(['resource', 'place', 'title', 'date'])\n",
    "\n",
    "    for i in bnbdata['results']['bindings']:\n",
    "        resource = place = title = date =''\n",
    "\n",
    "        resource = i['resource']['value']\n",
    "        #if \"place\" in i:\n",
    "        place = i['place']['value']\n",
    "        title = i['title']['value']\n",
    "        date = i['date']['value']\n",
    "\n",
    "        csv_out.writerow([resource,place,title,date])\n",
    "\n",
    "print('Open the generated CSV to see all its contents -- Google Colab: under \"Files\" > click \"bnb_records.csv\" -- we will also explore it bellow.')"
   ]
  },
  {
   "cell_type": "markdown",
   "metadata": {
    "colab_type": "text",
    "id": "og1n6iQxIoLX"
   },
   "source": [
    "## Exploring the data"
   ]
  },
  {
   "cell_type": "code",
   "execution_count": null,
   "metadata": {
    "colab": {},
    "colab_type": "code",
    "id": "Ih2izFbnIoLY"
   },
   "outputs": [],
   "source": [
    "# Load the CSV file from GitHub.\n",
    "# This puts the data in a Pandas DataFrame\n",
    "df = pd.read_csv('bnb_records.csv')"
   ]
  },
  {
   "cell_type": "code",
   "execution_count": null,
   "metadata": {
    "colab": {
     "base_uri": "https://localhost:8080/",
     "height": 419
    },
    "colab_type": "code",
    "id": "fenQ2OBoIoLc",
    "outputId": "feefc05e-b73f-4a5b-e6fc-6b4f52331af4"
   },
   "outputs": [],
   "source": [
    "df"
   ]
  },
  {
   "cell_type": "markdown",
   "metadata": {
    "colab_type": "text",
    "id": "DMgoGtlyIoLj"
   },
   "source": [
    "## How many items?"
   ]
  },
  {
   "cell_type": "code",
   "execution_count": null,
   "metadata": {
    "colab": {
     "base_uri": "https://localhost:8080/",
     "height": 34
    },
    "colab_type": "code",
    "id": "bDsScd1gIoLk",
    "outputId": "300b431e-4663-41e8-a38b-c8a310a2c6e8"
   },
   "outputs": [],
   "source": [
    "# How many items?\n",
    "len(df)"
   ]
  },
  {
   "cell_type": "markdown",
   "metadata": {
    "colab_type": "text",
    "id": "DXFWETl7IoLn"
   },
   "source": [
    "### Let's count the number of resources per place"
   ]
  },
  {
   "cell_type": "code",
   "execution_count": null,
   "metadata": {
    "colab": {},
    "colab_type": "code",
    "id": "PjY-cqnqIoLo"
   },
   "outputs": [],
   "source": [
    "places_by_number = df.groupby(\"place\")[\"resource\"].count()"
   ]
  },
  {
   "cell_type": "code",
   "execution_count": null,
   "metadata": {
    "colab": {
     "base_uri": "https://localhost:8080/",
     "height": 136
    },
    "colab_type": "code",
    "id": "pDX6b-hjIoLs",
    "outputId": "9fafb980-f6e6-4c90-f878-3209fcb74e69"
   },
   "outputs": [],
   "source": [
    "places_by_number"
   ]
  },
  {
   "cell_type": "code",
   "execution_count": null,
   "metadata": {
    "colab": {},
    "colab_type": "code",
    "id": "qFByrGWpIoLz"
   },
   "outputs": [],
   "source": [
    "### We can access the count of each place"
   ]
  },
  {
   "cell_type": "code",
   "execution_count": null,
   "metadata": {
    "colab": {
     "base_uri": "https://localhost:8080/",
     "height": 34
    },
    "colab_type": "code",
    "id": "ALytexj6IoL3",
    "outputId": "310a5b53-aa01-4150-f8b3-19715daa5aa4"
   },
   "outputs": [],
   "source": [
    "places_by_number[['http://sws.geonames.org/6269131/']][0]"
   ]
  },
  {
   "cell_type": "markdown",
   "metadata": {
    "colab_type": "text",
    "id": "5ty7tAEtIoL9"
   },
   "source": [
    "### Create a chart to visualize the results\n",
    "This chart shows the number of resources by date."
   ]
  },
  {
   "cell_type": "code",
   "execution_count": null,
   "metadata": {
    "colab": {
     "base_uri": "https://localhost:8080/",
     "height": 545
    },
    "colab_type": "code",
    "id": "8MOITWYAIoL_",
    "outputId": "1be68000-7e24-41f9-fd8c-18ee0c4b1ba6"
   },
   "outputs": [],
   "source": [
    "ax = df['date'].value_counts().plot(kind='bar',\n",
    "                                    figsize=(14,8),\n",
    "                                    title=\"Number of resources per date\")\n",
    "ax.set_xlabel(\"Dates\")\n",
    "ax.set_ylabel(\"Resources\")\n",
    "plt.show()"
   ]
  },
  {
   "cell_type": "markdown",
   "metadata": {
    "colab_type": "text",
    "id": "bzuMZwCSIoMH"
   },
   "source": [
    "### Let's group the items by year"
   ]
  },
  {
   "cell_type": "code",
   "execution_count": null,
   "metadata": {
    "colab": {},
    "colab_type": "code",
    "id": "D56P3lFPIoMJ"
   },
   "outputs": [],
   "source": [
    "# First we create a new column in pandas with the year\n",
    "df['year'] = pd.DatetimeIndex(df['date']).year"
   ]
  },
  {
   "cell_type": "code",
   "execution_count": null,
   "metadata": {
    "colab": {
     "base_uri": "https://localhost:8080/",
     "height": 221
    },
    "colab_type": "code",
    "id": "Df-0fPFPIoMR",
    "outputId": "c48faf14-9039-4d2b-9e6e-4d78edf88c51"
   },
   "outputs": [],
   "source": [
    "df['year']"
   ]
  },
  {
   "cell_type": "markdown",
   "metadata": {
    "colab_type": "text",
    "id": "kWtHX4lZIoMc"
   },
   "source": [
    "### Creating the chart by year"
   ]
  },
  {
   "cell_type": "code",
   "execution_count": null,
   "metadata": {
    "colab": {
     "base_uri": "https://localhost:8080/",
     "height": 391
    },
    "colab_type": "code",
    "id": "xgowNiOHJruE",
    "outputId": "d56b0f02-f369-48b8-be5c-af443c8faf8d"
   },
   "outputs": [],
   "source": [
    "df['year'].value_counts()"
   ]
  },
  {
   "cell_type": "code",
   "execution_count": null,
   "metadata": {
    "colab": {
     "base_uri": "https://localhost:8080/",
     "height": 528
    },
    "colab_type": "code",
    "id": "uF6xz6iFIoMd",
    "outputId": "155b228d-b017-4159-f3e0-0137395c95cb"
   },
   "outputs": [],
   "source": [
    "ax = df['year'].value_counts().plot(kind='bar',\n",
    "                                    figsize=(14,8),\n",
    "                                    title=\"Number of resources per year\")\n",
    "ax.set_xlabel(\"Dates\")\n",
    "ax.set_ylabel(\"Resources\")\n",
    "plt.show()"
   ]
  },
  {
   "cell_type": "markdown",
   "metadata": {
    "colab_type": "text",
    "id": "PX9HQzNPIoMn"
   },
   "source": [
    "## Exploring the places"
   ]
  },
  {
   "cell_type": "code",
   "execution_count": null,
   "metadata": {
    "colab": {
     "base_uri": "https://localhost:8080/",
     "height": 102
    },
    "colab_type": "code",
    "id": "UHURmHF6IoMn",
    "outputId": "d1ef6527-c806-4589-f0b4-8d1934b18b4d"
   },
   "outputs": [],
   "source": [
    "# Get unique values\n",
    "places = pd.unique(df['place']).tolist()\n",
    "strplaces = ''\n",
    "for a in sorted(places):\n",
    "    print(a)\n",
    "    strplaces = strplaces + ' \\\"' + a.replace(\"http://sws.geonames.org/\", \"\").replace(\"/\", \"\") + '\\\"'"
   ]
  },
  {
   "cell_type": "markdown",
   "metadata": {
    "colab_type": "text",
    "id": "2Pj4P6R8IoMq"
   },
   "source": [
    "### Getting latitude and longitude from Wikidata"
   ]
  },
  {
   "cell_type": "code",
   "execution_count": null,
   "metadata": {
    "colab": {
     "base_uri": "https://localhost:8080/",
     "height": 306
    },
    "colab_type": "code",
    "id": "kbjrP8CwIoMr",
    "outputId": "0b907eb1-8dba-4162-8817-14a320f7d76c"
   },
   "outputs": [],
   "source": [
    "url = 'https://query.wikidata.org/sparql'\n",
    "query = \"\"\"\n",
    "PREFIX bibo: <http://purl.org/ontology/bibo/>\n",
    "SELECT ?idgeonames ?lat ?lon ?x ?xLabel \n",
    "WHERE {{ \n",
    "  values ?idgeonames {{ {0} }} \n",
    "  ?x wdt:P1566 ?idgeonames ; \n",
    "   p:P625 [\n",
    "     psv:P625 [\n",
    "       wikibase:geoLatitude ?lat ;\n",
    "       wikibase:geoLongitude ?lon ;\n",
    "       wikibase:geoGlobe ?globe ;\n",
    "     ];\n",
    "     ps:P625 ?coord\n",
    "   ]\n",
    "   SERVICE wikibase:label {{ bd:serviceParam wikibase:language \"[AUTO_LANGUAGE],en\". }}\n",
    "}}\n",
    "\"\"\"\n",
    "\n",
    "query = query.format(strplaces)\n",
    "print(query)\n",
    "\n",
    "# use json as a result\n",
    "r = requests.get(url, params = {'format': 'json', 'query': query})\n",
    "geopoints = r.json()"
   ]
  },
  {
   "cell_type": "code",
   "execution_count": null,
   "metadata": {
    "colab": {
     "base_uri": "https://localhost:8080/",
     "height": 850
    },
    "colab_type": "code",
    "id": "wocNjHGDJwF5",
    "outputId": "85faf55f-0045-4734-83b3-f432f4979915"
   },
   "outputs": [],
   "source": [
    "geopoints"
   ]
  },
  {
   "cell_type": "markdown",
   "metadata": {
    "colab_type": "text",
    "id": "x6Ff0INhIoMu"
   },
   "source": [
    "### Finally, we add the markers to the map"
   ]
  },
  {
   "cell_type": "code",
   "execution_count": null,
   "metadata": {
    "colab": {},
    "colab_type": "code",
    "id": "jstA9gVvIoMv"
   },
   "outputs": [],
   "source": [
    "map = folium.Map(location=[0,0], zoom_start=1.5)\n",
    "\n",
    "for geo in geopoints['results']['bindings']:\n",
    "    idwikidata = geo['x']['value']\n",
    "    lat = geo['lat']['value']\n",
    "    lon = geo['lon']['value']\n",
    "    idgeonames = geo['idgeonames']['value']\n",
    "    label = geo['xLabel']['value']\n",
    "    # print(lat, lon)\n",
    "    \n",
    "    # adding a text to the popup\n",
    "    count = places_by_number[['http://sws.geonames.org/' + idgeonames + '/']][0]\n",
    "\n",
    "    # Records that have that Country of Publication -- Obtain the Titles bellow, for the Map popup\n",
    "    df_local = df[df['place']=='http://sws.geonames.org/' + idgeonames + '/']\n",
    "\n",
    "    popuptext = str(count) + \" records published in <a href='\" + str(idwikidata) + \"'>\" + label + \"</a><p/>Title(s):<br/><br/> * \" + '<br/> * '.join(df_local['title'].values)\n",
    "    popup = folium.Popup(popuptext, max_width=800,min_width=200)\n",
    "    folium.Marker([lat,lon], popup= popup).add_to(map)"
   ]
  },
  {
   "cell_type": "code",
   "execution_count": null,
   "metadata": {
    "colab": {
     "base_uri": "https://localhost:8080/",
     "height": 763
    },
    "colab_type": "code",
    "id": "bE4I7vHSIoM1",
    "outputId": "526bee12-0f86-4192-b368-d8a0cbe7931b"
   },
   "outputs": [],
   "source": [
    "map"
   ]
  }
 ],
 "metadata": {
  "colab": {
   "include_colab_link": true,
   "name": "Copy of bnb-lod-extraction-map.ipynb",
   "provenance": []
  },
  "kernelspec": {
   "display_name": "Python 3",
   "language": "python",
   "name": "python3"
  },
  "language_info": {
   "codemirror_mode": {
    "name": "ipython",
    "version": 3
   },
   "file_extension": ".py",
   "mimetype": "text/x-python",
   "name": "python",
   "nbconvert_exporter": "python",
   "pygments_lexer": "ipython3",
   "version": "3.7.3"
  }
 },
 "nbformat": 4,
 "nbformat_minor": 1
}
