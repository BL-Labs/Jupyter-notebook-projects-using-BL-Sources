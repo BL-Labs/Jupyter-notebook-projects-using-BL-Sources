{
  "nbformat": 4,
  "nbformat_minor": 0,
  "metadata": {
    "kernelspec": {
      "display_name": "Python 3",
      "language": "python",
      "name": "python3"
    },
    "language_info": {
      "codemirror_mode": {
        "name": "ipython",
        "version": 3
      },
      "file_extension": ".py",
      "mimetype": "text/x-python",
      "name": "python",
      "nbconvert_exporter": "python",
      "pygments_lexer": "ipython3",
      "version": "3.6.9"
    },
    "colab": {
      "name": "Copy of bnb-lod-extraction-map.ipynb",
      "provenance": [],
      "include_colab_link": true
    }
  },
  "cells": [
    {
      "cell_type": "markdown",
      "metadata": {
        "id": "view-in-github",
        "colab_type": "text"
      },
      "source": [
        "<a href=\"https://colab.research.google.com/github/BL-Labs/Jupyter-notebooks-projects-using-BL-Sources/blob/master/LOD_SPARQL/00_bnb_lod_resrouces_by_subject.ipynb\" target=\"_parent\"><img src=\"https://colab.research.google.com/assets/colab-badge.svg\" alt=\"Open In Colab\"/></a>"
      ]
    },
    {
      "cell_type": "markdown",
      "metadata": {
        "id": "TU0Elp2wIoK_",
        "colab_type": "text"
      },
      "source": [
        "# BNB -- SPARQL query - resources by subject\n",
        "\n",
        "The [BNB Linked Data Platform](https://bnb.data.bl.uk/) provides access to the [British National Bibliography (BNB)](http://www.bl.uk/bibliographic/natbib.html) published as linked open data and made available through SPARQL services. \n",
        "\n",
        "This notebook explains how to query it to retrieve records of resources indexed under a given Subject / Topic (LCSH).\n",
        "\n",
        "*Inspired by:*\n",
        "\n",
        "https://github.com/hibernator11/notebook-lod-libraries \n",
        "by Gustavo Candela (https://github.com/hibernator11), Research and Development department at The Biblioteca Virtual Miguel de Cervantes, University of Alicante, Spain"
      ]
    },
    {
      "cell_type": "markdown",
      "metadata": {
        "id": "rkWxy-LgIoLB",
        "colab_type": "text"
      },
      "source": [
        "## Global configuration\n",
        "\n",
        "Set the Subject to search:"
      ]
    },
    {
      "cell_type": "code",
      "metadata": {
        "id": "jbYUkXcXIoLC",
        "colab_type": "code",
        "colab": {}
      },
      "source": [
        "Subject = 'Nanotubes'"
      ],
      "execution_count": 0,
      "outputs": []
    },
    {
      "cell_type": "markdown",
      "metadata": {
        "id": "qt0a7zDeIoLH",
        "colab_type": "text"
      },
      "source": [
        "#### Required modules / libraries"
      ]
    },
    {
      "cell_type": "code",
      "metadata": {
        "id": "grVj5kG8IoLH",
        "colab_type": "code",
        "colab": {}
      },
      "source": [
        "import requests\n",
        "import pandas as pd\n",
        "import json\n",
        "import csv\n",
        "from pandas.io.json import json_normalize"
      ],
      "execution_count": 0,
      "outputs": []
    },
    {
      "cell_type": "markdown",
      "metadata": {
        "id": "OGC6e5K8IoLL",
        "colab_type": "text"
      },
      "source": [
        "## Let's query the repository by asking the publications indexed by the defined Subject\n",
        "We will use the [SPARQL endpoint](https://bnb.data.bl.uk/flint-sparql) to create the query and configure the request to retrieve json as a result."
      ]
    },
    {
      "cell_type": "code",
      "metadata": {
        "id": "orhVTXt0IoLL",
        "colab_type": "code",
        "outputId": "cb52cfaa-f046-4245-bdaa-d9b44da4e83c",
        "colab": {
          "base_uri": "https://localhost:8080/",
          "height": 34
        }
      },
      "source": [
        "url = 'https://bnb.data.bl.uk/sparql'\n",
        "query = \"\"\"\n",
        "PREFIX bibo: <http://purl.org/ontology/bibo/> \n",
        "PREFIX dct: <http://purl.org/dc/terms/> \n",
        "PREFIX schema: <http://schema.org/> \n",
        "\n",
        "SELECT ?resource ?isbn ?title ?date ?author WHERE { \n",
        "      ?resource dct:subject <http://bnb.data.bl.uk/id/concept/lcsh/{0}>; \n",
        "      bibo:isbn13 ?isbn ; \n",
        "      dct:title ?title ; \n",
        "      schema:author ?author ; \n",
        "      schema:datePublished ?date . \n",
        "}\n",
        "\"\"\"\n",
        "\n",
        "query = query.format(Subject)\n",
        "\n",
        "# use json as a result\n",
        "headers = {'Accept': 'application/sparql-results+json'}\n",
        "r = requests.get(url, params = {'format': 'application/sparql-results+json', 'query': query}, headers=headers)\n",
        "print('Elements retrieved!')\n"
      ],
      "execution_count": 52,
      "outputs": [
        {
          "output_type": "stream",
          "text": [
            "Elements retrieved!\n"
          ],
          "name": "stdout"
        }
      ]
    },
    {
      "cell_type": "code",
      "metadata": {
        "id": "_LQpszOt0vZw",
        "colab_type": "code",
        "colab": {}
      },
      "source": [
        "# print(r.text)"
      ],
      "execution_count": 0,
      "outputs": []
    },
    {
      "cell_type": "markdown",
      "metadata": {
        "id": "IPV7YE5QIoLS",
        "colab_type": "text"
      },
      "source": [
        "## Save as a CSV "
      ]
    },
    {
      "cell_type": "code",
      "metadata": {
        "id": "0G0_FjkEIoLT",
        "colab_type": "code",
        "outputId": "2362687a-2bdf-47da-ce29-a241cd9f71f1",
        "colab": {
          "base_uri": "https://localhost:8080/",
          "height": 34
        }
      },
      "source": [
        "bnbdata = json.loads(r.text)\n",
        "\n",
        "# we need to delete bnb_records.csv case it exists from previous runs \n",
        "# if it doesn't exist yet, it will give an error \"rm: cannot remove 'bnb_records.csv': No such file or directory\", that's just fine! :)\n",
        "!rm ret_records.csv\n",
        "\n",
        "with open('ret_records.csv', 'w', newline='') as file:\n",
        "    csv_out = csv.writer(file, delimiter = ',', quotechar = '\"', quoting = csv.QUOTE_MINIMAL)    \n",
        "\n",
        "    #csv_out = csv.writer(open('bnb_records.csv', 'w'), delimiter = ',', quotechar = '\"', quoting = csv.QUOTE_MINIMAL)\n",
        "    csv_out.writerow(['resource', 'isbn', 'title', 'date', 'author'])\n",
        "\n",
        "    for i in bnbdata['results']['bindings']:\n",
        "        resource = isbn = title = date =''\n",
        "\n",
        "        resource = i['resource']['value']\n",
        "        #if \"place\" in i:\n",
        "        isbn = i['isbn']['value']\n",
        "        title = i['title']['value']\n",
        "        date = i['date']['value']\n",
        "        author = i['author']['value']\n",
        "\n",
        "        csv_out.writerow([resource,isbn,title,date,author])\n",
        "\n",
        "print('Open the generated CSV to see all its contents -- Google Colab: under \"Files\" > click \"ret_records.csv\" -- we will also explore it bellow.')"
      ],
      "execution_count": 54,
      "outputs": [
        {
          "output_type": "stream",
          "text": [
            "Open the generated CSV to see all its contents -- Google Colab: under \"Files\" > click \"ret_records.csv\" -- we will also explore it bellow.\n"
          ],
          "name": "stdout"
        }
      ]
    },
    {
      "cell_type": "markdown",
      "metadata": {
        "id": "og1n6iQxIoLX",
        "colab_type": "text"
      },
      "source": [
        "## Exploring the data"
      ]
    },
    {
      "cell_type": "code",
      "metadata": {
        "id": "Ih2izFbnIoLY",
        "colab_type": "code",
        "colab": {}
      },
      "source": [
        "# Load the CSV file from GitHub.\n",
        "# This puts the data in a Pandas DataFrame\n",
        "df = pd.read_csv('ret_records.csv')"
      ],
      "execution_count": 0,
      "outputs": []
    },
    {
      "cell_type": "code",
      "metadata": {
        "id": "fenQ2OBoIoLc",
        "colab_type": "code",
        "outputId": "3936dceb-2dc5-468c-d125-4b2d3a97cf56",
        "colab": {
          "base_uri": "https://localhost:8080/",
          "height": 204
        }
      },
      "source": [
        "df.head(5)"
      ],
      "execution_count": 57,
      "outputs": [
        {
          "output_type": "execute_result",
          "data": {
            "text/html": [
              "<div>\n",
              "<style scoped>\n",
              "    .dataframe tbody tr th:only-of-type {\n",
              "        vertical-align: middle;\n",
              "    }\n",
              "\n",
              "    .dataframe tbody tr th {\n",
              "        vertical-align: top;\n",
              "    }\n",
              "\n",
              "    .dataframe thead th {\n",
              "        text-align: right;\n",
              "    }\n",
              "</style>\n",
              "<table border=\"1\" class=\"dataframe\">\n",
              "  <thead>\n",
              "    <tr style=\"text-align: right;\">\n",
              "      <th></th>\n",
              "      <th>resource</th>\n",
              "      <th>isbn</th>\n",
              "      <th>title</th>\n",
              "      <th>date</th>\n",
              "      <th>author</th>\n",
              "    </tr>\n",
              "  </thead>\n",
              "  <tbody>\n",
              "    <tr>\n",
              "      <th>0</th>\n",
              "      <td>http://bnb.data.bl.uk/id/resource/014938681</td>\n",
              "      <td>9783527407187</td>\n",
              "      <td>Carbon nanotubes : an introduction to the basi...</td>\n",
              "      <td>2009-05</td>\n",
              "      <td>http://bnb.data.bl.uk/id/person/ReichS%28Steph...</td>\n",
              "    </tr>\n",
              "    <tr>\n",
              "      <th>1</th>\n",
              "      <td>http://bnb.data.bl.uk/id/resource/018171695</td>\n",
              "      <td>9781498702102</td>\n",
              "      <td>Carbon nanomaterials : synthesis, structure, p...</td>\n",
              "      <td>2017-01</td>\n",
              "      <td>http://bnb.data.bl.uk/id/person/MathurRakeshBe...</td>\n",
              "    </tr>\n",
              "    <tr>\n",
              "      <th>2</th>\n",
              "      <td>http://bnb.data.bl.uk/id/resource/019506374</td>\n",
              "      <td>9780429486050</td>\n",
              "      <td>Quantum chemistry of nanotubes : electronic cy...</td>\n",
              "      <td>2019</td>\n",
              "      <td>http://bnb.data.bl.uk/id/person/D%CA%B9i%EF%B8...</td>\n",
              "    </tr>\n",
              "    <tr>\n",
              "      <th>3</th>\n",
              "      <td>http://bnb.data.bl.uk/id/resource/019506374</td>\n",
              "      <td>9780429941801</td>\n",
              "      <td>Quantum chemistry of nanotubes : electronic cy...</td>\n",
              "      <td>2019</td>\n",
              "      <td>http://bnb.data.bl.uk/id/person/D%CA%B9i%EF%B8...</td>\n",
              "    </tr>\n",
              "    <tr>\n",
              "      <th>4</th>\n",
              "      <td>http://bnb.data.bl.uk/id/resource/019506374</td>\n",
              "      <td>9780429941818</td>\n",
              "      <td>Quantum chemistry of nanotubes : electronic cy...</td>\n",
              "      <td>2019</td>\n",
              "      <td>http://bnb.data.bl.uk/id/person/D%CA%B9i%EF%B8...</td>\n",
              "    </tr>\n",
              "  </tbody>\n",
              "</table>\n",
              "</div>"
            ],
            "text/plain": [
              "                                      resource  ...                                             author\n",
              "0  http://bnb.data.bl.uk/id/resource/014938681  ...  http://bnb.data.bl.uk/id/person/ReichS%28Steph...\n",
              "1  http://bnb.data.bl.uk/id/resource/018171695  ...  http://bnb.data.bl.uk/id/person/MathurRakeshBe...\n",
              "2  http://bnb.data.bl.uk/id/resource/019506374  ...  http://bnb.data.bl.uk/id/person/D%CA%B9i%EF%B8...\n",
              "3  http://bnb.data.bl.uk/id/resource/019506374  ...  http://bnb.data.bl.uk/id/person/D%CA%B9i%EF%B8...\n",
              "4  http://bnb.data.bl.uk/id/resource/019506374  ...  http://bnb.data.bl.uk/id/person/D%CA%B9i%EF%B8...\n",
              "\n",
              "[5 rows x 5 columns]"
            ]
          },
          "metadata": {
            "tags": []
          },
          "execution_count": 57
        }
      ]
    },
    {
      "cell_type": "markdown",
      "metadata": {
        "id": "DMgoGtlyIoLj",
        "colab_type": "text"
      },
      "source": [
        "## How many items?"
      ]
    },
    {
      "cell_type": "code",
      "metadata": {
        "id": "bDsScd1gIoLk",
        "colab_type": "code",
        "outputId": "b1c8a647-73b3-4d1b-ee55-51ab7b735708",
        "colab": {
          "base_uri": "https://localhost:8080/",
          "height": 34
        }
      },
      "source": [
        "# How many items?\n",
        "len(df)"
      ],
      "execution_count": 58,
      "outputs": [
        {
          "output_type": "execute_result",
          "data": {
            "text/plain": [
              "54"
            ]
          },
          "metadata": {
            "tags": []
          },
          "execution_count": 58
        }
      ]
    },
    {
      "cell_type": "markdown",
      "metadata": {
        "id": "DXFWETl7IoLn",
        "colab_type": "text"
      },
      "source": [
        "### Let's count the number of resources per author"
      ]
    },
    {
      "cell_type": "code",
      "metadata": {
        "id": "PjY-cqnqIoLo",
        "colab_type": "code",
        "colab": {
          "base_uri": "https://localhost:8080/",
          "height": 612
        },
        "outputId": "931b6728-af96-40e4-ad8e-e389371b0b84"
      },
      "source": [
        "resources_by_author = df.groupby(\"author\")[\"resource\"].count()\n",
        "resources_by_author"
      ],
      "execution_count": 61,
      "outputs": [
        {
          "output_type": "execute_result",
          "data": {
            "text/plain": [
              "author\n",
              "http://bnb.data.bl.uk/id/person/AgarwalArvind                                               2\n",
              "http://bnb.data.bl.uk/id/person/AkasakaTakeshi                                              1\n",
              "http://bnb.data.bl.uk/id/person/Al-HilliSafaa                                               1\n",
              "http://bnb.data.bl.uk/id/person/BavykinDmitryV                                              2\n",
              "http://bnb.data.bl.uk/id/person/BursetAtienzaPablo                                          2\n",
              "http://bnb.data.bl.uk/id/person/ChenChangxin                                                2\n",
              "http://bnb.data.bl.uk/id/person/ChiparaMircea                                               1\n",
              "http://bnb.data.bl.uk/id/person/D%CA%B9i%EF%B8%A0a%EF%B8%A1chkovPN%28PavelNikolaevich%29    4\n",
              "http://bnb.data.bl.uk/id/person/GradyBrianP                                                 1\n",
              "http://bnb.data.bl.uk/id/person/GrimesCraigA                                                2\n",
              "http://bnb.data.bl.uk/id/person/GrossiordNadia                                              2\n",
              "http://bnb.data.bl.uk/id/person/HaghiAK                                                     1\n",
              "http://bnb.data.bl.uk/id/person/HarrisPeterJF%28PeterJohnFrederich%291957-                  1\n",
              "http://bnb.data.bl.uk/id/person/KilinaSvetlanaV                                             1\n",
              "http://bnb.data.bl.uk/id/person/L%C3%A9onardFran%C3%A7ois1972-                              1\n",
              "http://bnb.data.bl.uk/id/person/Latu-RomainLaurence1980-                                    1\n",
              "http://bnb.data.bl.uk/id/person/LevitskyIgorA                                               1\n",
              "http://bnb.data.bl.uk/id/person/LimMelvinChoonGiap                                          1\n",
              "http://bnb.data.bl.uk/id/person/MalicErmin                                                  1\n",
              "http://bnb.data.bl.uk/id/person/MathurRakeshBehari1952-                                     6\n",
              "http://bnb.data.bl.uk/id/person/MiyazawaKunichi                                             1\n",
              "http://bnb.data.bl.uk/id/person/Ne%C5%A1kovi%C4%87N%28Neboj%C5%A1a%291949-                  2\n",
              "http://bnb.data.bl.uk/id/person/OwensFrankJ                                                 1\n",
              "http://bnb.data.bl.uk/id/person/Rafii-TabarH%28Hashem%29                                    2\n",
              "http://bnb.data.bl.uk/id/person/RahmandoustMoones                                           1\n",
              "http://bnb.data.bl.uk/id/person/RaoCNR%28ChintamaniNagesaRamachandra%291934-                4\n",
              "http://bnb.data.bl.uk/id/person/ReichS%28Stephanie%29                                       1\n",
              "http://bnb.data.bl.uk/id/person/ShimaHiroyuki1975-                                          3\n",
              "http://bnb.data.bl.uk/id/person/TjongSieChin                                                1\n",
              "http://bnb.data.bl.uk/id/person/VirkarAjay                                                  1\n",
              "http://bnb.data.bl.uk/id/person/WongHon-SumPhilip1959-                                      1\n",
              "http://bnb.data.bl.uk/id/person/XieYibing                                                   1\n",
              "http://bnb.data.bl.uk/id/person/ZhangLianchi                                                1\n",
              "Name: resource, dtype: int64"
            ]
          },
          "metadata": {
            "tags": []
          },
          "execution_count": 61
        }
      ]
    },
    {
      "cell_type": "markdown",
      "metadata": {
        "id": "5ty7tAEtIoL9",
        "colab_type": "text"
      },
      "source": [
        "### Create a chart to visualize the results\n",
        "This chart shows the number of resources by date of publication."
      ]
    },
    {
      "cell_type": "code",
      "metadata": {
        "id": "GFIntesJ35-G",
        "colab_type": "code",
        "colab": {
          "base_uri": "https://localhost:8080/",
          "height": 306
        },
        "outputId": "8d73cf32-1a09-453f-ee31-c89912a59ac7"
      },
      "source": [
        "resources_by_date = df['date'].value_counts()\n",
        "resources_by_date"
      ],
      "execution_count": 64,
      "outputs": [
        {
          "output_type": "execute_result",
          "data": {
            "text/plain": [
              "2009       11\n",
              "2011        7\n",
              "2013        7\n",
              "2017        6\n",
              "2019        5\n",
              "2012        3\n",
              "2015        3\n",
              "2005        2\n",
              "2008        2\n",
              "2010        2\n",
              "2017-01     1\n",
              "2016-08     1\n",
              "2009-05     1\n",
              "2019-02     1\n",
              "2018        1\n",
              "2016        1\n",
              "Name: date, dtype: int64"
            ]
          },
          "metadata": {
            "tags": []
          },
          "execution_count": 64
        }
      ]
    },
    {
      "cell_type": "code",
      "metadata": {
        "id": "8MOITWYAIoL_",
        "colab_type": "code",
        "outputId": "63265244-9f7a-44e6-bff7-beafc8598546",
        "colab": {
          "base_uri": "https://localhost:8080/",
          "height": 544
        }
      },
      "source": [
        "ax = resources_by_date.plot(kind='bar',\n",
        "                                    figsize=(14,8),\n",
        "                                    title=\"Number of resources per date\")\n",
        "ax.set_xlabel(\"Dates\")\n",
        "ax.set_ylabel(\"Resources\")\n",
        "plt.show()"
      ],
      "execution_count": 65,
      "outputs": [
        {
          "output_type": "display_data",
          "data": {
            "image/png": "[encoded data removed]",
            "text/plain": [
              "<Figure size 1008x576 with 1 Axes>"
            ]
          },
          "metadata": {
            "tags": [],
            "needs_background": "light"
          }
        }
      ]
    },
    {
      "cell_type": "markdown",
      "metadata": {
        "id": "bzuMZwCSIoMH",
        "colab_type": "text"
      },
      "source": [
        "### Let's group the items by year"
      ]
    },
    {
      "cell_type": "code",
      "metadata": {
        "id": "D56P3lFPIoMJ",
        "colab_type": "code",
        "colab": {}
      },
      "source": [
        "# First we create a new column in pandas with the year\n",
        "df['year'] = pd.DatetimeIndex(df['date']).year"
      ],
      "execution_count": 0,
      "outputs": []
    },
    {
      "cell_type": "code",
      "metadata": {
        "id": "Df-0fPFPIoMR",
        "colab_type": "code",
        "outputId": "a8dea9bb-5b0a-498e-93e7-9ff7774b0560",
        "colab": {
          "base_uri": "https://localhost:8080/",
          "height": 119
        }
      },
      "source": [
        "df['year'].head(5)"
      ],
      "execution_count": 68,
      "outputs": [
        {
          "output_type": "execute_result",
          "data": {
            "text/plain": [
              "0    2009\n",
              "1    2017\n",
              "2    2019\n",
              "3    2019\n",
              "4    2019\n",
              "Name: year, dtype: int64"
            ]
          },
          "metadata": {
            "tags": []
          },
          "execution_count": 68
        }
      ]
    },
    {
      "cell_type": "markdown",
      "metadata": {
        "id": "kWtHX4lZIoMc",
        "colab_type": "text"
      },
      "source": [
        "### Creating the chart by year"
      ]
    },
    {
      "cell_type": "code",
      "metadata": {
        "id": "xgowNiOHJruE",
        "colab_type": "code",
        "outputId": "4a722211-06d9-4924-eac0-eb524572ea68",
        "colab": {
          "base_uri": "https://localhost:8080/",
          "height": 238
        }
      },
      "source": [
        "resources_by_year = df['year'].value_counts()\n",
        "resources_by_year"
      ],
      "execution_count": 71,
      "outputs": [
        {
          "output_type": "execute_result",
          "data": {
            "text/plain": [
              "2009    12\n",
              "2017     7\n",
              "2013     7\n",
              "2011     7\n",
              "2019     6\n",
              "2015     3\n",
              "2012     3\n",
              "2016     2\n",
              "2010     2\n",
              "2008     2\n",
              "2005     2\n",
              "2018     1\n",
              "Name: year, dtype: int64"
            ]
          },
          "metadata": {
            "tags": []
          },
          "execution_count": 71
        }
      ]
    },
    {
      "cell_type": "code",
      "metadata": {
        "id": "uF6xz6iFIoMd",
        "colab_type": "code",
        "outputId": "359f4811-47ca-4f21-9331-3ad8d236434f",
        "colab": {
          "base_uri": "https://localhost:8080/",
          "height": 528
        }
      },
      "source": [
        "ax = resources_by_year.plot(kind='bar',\n",
        "                                    figsize=(14,8),\n",
        "                                    title=\"Number of resources per year\")\n",
        "ax.set_xlabel(\"Dates\")\n",
        "ax.set_ylabel(\"Resources\")\n",
        "plt.show()"
      ],
      "execution_count": 72,
      "outputs": [
        {
          "output_type": "display_data",
          "data": {
            "image/png": "[encoded data removed]",
            "text/plain": [
              "<Figure size 1008x576 with 1 Axes>"
            ]
          },
          "metadata": {
            "tags": [],
            "needs_background": "light"
          }
        }
      ]
    }
  ]
}