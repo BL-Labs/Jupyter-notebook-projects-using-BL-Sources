{
 "cells": [
  {
   "cell_type": "markdown",
   "metadata": {
    "colab_type": "text",
    "id": "view-in-github"
   },
   "source": [
    "<a href=\"https://colab.research.google.com/github/BL-Labs/Jupyter-notebooks-projects-using-BL-Sources/blob/master/LOD_SPARQL/01_BNB_SPARQL_Compare_Publication_Year_for_two_Subjects.ipynb\" target=\"_parent\"><img src=\"https://colab.research.google.com/assets/colab-badge.svg\" alt=\"Open In Colab\"/></a>"
   ]
  },
  {
   "cell_type": "markdown",
   "metadata": {
    "colab_type": "text",
    "id": "TU0Elp2wIoK_"
   },
   "source": [
    "# BNB -- SPARQL query - Compare resources' Publication Year for two Subjects\n",
    "\n",
    "The [BNB Linked Data Platform](https://bnb.data.bl.uk/) provides access to the [British National Bibliography (BNB)](http://www.bl.uk/bibliographic/natbib.html) published as linked open data and made available through SPARQL services. \n",
    "\n",
    "This notebook explains how to query it to retrieve records of resources indexed under two given Subjects / Topics (LCSH), and compare their number by publication year."
   ]
  },
  {
   "cell_type": "markdown",
   "metadata": {
    "colab_type": "text",
    "id": "rkWxy-LgIoLB"
   },
   "source": [
    "## Define the Subjects to Compare\n",
    "\n",
    "Set the Subject to search from [LCSH list](http://id.loc.gov/authorities/subjects.html):"
   ]
  },
  {
   "cell_type": "code",
   "execution_count": 0,
   "metadata": {
    "colab": {},
    "colab_type": "code",
    "id": "jbYUkXcXIoLC"
   },
   "outputs": [],
   "source": [
    "# Examples -- uncomment the desired subject, or added your own set of Subject and Label, and do \"Run\" or \"Runtime\" > \"Run all\" or \"Run all cells\":\n",
    "\n",
    "Label = ''\n",
    "\n",
    "# Subject = 'Nanotubes'\n",
    "# Label = 'Nanotubes'\n",
    "\n",
    "Subject1 = 'Climaticchanges'\n",
    "Label1 = 'Climatic Changes'\n",
    "\n",
    "Subject2 = 'Globalwarming'\n",
    "Label2 = 'Global Warming'"
   ]
  },
  {
   "cell_type": "markdown",
   "metadata": {
    "colab_type": "text",
    "id": "qt0a7zDeIoLH"
   },
   "source": [
    "#### Required modules / libraries"
   ]
  },
  {
   "cell_type": "code",
   "execution_count": 0,
   "metadata": {
    "colab": {},
    "colab_type": "code",
    "id": "grVj5kG8IoLH"
   },
   "outputs": [],
   "source": [
    "import requests\n",
    "import pandas as pd\n",
    "import json\n",
    "import csv\n",
    "import matplotlib.pyplot as plt\n",
    "from pandas import json_normalize"
   ]
  },
  {
   "cell_type": "markdown",
   "metadata": {
    "colab_type": "text",
    "id": "OGC6e5K8IoLL"
   },
   "source": [
    "## Let's query the repository by asking the publications indexed by the defined Subjects\n",
    "We will use the [SPARQL endpoint](https://bnb.data.bl.uk/flint-sparql) to create the query and configure the request to retrieve json as a result."
   ]
  },
  {
   "cell_type": "code",
   "execution_count": 0,
   "metadata": {
    "colab": {
     "base_uri": "https://localhost:8080/",
     "height": 34
    },
    "colab_type": "code",
    "id": "orhVTXt0IoLL",
    "outputId": "5fe9cbee-7b1f-4c98-bcf3-f7084761c33c"
   },
   "outputs": [
    {
     "name": "stdout",
     "output_type": "stream",
     "text": [
      "Records retrieved for subject Climatic Changes\n"
     ]
    }
   ],
   "source": [
    "url = 'https://bnb.data.bl.uk/sparql'\n",
    "query = \"\"\"\n",
    "PREFIX bibo: <http://purl.org/ontology/bibo/> \n",
    "PREFIX dct: <http://purl.org/dc/terms/> \n",
    "PREFIX schema: <http://schema.org/> \n",
    "PREFIX rdfs: <http://www.w3.org/2000/01/rdf-schema#> \n",
    "\n",
    "SELECT ?resource ?isbn ?title ?date ?author ?authorUri WHERE {{\n",
    "      ?resource dct:subject <http://bnb.data.bl.uk/id/concept/lcsh/{0}>;  \n",
    "            dct:title ?title ; \n",
    "            schema:author ?authorUri ; \n",
    "            schema:datePublished ?date . \n",
    "      ?authorUri rdfs:label ?author .\n",
    "}}  \n",
    "\"\"\"\n",
    "\n",
    "# Query for Subject 1\n",
    "query1 = query.format(Subject1)\n",
    "\n",
    "# use json as a result\n",
    "headers = {'Accept': 'application/sparql-results+json'}\n",
    "r = requests.get(url, params = {'format': 'application/sparql-results+json', 'query': query1}, headers=headers)\n",
    "print('Records retrieved for subject ' + Label1)\n"
   ]
  },
  {
   "cell_type": "code",
   "execution_count": 0,
   "metadata": {
    "colab": {},
    "colab_type": "code",
    "id": "_LQpszOt0vZw"
   },
   "outputs": [],
   "source": [
    "# print(r.text)"
   ]
  },
  {
   "cell_type": "markdown",
   "metadata": {
    "colab_type": "text",
    "id": "IPV7YE5QIoLS"
   },
   "source": [
    "## Load the data into DataFrames"
   ]
  },
  {
   "cell_type": "code",
   "execution_count": 0,
   "metadata": {
    "colab": {
     "base_uri": "https://localhost:8080/",
     "height": 267
    },
    "colab_type": "code",
    "id": "0G0_FjkEIoLT",
    "outputId": "f9669dbb-9346-497d-8a79-e15c6660ae2d"
   },
   "outputs": [
    {
     "data": {
      "text/html": [
       "<div>\n",
       "<style scoped>\n",
       "    .dataframe tbody tr th:only-of-type {\n",
       "        vertical-align: middle;\n",
       "    }\n",
       "\n",
       "    .dataframe tbody tr th {\n",
       "        vertical-align: top;\n",
       "    }\n",
       "\n",
       "    .dataframe thead th {\n",
       "        text-align: right;\n",
       "    }\n",
       "</style>\n",
       "<table border=\"1\" class=\"dataframe\">\n",
       "  <thead>\n",
       "    <tr style=\"text-align: right;\">\n",
       "      <th></th>\n",
       "      <th>resource.type</th>\n",
       "      <th>resource.value</th>\n",
       "      <th>title.type</th>\n",
       "      <th>title.value</th>\n",
       "      <th>date.type</th>\n",
       "      <th>date.value</th>\n",
       "      <th>author.type</th>\n",
       "      <th>author.value</th>\n",
       "      <th>authorUri.type</th>\n",
       "      <th>authorUri.value</th>\n",
       "    </tr>\n",
       "  </thead>\n",
       "  <tbody>\n",
       "    <tr>\n",
       "      <th>0</th>\n",
       "      <td>uri</td>\n",
       "      <td>http://bnb.data.bl.uk/id/resource/019483741</td>\n",
       "      <td>literal</td>\n",
       "      <td>Dwelling in the age of climate change : the et...</td>\n",
       "      <td>literal</td>\n",
       "      <td>2019-08</td>\n",
       "      <td>literal</td>\n",
       "      <td>Kelly, Elaine</td>\n",
       "      <td>uri</td>\n",
       "      <td>http://bnb.data.bl.uk/id/person/KellyElaine</td>\n",
       "    </tr>\n",
       "    <tr>\n",
       "      <th>1</th>\n",
       "      <td>uri</td>\n",
       "      <td>http://bnb.data.bl.uk/id/resource/019483741</td>\n",
       "      <td>literal</td>\n",
       "      <td>Dwelling in the age of climate change : the et...</td>\n",
       "      <td>literal</td>\n",
       "      <td>2019-08</td>\n",
       "      <td>literal</td>\n",
       "      <td>Kelly, Elaine</td>\n",
       "      <td>uri</td>\n",
       "      <td>http://bnb.data.bl.uk/id/person/KellyElaine</td>\n",
       "    </tr>\n",
       "  </tbody>\n",
       "</table>\n",
       "</div>"
      ],
      "text/plain": [
       "  resource.type  ...                              authorUri.value\n",
       "0           uri  ...  http://bnb.data.bl.uk/id/person/KellyElaine\n",
       "1           uri  ...  http://bnb.data.bl.uk/id/person/KellyElaine\n",
       "\n",
       "[2 rows x 10 columns]"
      ]
     },
     "execution_count": 5,
     "metadata": {
      "tags": []
     },
     "output_type": "execute_result"
    }
   ],
   "source": [
    "bnbdata = json.loads(r.text)\n",
    "dfSub1 = json_normalize(bnbdata['results']['bindings']) \n",
    "dfSub1.head(2)"
   ]
  },
  {
   "cell_type": "code",
   "execution_count": 0,
   "metadata": {
    "colab": {
     "base_uri": "https://localhost:8080/",
     "height": 318
    },
    "colab_type": "code",
    "id": "WMtokbR5Ew9j",
    "outputId": "25ccb99b-694b-4483-8e76-f17a709a5d03"
   },
   "outputs": [
    {
     "name": "stdout",
     "output_type": "stream",
     "text": [
      "Elements retrieved for subject Global Warming\n"
     ]
    },
    {
     "data": {
      "text/html": [
       "<div>\n",
       "<style scoped>\n",
       "    .dataframe tbody tr th:only-of-type {\n",
       "        vertical-align: middle;\n",
       "    }\n",
       "\n",
       "    .dataframe tbody tr th {\n",
       "        vertical-align: top;\n",
       "    }\n",
       "\n",
       "    .dataframe thead th {\n",
       "        text-align: right;\n",
       "    }\n",
       "</style>\n",
       "<table border=\"1\" class=\"dataframe\">\n",
       "  <thead>\n",
       "    <tr style=\"text-align: right;\">\n",
       "      <th></th>\n",
       "      <th>resource.type</th>\n",
       "      <th>resource.value</th>\n",
       "      <th>title.type</th>\n",
       "      <th>title.value</th>\n",
       "      <th>date.type</th>\n",
       "      <th>date.value</th>\n",
       "      <th>author.type</th>\n",
       "      <th>author.value</th>\n",
       "      <th>authorUri.type</th>\n",
       "      <th>authorUri.value</th>\n",
       "    </tr>\n",
       "  </thead>\n",
       "  <tbody>\n",
       "    <tr>\n",
       "      <th>0</th>\n",
       "      <td>uri</td>\n",
       "      <td>http://bnb.data.bl.uk/id/resource/018543304</td>\n",
       "      <td>literal</td>\n",
       "      <td>Global climate change : turning knowledge into...</td>\n",
       "      <td>literal</td>\n",
       "      <td>2017-09</td>\n",
       "      <td>literal</td>\n",
       "      <td>Kitchen, David, 1956-</td>\n",
       "      <td>uri</td>\n",
       "      <td>http://bnb.data.bl.uk/id/person/KitchenDavid1956-</td>\n",
       "    </tr>\n",
       "    <tr>\n",
       "      <th>1</th>\n",
       "      <td>uri</td>\n",
       "      <td>http://bnb.data.bl.uk/id/resource/018543304</td>\n",
       "      <td>literal</td>\n",
       "      <td>Global climate change : turning knowledge into...</td>\n",
       "      <td>literal</td>\n",
       "      <td>2017-09</td>\n",
       "      <td>literal</td>\n",
       "      <td>Kitchen, David, 1956-</td>\n",
       "      <td>uri</td>\n",
       "      <td>http://bnb.data.bl.uk/id/person/KitchenDavid1956-</td>\n",
       "    </tr>\n",
       "  </tbody>\n",
       "</table>\n",
       "</div>"
      ],
      "text/plain": [
       "  resource.type  ...                                    authorUri.value\n",
       "0           uri  ...  http://bnb.data.bl.uk/id/person/KitchenDavid1956-\n",
       "1           uri  ...  http://bnb.data.bl.uk/id/person/KitchenDavid1956-\n",
       "\n",
       "[2 rows x 10 columns]"
      ]
     },
     "execution_count": 6,
     "metadata": {
      "tags": []
     },
     "output_type": "execute_result"
    }
   ],
   "source": [
    "# Query for Subject 2\n",
    "query2 = query.format(Subject2)\n",
    "\n",
    "r = requests.get(url, params = {'format': 'application/sparql-results+json', 'query': query2}, headers=headers)\n",
    "print('Elements retrieved for subject ' + Label2)\n",
    "\n",
    "bnbdata = json.loads(r.text)\n",
    "dfSub2 = json_normalize(bnbdata['results']['bindings']) \n",
    "dfSub2.head(2)"
   ]
  },
  {
   "cell_type": "markdown",
   "metadata": {
    "colab_type": "text",
    "id": "DMgoGtlyIoLj"
   },
   "source": [
    "## How many items?"
   ]
  },
  {
   "cell_type": "code",
   "execution_count": 0,
   "metadata": {
    "colab": {
     "base_uri": "https://localhost:8080/",
     "height": 51
    },
    "colab_type": "code",
    "id": "bDsScd1gIoLk",
    "outputId": "4bb9bfc3-6978-42ea-f042-367ec6e9a771"
   },
   "outputs": [
    {
     "name": "stdout",
     "output_type": "stream",
     "text": [
      "Number of records retrieved for subject Climatic Changes: 1211\n",
      "Number of records retrieved for subject Global Warming: 455\n"
     ]
    }
   ],
   "source": [
    "# How many items for each Subject?\n",
    "print('Number of records retrieved for subject ' + Label1 + ': ' + str(len(dfSub1)))\n",
    "print('Number of records retrieved for subject ' + Label2 + ': ' + str(len(dfSub2)))\n"
   ]
  },
  {
   "cell_type": "markdown",
   "metadata": {
    "colab_type": "text",
    "id": "DXFWETl7IoLn"
   },
   "source": [
    "### Let's count the number of Resources by author"
   ]
  },
  {
   "cell_type": "code",
   "execution_count": 0,
   "metadata": {
    "colab": {
     "base_uri": "https://localhost:8080/",
     "height": 238
    },
    "colab_type": "code",
    "id": "PjY-cqnqIoLo",
    "outputId": "acb353e7-181e-4fdd-c3d4-25e283e8fb2e"
   },
   "outputs": [
    {
     "name": "stdout",
     "output_type": "stream",
     "text": [
      "Rank of Authors about Climatic Changes\n"
     ]
    },
    {
     "data": {
      "text/plain": [
       "Dessler, Andrew Emory                     12\n",
       "Houghton, J. T. (John Theodore), 1931-    12\n",
       "Gribbin, John, 1946-                      12\n",
       "Goodell, Jeff                             10\n",
       "Grove, Jean M.                            10\n",
       "                                          ..\n",
       "Goodess, C. M.                             1\n",
       "Jarman, Melanie                            1\n",
       "Craven, Greg                               1\n",
       "Bows, Alice, 1974-                         1\n",
       "Money, D. C.                               1\n",
       "Name: author.value, Length: 596, dtype: int64"
      ]
     },
     "execution_count": 8,
     "metadata": {
      "tags": []
     },
     "output_type": "execute_result"
    }
   ],
   "source": [
    "#Subject 1\n",
    "resources_by_author_Sub1 = dfSub1['author.value'].value_counts()\n",
    "print('Rank of Authors about ' + Label1)\n",
    "resources_by_author_Sub1"
   ]
  },
  {
   "cell_type": "code",
   "execution_count": 0,
   "metadata": {
    "colab": {
     "base_uri": "https://localhost:8080/",
     "height": 238
    },
    "colab_type": "code",
    "id": "lQs08YqyTeva",
    "outputId": "1a6568e2-cef4-4a68-b07b-25d5c9225be1"
   },
   "outputs": [
    {
     "name": "stdout",
     "output_type": "stream",
     "text": [
      "Rank of Authors about Global Warming\n"
     ]
    },
    {
     "data": {
      "text/plain": [
       "Houghton, J. T. (John Theodore), 1931-       18\n",
       "Hansen, James E. (James Edward), 1941-       12\n",
       "Johansen, Bruce E. (Bruce Elliott), 1950-    10\n",
       "Booker, Christopher                           8\n",
       "Lynas, Mark, 1973-                            8\n",
       "                                             ..\n",
       "Gray, Vincent, Ph. D.                         1\n",
       "Nisbet, E. G. (Euan George)                   1\n",
       "Craven, Greg                                  1\n",
       "Jarman, Melanie                               1\n",
       "Ying, Jun                                     1\n",
       "Name: author.value, Length: 218, dtype: int64"
      ]
     },
     "execution_count": 9,
     "metadata": {
      "tags": []
     },
     "output_type": "execute_result"
    }
   ],
   "source": [
    "#Subject 2\n",
    "resources_by_author_Sub2 = dfSub2['author.value'].value_counts()\n",
    "print('Rank of Authors about ' + Label2)\n",
    "resources_by_author_Sub2"
   ]
  },
  {
   "cell_type": "markdown",
   "metadata": {
    "colab_type": "text",
    "id": "5ty7tAEtIoL9"
   },
   "source": [
    "### Create a chart to visualize the results\n",
    "First let's see a top of publication Dates:"
   ]
  },
  {
   "cell_type": "markdown",
   "metadata": {
    "colab_type": "text",
    "id": "bzuMZwCSIoMH"
   },
   "source": [
    "### Let's group the books by year"
   ]
  },
  {
   "cell_type": "code",
   "execution_count": 0,
   "metadata": {
    "colab": {
     "base_uri": "https://localhost:8080/",
     "height": 119
    },
    "colab_type": "code",
    "id": "D56P3lFPIoMJ",
    "outputId": "efac1f07-fa29-41da-913d-97e13d7f8c5a"
   },
   "outputs": [
    {
     "data": {
      "text/plain": [
       "0    2019\n",
       "1    2019\n",
       "2    2019\n",
       "3    2019\n",
       "4    2015\n",
       "Name: year, dtype: int64"
      ]
     },
     "execution_count": 10,
     "metadata": {
      "tags": []
     },
     "output_type": "execute_result"
    }
   ],
   "source": [
    "# First we create a new column in pandas with the year\n",
    "dfSub1['year'] = pd.DatetimeIndex(dfSub1['date.value']).year\n",
    "dfSub2['year'] = pd.DatetimeIndex(dfSub2['date.value']).year\n",
    "\n",
    "# Check first five from Subject 1 books\n",
    "dfSub1['year'].head(5)"
   ]
  },
  {
   "cell_type": "markdown",
   "metadata": {
    "colab_type": "text",
    "id": "kWtHX4lZIoMc"
   },
   "source": [
    "### Creating the chart of resources per year"
   ]
  },
  {
   "cell_type": "code",
   "execution_count": 0,
   "metadata": {
    "colab": {
     "base_uri": "https://localhost:8080/",
     "height": 765
    },
    "colab_type": "code",
    "id": "xgowNiOHJruE",
    "outputId": "8ac838c9-a63d-43c6-8b20-0d4dd285b23c"
   },
   "outputs": [
    {
     "data": {
      "text/plain": [
       "1974      1\n",
       "1975      2\n",
       "1976      4\n",
       "1977      2\n",
       "1978      4\n",
       "1979      3\n",
       "1981      4\n",
       "1982      4\n",
       "1983      2\n",
       "1984      1\n",
       "1986      2\n",
       "1988      3\n",
       "1989      8\n",
       "1990      4\n",
       "1992     12\n",
       "1993      5\n",
       "1994      2\n",
       "1995      9\n",
       "1996      4\n",
       "1997     14\n",
       "1998      7\n",
       "1999      8\n",
       "2000     15\n",
       "2001     15\n",
       "2002     12\n",
       "2003     18\n",
       "2004     16\n",
       "2005     17\n",
       "2006     18\n",
       "2007     34\n",
       "2008     51\n",
       "2009     44\n",
       "2010     56\n",
       "2011     39\n",
       "2012     42\n",
       "2013     50\n",
       "2014     42\n",
       "2015    108\n",
       "2016    115\n",
       "2017    118\n",
       "2018    125\n",
       "2019    116\n",
       "2020     55\n",
       "Name: year, dtype: int64"
      ]
     },
     "execution_count": 11,
     "metadata": {
      "tags": []
     },
     "output_type": "execute_result"
    }
   ],
   "source": [
    "# .sort_index() is very important = sorts by year, instead of the the regular count number\n",
    "\n",
    "resources_by_year_Sub1 = dfSub1['year'].value_counts().sort_index()\n",
    "resources_by_year_Sub2 = dfSub2['year'].value_counts().sort_index()\n",
    "\n",
    "# let's check for Subject 1\n",
    "resources_by_year_Sub1"
   ]
  },
  {
   "cell_type": "code",
   "execution_count": 0,
   "metadata": {
    "colab": {
     "base_uri": "https://localhost:8080/",
     "height": 459
    },
    "colab_type": "code",
    "id": "fbVlWepbZzPJ",
    "outputId": "fdd1e159-50ce-4926-c82b-fe2bd4bde378"
   },
   "outputs": [
    {
     "data": {
      "text/plain": [
       "Text(0, 0.5, 'Number of Published Resources')"
      ]
     },
     "execution_count": 14,
     "metadata": {
      "tags": []
     },
     "output_type": "execute_result"
    },
    {
     "data": {
      "image/png": "[encoded data removed]",
      "text/plain": [
       "<Figure size 1080x504 with 1 Axes>"
      ]
     },
     "metadata": {
      "needs_background": "light",
      "tags": []
     },
     "output_type": "display_data"
    }
   ],
   "source": [
    "plt.figure(figsize=(15,7))\n",
    "resources_by_year_Sub1.plot(marker='o', markerfacecolor='blue', markersize=1, color='skyblue', linewidth=2, label=Label1)\n",
    "resources_by_year_Sub2.plot(marker='x', color='orange', markersize=2, linewidth=2, label=Label2)\n",
    "plt.legend(title = 'Number of Resources by Publication Year', title_fontsize = '14')\n",
    "plt.xlabel(\"Year\")\n",
    "plt.ylabel(\"Number of Published Resources\")"
   ]
  }
 ],
 "metadata": {
  "colab": {
   "include_colab_link": true,
   "name": "01_BNB_SPARQL_Compare_Publication_Year_for_two_Subjects.ipynb",
   "provenance": []
  },
  "kernelspec": {
   "display_name": "Python 3",
   "language": "python",
   "name": "python3"
  },
  "language_info": {
   "codemirror_mode": {
    "name": "ipython",
    "version": 3
   },
   "file_extension": ".py",
   "mimetype": "text/x-python",
   "name": "python",
   "nbconvert_exporter": "python",
   "pygments_lexer": "ipython3",
   "version": "3.7.3"
  }
 },
 "nbformat": 4,
 "nbformat_minor": 1
}
