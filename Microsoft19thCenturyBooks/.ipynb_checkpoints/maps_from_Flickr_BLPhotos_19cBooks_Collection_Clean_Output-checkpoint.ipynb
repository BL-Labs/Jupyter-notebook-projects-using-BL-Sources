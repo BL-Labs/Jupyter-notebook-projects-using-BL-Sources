{
 "cells": [
  {
   "cell_type": "markdown",
   "metadata": {},
   "source": [
    "<div class=\"jumbotron jumbotron-fluid\">\n",
    "  <div class=\"container\">\n",
    "    <h1 class=\"display-4\">Maps from Flickr BL's Photos Collection</h1>\n",
    "    <p class=\"lead\">53,367 images extracted from a collection of 65,000 digitised books (largely from the 19th Century), that were identified as maps.</p>\n",
    "  </div>\n",
    "</div>"
   ]
  },
  {
   "cell_type": "markdown",
   "metadata": {},
   "source": [
    "<a href=\"https://colab.research.google.com/github/BL-Labs/Jupyter-notebooks-projects-using-BL-Sources/blob/master/Microsoft19thCenturyBooks/maps_from_Flickr_BLPhotos_19cBooks_Collection.ipynb\" target=\"_parent\"><img src=\"https://colab.research.google.com/assets/colab-badge.svg\" alt=\"Open In Colab\"/></a>"
   ]
  },
  {
   "cell_type": "markdown",
   "metadata": {},
   "source": [
    "### In this Notebook:\n",
    "\n",
    " * Load metadata from a JSON file (compressed inside a zip file)\n",
    "     * 53,367 records inside a \"rows\" array at top level (root of the JSON file)\n",
    "     * Available properties/keys (fields): photoid, title, description, alephSysNumber, page, geoRefId, url_c, url_o, tags, machine_tags, views\n",
    " * Generate the relevant links to the several services\n",
    " * Display the map (image)\n",
    " * Next: add metadata to a DataFrame (Pandas) and do some search and processing"
   ]
  },
  {
   "cell_type": "code",
   "execution_count": null,
   "metadata": {},
   "outputs": [],
   "source": [
    "# imports\n",
    "\n",
    "import zipfile\n",
    "import urllib\n",
    "import json\n",
    "import io"
   ]
  },
  {
   "cell_type": "code",
   "execution_count": null,
   "metadata": {},
   "outputs": [],
   "source": [
    "# RUN this CELL if using BINDER or a LOCAL Jupyter Notebooks SERVER (see bellow for Google Colab)\n",
    "# read JSON metadata file (311MB) Flickr_BLPhotos20200330_maps.zip (20.8MB))\n",
    "\n",
    "filename = \"../DataBL/19cbooks/Flickr_BLPhotos20200330_maps.zip\"\n",
    "\n",
    "# unzips the files Flickr_BLPhotos20200330_maps.zip\n",
    "z = zipfile.ZipFile(filename)"
   ]
  },
  {
   "cell_type": "code",
   "execution_count": null,
   "metadata": {},
   "outputs": [],
   "source": [
    "# RUN this CELL if using Google COLAB\n",
    "# read JSON metadata file (311MB) Flickr_BLPhotos20200330_maps.zip (20.8MB))\n",
    "\n",
    "zip_file = \"https://github.com/BL-Labs/Jupyter-notebooks-projects-using-BL-Sources/raw/master/DataBL/19cbooks/Flickr_BLPhotos20200330_maps.zip\"\n",
    "\n",
    "# OR test loading it from data.bl.uk\n",
    "# zip_file = \"http://data.bl.uk/19cbooks/Flickr_BLPhotos20200330_maps.zip\"\n",
    "\n",
    "access_url = urllib.request.urlopen(zip_file)\n",
    "\n",
    "# unzips the files inside book_data.zip\n",
    "z = zipfile.ZipFile(io.BytesIO(access_url.read()))"
   ]
  },
  {
   "cell_type": "code",
   "execution_count": null,
   "metadata": {},
   "outputs": [],
   "source": [
    "# loads JSON from the first (only) file inside into a list \n",
    "meta = json.loads(z.read(z.infolist()[0]).decode('utf-8'))"
   ]
  },
  {
   "cell_type": "code",
   "execution_count": null,
   "metadata": {},
   "outputs": [],
   "source": [
    "# number of records inside this list\n",
    "\n",
    "len(meta['rows'])"
   ]
  },
  {
   "cell_type": "code",
   "execution_count": null,
   "metadata": {},
   "outputs": [],
   "source": [
    "# checking the first row (0 -- change the value of i for another record)\n",
    "\n",
    "i = 0\n",
    "\n",
    "meta['rows'][i]"
   ]
  },
  {
   "cell_type": "code",
   "execution_count": null,
   "metadata": {},
   "outputs": [],
   "source": [
    "print('\\nTitle:')\n",
    "print(meta['rows'][i]['title']+'\\n')\n",
    "print('* Flickr record:')\n",
    "print('https://www.flickr.com/photos/britishlibrary/'+meta['rows'][i]['geoRefId']+'\\n')\n",
    "print('* This book\\'s catalog record at BL explorer:')\n",
    "print('http://explore.bl.uk/primo_library/libweb/action/search.do?cs=frb&doc=BLL'+ meta['rows'][i]['alephSysNumber'] + '&dscnt=1&scp.scps=scope:(BLCONTENT)&frbg=&tab=local_tab&srt=rank&ct=search&mode=Basic&dum=true&tb=t&indx=1&vl(freeText0)='+ meta['rows'][i]['alephSysNumber'] + '&fn=search&vid=BLVU1'+'\\n')\n",
    "print('* This map on BL\\'s GeoReferencer Service:')\n",
    "print('http://britishlibrary.georeferencer.com/id/'+ meta['rows'][i]['geoRefId']+'\\n')\n",
    "print('\\nAs of 30th March 2020, this image / map had '+ str(meta['rows'][i]['views']) +' views.\\n')"
   ]
  },
  {
   "cell_type": "code",
   "execution_count": null,
   "metadata": {},
   "outputs": [],
   "source": [
    "print('\\nImage Description:\\n')\n",
    "from IPython.core.display import HTML\n",
    "HTML(meta['rows'][i]['description'].replace('\\r\\n','<br>'))"
   ]
  },
  {
   "cell_type": "code",
   "execution_count": null,
   "metadata": {},
   "outputs": [],
   "source": [
    "print('\\nAnd the image / map:\\n')\n",
    "HTML('<img src=\"'+meta['rows'][i]['url_c']+'\" alt=\"Girl in a jacket\">')"
   ]
  },
  {
   "cell_type": "code",
   "execution_count": null,
   "metadata": {},
   "outputs": [],
   "source": [
    "print('\\nDownload the original image / map:\\n')\n",
    "print(meta['rows'][i]['url_o']+'\\n')"
   ]
  }
 ],
 "metadata": {
  "kernelspec": {
   "display_name": "Python 3",
   "language": "python",
   "name": "python3"
  },
  "language_info": {
   "codemirror_mode": {
    "name": "ipython",
    "version": 3
   },
   "file_extension": ".py",
   "mimetype": "text/x-python",
   "name": "python",
   "nbconvert_exporter": "python",
   "pygments_lexer": "ipython3",
   "version": "3.7.3"
  }
 },
 "nbformat": 4,
 "nbformat_minor": 2
}
