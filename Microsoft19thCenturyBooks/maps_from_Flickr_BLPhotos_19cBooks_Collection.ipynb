{
 "cells": [
  {
   "cell_type": "markdown",
   "metadata": {},
   "source": [
    "<div class=\"jumbotron jumbotron-fluid\">\n",
    "  <div class=\"container\">\n",
    "    <h1 class=\"display-4\">Maps from Flickr BL's Photos Collection</h1>\n",
    "    <p class=\"lead\">53,367 images extracted from a collection of 65,000 digitised books (largely from the 19th Century), that were identified as maps.</p>\n",
    "  </div>\n",
    "</div>"
   ]
  },
  {
   "cell_type": "markdown",
   "metadata": {},
   "source": [
    "<a href=\"https://colab.research.google.com/github/BL-Labs/Jupyter-notebooks-projects-using-BL-Sources/blob/master/Microsoft19thCenturyBooks/maps_from_Flickr_BLPhotos_19cBooks_Collection.ipynb\" target=\"_parent\"><img src=\"https://colab.research.google.com/assets/colab-badge.svg\" alt=\"Open In Colab\"/></a>"
   ]
  },
  {
   "cell_type": "markdown",
   "metadata": {},
   "source": [
    "### In this Notebook:\n",
    "\n",
    " * Load metadata from a JSON file (compressed inside a zip file)\n",
    "     * 53,367 records inside a \"rows\" array at top level (root of the JSON file)\n",
    "     * Available properties/keys (fields): photoid, title, description, alephSysNumber, page, geoRefId, url_c, url_o, tags, machine_tags, views\n",
    " * Generate the relevant links to the several services\n",
    " * Display the map (image)\n",
    " * Next: add metadata to a DataFrame (Pandas) and do some search and processing"
   ]
  },
  {
   "cell_type": "code",
   "execution_count": 1,
   "metadata": {},
   "outputs": [],
   "source": [
    "# imports\n",
    "\n",
    "import zipfile\n",
    "import urllib\n",
    "import json\n",
    "import io"
   ]
  },
  {
   "cell_type": "code",
   "execution_count": 2,
   "metadata": {},
   "outputs": [],
   "source": [
    "# RUN this CELL if using BINDER or a LOCAL Jupyter Notebooks SERVER (see bellow for Google Colab)\n",
    "# read JSON metadata file (311MB) Flickr_BLPhotos20200330_maps.zip (20.8MB))\n",
    "\n",
    "filename = \"../DataBL/19cbooks/Flickr_BLPhotos20200330_maps.zip\"\n",
    "\n",
    "# unzips the files Flickr_BLPhotos20200330_maps.zip\n",
    "z = zipfile.ZipFile(filename)"
   ]
  },
  {
   "cell_type": "code",
   "execution_count": null,
   "metadata": {},
   "outputs": [],
   "source": [
    "# RUN this CELL if using Google COLAB\n",
    "# read JSON metadata file (311MB) Flickr_BLPhotos20200330_maps.zip (20.8MB))\n",
    "\n",
    "zip_file = \"https://github.com/BL-Labs/Jupyter-notebooks-projects-using-BL-Sources/raw/master/DataBL/19cbooks/Flickr_BLPhotos20200330_maps.zip\"\n",
    "\n",
    "# OR test loading it from data.bl.uk\n",
    "# zip_file = \"http://data.bl.uk/19cbooks/Flickr_BLPhotos20200330_maps.zip\"\n",
    "\n",
    "access_url = urllib.request.urlopen(zip_file)\n",
    "\n",
    "# unzips the files inside book_data.zip\n",
    "z = zipfile.ZipFile(io.BytesIO(access_url.read()))"
   ]
  },
  {
   "cell_type": "code",
   "execution_count": 3,
   "metadata": {},
   "outputs": [],
   "source": [
    "# loads JSON from the first (only) file inside into a list \n",
    "meta = json.loads(z.read(z.infolist()[0]).decode('utf-8'))"
   ]
  },
  {
   "cell_type": "code",
   "execution_count": 4,
   "metadata": {},
   "outputs": [
    {
     "data": {
      "text/plain": [
       "53367"
      ]
     },
     "execution_count": 4,
     "metadata": {},
     "output_type": "execute_result"
    }
   ],
   "source": [
    "# number of records inside this list\n",
    "\n",
    "len(meta['rows'])"
   ]
  },
  {
   "cell_type": "code",
   "execution_count": 5,
   "metadata": {},
   "outputs": [
    {
     "data": {
      "text/plain": [
       "{'photoid': '10997080015',\n",
       " 'title': 'British Library digitised image from page 211 of \"Leonis Flaminii Itinerarium per Palæstinam, das ist, eine ... Reiss-Beschreibung ... worbey auch allerhand Figuren befindlich, etc\"',\n",
       " 'description': 'Image taken from:\\r\\n\\t\\t\\r\\n<strong>Title</strong>: &quot;Leonis Flaminii Itinerarium per Palæstinam, das ist, eine ... Reiss-Beschreibung ... worbey auch allerhand Figuren befindlich, etc&quot;\\r\\n<strong>Author(s)</strong>: Flaminius, Leo, pseudonym [i.e. Leonhard Rauwolf] [person]\\r\\n<strong>British Library shelfmark</strong>: &quot;Digital Store 10077.de.10&quot;\\r\\n<strong>Page</strong>: 211 (scanned page number - not necessarily the actual page number in the publication)\\r\\n<strong>Place of publication</strong>: Rotenburg\\r\\n<strong>Date of publication</strong>: 1681\\r\\n<strong>Type of resource</strong>: Monograph\\r\\n<strong>Language(s)</strong>: German\\r\\n<strong>Physical description</strong>: 240 pages (4°)\\t\\t\\r\\n\\t\\t\\r\\n<strong>Explore this item</strong> in the British Library’s catalogue:  \\r\\n<a href=\"http://explore.bl.uk/primo_library/libweb/action/search.do?cs=frb&amp;doc=BLL01001248523&amp;dscnt=1&amp;scp.scps=scope:(BLCONTENT)&amp;frbg=&amp;tab=local_tab&amp;srt=rank&amp;ct=search&amp;mode=Basic&amp;dum=true&amp;tb=t&amp;indx=1&amp;vl(freeText0)=001248523&amp;fn=search&amp;vid=BLVU1\" rel=\"nofollow\">001248523</a> (physical copy) and <a href=\"http://explore.bl.uk/primo_library/libweb/action/search.do?cs=frb&amp;doc=BLL01014847244&amp;dscnt=1&amp;scp.scps=scope:(BLCONTENT)&amp;frbg=&amp;tab=local_tab&amp;srt=rank&amp;ct=search&amp;mode=Basic&amp;dum=true&amp;tb=t&amp;indx=1&amp;vl(freeText0)=014847244&amp;fn=search&amp;vid=BLVU1\" rel=\"nofollow\">014847244</a> (digitised copy)\\r\\n(numbers are British Library identifiers)\\r\\n\\r\\n<strong>Other links related to this image:</strong>\\r\\n- <strong>View</strong> this image as a scanned publication on the <a href=\"http://access.bl.uk/item/viewer/ark:/81055/vdc_000000006F5A#?cv=210\" alt=\"Open the book scan page in the British Library’s Universal Viewer\">British Library’s online viewer</a> (you can download the image, selected pages or the whole book)\\r\\n- <strong>View</strong> this <a href=\"http://britishlibrary.georeferencer.com/id/10997080015\" rel=\"noreferrer nofollow\">digitised map overlaid on a modern map</a> using the <strong>British Library’s Georeferencer service</strong>\\r\\n- <strong>Order</strong> a <a href=\"http://tiny.cc/BL-Digitisation-Services\" alt=\"The British Library: Digitisation Services\">higher quality scanned version of this image</a> from the British Library\\r\\n\\r\\n<strong>Other links related to this publication:</strong>\\r\\n- <strong>View</strong> all the <a href=\"http://www.flickr.com/photos/britishlibrary/tags/sysnum001248523\">illustrations found in this publication</a>\\r\\n- <strong>View</strong> all the <a href=\"http://www.flickr.com/photos/britishlibrary/tags/date1681\">illustrations in publications from the same year</a> (1681)\\r\\n- <strong>Download</strong> the Optical Character Recognised (OCR) <a href=\"https://data.bl.uk/19cbooks/json/0012/001248523_01_text.json\">derived text</a> for this publication as JavaScript Object Notation (JSON)\\r\\n\\r\\n- <strong>Explore</strong> and experiment</strong> with the British Library’s <a href=\"https://data.bl.uk/\" alt=\"British Library’s digital collections\">digital collections</a>\\r\\n\\r\\nThe British Library community is able to flourish online thanks to freely available resources such as this. \\r\\n\\r\\nYou can help support our mission to continue making our collection accessible to everyone, for research, inspiration and enjoyment, by donating on the British Library supporter <a href=\"http://tiny.cc/BL-Donate\" alt=\"Donate to The British Library\">webpage here</a>. \\r\\n\\r\\nThank you for supporting the <a href=\"https://www.bl.uk\" alt=\"The British Library\">British Library</a>.',\n",
       " 'alephSysNumber': '001248523',\n",
       " 'page': 211,\n",
       " 'geoRefId': '10997080015',\n",
       " 'url_c': 'https://live.staticflickr.com/5545/10997080015_7eab715d09_c.jpg',\n",
       " 'url_o': 'https://live.staticflickr.com/5545/10997080015_680a88263d_o.jpg',\n",
       " 'tags': 'bldigital date1681 pubplacerotenburg publicdomain sysnum001248523 flaminiusleopseudieleonhardrauwolf large vol0 page211 mechanicalcurator imagesfrombook001248523 imagesfromvolume0012485230 map hasgeoref geo:osmscale=6 georefphase1 wp:bookspage=neareast sherlocknet:tag=description sherlocknet:tag=govern sherlocknet:tag=shore sherlocknet:tag=number sherlocknet:tag=city sherlocknet:tag=view sherlocknet:tag=whole sherlocknet:tag=command sherlocknet:tag=form sherlocknet:tag=vegetate sherlocknet:tag=chap sherlocknet:tag=mile sherlocknet:tag=consider sherlocknet:tag=zone sherlocknet:tag=heaven sherlocknet:tag=street sherlocknet:category=maps',\n",
       " 'machine_tags': 'geo:osmscale=6 wp:bookspage=neareast sherlocknet:tag=description sherlocknet:tag=govern sherlocknet:tag=shore sherlocknet:tag=number sherlocknet:tag=city sherlocknet:tag=view sherlocknet:tag=whole sherlocknet:tag=command sherlocknet:tag=form sherlocknet:tag=vegetate sherlocknet:tag=chap sherlocknet:tag=mile sherlocknet:tag=consider sherlocknet:tag=zone sherlocknet:tag=heaven sherlocknet:tag=street sherlocknet:category=maps',\n",
       " 'views': 11247}"
      ]
     },
     "execution_count": 5,
     "metadata": {},
     "output_type": "execute_result"
    }
   ],
   "source": [
    "# checking the first row (0 -- change the value of i for another record)\n",
    "\n",
    "i = 0\n",
    "\n",
    "meta['rows'][i]"
   ]
  },
  {
   "cell_type": "code",
   "execution_count": 6,
   "metadata": {},
   "outputs": [
    {
     "name": "stdout",
     "output_type": "stream",
     "text": [
      "\n",
      "Title:\n",
      "British Library digitised image from page 211 of \"Leonis Flaminii Itinerarium per Palæstinam, das ist, eine ... Reiss-Beschreibung ... worbey auch allerhand Figuren befindlich, etc\"\n",
      "\n",
      "* Flickr record:\n",
      "https://www.flickr.com/photos/britishlibrary/10997080015\n",
      "\n",
      "* This book's catalog record at BL explorer:\n",
      "http://explore.bl.uk/primo_library/libweb/action/search.do?cs=frb&doc=BLL001248523&dscnt=1&scp.scps=scope:(BLCONTENT)&frbg=&tab=local_tab&srt=rank&ct=search&mode=Basic&dum=true&tb=t&indx=1&vl(freeText0)=001248523&fn=search&vid=BLVU1\n",
      "\n",
      "* This map on BL's GeoReferencer Service:\n",
      "http://britishlibrary.georeferencer.com/id/10997080015\n",
      "\n",
      "\n",
      "As of 30th March 2020, this image / map had 11247 views.\n",
      "\n"
     ]
    }
   ],
   "source": [
    "print('\\nTitle:')\n",
    "print(meta['rows'][i]['title']+'\\n')\n",
    "print('* Flickr record:')\n",
    "print('https://www.flickr.com/photos/britishlibrary/'+meta['rows'][i]['geoRefId']+'\\n')\n",
    "print('* This book\\'s catalog record at BL explorer:')\n",
    "print('http://explore.bl.uk/primo_library/libweb/action/search.do?cs=frb&doc=BLL'+ meta['rows'][i]['alephSysNumber'] + '&dscnt=1&scp.scps=scope:(BLCONTENT)&frbg=&tab=local_tab&srt=rank&ct=search&mode=Basic&dum=true&tb=t&indx=1&vl(freeText0)='+ meta['rows'][i]['alephSysNumber'] + '&fn=search&vid=BLVU1'+'\\n')\n",
    "print('* This map on BL\\'s GeoReferencer Service:')\n",
    "print('http://britishlibrary.georeferencer.com/id/'+ meta['rows'][i]['geoRefId']+'\\n')\n",
    "print('\\nAs of 30th March 2020, this image / map had '+ str(meta['rows'][i]['views']) +' views.\\n')"
   ]
  },
  {
   "cell_type": "code",
   "execution_count": 7,
   "metadata": {},
   "outputs": [
    {
     "name": "stdout",
     "output_type": "stream",
     "text": [
      "\n",
      "Image Description:\n",
      "\n"
     ]
    },
    {
     "data": {
      "text/html": [
       "Image taken from:<br>\t\t<br><strong>Title</strong>: &quot;Leonis Flaminii Itinerarium per Palæstinam, das ist, eine ... Reiss-Beschreibung ... worbey auch allerhand Figuren befindlich, etc&quot;<br><strong>Author(s)</strong>: Flaminius, Leo, pseudonym [i.e. Leonhard Rauwolf] [person]<br><strong>British Library shelfmark</strong>: &quot;Digital Store 10077.de.10&quot;<br><strong>Page</strong>: 211 (scanned page number - not necessarily the actual page number in the publication)<br><strong>Place of publication</strong>: Rotenburg<br><strong>Date of publication</strong>: 1681<br><strong>Type of resource</strong>: Monograph<br><strong>Language(s)</strong>: German<br><strong>Physical description</strong>: 240 pages (4°)\t\t<br>\t\t<br><strong>Explore this item</strong> in the British Library’s catalogue:  <br><a href=\"http://explore.bl.uk/primo_library/libweb/action/search.do?cs=frb&amp;doc=BLL01001248523&amp;dscnt=1&amp;scp.scps=scope:(BLCONTENT)&amp;frbg=&amp;tab=local_tab&amp;srt=rank&amp;ct=search&amp;mode=Basic&amp;dum=true&amp;tb=t&amp;indx=1&amp;vl(freeText0)=001248523&amp;fn=search&amp;vid=BLVU1\" rel=\"nofollow\">001248523</a> (physical copy) and <a href=\"http://explore.bl.uk/primo_library/libweb/action/search.do?cs=frb&amp;doc=BLL01014847244&amp;dscnt=1&amp;scp.scps=scope:(BLCONTENT)&amp;frbg=&amp;tab=local_tab&amp;srt=rank&amp;ct=search&amp;mode=Basic&amp;dum=true&amp;tb=t&amp;indx=1&amp;vl(freeText0)=014847244&amp;fn=search&amp;vid=BLVU1\" rel=\"nofollow\">014847244</a> (digitised copy)<br>(numbers are British Library identifiers)<br><br><strong>Other links related to this image:</strong><br>- <strong>View</strong> this image as a scanned publication on the <a href=\"http://access.bl.uk/item/viewer/ark:/81055/vdc_000000006F5A#?cv=210\" alt=\"Open the book scan page in the British Library’s Universal Viewer\">British Library’s online viewer</a> (you can download the image, selected pages or the whole book)<br>- <strong>View</strong> this <a href=\"http://britishlibrary.georeferencer.com/id/10997080015\" rel=\"noreferrer nofollow\">digitised map overlaid on a modern map</a> using the <strong>British Library’s Georeferencer service</strong><br>- <strong>Order</strong> a <a href=\"http://tiny.cc/BL-Digitisation-Services\" alt=\"The British Library: Digitisation Services\">higher quality scanned version of this image</a> from the British Library<br><br><strong>Other links related to this publication:</strong><br>- <strong>View</strong> all the <a href=\"http://www.flickr.com/photos/britishlibrary/tags/sysnum001248523\">illustrations found in this publication</a><br>- <strong>View</strong> all the <a href=\"http://www.flickr.com/photos/britishlibrary/tags/date1681\">illustrations in publications from the same year</a> (1681)<br>- <strong>Download</strong> the Optical Character Recognised (OCR) <a href=\"https://data.bl.uk/19cbooks/json/0012/001248523_01_text.json\">derived text</a> for this publication as JavaScript Object Notation (JSON)<br><br>- <strong>Explore</strong> and experiment</strong> with the British Library’s <a href=\"https://data.bl.uk/\" alt=\"British Library’s digital collections\">digital collections</a><br><br>The British Library community is able to flourish online thanks to freely available resources such as this. <br><br>You can help support our mission to continue making our collection accessible to everyone, for research, inspiration and enjoyment, by donating on the British Library supporter <a href=\"http://tiny.cc/BL-Donate\" alt=\"Donate to The British Library\">webpage here</a>. <br><br>Thank you for supporting the <a href=\"https://www.bl.uk\" alt=\"The British Library\">British Library</a>."
      ],
      "text/plain": [
       "<IPython.core.display.HTML object>"
      ]
     },
     "execution_count": 7,
     "metadata": {},
     "output_type": "execute_result"
    }
   ],
   "source": [
    "print('\\nImage Description:\\n')\n",
    "from IPython.core.display import HTML\n",
    "HTML(meta['rows'][i]['description'].replace('\\r\\n','<br>'))"
   ]
  },
  {
   "cell_type": "code",
   "execution_count": 10,
   "metadata": {},
   "outputs": [
    {
     "name": "stdout",
     "output_type": "stream",
     "text": [
      "\n",
      "And the image / map:\n",
      "\n"
     ]
    },
    {
     "data": {
      "text/html": [
       "<img src=\"https://live.staticflickr.com/5545/10997080015_7eab715d09_c.jpg\">"
      ],
      "text/plain": [
       "<IPython.core.display.HTML object>"
      ]
     },
     "execution_count": 10,
     "metadata": {},
     "output_type": "execute_result"
    }
   ],
   "source": [
    "print('\\nAnd the image / map:\\n')\n",
    "HTML('<img src=\"'+meta['rows'][i]['url_c']+'\">')"
   ]
  },
  {
   "cell_type": "code",
   "execution_count": 11,
   "metadata": {},
   "outputs": [
    {
     "name": "stdout",
     "output_type": "stream",
     "text": [
      "\n",
      "Download the original image / map:\n",
      "\n",
      "https://live.staticflickr.com/5545/10997080015_680a88263d_o.jpg\n",
      "\n"
     ]
    }
   ],
   "source": [
    "print('\\nDownload the original image / map:\\n')\n",
    "print(meta['rows'][i]['url_o']+'\\n')"
   ]
  }
 ],
 "metadata": {
  "kernelspec": {
   "display_name": "Python 3",
   "language": "python",
   "name": "python3"
  },
  "language_info": {
   "codemirror_mode": {
    "name": "ipython",
    "version": 3
   },
   "file_extension": ".py",
   "mimetype": "text/x-python",
   "name": "python",
   "nbconvert_exporter": "python",
   "pygments_lexer": "ipython3",
   "version": "3.7.3"
  }
 },
 "nbformat": 4,
 "nbformat_minor": 2
}
