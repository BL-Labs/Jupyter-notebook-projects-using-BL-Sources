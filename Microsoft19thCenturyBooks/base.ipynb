{
  "nbformat": 4,
  "nbformat_minor": 0,
  "metadata": {
    "kernelspec": {
      "display_name": "Python 3",
      "language": "python",
      "name": "python3"
    },
    "language_info": {
      "codemirror_mode": {
        "name": "ipython",
        "version": 3
      },
      "file_extension": ".py",
      "mimetype": "text/x-python",
      "name": "python",
      "nbconvert_exporter": "python",
      "pygments_lexer": "ipython3",
      "version": "3.8.0"
    },
    "colab": {
      "name": "base.ipynb",
      "provenance": [],
      "collapsed_sections": [],
      "include_colab_link": true
    }
  },
  "cells": [
    {
      "cell_type": "markdown",
      "metadata": {
        "id": "view-in-github",
        "colab_type": "text"
      },
      "source": [
        "<a href=\"https://colab.research.google.com/github/BL-Labs/Jupyter-notebooks-projects-using-BL-Sources/blob/master/Microsoft19thCenturyBooks/base.ipynb\" target=\"_parent\"><img src=\"https://colab.research.google.com/assets/colab-badge.svg\" alt=\"Open In Colab\"/></a>"
      ]
    },
    {
      "cell_type": "code",
      "metadata": {
        "id": "J_Enb7GGJ-Wv",
        "colab_type": "code",
        "colab": {}
      },
      "source": [
        "# imports\n",
        "\n",
        "import pandas as pd\n",
        "# import json, os, shutil, codecs\n",
        "import zipfile\n",
        "import io\n",
        "import urllib\n",
        "import json"
      ],
      "execution_count": 0,
      "outputs": []
    },
    {
      "cell_type": "markdown",
      "metadata": {
        "id": "JAQpJD3uQmYg",
        "colab_type": "text"
      },
      "source": [
        "### Let us first have a look at metadata inside a **CSV / TSV file (small one)**:"
      ]
    },
    {
      "cell_type": "code",
      "metadata": {
        "id": "8UvJcIu3J-XB",
        "colab_type": "code",
        "colab": {}
      },
      "source": [
        "# read metadata file #1 -- small TSV file -- RUN this CELL if using BINDER or a LOCAL Jupyter Notebooks SERVER (see bellow for Google Colab)\n",
        "\n",
        "filename = \"data/Microsoft-Books.zip\"\n",
        "df = pd.read_csv(filename, delimiter=\"\\t\", compression =\"zip\")"
      ],
      "execution_count": 0,
      "outputs": []
    },
    {
      "cell_type": "code",
      "metadata": {
        "id": "ESRZ7AefJ-XE",
        "colab_type": "code",
        "colab": {}
      },
      "source": [
        "# read metadata file #2 -- small TSV file -- RUN this CELL if using Google COLAB\n",
        "\n",
        "filename = \"https://github.com/BL-Labs/Jupyter-notebooks-projects-using-BL-Sources/raw/master/Microsoft19thCenturyBooks/data/Microsoft-Books.zip\"\n",
        "df = pd.read_csv(filename, delimiter=\"\\t\", compression =\"zip\")"
      ],
      "execution_count": 0,
      "outputs": []
    },
    {
      "cell_type": "code",
      "metadata": {
        "id": "B9026gKoJ-XH",
        "colab_type": "code",
        "outputId": "30ed493a-9ff8-45d6-f2a6-b4f1a6a5b910",
        "colab": {}
      },
      "source": [
        "df.head(3)"
      ],
      "execution_count": 0,
      "outputs": [
        {
          "output_type": "execute_result",
          "data": {
            "text/html": [
              "<div>\n",
              "<style scoped>\n",
              "    .dataframe tbody tr th:only-of-type {\n",
              "        vertical-align: middle;\n",
              "    }\n",
              "\n",
              "    .dataframe tbody tr th {\n",
              "        vertical-align: top;\n",
              "    }\n",
              "\n",
              "    .dataframe thead th {\n",
              "        text-align: right;\n",
              "    }\n",
              "</style>\n",
              "<table border=\"1\" class=\"dataframe\">\n",
              "  <thead>\n",
              "    <tr style=\"text-align: right;\">\n",
              "      <th></th>\n",
              "      <th>Physical Record ID</th>\n",
              "      <th>BL record ID</th>\n",
              "      <th>ARK</th>\n",
              "      <th>Type of resource</th>\n",
              "      <th>Content type</th>\n",
              "      <th>All names</th>\n",
              "      <th>Title</th>\n",
              "      <th>Country of publication</th>\n",
              "      <th>Place of publication</th>\n",
              "      <th>Publisher</th>\n",
              "      <th>Date of publication (standardised)</th>\n",
              "      <th>Edition</th>\n",
              "      <th>Physical description</th>\n",
              "      <th>BL shelfmark</th>\n",
              "      <th>Topics</th>\n",
              "      <th>Genre</th>\n",
              "      <th>Literary form</th>\n",
              "      <th>Languages</th>\n",
              "      <th>Contents</th>\n",
              "    </tr>\n",
              "  </thead>\n",
              "  <tbody>\n",
              "    <tr>\n",
              "      <th>0</th>\n",
              "      <td>4031040.0</td>\n",
              "      <td>14940086</td>\n",
              "      <td>ark:/81055/vdc_000000021AEC</td>\n",
              "      <td>Monograph</td>\n",
              "      <td>Text</td>\n",
              "      <td>Żychliński, Ludwik [person]</td>\n",
              "      <td>Historya Sejmów Wielk. Ks. Poznańskiego do r. ...</td>\n",
              "      <td>NaN</td>\n",
              "      <td>Poznań</td>\n",
              "      <td>NaN</td>\n",
              "      <td>1867</td>\n",
              "      <td>NaN</td>\n",
              "      <td>2 tomes (8°)</td>\n",
              "      <td>Digital Store 9475.cc.22</td>\n",
              "      <td>NaN</td>\n",
              "      <td>NaN</td>\n",
              "      <td>NaN</td>\n",
              "      <td>Polish</td>\n",
              "      <td>NaN</td>\n",
              "    </tr>\n",
              "    <tr>\n",
              "      <th>1</th>\n",
              "      <td>4031043.0</td>\n",
              "      <td>15178564</td>\n",
              "      <td>ark:/81055/vdc_000000025FF8</td>\n",
              "      <td>Monograph</td>\n",
              "      <td>Text</td>\n",
              "      <td>Żychliński, Ludwik [person]</td>\n",
              "      <td>Pamiętniki z wojny Amerykańskiéj 1862 r</td>\n",
              "      <td>NaN</td>\n",
              "      <td>Poznań</td>\n",
              "      <td>NaN</td>\n",
              "      <td>1863</td>\n",
              "      <td>NaN</td>\n",
              "      <td>NaN</td>\n",
              "      <td>Digital Store 9603.f.3</td>\n",
              "      <td>NaN</td>\n",
              "      <td>NaN</td>\n",
              "      <td>NaN</td>\n",
              "      <td>Polish</td>\n",
              "      <td>NaN</td>\n",
              "    </tr>\n",
              "    <tr>\n",
              "      <th>2</th>\n",
              "      <td>4030703.0</td>\n",
              "      <td>14841678</td>\n",
              "      <td>ark:/81055/vdc_000000005322</td>\n",
              "      <td>Monograph</td>\n",
              "      <td>Text</td>\n",
              "      <td>Rehn, A. [person] ; Zwiedinek Von Suedenhorst,...</td>\n",
              "      <td>Syrien und seine Bedeutung für den Welthandel....</td>\n",
              "      <td>NaN</td>\n",
              "      <td>Wien</td>\n",
              "      <td>NaN</td>\n",
              "      <td>1873</td>\n",
              "      <td>NaN</td>\n",
              "      <td>NaN</td>\n",
              "      <td>Digital Store 10077.f.1</td>\n",
              "      <td>NaN</td>\n",
              "      <td>NaN</td>\n",
              "      <td>NaN</td>\n",
              "      <td>German</td>\n",
              "      <td>NaN</td>\n",
              "    </tr>\n",
              "  </tbody>\n",
              "</table>\n",
              "</div>"
            ],
            "text/plain": [
              "   Physical Record ID  BL record ID                          ARK  \\\n",
              "0           4031040.0      14940086  ark:/81055/vdc_000000021AEC   \n",
              "1           4031043.0      15178564  ark:/81055/vdc_000000025FF8   \n",
              "2           4030703.0      14841678  ark:/81055/vdc_000000005322   \n",
              "\n",
              "  Type of resource Content type  \\\n",
              "0        Monograph         Text   \n",
              "1        Monograph         Text   \n",
              "2        Monograph         Text   \n",
              "\n",
              "                                           All names  \\\n",
              "0                        Żychliński, Ludwik [person]   \n",
              "1                        Żychliński, Ludwik [person]   \n",
              "2  Rehn, A. [person] ; Zwiedinek Von Suedenhorst,...   \n",
              "\n",
              "                                               Title Country of publication  \\\n",
              "0  Historya Sejmów Wielk. Ks. Poznańskiego do r. ...                    NaN   \n",
              "1            Pamiętniki z wojny Amerykańskiéj 1862 r                    NaN   \n",
              "2  Syrien und seine Bedeutung für den Welthandel....                    NaN   \n",
              "\n",
              "  Place of publication Publisher Date of publication (standardised) Edition  \\\n",
              "0               Poznań       NaN                               1867     NaN   \n",
              "1               Poznań       NaN                               1863     NaN   \n",
              "2                 Wien       NaN                               1873     NaN   \n",
              "\n",
              "  Physical description              BL shelfmark Topics Genre Literary form  \\\n",
              "0         2 tomes (8°)  Digital Store 9475.cc.22    NaN   NaN           NaN   \n",
              "1                  NaN    Digital Store 9603.f.3    NaN   NaN           NaN   \n",
              "2                  NaN   Digital Store 10077.f.1    NaN   NaN           NaN   \n",
              "\n",
              "  Languages Contents  \n",
              "0    Polish      NaN  \n",
              "1    Polish      NaN  \n",
              "2    German      NaN  "
            ]
          },
          "metadata": {
            "tags": []
          },
          "execution_count": 5
        }
      ]
    },
    {
      "cell_type": "code",
      "metadata": {
        "id": "8b1zpImgJ-XR",
        "colab_type": "code",
        "outputId": "46631851-2d9f-46b1-fac9-a597f469c124",
        "colab": {}
      },
      "source": [
        "df[\"Content type\"].value_counts()"
      ],
      "execution_count": 0,
      "outputs": [
        {
          "output_type": "execute_result",
          "data": {
            "text/plain": [
              "Text                         49314\n",
              "Cartographic image ; Text        2\n",
              "Name: Content type, dtype: int64"
            ]
          },
          "metadata": {
            "tags": []
          },
          "execution_count": 6
        }
      ]
    },
    {
      "cell_type": "code",
      "metadata": {
        "id": "7r5RvgZyJ-XV",
        "colab_type": "code",
        "outputId": "78830c2b-0ddc-4d17-dcce-85a64f73a3ad",
        "colab": {}
      },
      "source": [
        "df[\"Date of publication (standardised)\"].value_counts()"
      ],
      "execution_count": 0,
      "outputs": [
        {
          "output_type": "execute_result",
          "data": {
            "text/plain": [
              "1897         1491\n",
              "1896         1423\n",
              "1895         1269\n",
              "1893         1214\n",
              "1890         1178\n",
              "             ... \n",
              "1851-1873       1\n",
              "1835-1836       1\n",
              "1884-           1\n",
              "2971            1\n",
              "1893-           1\n",
              "Name: Date of publication (standardised), Length: 418, dtype: int64"
            ]
          },
          "metadata": {
            "tags": []
          },
          "execution_count": 7
        }
      ]
    },
    {
      "cell_type": "code",
      "metadata": {
        "id": "5bWNuVmEJ-XZ",
        "colab_type": "code",
        "outputId": "6e258ced-7208-4cd7-a16b-5952dd91466d",
        "colab": {}
      },
      "source": [
        "df[\"Genre\"].value_counts()"
      ],
      "execution_count": 0,
      "outputs": [
        {
          "output_type": "execute_result",
          "data": {
            "text/plain": [
              "Periodical                                               38\n",
              "Directory                                                18\n",
              "Fiction                                                  14\n",
              "Source                                                    8\n",
              "Biography                                                 7\n",
              "Poetry or verse                                           5\n",
              "Dictionary                                                5\n",
              "Review                                                    4\n",
              "Pictorial work                                            4\n",
              "Libretto                                                  3\n",
              "Guidebook                                                 3\n",
              "Early works to 1800                                       3\n",
              "Statistics                                                3\n",
              "Drama                                                     2\n",
              "Illustration                                              2\n",
              "Atlas                                                     2\n",
              "Travel                                                    2\n",
              "Handbook or manual                                        2\n",
              "Gazetteer                                                 2\n",
              "Diary                                                     1\n",
              "Early works to 1800 ; Libretto                            1\n",
              "Correspondence                                            1\n",
              "Bibliography                                              1\n",
              "Ephemeris                                                 1\n",
              "Handbook or manual ; Periodical                           1\n",
              "Engraving ; Illustration ; Plan or view                   1\n",
              "Compendium or compilation                                 1\n",
              "History                                                   1\n",
              "Encyclopaedia                                             1\n",
              "Translations from English ; Translations into Russian     1\n",
              "Lithograph                                                1\n",
              "Diary ; Personal narrative                                1\n",
              "Concordance                                               1\n",
              "Hymnal                                                    1\n",
              "Humour or satire                                          1\n",
              "Lithograph ; Plan or view                                 1\n",
              "Children's fiction                                        1\n",
              "Biography ; Diary ; Personal narrative                    1\n",
              "Name: Genre, dtype: int64"
            ]
          },
          "metadata": {
            "tags": []
          },
          "execution_count": 17
        }
      ]
    },
    {
      "cell_type": "code",
      "metadata": {
        "id": "qKTnbPvZJ-Xc",
        "colab_type": "code",
        "outputId": "2465c7b0-1e2a-4c82-8975-d571b7b4cccb",
        "colab": {}
      },
      "source": [
        "df[\"Literary form\"].value_counts()"
      ],
      "execution_count": 0,
      "outputs": [
        {
          "output_type": "execute_result",
          "data": {
            "text/plain": [
              "Not fiction      298\n",
              "Fiction          177\n",
              "Poetry            27\n",
              "Dramas            15\n",
              "Novels            11\n",
              "Short stories      5\n",
              "Letters            1\n",
              "Mixed forms        1\n",
              "Name: Literary form, dtype: int64"
            ]
          },
          "metadata": {
            "tags": []
          },
          "execution_count": 18
        }
      ]
    },
    {
      "cell_type": "markdown",
      "metadata": {
        "id": "kVIQ4VX0Qz9Q",
        "colab_type": "text"
      },
      "source": [
        "\n",
        "### Let us check another metadata set inside a **JSON file (big one)**:\n"
      ]
    },
    {
      "cell_type": "code",
      "metadata": {
        "id": "U2RGxR9XJ-W2",
        "colab_type": "code",
        "colab": {}
      },
      "source": [
        "# read metadata file #2 (big JSON file -- book_data.json (52MB) inside book_data.zip (13MB))\n",
        "\n",
        "zip_file = \"https://github.com/BL-Labs/Jupyter-notebooks-projects-using-BL-Sources/raw/master/Microsoft19thCenturyBooks/data/book_data.zip\"\n",
        "\n",
        "access_url = urllib.request.urlopen(zip_file)\n",
        "\n",
        "# unzips the files inside book_data.zip\n",
        "z = zipfile.ZipFile(io.BytesIO(access_url.read()))\n",
        "\n",
        "# loads JSON from the first (only) file inside \n",
        "meta = json.loads(z.read(z.infolist()[0]).decode('utf-8'))\n"
      ],
      "execution_count": 0,
      "outputs": []
    },
    {
      "cell_type": "code",
      "metadata": {
        "id": "7KQWHkRvJ-W8",
        "colab_type": "code",
        "outputId": "89f4aa5a-7ba5-4e6d-a28f-1f42b96800bd",
        "colab": {
          "base_uri": "https://localhost:8080/",
          "height": 1000
        }
      },
      "source": [
        "meta[342]"
      ],
      "execution_count": 0,
      "outputs": [
        {
          "output_type": "execute_result",
          "data": {
            "text/plain": [
              "{'authors': {'creator': ['AICKIN, Robert.']},\n",
              " 'corporate': {},\n",
              " 'date': '1890',\n",
              " 'datefield': '1890',\n",
              " 'edition': '',\n",
              " 'flickr_url_to_book_images': 'http://www.flickr.com/photos/britishlibrary/tags/sysnum000033323',\n",
              " 'identifier': '000033323',\n",
              " 'imgs': {'0': {'000002': ['11294298083'],\n",
              "   '000004': ['11295058696'],\n",
              "   '000007': ['11116640094'],\n",
              "   '000008': ['11202909965'],\n",
              "   '000009': ['11206793353'],\n",
              "   '000017': ['11115558733'],\n",
              "   '000019': ['11115524535', '11115435123'],\n",
              "   '000021': ['11114256935'],\n",
              "   '000023': ['11114456165', '11117044754'],\n",
              "   '000024': ['11114370245'],\n",
              "   '000025': ['11115776723', '11116448223'],\n",
              "   '000027': ['11294781816'],\n",
              "   '000028': ['11117548493'],\n",
              "   '000029': ['11116646896'],\n",
              "   '000030': ['11114922533'],\n",
              "   '000031': ['11114922566'],\n",
              "   '000032': ['11114994984'],\n",
              "   '000035': ['11206448996'],\n",
              "   '000038': ['11204986556'],\n",
              "   '000039': ['11204002115'],\n",
              "   '000042': ['11116548993'],\n",
              "   '000044': ['11296031935'],\n",
              "   '000046': ['11206637743'],\n",
              "   '000052': ['11116136905'],\n",
              "   '000053': ['11115414154'],\n",
              "   '000056': ['11115851205'],\n",
              "   '000059': ['11294767974'],\n",
              "   '000062': ['11115031193'],\n",
              "   '000064': ['11202873984'],\n",
              "   '000065': ['11207089303'],\n",
              "   '000066': ['11295326873'],\n",
              "   '000068': ['11294878786'],\n",
              "   '000070': ['11114910066'],\n",
              "   '000072': ['11206527784'],\n",
              "   '000074': ['11296022423'],\n",
              "   '000076': ['11203019466'],\n",
              "   '000078': ['11206623103'],\n",
              "   '000083': ['11295035013'],\n",
              "   '000086': ['11294099124'],\n",
              "   '000090': ['11202767546'],\n",
              "   '000091': ['11115277675'],\n",
              "   '000093': ['11296383293'],\n",
              "   '000094': ['11116069023', '11116233783', '11113804255', '11114155255'],\n",
              "   '000096': ['11206479574'],\n",
              "   '000098': ['11204927526'],\n",
              "   '000100': ['11294294096'],\n",
              "   '000104': ['11207259914'],\n",
              "   '000108': ['11293939035'],\n",
              "   '000111': ['11294041923'],\n",
              "   '000117': ['11293969963'],\n",
              "   '000129': ['11114664205'],\n",
              "   '000130': ['11114624716'],\n",
              "   '000135': ['11115091144'],\n",
              "   '000141': ['11117226726'],\n",
              "   '000143': ['11294725976'],\n",
              "   '000147': ['11204058153'],\n",
              "   '000148': ['11296042174'],\n",
              "   '000152': ['11202985145'],\n",
              "   '000153': ['11296267466'],\n",
              "   '000155': ['11116367184'],\n",
              "   '000157': ['11295277206'],\n",
              "   '000158': ['11114931934'],\n",
              "   '000164': ['11116501834'],\n",
              "   '000170': ['11294112106'],\n",
              "   '000171': ['11204392964'],\n",
              "   '000172': ['11205418754'],\n",
              "   '000176': ['11295115326'],\n",
              "   '000177': ['11117266993', '11296240564'],\n",
              "   '000183': ['11294204804'],\n",
              "   '000197': ['11115268044'],\n",
              "   '000200': ['11205973306'],\n",
              "   '000202': ['11116131424'],\n",
              "   '000204': ['11116732326'],\n",
              "   '000206': ['11115892264'],\n",
              "   '000207': ['11203966415'],\n",
              "   '000208': ['11115322865'],\n",
              "   '000213': ['11114892814'],\n",
              "   '000218': ['11117331966'],\n",
              "   '000225': ['11294237483'],\n",
              "   '000229': ['11203512716']}},\n",
              " 'issuance': 'monographic',\n",
              " 'pdf': {'0': 'lsidyv3c3b304c'},\n",
              " 'place': 'Belfast',\n",
              " 'publisher': 'C. W. Olley',\n",
              " 'shelfmarks': ['British Library HMNTS 10390.df.35.'],\n",
              " 'title': [\"Guide to North of Ireland, Giant's Causeway and Belfast, with history of Belfast\"]}"
            ]
          },
          "metadata": {
            "tags": []
          },
          "execution_count": 35
        }
      ]
    }
  ]
}