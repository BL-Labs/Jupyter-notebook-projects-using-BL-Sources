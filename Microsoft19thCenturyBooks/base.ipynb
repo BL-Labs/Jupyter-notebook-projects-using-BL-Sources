{
  "nbformat": 4,
  "nbformat_minor": 0,
  "metadata": {
    "colab": {
      "name": "base.ipynb",
      "provenance": [],
      "collapsed_sections": [],
      "machine_shape": "hm"
    },
    "kernelspec": {
      "display_name": "Python 3",
      "language": "python",
      "name": "python3"
    },
    "language_info": {
      "codemirror_mode": {
        "name": "ipython",
        "version": 3
      },
      "file_extension": ".py",
      "mimetype": "text/x-python",
      "name": "python",
      "nbconvert_exporter": "python",
      "pygments_lexer": "ipython3",
      "version": "3.7.3"
    }
  },
  "cells": [
    {
      "cell_type": "markdown",
      "metadata": {
        "id": "sFXVfJZcbGmd",
        "colab_type": "text"
      },
      "source": [
        "<div class=\"jumbotron jumbotron-fluid\">\n",
        "  <div class=\"container\">\n",
        "    <h1 class=\"display-4\">Base Jupyter Notebook</h1>\n",
        "    <p class=\"lead\">Examples on how to load data from different sources, in different formats.</p>\n",
        "  </div>\n",
        "</div>"
      ]
    },
    {
      "cell_type": "markdown",
      "metadata": {
        "colab_type": "text",
        "id": "view-in-github"
      },
      "source": [
        "<a href=\"https://colab.research.google.com/github/BL-Labs/Jupyter-notebooks-projects-using-BL-Sources/blob/master/Microsoft19thCenturyBooks/base.ipynb\" target=\"_parent\"><img src=\"https://colab.research.google.com/assets/colab-badge.svg\" alt=\"Open In Colab\"/></a>"
      ]
    },
    {
      "cell_type": "markdown",
      "metadata": {
        "id": "NtsbcfFYbGmg",
        "colab_type": "text"
      },
      "source": [
        "### In this Notebook:\n",
        "\n",
        " * Load metadata inside a CSV / TSV file (compressed inside a zip file), local or downloadable from a URL\n",
        " * Count records with a given value in a certain field:\n",
        "     e.g., number of records by publication date (year);\n",
        " * Plot the those values in a Bar Chart;\n",
        " * Generate a Word Cloud of the top 20 Places of Publication;\n",
        " * Load metadata from a JSON file (compressed inside a zip file)\n",
        " * Generate a Word Cloud of Tags popularity (970,204 tags)\n",
        " * Access and read a big file .BZ2 compessed (11.4GiB)  file from data.bl.uk or from BL's Research Repository (https://bl.iro.bl.uk/)\n",
        " \n",
        " \n",
        " \n",
        " #### Notes:\n",
        "\n",
        "     * If using BINDER or a did a git clone to your Jupyter Notebook LOCAL SERVER, if you want to clean the output from the previous run, from the main menu, choose \"Kernel\" > \"Restart and Clear Output\"; if using Google Colab, please open instead  \"base_demo_partial-run.ipynb\" notebook;\n",
        "     * If using BINDER or a did a git clone to your Jupyter Notebook LOCAL SERVER, run cell 1, skip cell 2, place the cursor on cell 3 and from the main menu, choose \"Cell\" > \"Run All Bellow\", if not executing cell-by-cell.\n",
        "     * If using Google Colab, run cell 1 and 2, skip cell 3, place the cursor on cell 4 and from the main menu, choose \"Runtime\" > \"Run after\", if not executing cell-by-cell.\n",
        " "
      ]
    },
    {
      "cell_type": "code",
      "metadata": {
        "colab_type": "code",
        "id": "J_Enb7GGJ-Wv",
        "colab": {}
      },
      "source": [
        "# imports\n",
        "\n",
        "import pandas as pd\n",
        "# import json, os, shutil, codecs\n",
        "import zipfile\n",
        "import io\n",
        "import urllib\n",
        "import json\n",
        "import altair as alt"
      ],
      "execution_count": null,
      "outputs": []
    },
    {
      "cell_type": "markdown",
      "metadata": {
        "colab_type": "text",
        "id": "JAQpJD3uQmYg"
      },
      "source": [
        "### Let us first have a look at metadata inside a **CSV / TSV file (small one)**:"
      ]
    },
    {
      "cell_type": "code",
      "metadata": {
        "colab_type": "code",
        "id": "ESRZ7AefJ-XE",
        "colab": {}
      },
      "source": [
        "\"\"\"\n",
        "==> ONLY RUN this CELL if using Google COLAB (see bellow for BINDER or a LOCAL Jupyter Notebooks SERVER)\n",
        "\"\"\"\n",
        "# read metadata file #1 -- small TSV file\n",
        "\n",
        "filename = \"https://github.com/BL-Labs/Jupyter-notebooks-projects-using-BL-Sources/raw/master/Microsoft19thCenturyBooks/data/Microsoft-Books.zip\"\n",
        "df = pd.read_csv(filename, delimiter=\"\\t\", compression =\"zip\")"
      ],
      "execution_count": null,
      "outputs": []
    },
    {
      "cell_type": "code",
      "metadata": {
        "colab_type": "code",
        "id": "8UvJcIu3J-XB",
        "colab": {}
      },
      "source": [
        "\"\"\"\n",
        "==> ONLY RUN this CELL if using BINDER or a LOCAL Jupyter Notebooks SERVER \n",
        "\"\"\"\n",
        "# read metadata file #1 -- small TSV file\n",
        "\n",
        "filename = \"data/Microsoft-Books.zip\"\n",
        "df = pd.read_csv(filename, delimiter=\"\\t\", compression =\"zip\")"
      ],
      "execution_count": null,
      "outputs": []
    },
    {
      "cell_type": "code",
      "metadata": {
        "colab_type": "code",
        "id": "nLOSIUOIg203",
        "colab": {}
      },
      "source": [
        "# number of records inside this file / dataframe\n",
        "\n",
        "df.size"
      ],
      "execution_count": null,
      "outputs": []
    },
    {
      "cell_type": "code",
      "metadata": {
        "colab_type": "code",
        "id": "B9026gKoJ-XH",
        "colab": {}
      },
      "source": [
        "# 1st 3 records\n",
        "\n",
        "df.head(3)"
      ],
      "execution_count": null,
      "outputs": []
    },
    {
      "cell_type": "code",
      "metadata": {
        "colab_type": "code",
        "id": "8b1zpImgJ-XR",
        "colab": {}
      },
      "source": [
        "df[\"Content type\"].value_counts()"
      ],
      "execution_count": null,
      "outputs": []
    },
    {
      "cell_type": "code",
      "metadata": {
        "colab_type": "code",
        "id": "7r5RvgZyJ-XV",
        "colab": {}
      },
      "source": [
        "# Top of Publication Dates\n",
        "\n",
        "df[\"Date of publication (standardised)\"].value_counts()"
      ],
      "execution_count": null,
      "outputs": []
    },
    {
      "cell_type": "code",
      "metadata": {
        "colab_type": "code",
        "id": "8vMG8tUTW67n",
        "colab": {}
      },
      "source": [
        "# ploting them with the default sort of the value counts -- not the best\n",
        "df[\"Date of publication (standardised)\"].value_counts().plot(kind='bar')"
      ],
      "execution_count": null,
      "outputs": []
    },
    {
      "cell_type": "code",
      "metadata": {
        "colab_type": "code",
        "id": "BXk9oxl-XqUU",
        "colab": {}
      },
      "source": [
        "# another way to calculate the count of the number of records per date of publication -- this time sorting by value of the field, instead of the default counts value   \n",
        "\n",
        "CountPerYear = pd.value_counts(df[\"Date of publication (standardised)\"].values, sort=False).sort_index()\n",
        "# equivalent to > CountPerYear = df[\"Date of publication (standardised)\"].value_counts().sort_index()\n",
        "\n",
        "CountPerYear"
      ],
      "execution_count": null,
      "outputs": []
    },
    {
      "cell_type": "code",
      "metadata": {
        "colab_type": "code",
        "id": "epd_C1u2YHLA",
        "colab": {}
      },
      "source": [
        "# ploting it now it allows to have a better view of the evolution over the years -- peak value: year 1897 = 1491 entries\n",
        "\n",
        "CountPerYear.plot.bar(figsize=(100,20))"
      ],
      "execution_count": null,
      "outputs": []
    },
    {
      "cell_type": "code",
      "metadata": {
        "colab_type": "code",
        "id": "x3ZWT6eaqw3a",
        "colab": {}
      },
      "source": [
        "# Density plot (?)\n",
        "\n",
        "CountPerYear.plot.kde()"
      ],
      "execution_count": null,
      "outputs": []
    },
    {
      "cell_type": "code",
      "metadata": {
        "colab_type": "code",
        "id": "5bWNuVmEJ-XZ",
        "colab": {}
      },
      "source": [
        "# top of Genre\n",
        "\n",
        "df[\"Genre\"].value_counts()"
      ],
      "execution_count": null,
      "outputs": []
    },
    {
      "cell_type": "code",
      "metadata": {
        "colab_type": "code",
        "id": "qKTnbPvZJ-Xc",
        "colab": {}
      },
      "source": [
        "# top of Literary form\n",
        "\n",
        "df[\"Literary form\"].value_counts()"
      ],
      "execution_count": null,
      "outputs": []
    },
    {
      "cell_type": "code",
      "metadata": {
        "colab_type": "code",
        "id": "52xIMb2fuIWq",
        "colab": {}
      },
      "source": [
        "# Top of Country of Publication\n",
        "\n",
        "df[\"Country of publication\"].value_counts()"
      ],
      "execution_count": null,
      "outputs": []
    },
    {
      "cell_type": "code",
      "metadata": {
        "colab_type": "code",
        "id": "KkJVZZGAuOkG",
        "colab": {}
      },
      "source": [
        "# top of Place of Publication\n",
        "\n",
        "df[\"Place of publication\"].value_counts()"
      ],
      "execution_count": null,
      "outputs": []
    },
    {
      "cell_type": "code",
      "metadata": {
        "colab_type": "code",
        "id": "YX7rbQumuSCF",
        "colab": {}
      },
      "source": [
        "# How many have that info\n",
        "\n",
        "df[\"Place of publication\"].size"
      ],
      "execution_count": null,
      "outputs": []
    },
    {
      "cell_type": "code",
      "metadata": {
        "colab_type": "code",
        "id": "CHJ7nI9AudDa",
        "colab": {}
      },
      "source": [
        "# Generate a Word Cloud of the top 20 Places of Publication\n",
        "\n",
        "!pip install git+https://git@github.com/kavgan/word_cloud.git\n",
        "\n",
        "from word_cloud.word_cloud_generator import WordCloud\n",
        "from IPython.core.display import HTML\n",
        " \n",
        "list_of_documents=[]\n",
        " \n",
        "for i in range (df[\"Place of publication\"].size):\n",
        "    list_of_documents.append(str(df[\"Place of publication\"][i]))\n",
        "\n",
        "# initialize WordCloud\n",
        "wc=WordCloud()\n",
        "\n",
        "embed_code=wc.get_embed_code(text=list_of_documents,random_color=True,topn=20)\n",
        "\n",
        "HTML(embed_code)"
      ],
      "execution_count": null,
      "outputs": []
    },
    {
      "cell_type": "code",
      "metadata": {
        "colab_type": "code",
        "id": "0MB1-7Y2SUjF",
        "colab": {}
      },
      "source": [
        "# Words appearing in the 49,316 titles: build the list of documents\n",
        "\n",
        "list_of_documents=[]\n",
        " \n",
        "for i in range (df[\"Title\"].size):\n",
        "    list_of_documents.append(str(df[\"Title\"][i])) "
      ],
      "execution_count": null,
      "outputs": []
    },
    {
      "cell_type": "code",
      "metadata": {
        "colab_type": "code",
        "id": "AwFMpsuN3eTz",
        "colab": {}
      },
      "source": [
        "# Word Cloud: top 100, using the module above (from GtHub)\n",
        "    \n",
        "embed_code=wc.get_embed_code(text=list_of_documents,random_color=True,topn=100)\n",
        "\n",
        "HTML(embed_code)"
      ],
      "execution_count": null,
      "outputs": []
    },
    {
      "cell_type": "code",
      "metadata": {
        "colab_type": "code",
        "id": "TbO5VMdoRkAK",
        "colab": {}
      },
      "source": [
        "# using another module: wordcloud (standard, built-in)\n",
        "\n",
        "#from wordcloud import WordCloud, STOPWORDS\n",
        "from wordcloud import WordCloud\n",
        "import matplotlib.pyplot as plt\n",
        "\n",
        "\n",
        "STOP_WORDS = frozenset([\n",
        "    \"a\", \"about\", \"above\", \"across\", \"after\", \"afterwards\", \"again\", \"against\",\n",
        "    \"all\", \"almost\", \"alone\", \"along\", \"already\", \"also\", \"although\", \"always\",\n",
        "    \"am\", \"among\", \"amongst\", \"amoungst\", \"amount\", \"an\", \"and\", \"another\",\n",
        "    \"any\", \"anyhow\", \"anyone\", \"anything\", \"anyway\", \"anywhere\", \"are\",\n",
        "    \"around\", \"as\", \"at\", \"back\", \"be\", \"became\", \"because\", \"become\",\n",
        "    \"becomes\", \"becoming\", \"been\", \"before\", \"beforehand\", \"behind\", \"being\",\n",
        "    \"below\", \"beside\", \"besides\", \"between\", \"beyond\", \"bill\", \"both\",\n",
        "    \"bottom\", \"but\", \"by\", \"call\", \"can\", \"cannot\", \"cant\", \"co\", \"con\",\n",
        "    \"could\", \"couldnt\", \"cry\", \"de\", \"describe\", \"detail\", \"do\", \"done\",\n",
        "    \"down\", \"due\", \"during\", \"each\", \"eg\", \"eight\", \"either\", \"eleven\", \"else\",\n",
        "    \"elsewhere\", \"empty\", \"enough\", \"etc\", \"even\", \"ever\", \"every\", \"everyone\",\n",
        "    \"everything\", \"everywhere\", \"except\", \"few\", \"fifteen\", \"fifty\", \"fill\",\n",
        "    \"find\", \"fire\", \"first\", \"five\", \"for\", \"former\", \"formerly\", \"forty\",\n",
        "    \"found\", \"four\", \"from\", \"front\", \"full\", \"further\", \"get\", \"give\", \"go\",\n",
        "    \"had\", \"has\", \"hasnt\", \"have\", \"he\", \"hence\", \"her\", \"here\", \"hereafter\",\n",
        "    \"hereby\", \"herein\", \"hereupon\", \"hers\", \"herself\", \"him\", \"himself\", \"his\",\n",
        "    \"how\", \"however\", \"hundred\", \"i\", \"ie\", \"if\", \"in\", \"inc\", \"indeed\",\n",
        "    \"interest\", \"into\", \"is\", \"it\", \"its\", \"itself\", \"keep\", \"last\", \"latter\",\n",
        "    \"latterly\", \"least\", \"less\", \"ltd\", \"made\", \"many\", \"may\", \"me\",\n",
        "    \"meanwhile\", \"might\", \"mill\", \"mine\", \"more\", \"moreover\", \"most\", \"mostly\",\n",
        "    \"move\", \"much\", \"must\", \"my\", \"myself\", \"name\", \"namely\", \"neither\",\n",
        "    \"never\", \"nevertheless\", \"next\", \"nine\", \"no\", \"nobody\", \"none\", \"noone\",\n",
        "    \"nor\", \"not\", \"nothing\", \"now\", \"nowhere\", \"of\", \"off\", \"often\", \"on\",\n",
        "    \"once\", \"one\", \"only\", \"onto\", \"or\", \"other\", \"others\", \"otherwise\", \"our\",\n",
        "    \"ours\", \"ourselves\", \"out\", \"over\", \"own\", \"part\", \"per\", \"perhaps\",\n",
        "    \"please\", \"put\", \"rather\", \"re\", \"same\", \"see\", \"seem\", \"seemed\",\n",
        "    \"seeming\", \"seems\", \"serious\", \"several\", \"she\", \"should\", \"show\", \"side\",\n",
        "    \"since\", \"sincere\", \"six\", \"sixty\", \"so\", \"some\", \"somehow\", \"someone\",\n",
        "    \"something\", \"sometime\", \"sometimes\", \"somewhere\", \"still\", \"such\",\n",
        "    \"system\", \"take\", \"ten\", \"than\", \"that\", \"the\", \"their\", \"them\",\n",
        "    \"themselves\", \"then\", \"thence\", \"there\", \"thereafter\", \"thereby\",\n",
        "    \"therefore\", \"therein\", \"thereupon\", \"these\", \"they\", \"thick\", \"thin\",\n",
        "    \"third\", \"this\", \"those\", \"though\", \"three\", \"through\", \"throughout\",\n",
        "    \"thru\", \"thus\", \"to\", \"together\", \"too\", \"top\", \"toward\", \"towards\",\n",
        "    \"twelve\", \"twenty\", \"two\", \"un\", \"under\", \"until\", \"up\", \"upon\", \"us\",\n",
        "    \"very\", \"via\", \"was\", \"we\", \"well\", \"were\", \"what\", \"whatever\", \"when\",\n",
        "    \"whence\", \"whenever\", \"where\", \"whereafter\", \"whereas\", \"whereby\",\n",
        "    \"wherein\", \"whereupon\", \"wherever\", \"whether\", \"which\", \"while\", \"whither\",\n",
        "    \"who\", \"whoever\", \"whole\", \"whom\", \"whose\", \"why\", \"will\", \"with\",\n",
        "    \"within\", \"without\", \"would\", \"yet\", \"said\",\"you\", \"your\", \"yours\", \"yourself\",\n",
        "    \"yourselves\", \"etc'\",\"und\"])\n",
        "\n",
        "\n",
        "wordcloud = WordCloud(\n",
        "    width = 3000,\n",
        "    height = 2000,\n",
        "    background_color = 'black',\n",
        "    stopwords = STOP_WORDS).generate(str(list_of_documents))\n",
        "fig = plt.figure(\n",
        "    figsize = (40, 30),\n",
        "    facecolor = 'k',\n",
        "    edgecolor = 'k')\n",
        "plt.imshow(wordcloud, interpolation = 'bilinear')\n",
        "plt.axis('off')\n",
        "plt.tight_layout(pad=0)\n",
        "plt.show()"
      ],
      "execution_count": null,
      "outputs": []
    },
    {
      "cell_type": "markdown",
      "metadata": {
        "colab_type": "text",
        "id": "kVIQ4VX0Qz9Q"
      },
      "source": [
        "\n",
        "### Let us check another metadata set inside a **JSON file (big one)**:\n"
      ]
    },
    {
      "cell_type": "code",
      "metadata": {
        "colab_type": "code",
        "id": "9_cHv-YDU93U",
        "colab": {}
      },
      "source": [
        "# RUN this CELL if using BINDER or a LOCAL Jupyter Notebooks SERVER (see bellow for Google Colab)\n",
        "# read metadata file #2 (big JSON file -- book_data.json (52MB) inside book_data.zip (13MB))\n",
        "\n",
        "filename = \"data/book_data.zip\"\n",
        "\n",
        "# unzips the files inside book_data.zip\n",
        "z = zipfile.ZipFile(filename)"
      ],
      "execution_count": null,
      "outputs": []
    },
    {
      "cell_type": "code",
      "metadata": {
        "colab_type": "code",
        "id": "qGzB1RW7WP_Y",
        "colab": {}
      },
      "source": [
        "# RUN this CELL if using Google COLAB\n",
        "# read metadata file #2 (big JSON file -- book_data.json (52MB) inside book_data.zip (13MB))\n",
        "\n",
        "zip_file = \"https://github.com/BL-Labs/Jupyter-notebooks-projects-using-BL-Sources/raw/master/Microsoft19thCenturyBooks/data/book_data.zip\"\n",
        "\n",
        "# OR test loading it from data.bl.uk\n",
        "# zip_file = \"https://data.bl.uk/digbks/book_data.zip\"\n",
        "\n",
        "access_url = urllib.request.urlopen(zip_file)\n",
        "\n",
        "# unzips the files inside book_data.zip\n",
        "z = zipfile.ZipFile(io.BytesIO(access_url.read()))"
      ],
      "execution_count": null,
      "outputs": []
    },
    {
      "cell_type": "code",
      "metadata": {
        "colab_type": "code",
        "id": "U2RGxR9XJ-W2",
        "colab": {}
      },
      "source": [
        "# loads JSON from the first (only) file inside into a list \n",
        "meta = json.loads(z.read(z.infolist()[0]).decode('utf-8'))\n"
      ],
      "execution_count": null,
      "outputs": []
    },
    {
      "cell_type": "code",
      "metadata": {
        "colab_type": "code",
        "id": "zOSHEiT_hPJp",
        "colab": {}
      },
      "source": [
        "# number of records inside this list\n",
        "\n",
        "len(meta)"
      ],
      "execution_count": null,
      "outputs": []
    },
    {
      "cell_type": "code",
      "metadata": {
        "colab_type": "code",
        "id": "7KQWHkRvJ-W8",
        "colab": {}
      },
      "source": [
        "# checking a ramdom record (#342)\n",
        "\n",
        "meta[342]"
      ],
      "execution_count": null,
      "outputs": []
    },
    {
      "cell_type": "code",
      "metadata": {
        "colab_type": "code",
        "id": "zkFqTg2twDGZ",
        "colab": {}
      },
      "source": [
        "# By Andrew Jackson (UKWA / BL):\n",
        "\n",
        "years = []\n",
        "pages = []\n",
        "volumes = []\n",
        "titles = []\n",
        "publishers = []\n",
        "place = []\n",
        "url = []\n",
        "shelfmarks = []\n",
        "no_date = []\n",
        "no_pages = []\n",
        "\n",
        "# Loop over the books:\n",
        "for book in meta:\n",
        "    # Get the year\n",
        "    date = book['date']\n",
        "    if date == '':\n",
        "        no_date.append(book)\n",
        "        continue\n",
        "    # Get the volumes as the number of image groups:\n",
        "    vols = book.get('imgs',[])\n",
        "    # Loop though the image groups and count the images\n",
        "    p = 0\n",
        "    for v in vols:\n",
        "        p += len(vols[v])\n",
        "    # Skip ones with no pages:\n",
        "    if p == 0:\n",
        "        no_pages.append(book)\n",
        "        continue\n",
        "    # This is a 'good one' so record it:\n",
        "    years.append(int(date))\n",
        "    volumes.append(len(vols))\n",
        "    pages.append(p)\n",
        "    # and titles:\n",
        "    title = book.get('title','')\n",
        "    title = ''.join(title)[:100]\n",
        "    titles.append(title)\n",
        "    # publisher\n",
        "    publishers.append(book.get('publisher', \"\"))\n",
        "    # place\n",
        "    place.append(book.get('place',''))\n",
        "    # url\n",
        "    url.append(' '.join(list(book.get('pdf',{}).values())))\n",
        "    shelfmarks.append(', '.join(book['shelfmarks']))\n",
        "\n",
        "source = pd.DataFrame({\n",
        "    'year': years,\n",
        "    'pages': pages,\n",
        "    'volumes': volumes,\n",
        "    'title': titles,\n",
        "    'publisher': publishers,\n",
        "    'place': place,\n",
        "    'ids': url,\n",
        "    'shelfmarks': shelfmarks\n",
        "})\n",
        "source"
      ],
      "execution_count": null,
      "outputs": []
    },
    {
      "cell_type": "code",
      "metadata": {
        "colab_type": "code",
        "id": "1kgskAOMwHuW",
        "colab": {}
      },
      "source": [
        "# By Andrew Jackson (UKWA / BL):\n",
        "\n",
        "alt.data_transformers.disable_max_rows()\n",
        "#alt.renderers.enable('notebook')\n",
        "\n",
        "# define selection\n",
        "click = alt.selection_multi(encodings=['color'])\n",
        "\n",
        "chart = alt.Chart(source).mark_point(\n",
        "    filled=True\n",
        ").encode(\n",
        "    alt.X('year:Q',\n",
        "        scale=alt.Scale(zero=False)\n",
        "    ),\n",
        "    y='pages:Q',\n",
        "    size='volumes:N',\n",
        "    color='volumes:N',\n",
        "#    href='url:N',\n",
        "    tooltip=['title:N', 'volumes:N', 'pages:N','year:N', 'publisher:N', 'place:N', 'shelfmarks:N'],\n",
        "    opacity=alt.value(0.5)\n",
        ").transform_filter(\n",
        "    click\n",
        ").properties(\n",
        "    width=800,\n",
        "    height=600,\n",
        "    selection=click,\n",
        ")\n",
        "\n",
        "chart.save(\"digbks-year-pages-volumes-scatter.html\")\n",
        "\n",
        "chart"
      ],
      "execution_count": null,
      "outputs": []
    },
    {
      "cell_type": "markdown",
      "metadata": {
        "colab_type": "text",
        "id": "Dc6jipKBYeed"
      },
      "source": [
        "### Let us check other metadata set inside **CSVs files (including a big one)**:"
      ]
    },
    {
      "cell_type": "code",
      "metadata": {
        "colab_type": "code",
        "id": "1FXmQ6ErWdS9",
        "colab": {}
      },
      "source": [
        "# read metadata file #3 (not MS Books, though -- big CSV file -- sherlock_flickr_tags.csv (27MB) + sherlocknet_tags_verbose.csv (207MB) inside sherlocknet_tags_csv.zip (44MB)), from BL Research Repository (British Library Labs: Projects | SherlockNet data, https://bl.iro.bl.uk/work/3205f8c5-f7dd-46fa-8bf4-9ac72f6fbb55)\n",
        "\n",
        "zip_file = \"https://s3.eu-west-2.amazonaws.com/importer.oar.bl.uk/bl/4ccd707f-eab9-4514-9fc3-17633274b17a\"\n",
        "\n",
        "access_url = urllib.request.urlopen(zip_file)\n",
        "\n",
        "# unzips the files inside sherlocknet_tags_csv.zip\n",
        "z = zipfile.ZipFile(io.BytesIO(access_url.read()))"
      ],
      "execution_count": null,
      "outputs": []
    },
    {
      "cell_type": "code",
      "metadata": {
        "colab_type": "code",
        "id": "OsBNkjYRb-1H",
        "colab": {}
      },
      "source": [
        "# loads metadata from the sherlock_flickr_tags.csv (27MB) CSV file into a 1st dataframe\n",
        "df1 = pd.read_csv(z.open('sherlock_flickr_tags.csv'))"
      ],
      "execution_count": null,
      "outputs": []
    },
    {
      "cell_type": "code",
      "metadata": {
        "colab_type": "code",
        "id": "skr29a8Qh0uO",
        "colab": {}
      },
      "source": [
        "# number of records inside this CSV / dataframe df1\n",
        "\n",
        "df1.size"
      ],
      "execution_count": null,
      "outputs": []
    },
    {
      "cell_type": "code",
      "metadata": {
        "colab_type": "code",
        "id": "f84nP4qRf9YD",
        "colab": {}
      },
      "source": [
        "# 1st 3 records\n",
        "\n",
        "df1.head(3)"
      ],
      "execution_count": null,
      "outputs": []
    },
    {
      "cell_type": "code",
      "metadata": {
        "colab_type": "code",
        "id": "eZO623voI3fR",
        "colab": {}
      },
      "source": [
        "# what are the most popular tags?\n",
        "\n",
        "df1['tag'].value_counts()"
      ],
      "execution_count": null,
      "outputs": []
    },
    {
      "cell_type": "code",
      "metadata": {
        "colab_type": "code",
        "id": "0xlmfv6DwkTG",
        "colab": {}
      },
      "source": [
        "df1['tag'].size"
      ],
      "execution_count": null,
      "outputs": []
    },
    {
      "cell_type": "code",
      "metadata": {
        "colab_type": "code",
        "id": "UbeSwcaLvVgL",
        "colab": {}
      },
      "source": [
        "# Generate a Word Cloud of Tags popularity -- reads the tags whole 970,204 tags\n",
        " \n",
        "list_of_documents=[]\n",
        " \n",
        "for i in range (df1['tag'].size):\n",
        "    list_of_documents.append(str(df1['tag'][i])) \n",
        "    \n",
        "embed_code=wc.get_embed_code(text=list_of_documents,random_color=True,topn=100)\n",
        "\n",
        "HTML(embed_code)"
      ],
      "execution_count": null,
      "outputs": []
    },
    {
      "cell_type": "code",
      "metadata": {
        "colab_type": "code",
        "id": "JInUC8nxdkYs",
        "colab": {}
      },
      "source": [
        "# loads metadata from the sherlocknet_tags_verbose.csv (207MB) CSV file into a 2nd dataframe\n",
        "\n",
        "df2 = pd.read_csv(z.open('sherlocknet_tags_verbose.csv'))"
      ],
      "execution_count": null,
      "outputs": []
    },
    {
      "cell_type": "code",
      "metadata": {
        "colab_type": "code",
        "id": "yu2galHViV7T",
        "colab": {}
      },
      "source": [
        "# number of records inside this 2nd CSV / dataframe df2\n",
        "df2.size"
      ],
      "execution_count": null,
      "outputs": []
    },
    {
      "cell_type": "code",
      "metadata": {
        "colab_type": "code",
        "id": "zm8ihuVjeY7w",
        "colab": {}
      },
      "source": [
        "# 1st 3 records\n",
        "\n",
        "df2.head(3)"
      ],
      "execution_count": null,
      "outputs": []
    },
    {
      "cell_type": "code",
      "metadata": {
        "colab_type": "code",
        "id": "AH1pLCmdJnC8",
        "colab": {}
      },
      "source": [
        "# what are the most popular tags in this dataset? Compare if they match df1's\n",
        "\n",
        "df2['tag'].value_counts()"
      ],
      "execution_count": null,
      "outputs": []
    },
    {
      "cell_type": "code",
      "metadata": {
        "colab_type": "code",
        "id": "dL4plXe4XZOX",
        "colab": {}
      },
      "source": [
        "# How about reading a 11.4GiB .BZ2 file from data.bl.uk or from https://bl.iro.bl.uk/? Inside there's a tar file of 44GB -- and inside this the 65,277 JSON files)\n",
        "# page level JSON text format from 45,455 digitised books (65,277 volumes) \n",
        "\n",
        "import bz2\n",
        "\n",
        "# bz2_file = \"https://data.bl.uk/digbks/dig19cbooksjsontext.bz2\"\n",
        "# bz2_file = \"https://s3.eu-west-2.amazonaws.com/importer.oar.bl.uk/bl/0623cab5-58d7-4eba-b88b-bb32b86862d8\"\n",
        "\n",
        "access_url = urllib.request.urlopen(bz2_file)\n",
        "\n",
        "# unzips the files inside\n",
        "f = bz2.BZ2File(access_url, mode='r', buffering=None, compresslevel=9)"
      ],
      "execution_count": null,
      "outputs": []
    },
    {
      "cell_type": "code",
      "metadata": {
        "colab_type": "code",
        "id": "EP6JD1AGYD5m",
        "colab": {}
      },
      "source": [
        "# check the bz2 file\n",
        "f.peek()"
      ],
      "execution_count": null,
      "outputs": []
    },
    {
      "cell_type": "code",
      "metadata": {
        "colab_type": "code",
        "id": "gZju3F9ydl9h",
        "colab": {}
      },
      "source": [
        "# Inside the bz2 there's a tar file of 44GB\n",
        "tar_file = f.read()"
      ],
      "execution_count": null,
      "outputs": []
    }
  ]
}