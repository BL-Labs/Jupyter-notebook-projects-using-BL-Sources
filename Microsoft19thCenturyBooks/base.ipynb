{
  "nbformat": 4,
  "nbformat_minor": 0,
  "metadata": {
    "colab": {
      "name": "Copy of base.ipynb",
      "provenance": [],
      "collapsed_sections": [],
      "machine_shape": "hm",
      "include_colab_link": true
    },
    "kernelspec": {
      "display_name": "Python 3",
      "language": "python",
      "name": "python3"
    },
    "language_info": {
      "codemirror_mode": {
        "name": "ipython",
        "version": 3
      },
      "file_extension": ".py",
      "mimetype": "text/x-python",
      "name": "python",
      "nbconvert_exporter": "python",
      "pygments_lexer": "ipython3",
      "version": "3.7.6"
    }
  },
  "cells": [
    {
      "cell_type": "markdown",
      "metadata": {
        "id": "view-in-github",
        "colab_type": "text"
      },
      "source": [
        "<a href=\"https://colab.research.google.com/github/BL-Labs/Jupyter-notebooks-projects-using-BL-Sources/blob/master/Microsoft19thCenturyBooks/base.ipynb\" target=\"_parent\"><img src=\"https://colab.research.google.com/assets/colab-badge.svg\" alt=\"Open In Colab\"/></a>"
      ]
    },
    {
      "cell_type": "code",
      "metadata": {
        "colab_type": "code",
        "id": "J_Enb7GGJ-Wv",
        "colab": {}
      },
      "source": [
        "# imports\n",
        "\n",
        "import pandas as pd\n",
        "# import json, os, shutil, codecs\n",
        "import zipfile\n",
        "import io\n",
        "import urllib\n",
        "import json"
      ],
      "execution_count": 0,
      "outputs": []
    },
    {
      "cell_type": "markdown",
      "metadata": {
        "colab_type": "text",
        "id": "JAQpJD3uQmYg"
      },
      "source": [
        "### Let us first have a look at metadata inside a **CSV / TSV file (small one)**:"
      ]
    },
    {
      "cell_type": "code",
      "metadata": {
        "colab_type": "code",
        "id": "8UvJcIu3J-XB",
        "colab": {}
      },
      "source": [
        "# RUN this CELL if using BINDER or a LOCAL Jupyter Notebooks SERVER (see bellow for Google Colab)\n",
        "# read metadata file #1 -- small TSV file\n",
        "\n",
        "filename = \"data/Microsoft-Books.zip\"\n",
        "df = pd.read_csv(filename, delimiter=\"\\t\", compression =\"zip\")"
      ],
      "execution_count": 0,
      "outputs": []
    },
    {
      "cell_type": "code",
      "metadata": {
        "colab_type": "code",
        "id": "ESRZ7AefJ-XE",
        "colab": {}
      },
      "source": [
        "# RUN this CELL if using Google COLAB\n",
        "# read metadata file #1 -- small TSV file\n",
        "\n",
        "filename = \"https://github.com/BL-Labs/Jupyter-notebooks-projects-using-BL-Sources/raw/master/Microsoft19thCenturyBooks/data/Microsoft-Books.zip\"\n",
        "df = pd.read_csv(filename, delimiter=\"\\t\", compression =\"zip\")"
      ],
      "execution_count": 0,
      "outputs": []
    },
    {
      "cell_type": "code",
      "metadata": {
        "colab_type": "code",
        "id": "nLOSIUOIg203",
        "outputId": "c2952641-d85d-496f-899c-f39d9e1a5500",
        "colab": {
          "base_uri": "https://localhost:8080/",
          "height": 34
        }
      },
      "source": [
        "# number of records inside this file / dataframe\n",
        "\n",
        "df.size"
      ],
      "execution_count": 0,
      "outputs": [
        {
          "output_type": "execute_result",
          "data": {
            "text/plain": [
              "937004"
            ]
          },
          "metadata": {
            "tags": []
          },
          "execution_count": 3
        }
      ]
    },
    {
      "cell_type": "code",
      "metadata": {
        "colab_type": "code",
        "id": "B9026gKoJ-XH",
        "outputId": "30ed493a-9ff8-45d6-f2a6-b4f1a6a5b910",
        "colab": {}
      },
      "source": [
        "# 1st 3 records\n",
        "\n",
        "df.head(3)"
      ],
      "execution_count": 0,
      "outputs": [
        {
          "output_type": "execute_result",
          "data": {
            "text/html": [
              "<div>\n",
              "<style scoped>\n",
              "    .dataframe tbody tr th:only-of-type {\n",
              "        vertical-align: middle;\n",
              "    }\n",
              "\n",
              "    .dataframe tbody tr th {\n",
              "        vertical-align: top;\n",
              "    }\n",
              "\n",
              "    .dataframe thead th {\n",
              "        text-align: right;\n",
              "    }\n",
              "</style>\n",
              "<table border=\"1\" class=\"dataframe\">\n",
              "  <thead>\n",
              "    <tr style=\"text-align: right;\">\n",
              "      <th></th>\n",
              "      <th>Physical Record ID</th>\n",
              "      <th>BL record ID</th>\n",
              "      <th>ARK</th>\n",
              "      <th>Type of resource</th>\n",
              "      <th>Content type</th>\n",
              "      <th>All names</th>\n",
              "      <th>Title</th>\n",
              "      <th>Country of publication</th>\n",
              "      <th>Place of publication</th>\n",
              "      <th>Publisher</th>\n",
              "      <th>Date of publication (standardised)</th>\n",
              "      <th>Edition</th>\n",
              "      <th>Physical description</th>\n",
              "      <th>BL shelfmark</th>\n",
              "      <th>Topics</th>\n",
              "      <th>Genre</th>\n",
              "      <th>Literary form</th>\n",
              "      <th>Languages</th>\n",
              "      <th>Contents</th>\n",
              "    </tr>\n",
              "  </thead>\n",
              "  <tbody>\n",
              "    <tr>\n",
              "      <th>0</th>\n",
              "      <td>4031040.0</td>\n",
              "      <td>14940086</td>\n",
              "      <td>ark:/81055/vdc_000000021AEC</td>\n",
              "      <td>Monograph</td>\n",
              "      <td>Text</td>\n",
              "      <td>Żychliński, Ludwik [person]</td>\n",
              "      <td>Historya Sejmów Wielk. Ks. Poznańskiego do r. ...</td>\n",
              "      <td>NaN</td>\n",
              "      <td>Poznań</td>\n",
              "      <td>NaN</td>\n",
              "      <td>1867</td>\n",
              "      <td>NaN</td>\n",
              "      <td>2 tomes (8°)</td>\n",
              "      <td>Digital Store 9475.cc.22</td>\n",
              "      <td>NaN</td>\n",
              "      <td>NaN</td>\n",
              "      <td>NaN</td>\n",
              "      <td>Polish</td>\n",
              "      <td>NaN</td>\n",
              "    </tr>\n",
              "    <tr>\n",
              "      <th>1</th>\n",
              "      <td>4031043.0</td>\n",
              "      <td>15178564</td>\n",
              "      <td>ark:/81055/vdc_000000025FF8</td>\n",
              "      <td>Monograph</td>\n",
              "      <td>Text</td>\n",
              "      <td>Żychliński, Ludwik [person]</td>\n",
              "      <td>Pamiętniki z wojny Amerykańskiéj 1862 r</td>\n",
              "      <td>NaN</td>\n",
              "      <td>Poznań</td>\n",
              "      <td>NaN</td>\n",
              "      <td>1863</td>\n",
              "      <td>NaN</td>\n",
              "      <td>NaN</td>\n",
              "      <td>Digital Store 9603.f.3</td>\n",
              "      <td>NaN</td>\n",
              "      <td>NaN</td>\n",
              "      <td>NaN</td>\n",
              "      <td>Polish</td>\n",
              "      <td>NaN</td>\n",
              "    </tr>\n",
              "    <tr>\n",
              "      <th>2</th>\n",
              "      <td>4030703.0</td>\n",
              "      <td>14841678</td>\n",
              "      <td>ark:/81055/vdc_000000005322</td>\n",
              "      <td>Monograph</td>\n",
              "      <td>Text</td>\n",
              "      <td>Rehn, A. [person] ; Zwiedinek Von Suedenhorst,...</td>\n",
              "      <td>Syrien und seine Bedeutung für den Welthandel....</td>\n",
              "      <td>NaN</td>\n",
              "      <td>Wien</td>\n",
              "      <td>NaN</td>\n",
              "      <td>1873</td>\n",
              "      <td>NaN</td>\n",
              "      <td>NaN</td>\n",
              "      <td>Digital Store 10077.f.1</td>\n",
              "      <td>NaN</td>\n",
              "      <td>NaN</td>\n",
              "      <td>NaN</td>\n",
              "      <td>German</td>\n",
              "      <td>NaN</td>\n",
              "    </tr>\n",
              "  </tbody>\n",
              "</table>\n",
              "</div>"
            ],
            "text/plain": [
              "   Physical Record ID  BL record ID                          ARK  \\\n",
              "0           4031040.0      14940086  ark:/81055/vdc_000000021AEC   \n",
              "1           4031043.0      15178564  ark:/81055/vdc_000000025FF8   \n",
              "2           4030703.0      14841678  ark:/81055/vdc_000000005322   \n",
              "\n",
              "  Type of resource Content type  \\\n",
              "0        Monograph         Text   \n",
              "1        Monograph         Text   \n",
              "2        Monograph         Text   \n",
              "\n",
              "                                           All names  \\\n",
              "0                        Żychliński, Ludwik [person]   \n",
              "1                        Żychliński, Ludwik [person]   \n",
              "2  Rehn, A. [person] ; Zwiedinek Von Suedenhorst,...   \n",
              "\n",
              "                                               Title Country of publication  \\\n",
              "0  Historya Sejmów Wielk. Ks. Poznańskiego do r. ...                    NaN   \n",
              "1            Pamiętniki z wojny Amerykańskiéj 1862 r                    NaN   \n",
              "2  Syrien und seine Bedeutung für den Welthandel....                    NaN   \n",
              "\n",
              "  Place of publication Publisher Date of publication (standardised) Edition  \\\n",
              "0               Poznań       NaN                               1867     NaN   \n",
              "1               Poznań       NaN                               1863     NaN   \n",
              "2                 Wien       NaN                               1873     NaN   \n",
              "\n",
              "  Physical description              BL shelfmark Topics Genre Literary form  \\\n",
              "0         2 tomes (8°)  Digital Store 9475.cc.22    NaN   NaN           NaN   \n",
              "1                  NaN    Digital Store 9603.f.3    NaN   NaN           NaN   \n",
              "2                  NaN   Digital Store 10077.f.1    NaN   NaN           NaN   \n",
              "\n",
              "  Languages Contents  \n",
              "0    Polish      NaN  \n",
              "1    Polish      NaN  \n",
              "2    German      NaN  "
            ]
          },
          "metadata": {
            "tags": []
          },
          "execution_count": 5
        }
      ]
    },
    {
      "cell_type": "code",
      "metadata": {
        "colab_type": "code",
        "id": "8b1zpImgJ-XR",
        "outputId": "46631851-2d9f-46b1-fac9-a597f469c124",
        "colab": {}
      },
      "source": [
        "df[\"Content type\"].value_counts()"
      ],
      "execution_count": 0,
      "outputs": [
        {
          "output_type": "execute_result",
          "data": {
            "text/plain": [
              "Text                         49314\n",
              "Cartographic image ; Text        2\n",
              "Name: Content type, dtype: int64"
            ]
          },
          "metadata": {
            "tags": []
          },
          "execution_count": 6
        }
      ]
    },
    {
      "cell_type": "code",
      "metadata": {
        "colab_type": "code",
        "id": "7r5RvgZyJ-XV",
        "outputId": "78830c2b-0ddc-4d17-dcce-85a64f73a3ad",
        "colab": {}
      },
      "source": [
        "# Tops of Publication Dates\n",
        "\n",
        "df[\"Date of publication (standardised)\"].value_counts()"
      ],
      "execution_count": 0,
      "outputs": [
        {
          "output_type": "execute_result",
          "data": {
            "text/plain": [
              "1897         1491\n",
              "1896         1423\n",
              "1895         1269\n",
              "1893         1214\n",
              "1890         1178\n",
              "             ... \n",
              "1851-1873       1\n",
              "1835-1836       1\n",
              "1884-           1\n",
              "2971            1\n",
              "1893-           1\n",
              "Name: Date of publication (standardised), Length: 418, dtype: int64"
            ]
          },
          "metadata": {
            "tags": []
          },
          "execution_count": 7
        }
      ]
    },
    {
      "cell_type": "code",
      "metadata": {
        "id": "8vMG8tUTW67n",
        "colab_type": "code",
        "outputId": "984afbe8-8b10-41aa-e968-a4315e686fc1",
        "colab": {
          "base_uri": "https://localhost:8080/",
          "height": 327
        }
      },
      "source": [
        "# ploting them with the default sort of the value counts -- not the best\n",
        "df[\"Date of publication (standardised)\"].value_counts().plot(kind='bar')"
      ],
      "execution_count": 0,
      "outputs": [
        {
          "output_type": "execute_result",
          "data": {
            "text/plain": [
              "<matplotlib.axes._subplots.AxesSubplot at 0x7ff556cdf470>"
            ]
          },
          "metadata": {
            "tags": []
          },
          "execution_count": 33
        },
        {
          "output_type": "display_data",
          "data": {
            "image/png": "[encoded data removed]",
            "text/plain": [
              "<Figure size 432x288 with 1 Axes>"
            ]
          },
          "metadata": {
            "tags": [],
            "needs_background": "light"
          }
        }
      ]
    },
    {
      "cell_type": "code",
      "metadata": {
        "id": "BXk9oxl-XqUU",
        "colab_type": "code",
        "outputId": "5a523660-03f1-4b38-ae21-1bc0d8b3acde",
        "colab": {
          "base_uri": "https://localhost:8080/",
          "height": 221
        }
      },
      "source": [
        "# another way to calculate the count of the number of records per date of publication -- this time sorting by value of the field, instead of the default counts value   \n",
        "\n",
        "CountPerYear = pd.value_counts(df[\"Date of publication (standardised)\"].values, sort=False).sort_index()\n",
        "# equivalent to > CountPerYear = df[\"Date of publication (standardised)\"].value_counts().sort_index()\n",
        "\n",
        "CountPerYear"
      ],
      "execution_count": 0,
      "outputs": [
        {
          "output_type": "execute_result",
          "data": {
            "text/plain": [
              "1180    1\n",
              "1510    1\n",
              "1528    1\n",
              "1540    1\n",
              "1556    1\n",
              "       ..\n",
              "1931    1\n",
              "1938    1\n",
              "1946    5\n",
              "1949    1\n",
              "2971    1\n",
              "Length: 418, dtype: int64"
            ]
          },
          "metadata": {
            "tags": []
          },
          "execution_count": 43
        }
      ]
    },
    {
      "cell_type": "code",
      "metadata": {
        "id": "epd_C1u2YHLA",
        "colab_type": "code",
        "outputId": "49fe40a3-9454-4db2-dbff-c17a652ac382",
        "colab": {
          "base_uri": "https://localhost:8080/",
          "height": 291
        }
      },
      "source": [
        "# ploting it now it allows to have a better view of the evolution over the years -- peak value: year 1897 = 1491 entries\n",
        "\n",
        "CountPerYear.plot.bar(figsize=(100,20))"
      ],
      "execution_count": 0,
      "outputs": [
        {
          "output_type": "execute_result",
          "data": {
            "text/plain": [
              "<matplotlib.axes._subplots.AxesSubplot at 0x7ff557a81da0>"
            ]
          },
          "metadata": {
            "tags": []
          },
          "execution_count": 32
        },
        {
          "output_type": "display_data",
          "data": {
            "image/png": "[encoded data removed]",
            "text/plain": [
              "<Figure size 7200x1440 with 1 Axes>"
            ]
          },
          "metadata": {
            "tags": [],
            "needs_background": "light"
          }
        }
      ]
    },
    {
      "cell_type": "code",
      "metadata": {
        "id": "x3ZWT6eaqw3a",
        "colab_type": "code",
        "outputId": "ccc55ce3-35e3-46a6-8265-ab6472bbdd41",
        "colab": {
          "base_uri": "https://localhost:8080/",
          "height": 282
        }
      },
      "source": [
        "# Density plot (?)\n",
        "\n",
        "CountPerYear.plot.kde()"
      ],
      "execution_count": 0,
      "outputs": [
        {
          "output_type": "execute_result",
          "data": {
            "text/plain": [
              "<matplotlib.axes._subplots.AxesSubplot at 0x7ff5611bc0b8>"
            ]
          },
          "metadata": {
            "tags": []
          },
          "execution_count": 46
        },
        {
          "output_type": "display_data",
          "data": {
            "image/png": "[encoded data removed]",
            "text/plain": [
              "<Figure size 432x288 with 1 Axes>"
            ]
          },
          "metadata": {
            "tags": [],
            "needs_background": "light"
          }
        }
      ]
    },
    {
      "cell_type": "code",
      "metadata": {
        "colab_type": "code",
        "id": "5bWNuVmEJ-XZ",
        "outputId": "6e258ced-7208-4cd7-a16b-5952dd91466d",
        "colab": {}
      },
      "source": [
        "# top of Genre\n",
        "\n",
        "df[\"Genre\"].value_counts()"
      ],
      "execution_count": 0,
      "outputs": [
        {
          "output_type": "execute_result",
          "data": {
            "text/plain": [
              "Periodical                                               38\n",
              "Directory                                                18\n",
              "Fiction                                                  14\n",
              "Source                                                    8\n",
              "Biography                                                 7\n",
              "Poetry or verse                                           5\n",
              "Dictionary                                                5\n",
              "Review                                                    4\n",
              "Pictorial work                                            4\n",
              "Libretto                                                  3\n",
              "Guidebook                                                 3\n",
              "Early works to 1800                                       3\n",
              "Statistics                                                3\n",
              "Drama                                                     2\n",
              "Illustration                                              2\n",
              "Atlas                                                     2\n",
              "Travel                                                    2\n",
              "Handbook or manual                                        2\n",
              "Gazetteer                                                 2\n",
              "Diary                                                     1\n",
              "Early works to 1800 ; Libretto                            1\n",
              "Correspondence                                            1\n",
              "Bibliography                                              1\n",
              "Ephemeris                                                 1\n",
              "Handbook or manual ; Periodical                           1\n",
              "Engraving ; Illustration ; Plan or view                   1\n",
              "Compendium or compilation                                 1\n",
              "History                                                   1\n",
              "Encyclopaedia                                             1\n",
              "Translations from English ; Translations into Russian     1\n",
              "Lithograph                                                1\n",
              "Diary ; Personal narrative                                1\n",
              "Concordance                                               1\n",
              "Hymnal                                                    1\n",
              "Humour or satire                                          1\n",
              "Lithograph ; Plan or view                                 1\n",
              "Children's fiction                                        1\n",
              "Biography ; Diary ; Personal narrative                    1\n",
              "Name: Genre, dtype: int64"
            ]
          },
          "metadata": {
            "tags": []
          },
          "execution_count": 17
        }
      ]
    },
    {
      "cell_type": "code",
      "metadata": {
        "colab_type": "code",
        "id": "qKTnbPvZJ-Xc",
        "outputId": "b3eec7ff-757e-4404-aa58-1a56483c7c2e",
        "colab": {
          "base_uri": "https://localhost:8080/",
          "height": 170
        }
      },
      "source": [
        "# top of Literary form\n",
        "\n",
        "df[\"Literary form\"].value_counts()"
      ],
      "execution_count": 0,
      "outputs": [
        {
          "output_type": "execute_result",
          "data": {
            "text/plain": [
              "Not fiction      298\n",
              "Fiction          177\n",
              "Poetry            27\n",
              "Dramas            15\n",
              "Novels            11\n",
              "Short stories      5\n",
              "Mixed forms        1\n",
              "Letters            1\n",
              "Name: Literary form, dtype: int64"
            ]
          },
          "metadata": {
            "tags": []
          },
          "execution_count": 50
        }
      ]
    },
    {
      "cell_type": "markdown",
      "metadata": {
        "colab_type": "text",
        "id": "kVIQ4VX0Qz9Q"
      },
      "source": [
        "\n",
        "### Let us check another metadata set inside a **JSON file (big one)**:\n"
      ]
    },
    {
      "cell_type": "code",
      "metadata": {
        "id": "9_cHv-YDU93U",
        "colab_type": "code",
        "colab": {}
      },
      "source": [
        "# RUN this CELL if using BINDER or a LOCAL Jupyter Notebooks SERVER (see bellow for Google Colab)\n",
        "# read metadata file #2 (big JSON file -- book_data.json (52MB) inside book_data.zip (13MB))\n",
        "\n",
        "filename = \"data/book_data.zip\"\n",
        "\n",
        "# unzips the files inside book_data.zip\n",
        "z = zipfile.ZipFile(filename)"
      ],
      "execution_count": 0,
      "outputs": []
    },
    {
      "cell_type": "code",
      "metadata": {
        "id": "qGzB1RW7WP_Y",
        "colab_type": "code",
        "colab": {}
      },
      "source": [
        "# RUN this CELL if using Google COLAB\n",
        "# read metadata file #2 (big JSON file -- book_data.json (52MB) inside book_data.zip (13MB))\n",
        "\n",
        "zip_file = \"https://github.com/BL-Labs/Jupyter-notebooks-projects-using-BL-Sources/raw/master/Microsoft19thCenturyBooks/data/book_data.zip\"\n",
        "\n",
        "# OR test loading it from data.bl.uk\n",
        "# zip_file = \"https://data.bl.uk/digbks/book_data.zip\"\n",
        "\n",
        "access_url = urllib.request.urlopen(zip_file)\n",
        "\n",
        "# unzips the files inside book_data.zip\n",
        "z = zipfile.ZipFile(io.BytesIO(access_url.read()))"
      ],
      "execution_count": 0,
      "outputs": []
    },
    {
      "cell_type": "code",
      "metadata": {
        "colab_type": "code",
        "id": "U2RGxR9XJ-W2",
        "colab": {}
      },
      "source": [
        "# loads JSON from the first (only) file inside into a list \n",
        "meta = json.loads(z.read(z.infolist()[0]).decode('utf-8'))\n"
      ],
      "execution_count": 0,
      "outputs": []
    },
    {
      "cell_type": "code",
      "metadata": {
        "colab_type": "code",
        "id": "zOSHEiT_hPJp",
        "outputId": "afd57a6c-b386-4f12-c210-29260de368fe",
        "colab": {
          "base_uri": "https://localhost:8080/",
          "height": 34
        }
      },
      "source": [
        "# number of records inside this list\n",
        "\n",
        "len(meta)"
      ],
      "execution_count": 0,
      "outputs": [
        {
          "output_type": "execute_result",
          "data": {
            "text/plain": [
              "49509"
            ]
          },
          "metadata": {
            "tags": []
          },
          "execution_count": 22
        }
      ]
    },
    {
      "cell_type": "code",
      "metadata": {
        "colab_type": "code",
        "id": "7KQWHkRvJ-W8",
        "outputId": "89f4aa5a-7ba5-4e6d-a28f-1f42b96800bd",
        "colab": {
          "base_uri": "https://localhost:8080/",
          "height": 1000
        }
      },
      "source": [
        "# checking a ramdom record (#342)\n",
        "\n",
        "meta[342]"
      ],
      "execution_count": 0,
      "outputs": [
        {
          "output_type": "execute_result",
          "data": {
            "text/plain": [
              "{'authors': {'creator': ['AICKIN, Robert.']},\n",
              " 'corporate': {},\n",
              " 'date': '1890',\n",
              " 'datefield': '1890',\n",
              " 'edition': '',\n",
              " 'flickr_url_to_book_images': 'http://www.flickr.com/photos/britishlibrary/tags/sysnum000033323',\n",
              " 'identifier': '000033323',\n",
              " 'imgs': {'0': {'000002': ['11294298083'],\n",
              "   '000004': ['11295058696'],\n",
              "   '000007': ['11116640094'],\n",
              "   '000008': ['11202909965'],\n",
              "   '000009': ['11206793353'],\n",
              "   '000017': ['11115558733'],\n",
              "   '000019': ['11115524535', '11115435123'],\n",
              "   '000021': ['11114256935'],\n",
              "   '000023': ['11114456165', '11117044754'],\n",
              "   '000024': ['11114370245'],\n",
              "   '000025': ['11115776723', '11116448223'],\n",
              "   '000027': ['11294781816'],\n",
              "   '000028': ['11117548493'],\n",
              "   '000029': ['11116646896'],\n",
              "   '000030': ['11114922533'],\n",
              "   '000031': ['11114922566'],\n",
              "   '000032': ['11114994984'],\n",
              "   '000035': ['11206448996'],\n",
              "   '000038': ['11204986556'],\n",
              "   '000039': ['11204002115'],\n",
              "   '000042': ['11116548993'],\n",
              "   '000044': ['11296031935'],\n",
              "   '000046': ['11206637743'],\n",
              "   '000052': ['11116136905'],\n",
              "   '000053': ['11115414154'],\n",
              "   '000056': ['11115851205'],\n",
              "   '000059': ['11294767974'],\n",
              "   '000062': ['11115031193'],\n",
              "   '000064': ['11202873984'],\n",
              "   '000065': ['11207089303'],\n",
              "   '000066': ['11295326873'],\n",
              "   '000068': ['11294878786'],\n",
              "   '000070': ['11114910066'],\n",
              "   '000072': ['11206527784'],\n",
              "   '000074': ['11296022423'],\n",
              "   '000076': ['11203019466'],\n",
              "   '000078': ['11206623103'],\n",
              "   '000083': ['11295035013'],\n",
              "   '000086': ['11294099124'],\n",
              "   '000090': ['11202767546'],\n",
              "   '000091': ['11115277675'],\n",
              "   '000093': ['11296383293'],\n",
              "   '000094': ['11116069023', '11116233783', '11113804255', '11114155255'],\n",
              "   '000096': ['11206479574'],\n",
              "   '000098': ['11204927526'],\n",
              "   '000100': ['11294294096'],\n",
              "   '000104': ['11207259914'],\n",
              "   '000108': ['11293939035'],\n",
              "   '000111': ['11294041923'],\n",
              "   '000117': ['11293969963'],\n",
              "   '000129': ['11114664205'],\n",
              "   '000130': ['11114624716'],\n",
              "   '000135': ['11115091144'],\n",
              "   '000141': ['11117226726'],\n",
              "   '000143': ['11294725976'],\n",
              "   '000147': ['11204058153'],\n",
              "   '000148': ['11296042174'],\n",
              "   '000152': ['11202985145'],\n",
              "   '000153': ['11296267466'],\n",
              "   '000155': ['11116367184'],\n",
              "   '000157': ['11295277206'],\n",
              "   '000158': ['11114931934'],\n",
              "   '000164': ['11116501834'],\n",
              "   '000170': ['11294112106'],\n",
              "   '000171': ['11204392964'],\n",
              "   '000172': ['11205418754'],\n",
              "   '000176': ['11295115326'],\n",
              "   '000177': ['11117266993', '11296240564'],\n",
              "   '000183': ['11294204804'],\n",
              "   '000197': ['11115268044'],\n",
              "   '000200': ['11205973306'],\n",
              "   '000202': ['11116131424'],\n",
              "   '000204': ['11116732326'],\n",
              "   '000206': ['11115892264'],\n",
              "   '000207': ['11203966415'],\n",
              "   '000208': ['11115322865'],\n",
              "   '000213': ['11114892814'],\n",
              "   '000218': ['11117331966'],\n",
              "   '000225': ['11294237483'],\n",
              "   '000229': ['11203512716']}},\n",
              " 'issuance': 'monographic',\n",
              " 'pdf': {'0': 'lsidyv3c3b304c'},\n",
              " 'place': 'Belfast',\n",
              " 'publisher': 'C. W. Olley',\n",
              " 'shelfmarks': ['British Library HMNTS 10390.df.35.'],\n",
              " 'title': [\"Guide to North of Ireland, Giant's Causeway and Belfast, with history of Belfast\"]}"
            ]
          },
          "metadata": {
            "tags": []
          },
          "execution_count": 35
        }
      ]
    },
    {
      "cell_type": "markdown",
      "metadata": {
        "colab_type": "text",
        "id": "Dc6jipKBYeed"
      },
      "source": [
        "### Let us check other metadata set inside **CSVs files (including a big one)**:"
      ]
    },
    {
      "cell_type": "code",
      "metadata": {
        "colab_type": "code",
        "id": "1FXmQ6ErWdS9",
        "colab": {}
      },
      "source": [
        "# read metadata file #3 (not MS Books, though -- big CSV file -- sherlock_flickr_tags.csv (27MB) + sherlocknet_tags_verbose.csv (207MB) inside sherlocknet_tags_csv.zip (44MB)), from BL Research Repository (British Library Labs: Projects | SherlockNet data, https://bl.iro.bl.uk/work/3205f8c5-f7dd-46fa-8bf4-9ac72f6fbb55)\n",
        "\n",
        "zip_file = \"https://s3.eu-west-2.amazonaws.com/importer.oar.bl.uk/bl/4ccd707f-eab9-4514-9fc3-17633274b17a\"\n",
        "\n",
        "access_url = urllib.request.urlopen(zip_file)\n",
        "\n",
        "# unzips the files inside sherlocknet_tags_csv.zip\n",
        "z = zipfile.ZipFile(io.BytesIO(access_url.read()))"
      ],
      "execution_count": 0,
      "outputs": []
    },
    {
      "cell_type": "code",
      "metadata": {
        "colab_type": "code",
        "id": "OsBNkjYRb-1H",
        "colab": {}
      },
      "source": [
        "# loads metadata from the sherlock_flickr_tags.csv (27MB) CSV file into a 1st dataframe\n",
        "df1 = pd.read_csv(z.open('sherlock_flickr_tags.csv'))"
      ],
      "execution_count": 0,
      "outputs": []
    },
    {
      "cell_type": "code",
      "metadata": {
        "colab_type": "code",
        "id": "skr29a8Qh0uO",
        "outputId": "ababe5fd-984c-4466-d803-7d750b0f45c2",
        "colab": {
          "base_uri": "https://localhost:8080/",
          "height": 34
        }
      },
      "source": [
        "# number of records inside this CSV / dataframe df1\n",
        "\n",
        "df1.size"
      ],
      "execution_count": 0,
      "outputs": [
        {
          "output_type": "execute_result",
          "data": {
            "text/plain": [
              "2910612"
            ]
          },
          "metadata": {
            "tags": []
          },
          "execution_count": 26
        }
      ]
    },
    {
      "cell_type": "code",
      "metadata": {
        "colab_type": "code",
        "id": "f84nP4qRf9YD",
        "outputId": "dbe24339-e63e-411e-8a73-2a1d67baff7e",
        "colab": {
          "base_uri": "https://localhost:8080/",
          "height": 142
        }
      },
      "source": [
        "# 1st 3 records\n",
        "\n",
        "df1.head(3)"
      ],
      "execution_count": 0,
      "outputs": [
        {
          "output_type": "execute_result",
          "data": {
            "text/html": [
              "<div>\n",
              "<style scoped>\n",
              "    .dataframe tbody tr th:only-of-type {\n",
              "        vertical-align: middle;\n",
              "    }\n",
              "\n",
              "    .dataframe tbody tr th {\n",
              "        vertical-align: top;\n",
              "    }\n",
              "\n",
              "    .dataframe thead th {\n",
              "        text-align: right;\n",
              "    }\n",
              "</style>\n",
              "<table border=\"1\" class=\"dataframe\">\n",
              "  <thead>\n",
              "    <tr style=\"text-align: right;\">\n",
              "      <th></th>\n",
              "      <th>flickr_id</th>\n",
              "      <th>image_idx</th>\n",
              "      <th>tag</th>\n",
              "    </tr>\n",
              "  </thead>\n",
              "  <tbody>\n",
              "    <tr>\n",
              "      <th>0</th>\n",
              "      <td>10997113773</td>\n",
              "      <td>0</td>\n",
              "      <td>seals</td>\n",
              "    </tr>\n",
              "    <tr>\n",
              "      <th>1</th>\n",
              "      <td>10997057664</td>\n",
              "      <td>1</td>\n",
              "      <td>miniatures</td>\n",
              "    </tr>\n",
              "    <tr>\n",
              "      <th>2</th>\n",
              "      <td>10996985576</td>\n",
              "      <td>2</td>\n",
              "      <td>miniatures</td>\n",
              "    </tr>\n",
              "  </tbody>\n",
              "</table>\n",
              "</div>"
            ],
            "text/plain": [
              "     flickr_id  image_idx         tag\n",
              "0  10997113773          0       seals\n",
              "1  10997057664          1  miniatures\n",
              "2  10996985576          2  miniatures"
            ]
          },
          "metadata": {
            "tags": []
          },
          "execution_count": 27
        }
      ]
    },
    {
      "cell_type": "code",
      "metadata": {
        "colab_type": "code",
        "id": "eZO623voI3fR",
        "outputId": "6bb96465-7e2a-43e7-da84-3d46fce61900",
        "colab": {
          "base_uri": "https://localhost:8080/",
          "height": 238
        }
      },
      "source": [
        "# what are the most popular tags?\n",
        "\n",
        "df1['tag'].value_counts()"
      ],
      "execution_count": 0,
      "outputs": [
        {
          "output_type": "execute_result",
          "data": {
            "text/plain": [
              "people          190561\n",
              "landscapes      118816\n",
              "architecture    104517\n",
              "decorations      97256\n",
              "nature           80060\n",
              "objects          71544\n",
              "maps             58460\n",
              "animals          56232\n",
              "diagrams         56086\n",
              "seals            55720\n",
              "text             45153\n",
              "miniatures       35799\n",
              "Name: tag, dtype: int64"
            ]
          },
          "metadata": {
            "tags": []
          },
          "execution_count": 49
        }
      ]
    },
    {
      "cell_type": "code",
      "metadata": {
        "colab_type": "code",
        "id": "JInUC8nxdkYs",
        "colab": {}
      },
      "source": [
        "# loads metadata from the sherlocknet_tags_verbose.csv (207MB) CSV file into a 2nd dataframe\n",
        "\n",
        "df2 = pd.read_csv(z.open('sherlocknet_tags_verbose.csv'))"
      ],
      "execution_count": 0,
      "outputs": []
    },
    {
      "cell_type": "code",
      "metadata": {
        "colab_type": "code",
        "id": "yu2galHViV7T",
        "outputId": "339c06ba-3602-4f38-fa28-125715c1611b",
        "colab": {
          "base_uri": "https://localhost:8080/",
          "height": 34
        }
      },
      "source": [
        "# number of records inside this 2nd CSV / dataframe df2\n",
        "df2.size"
      ],
      "execution_count": 0,
      "outputs": [
        {
          "output_type": "execute_result",
          "data": {
            "text/plain": [
              "12612652"
            ]
          },
          "metadata": {
            "tags": []
          },
          "execution_count": 30
        }
      ]
    },
    {
      "cell_type": "code",
      "metadata": {
        "colab_type": "code",
        "id": "zm8ihuVjeY7w",
        "outputId": "f066e2f7-607a-4935-a610-8f86f1b83428",
        "colab": {
          "base_uri": "https://localhost:8080/",
          "height": 142
        }
      },
      "source": [
        "# 1st 3 records\n",
        "\n",
        "df2.head(3)"
      ],
      "execution_count": 0,
      "outputs": [
        {
          "output_type": "execute_result",
          "data": {
            "text/html": [
              "<div>\n",
              "<style scoped>\n",
              "    .dataframe tbody tr th:only-of-type {\n",
              "        vertical-align: middle;\n",
              "    }\n",
              "\n",
              "    .dataframe tbody tr th {\n",
              "        vertical-align: top;\n",
              "    }\n",
              "\n",
              "    .dataframe thead th {\n",
              "        text-align: right;\n",
              "    }\n",
              "</style>\n",
              "<table border=\"1\" class=\"dataframe\">\n",
              "  <thead>\n",
              "    <tr style=\"text-align: right;\">\n",
              "      <th></th>\n",
              "      <th>image_idx</th>\n",
              "      <th>flickr_id</th>\n",
              "      <th>tag</th>\n",
              "      <th>size</th>\n",
              "      <th>scannumber</th>\n",
              "      <th>imageorderonpage</th>\n",
              "      <th>title</th>\n",
              "      <th>author</th>\n",
              "      <th>vol</th>\n",
              "      <th>pubplace</th>\n",
              "      <th>sysnum</th>\n",
              "      <th>date</th>\n",
              "      <th>filename</th>\n",
              "    </tr>\n",
              "  </thead>\n",
              "  <tbody>\n",
              "    <tr>\n",
              "      <th>0</th>\n",
              "      <td>0</td>\n",
              "      <td>10997113773</td>\n",
              "      <td>seals</td>\n",
              "      <td>e</td>\n",
              "      <td>9</td>\n",
              "      <td>1</td>\n",
              "      <td>Piutarchi Chaeronensis Regum  Imperatorum Apo...</td>\n",
              "      <td>REGIUS, Raphael.</td>\n",
              "      <td>0</td>\n",
              "      <td>Paris</td>\n",
              "      <td>2938347</td>\n",
              "      <td>1510</td>\n",
              "      <td>002938347_0_000009_1_</td>\n",
              "    </tr>\n",
              "    <tr>\n",
              "      <th>1</th>\n",
              "      <td>1</td>\n",
              "      <td>10997057664</td>\n",
              "      <td>miniatures</td>\n",
              "      <td>e</td>\n",
              "      <td>6</td>\n",
              "      <td>1</td>\n",
              "      <td>Piutarchi Chaeronensis Regum  Imperatorum Apo...</td>\n",
              "      <td>REGIUS, Raphael.</td>\n",
              "      <td>0</td>\n",
              "      <td>Paris</td>\n",
              "      <td>2938347</td>\n",
              "      <td>1510</td>\n",
              "      <td>002938347_0_000006_1_</td>\n",
              "    </tr>\n",
              "    <tr>\n",
              "      <th>2</th>\n",
              "      <td>2</td>\n",
              "      <td>10996985576</td>\n",
              "      <td>miniatures</td>\n",
              "      <td>e</td>\n",
              "      <td>9</td>\n",
              "      <td>2</td>\n",
              "      <td>Piutarchi Chaeronensis Regum  Imperatorum Apo...</td>\n",
              "      <td>REGIUS, Raphael.</td>\n",
              "      <td>0</td>\n",
              "      <td>Paris</td>\n",
              "      <td>2938347</td>\n",
              "      <td>1510</td>\n",
              "      <td>002938347_0_000009_2_</td>\n",
              "    </tr>\n",
              "  </tbody>\n",
              "</table>\n",
              "</div>"
            ],
            "text/plain": [
              "   image_idx    flickr_id         tag  ...   sysnum  date               filename\n",
              "0          0  10997113773       seals  ...  2938347  1510  002938347_0_000009_1_\n",
              "1          1  10997057664  miniatures  ...  2938347  1510  002938347_0_000006_1_\n",
              "2          2  10996985576  miniatures  ...  2938347  1510  002938347_0_000009_2_\n",
              "\n",
              "[3 rows x 13 columns]"
            ]
          },
          "metadata": {
            "tags": []
          },
          "execution_count": 13
        }
      ]
    },
    {
      "cell_type": "code",
      "metadata": {
        "colab_type": "code",
        "id": "AH1pLCmdJnC8",
        "outputId": "fd3401e2-9538-433c-e9fe-16e6292ecb89",
        "colab": {
          "base_uri": "https://localhost:8080/",
          "height": 238
        }
      },
      "source": [
        "# what are the most popular tags in this dataset? Compare if they match df1's\n",
        "\n",
        "df2['tag'].value_counts()"
      ],
      "execution_count": 0,
      "outputs": [
        {
          "output_type": "execute_result",
          "data": {
            "text/plain": [
              "people          190561\n",
              "landscapes      118816\n",
              "architecture    104517\n",
              "decorations      97256\n",
              "nature           80060\n",
              "objects          71544\n",
              "maps             58460\n",
              "animals          56232\n",
              "diagrams         56086\n",
              "seals            55720\n",
              "text             45153\n",
              "miniatures       35799\n",
              "Name: tag, dtype: int64"
            ]
          },
          "metadata": {
            "tags": []
          },
          "execution_count": 51
        }
      ]
    },
    {
      "cell_type": "code",
      "metadata": {
        "id": "dL4plXe4XZOX",
        "colab_type": "code",
        "colab": {}
      },
      "source": [
        "# How about reading a 11.4GiB .BZ2 file from data.bl.uk or from https://bl.iro.bl.uk/? Inside there's a tar file of 44GB -- and inside this the 65,277 JSON files)\n",
        "# page level JSON text format from 45,455 digitised books (65,277 volumes) \n",
        "\n",
        "import bz2\n",
        "\n",
        "# bz2_file = \"https://data.bl.uk/digbks/dig19cbooksjsontext.bz2\"\n",
        "# bz2_file = \"https://s3.eu-west-2.amazonaws.com/importer.oar.bl.uk/bl/0623cab5-58d7-4eba-b88b-bb32b86862d8\"\n",
        "\n",
        "access_url = urllib.request.urlopen(bz2_file)\n",
        "\n",
        "# unzips the files inside\n",
        "f = bz2.BZ2File(access_url, mode='r', buffering=None, compresslevel=9)"
      ],
      "execution_count": 0,
      "outputs": []
    },
    {
      "cell_type": "code",
      "metadata": {
        "id": "EP6JD1AGYD5m",
        "colab_type": "code",
        "outputId": "9c28c308-2905-450a-f335-cb9faf463902",
        "colab": {
          "base_uri": "https://localhost:8080/",
          "height": 54
        }
      },
      "source": [
        "# check the bz2 file\n",
        "f.peek()"
      ],
      "execution_count": 0,
      "outputs": [
        {
          "output_type": "execute_result",
          "data": {
            "text/plain": [
              "b'json/\\x00\\x00\\x00\\x00\\x00\\x00\\x00\\x00\\x00\\x00\\x00\\x00\\x00\\x00\\x00\\x00\\x00\\x00\\x00\\x00\\x00\\x00\\x00\\x00\\x00\\x00\\x00\\x00\\x00\\x00\\x00\\x00\\x00\\x00\\x00\\x00\\x00\\x00\\x00\\x00\\x00\\x00\\x00\\x00\\x00\\x00\\x00\\x00\\x00\\x00\\x00\\x00\\x00\\x00\\x00\\x00\\x00\\x00\\x00\\x00\\x00\\x00\\x00\\x00\\x00\\x00\\x00\\x00\\x00\\x00\\x00\\x00\\x00\\x00\\x00\\x00\\x00\\x00\\x00\\x00\\x00\\x00\\x00\\x00\\x00\\x00\\x00\\x00\\x00\\x00\\x00\\x00\\x00\\x00\\x000000755\\x000142201\\x000024421\\x0000000000000\\x0012216042104\\x00012526\\x00 5\\x00\\x00\\x00\\x00\\x00\\x00\\x00\\x00\\x00\\x00\\x00\\x00\\x00\\x00\\x00\\x00\\x00\\x00\\x00\\x00\\x00\\x00\\x00\\x00\\x00\\x00\\x00\\x00\\x00\\x00\\x00\\x00\\x00\\x00\\x00\\x00\\x00\\x00\\x00\\x00\\x00\\x00\\x00\\x00\\x00\\x00\\x00\\x00\\x00\\x00\\x00\\x00\\x00\\x00\\x00\\x00\\x00\\x00\\x00\\x00\\x00\\x00\\x00\\x00\\x00\\x00\\x00\\x00\\x00\\x00\\x00\\x00\\x00\\x00\\x00\\x00\\x00\\x00\\x00\\x00\\x00\\x00\\x00\\x00\\x00\\x00\\x00\\x00\\x00\\x00\\x00\\x00\\x00\\x00\\x00\\x00\\x00\\x00\\x00\\x00ustar  \\x00bosteen\\x00\\x00\\x00\\x00\\x00\\x00\\x00\\x00\\x00\\x00\\x00\\x00\\x00\\x00\\x00\\x00\\x00\\x00\\x00\\x00\\x00\\x00\\x00\\x00\\x00Domain Users\\x00\\x00\\x00\\x00\\x00\\x00\\x00\\x00\\x00\\x00\\x00\\x00\\x00\\x00\\x00\\x00\\x00\\x00\\x00\\x00\\x00\\x00\\x00\\x00\\x00\\x00\\x00\\x00\\x00\\x00\\x00\\x00\\x00\\x00\\x00\\x00\\x00\\x00\\x00\\x00\\x00\\x00\\x00\\x00\\x00\\x00\\x00\\x00\\x00\\x00\\x00\\x00\\x00\\x00\\x00\\x00\\x00\\x00\\x00\\x00\\x00\\x00\\x00\\x00\\x00\\x00\\x00\\x00\\x00\\x00\\x00\\x00\\x00\\x00\\x00\\x00\\x00\\x00\\x00\\x00\\x00\\x00\\x00\\x00\\x00\\x00\\x00\\x00\\x00\\x00\\x00\\x00\\x00\\x00\\x00\\x00\\x00\\x00\\x00\\x00\\x00\\x00\\x00\\x00\\x00\\x00\\x00\\x00\\x00\\x00\\x00\\x00\\x00\\x00\\x00\\x00\\x00\\x00\\x00\\x00\\x00\\x00\\x00\\x00\\x00\\x00\\x00\\x00\\x00\\x00\\x00\\x00\\x00\\x00\\x00\\x00\\x00\\x00\\x00\\x00\\x00\\x00\\x00\\x00\\x00\\x00\\x00\\x00\\x00\\x00\\x00\\x00\\x00\\x00\\x00\\x00\\x00\\x00\\x00\\x00\\x00\\x00\\x00\\x00\\x00\\x00\\x00\\x00\\x00\\x00\\x00\\x00\\x00\\x00\\x00\\x00\\x00\\x00\\x00\\x00\\x00\\x00\\x00\\x00\\x00\\x00\\x00\\x00\\x00\\x00\\x00\\x00\\x00\\x00\\x00\\x00\\x00\\x00\\x00\\x00\\x00\\x00\\x00json/0000/\\x00\\x00\\x00\\x00\\x00\\x00\\x00\\x00\\x00\\x00\\x00\\x00\\x00\\x00\\x00\\x00\\x00\\x00\\x00\\x00\\x00\\x00\\x00\\x00\\x00\\x00\\x00\\x00\\x00\\x00\\x00\\x00\\x00\\x00\\x00\\x00\\x00\\x00\\x00\\x00\\x00\\x00\\x00\\x00\\x00\\x00\\x00\\x00\\x00\\x00\\x00\\x00\\x00\\x00\\x00\\x00\\x00\\x00\\x00\\x00\\x00\\x00\\x00\\x00\\x00\\x00\\x00\\x00\\x00\\x00\\x00\\x00\\x00\\x00\\x00\\x00\\x00\\x00\\x00\\x00\\x00\\x00\\x00\\x00\\x00\\x00\\x00\\x00\\x00\\x000000755\\x000142201\\x000024421\\x0000000000000\\x0012216023273\\x00013113\\x00 5\\x00\\x00\\x00\\x00\\x00\\x00\\x00\\x00\\x00\\x00\\x00\\x00\\x00\\x00\\x00\\x00\\x00\\x00\\x00\\x00\\x00\\x00\\x00\\x00\\x00\\x00\\x00\\x00\\x00\\x00\\x00\\x00\\x00\\x00\\x00\\x00\\x00\\x00\\x00\\x00\\x00\\x00\\x00\\x00\\x00\\x00\\x00\\x00\\x00\\x00\\x00\\x00\\x00\\x00\\x00\\x00\\x00\\x00\\x00\\x00\\x00\\x00\\x00\\x00\\x00\\x00\\x00\\x00\\x00\\x00\\x00\\x00\\x00\\x00\\x00\\x00\\x00\\x00\\x00\\x00\\x00\\x00\\x00\\x00\\x00\\x00\\x00\\x00\\x00\\x00\\x00\\x00\\x00\\x00\\x00\\x00\\x00\\x00\\x00\\x00ustar  \\x00bosteen\\x00\\x00\\x00\\x00\\x00\\x00\\x00\\x00\\x00\\x00\\x00\\x00\\x00\\x00\\x00\\x00\\x00\\x00\\x00\\x00\\x00\\x00\\x00\\x00\\x00Domain Users\\x00\\x00\\x00\\x00\\x00\\x00\\x00\\x00\\x00\\x00\\x00\\x00\\x00\\x00\\x00\\x00\\x00\\x00\\x00\\x00\\x00\\x00\\x00\\x00\\x00\\x00\\x00\\x00\\x00\\x00\\x00\\x00\\x00\\x00\\x00\\x00\\x00\\x00\\x00\\x00\\x00\\x00\\x00\\x00\\x00\\x00\\x00\\x00\\x00\\x00\\x00\\x00\\x00\\x00\\x00\\x00\\x00\\x00\\x00\\x00\\x00\\x00\\x00\\x00\\x00\\x00\\x00\\x00\\x00\\x00\\x00\\x00\\x00\\x00\\x00\\x00\\x00\\x00\\x00\\x00\\x00\\x00\\x00\\x00\\x00\\x00\\x00\\x00\\x00\\x00\\x00\\x00\\x00\\x00\\x00\\x00\\x00\\x00\\x00\\x00\\x00\\x00\\x00\\x00\\x00\\x00\\x00\\x00\\x00\\x00\\x00\\x00\\x00\\x00\\x00\\x00\\x00\\x00\\x00\\x00\\x00\\x00\\x00\\x00\\x00\\x00\\x00\\x00\\x00\\x00\\x00\\x00\\x00\\x00\\x00\\x00\\x00\\x00\\x00\\x00\\x00\\x00\\x00\\x00\\x00\\x00\\x00\\x00\\x00\\x00\\x00\\x00\\x00\\x00\\x00\\x00\\x00\\x00\\x00\\x00\\x00\\x00\\x00\\x00\\x00\\x00\\x00\\x00\\x00\\x00\\x00\\x00\\x00\\x00\\x00\\x00\\x00\\x00\\x00\\x00\\x00\\x00\\x00\\x00\\x00\\x00\\x00\\x00\\x00\\x00\\x00\\x00\\x00\\x00\\x00\\x00\\x00\\x00\\x00\\x00\\x00\\x00\\x00json/0000/000000037_01_text.json\\x00\\x00\\x00\\x00\\x00\\x00\\x00\\x00\\x00\\x00\\x00\\x00\\x00\\x00\\x00\\x00\\x00\\x00\\x00\\x00\\x00\\x00\\x00\\x00\\x00\\x00\\x00\\x00\\x00\\x00\\x00\\x00\\x00\\x00\\x00\\x00\\x00\\x00\\x00\\x00\\x00\\x00\\x00\\x00\\x00\\x00\\x00\\x00\\x00\\x00\\x00\\x00\\x00\\x00\\x00\\x00\\x00\\x00\\x00\\x00\\x00\\x00\\x00\\x00\\x00\\x00\\x00\\x000000644\\x000142201\\x000024421\\x0000000126317\\x0012203442642\\x00016336\\x00 0\\x00\\x00\\x00\\x00\\x00\\x00\\x00\\x00\\x00\\x00\\x00\\x00\\x00\\x00\\x00\\x00\\x00\\x00\\x00\\x00\\x00\\x00\\x00\\x00\\x00\\x00\\x00\\x00\\x00\\x00\\x00\\x00\\x00\\x00\\x00\\x00\\x00\\x00\\x00\\x00\\x00\\x00\\x00\\x00\\x00\\x00\\x00\\x00\\x00\\x00\\x00\\x00\\x00\\x00\\x00\\x00\\x00\\x00\\x00\\x00\\x00\\x00\\x00\\x00\\x00\\x00\\x00\\x00\\x00\\x00\\x00\\x00\\x00\\x00\\x00\\x00\\x00\\x00\\x00\\x00\\x00\\x00\\x00\\x00\\x00\\x00\\x00\\x00\\x00\\x00\\x00\\x00\\x00\\x00\\x00\\x00\\x00\\x00\\x00\\x00ustar  \\x00bosteen\\x00\\x00\\x00\\x00\\x00\\x00\\x00\\x00\\x00\\x00\\x00\\x00\\x00\\x00\\x00\\x00\\x00\\x00\\x00\\x00\\x00\\x00\\x00\\x00\\x00Domain Users\\x00\\x00\\x00\\x00\\x00\\x00\\x00\\x00\\x00\\x00\\x00\\x00\\x00\\x00\\x00\\x00\\x00\\x00\\x00\\x00\\x00\\x00\\x00\\x00\\x00\\x00\\x00\\x00\\x00\\x00\\x00\\x00\\x00\\x00\\x00\\x00\\x00\\x00\\x00\\x00\\x00\\x00\\x00\\x00\\x00\\x00\\x00\\x00\\x00\\x00\\x00\\x00\\x00\\x00\\x00\\x00\\x00\\x00\\x00\\x00\\x00\\x00\\x00\\x00\\x00\\x00\\x00\\x00\\x00\\x00\\x00\\x00\\x00\\x00\\x00\\x00\\x00\\x00\\x00\\x00\\x00\\x00\\x00\\x00\\x00\\x00\\x00\\x00\\x00\\x00\\x00\\x00\\x00\\x00\\x00\\x00\\x00\\x00\\x00\\x00\\x00\\x00\\x00\\x00\\x00\\x00\\x00\\x00\\x00\\x00\\x00\\x00\\x00\\x00\\x00\\x00\\x00\\x00\\x00\\x00\\x00\\x00\\x00\\x00\\x00\\x00\\x00\\x00\\x00\\x00\\x00\\x00\\x00\\x00\\x00\\x00\\x00\\x00\\x00\\x00\\x00\\x00\\x00\\x00\\x00\\x00\\x00\\x00\\x00\\x00\\x00\\x00\\x00\\x00\\x00\\x00\\x00\\x00\\x00\\x00\\x00\\x00\\x00\\x00\\x00\\x00\\x00\\x00\\x00\\x00\\x00\\x00\\x00\\x00\\x00\\x00\\x00\\x00\\x00\\x00\\x00\\x00\\x00\\x00\\x00\\x00\\x00\\x00\\x00\\x00\\x00\\x00\\x00\\x00\\x00\\x00\\x00\\x00\\x00\\x00\\x00\\x00\\x00[[1, \"\"], [2, \"\"], [3, \"\"], [4, \"ONE PENNY Old Manchester ABEL HEYWOOD k SON, 56 & 58, Oldham Street. Manchester. H. DARBYSHIRE & Co., 9, Red Lion Court, Fleet Street, London.\"], [5, \"BEFORE YOU BUY SEE PERRY\\'S \\\\u00ab\\\\u00bb \\' \\\\u00ab& SAFES. Thos. Perry & Son, Limited, ENGINEERS, SAFE UNO BEDSTEAD MANUFACTURERS, \\'\\\\u25a0 : .... II, St. Marys Gate, Manchester. ESTABLISHED 80 YEARS. Price Lists and Testimonials on Application ST. A, HARPER, Manager. Works: HIGHFIELDS, BILSTON- London: lUDYER\\'S BUILDINGS, HOLBORN. Liverpool: 8, INDIA BUILDINGS, FENWICK-ST\"], [6, \"W I \\\\u00c6Lm Jay i Wm$ FACING THE MARINE PARK. Special Boarding Terms from \\\\u00a32 12s. 6d, per Week Week-end Terms from 20s. J. C. SEIDENSTRICKER, PROPRIETOR.\"], [7, \"ROB1\\' ROBERTS & CO,, Tea and Coffee Merchants, TRADE MARK. 119, LORD STREET, SOUTHPORT. SAMPLES ON APPLICATION. All Parcels Carriage Paid by Parcels Post or Rail. HEAD WAREHOUSE: 8, DALE STREET, LIVERPOOL. Gold Medal \\\\u2014 Liverpool Exhibition, 1886.\"], [8, \"A GOSSIP ABOUT Old Manchester WITH ILLUSTRATIONS. Manchester : Abel Heywood & Son, 56 and 58, Oldham Street. London : H. Darbyshire & Co., 9, Red Lion Court, Fleet Street.\"], [9, \"Bouse FURniSBinc \\\\u00ab* HEAPS & HARRISON, Have again the pleasure to draw attention to their LARGE AND VARIED STOCK OF FURNITURE & HOUSEHOLD REQUISITES THEIR GALLERIES (roomy, convenient, well lighted, and specially constructed for the Display of Furniture) ARE NOW REPLETE WITH GOODS OF THE NEWEST DESIGNS, Well Made, Thoroughly Seasoned, Moderate in Price, and Guaranteed Sound. DRAWING-ROOM SUITES In Great Variety, and a Magnificent Display of DKCOHATIYK AETICLES, DINING-ROOM SUITES, TABLES, DINNER WAGONS, &c\\\\u201e k. BREAKFAST AND SITTING-ROOM FURNITURE. B\\\\u00c6nJROOM SI 17 E T \\\\u00c6 Si < Of every description, viz : Solid American Walnut. Satin Walnut, Ash, Oak, and Mahogany, and the Usual Complement of the RICHER SUITES and PAINTED GOODS. BRASS ANDIRftN BEDSTEADS (some very Choice Designs). Bedding of every description, our own Manufacture, guaranteed thoroughly purified. P HDD [\\\\\"TO RoYAL Axminster, Wilton. Brussels, Kidderminster, llttnrr 111 and MagDificent Display of Art Squaresof all makes and sizes, Uniil LIU Axminster, Persian, Indian, and Skin Hearthrugs. fil HIT J I kin White Lace Curtains, New ne-igns. I 1 1 U I A I HI V Ecru and Tinted Curtains, New Designs. Ill IR I Rllll I) Madras Muslin Curtains, New Designs. UUM \\\\u25a0 ii 1 1 1 w cretonnes for Drajieries, New Patterns. 33CXX.A.FS Sc HARRISON CABINET MAKERS, CARPET FACTORS, BEDDING MANUFACTURERS, And Complete House Furnishers, 10 & 12, OLDHAM-ST., MANCHESTER.\"], [10, \"GOSSIP ABOUT OLD MANCHESTER. ANCHESTER, often looked upon as a very modern city, is in reality an ancient place. That there were inhabitants in the district even before the Roman time is known from the British cinerary urn dug up at Broughton Park, and now in the Peel Park Museum, from which we learn that cremation was practised by our savage ancestors eighteen centuries ago. There is still left a fragment of wall in Gastlefield which is now all that remains of Roman Manchester. The site of the Roman station was at Castle field, and from time to time there have been dug up altars and other objects to remind us of the days when the legions of Rome held this quarter as the legions of Britain may now be holding some obscure place in the wilds of Asia or of Africa, civilizing the wild natives, and teaching the arts of peace to races to whom the future of the world may perchance belong. We know little or nothing of Manchester before the con quest. There are, indeed, legends of a later age which associate this locality with the deeds of Arthur and of Lancelot of the Lake. There is another tradition which says that whilst Ina, the King of Wessex, was warring against the Welsh kings, his gentle queen remained at Manchester, where he joined her. With the conquest we come upon firmer ground. The Conqueror gave the broad lands of Lancashire to Roger of Poictou, and under him the manor of Manchester was held by the Gresleys. Robert de Gresley was one of the barons who forced the great Charter of England from the unwilling king at Runneymede. The lords of Manchester\"], [11, \"OLD MARKET STREET\"], [12, \"5 lived in their baron\\'s hall in semi-regal state, wielding even the power of life and death over their people. They fished in the Irwell ; they hunted in the woods that then surrounded the town ; they took their retainers to feud or to war; they probably looked on at [the miracle plays in the old church. They had, let us hope, a good word for those who did well, and for evildoers there was the grim gallows field. The last of the barons was Thomas la Warre, who became a priest before he became a peer. He was the rector of Manchester, and had a license to be non-resident. What touched his conscience we cannot now tell ; but he determined to do what he could to cure the scandal of non-residence, for of the previous rectors some rarely, and others never, resided in the town or performed the functions of their office. For this reason he determined, being the last of his race, to found a college of the clergy whose duty it should be to minister to the spiritual wants of the people. So on a THE COLLEGIATE CHURCH FROM VICTORIA BRIDGE IN 1844.\"], [13, \"6 certain day in May, in 1422, when the necessary license had been obtained, the people were gathered together by the sound of the church bell to witness and give their consent to the church being collegiated. There were Sir John le Byron and Sir John de Radcliffe; there were Trafford, Booth, Strangewayes and Hulme, Prestwich and Barlow, and many more Manchester gentlemen there present to witness Thomas la Warre make a deed of gift of his lands and rectory of Manchester to Thomas, Lord Bishop of Durham, who founded a collegiate church in honour of the Virgin Mary, of St. Denis of France, and of St George, of merry England. Thus it was that the Baron\\'s Hall came to be the home of the Guild ofthe Blessed Virgin, with its warden, fellows, and singing men, to whom there were occasional additions of chantry priests. Here they ate their food, read and sang the services of the church, and quarrelled, no doubt, to kill time in monastic fashion. That they were not unmindful of the good things of this world we know, for they rented the park of Nether Aldport, and had the right of fishing in the Irk. One of them, for pleasant meditation, had a pit near High Knolls planted with a double edge and graced by seats. Two centuries after the good priest was dust, this was known as Sir John Browne\\'s pit. The baronial character of the buildings'"
            ]
          },
          "metadata": {
            "tags": []
          },
          "execution_count": 16
        }
      ]
    },
    {
      "cell_type": "code",
      "metadata": {
        "id": "gZju3F9ydl9h",
        "colab_type": "code",
        "colab": {}
      },
      "source": [
        "# Inside the bz2 there's a tar file of 44GB\n",
        "tar_file = f.read()"
      ],
      "execution_count": 0,
      "outputs": []
    }
  ]
}