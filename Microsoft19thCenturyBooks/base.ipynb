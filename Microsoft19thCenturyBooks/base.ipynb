{
 "cells": [
  {
   "cell_type": "code",
   "execution_count": 1,
   "metadata": {},
   "outputs": [],
   "source": [
    "# imports\n",
    "\n",
    "import pandas as pd\n",
    "import json, os, shutil, codecs\n",
    "import csv"
   ]
  },
  {
   "cell_type": "code",
   "execution_count": 3,
   "metadata": {},
   "outputs": [],
   "source": [
    "# read metadata file (JSON)\n",
    "\n",
    "# metadata_file = \"data/book_data.json\"\n",
    "# meta = json.load(open(metadata_file))"
   ]
  },
  {
   "cell_type": "code",
   "execution_count": 4,
   "metadata": {},
   "outputs": [],
   "source": [
    "# meta[342]"
   ]
  },
  {
   "cell_type": "code",
   "execution_count": 8,
   "metadata": {},
   "outputs": [],
   "source": [
    "# read metadata file -- RUN this CELL if using BINDER or a LOCAL Jupyter Notebooks SERVER (see bellow for Google Colab)\n",
    "\n",
    "filename = \"data/Microsoft-Books.zip\"\n",
    "df = pd.read_csv(filename, delimiter=\"\\t\", compression =\"zip\")"
   ]
  },
  {
   "cell_type": "code",
   "execution_count": null,
   "metadata": {},
   "outputs": [],
   "source": [
    "# read metadata file -- RUN this CELL if using Google COLAB\n",
    "\n",
    "filename = \"https://github.com/BL-Labs/Jupyter-notebooks-projects-using-BL-Sources/raw/master/Microsoft19thCenturyBooks/data/Microsoft-Books.zip\"\n",
    "df = pd.read_csv(filename, delimiter=\"\\t\", compression =\"zip\")"
   ]
  },
  {
   "cell_type": "code",
   "execution_count": 5,
   "metadata": {},
   "outputs": [
    {
     "data": {
      "text/html": [
       "<div>\n",
       "<style scoped>\n",
       "    .dataframe tbody tr th:only-of-type {\n",
       "        vertical-align: middle;\n",
       "    }\n",
       "\n",
       "    .dataframe tbody tr th {\n",
       "        vertical-align: top;\n",
       "    }\n",
       "\n",
       "    .dataframe thead th {\n",
       "        text-align: right;\n",
       "    }\n",
       "</style>\n",
       "<table border=\"1\" class=\"dataframe\">\n",
       "  <thead>\n",
       "    <tr style=\"text-align: right;\">\n",
       "      <th></th>\n",
       "      <th>Physical Record ID</th>\n",
       "      <th>BL record ID</th>\n",
       "      <th>ARK</th>\n",
       "      <th>Type of resource</th>\n",
       "      <th>Content type</th>\n",
       "      <th>All names</th>\n",
       "      <th>Title</th>\n",
       "      <th>Country of publication</th>\n",
       "      <th>Place of publication</th>\n",
       "      <th>Publisher</th>\n",
       "      <th>Date of publication (standardised)</th>\n",
       "      <th>Edition</th>\n",
       "      <th>Physical description</th>\n",
       "      <th>BL shelfmark</th>\n",
       "      <th>Topics</th>\n",
       "      <th>Genre</th>\n",
       "      <th>Literary form</th>\n",
       "      <th>Languages</th>\n",
       "      <th>Contents</th>\n",
       "    </tr>\n",
       "  </thead>\n",
       "  <tbody>\n",
       "    <tr>\n",
       "      <th>0</th>\n",
       "      <td>4031040.0</td>\n",
       "      <td>14940086</td>\n",
       "      <td>ark:/81055/vdc_000000021AEC</td>\n",
       "      <td>Monograph</td>\n",
       "      <td>Text</td>\n",
       "      <td>Żychliński, Ludwik [person]</td>\n",
       "      <td>Historya Sejmów Wielk. Ks. Poznańskiego do r. ...</td>\n",
       "      <td>NaN</td>\n",
       "      <td>Poznań</td>\n",
       "      <td>NaN</td>\n",
       "      <td>1867</td>\n",
       "      <td>NaN</td>\n",
       "      <td>2 tomes (8°)</td>\n",
       "      <td>Digital Store 9475.cc.22</td>\n",
       "      <td>NaN</td>\n",
       "      <td>NaN</td>\n",
       "      <td>NaN</td>\n",
       "      <td>Polish</td>\n",
       "      <td>NaN</td>\n",
       "    </tr>\n",
       "    <tr>\n",
       "      <th>1</th>\n",
       "      <td>4031043.0</td>\n",
       "      <td>15178564</td>\n",
       "      <td>ark:/81055/vdc_000000025FF8</td>\n",
       "      <td>Monograph</td>\n",
       "      <td>Text</td>\n",
       "      <td>Żychliński, Ludwik [person]</td>\n",
       "      <td>Pamiętniki z wojny Amerykańskiéj 1862 r</td>\n",
       "      <td>NaN</td>\n",
       "      <td>Poznań</td>\n",
       "      <td>NaN</td>\n",
       "      <td>1863</td>\n",
       "      <td>NaN</td>\n",
       "      <td>NaN</td>\n",
       "      <td>Digital Store 9603.f.3</td>\n",
       "      <td>NaN</td>\n",
       "      <td>NaN</td>\n",
       "      <td>NaN</td>\n",
       "      <td>Polish</td>\n",
       "      <td>NaN</td>\n",
       "    </tr>\n",
       "    <tr>\n",
       "      <th>2</th>\n",
       "      <td>4030703.0</td>\n",
       "      <td>14841678</td>\n",
       "      <td>ark:/81055/vdc_000000005322</td>\n",
       "      <td>Monograph</td>\n",
       "      <td>Text</td>\n",
       "      <td>Rehn, A. [person] ; Zwiedinek Von Suedenhorst,...</td>\n",
       "      <td>Syrien und seine Bedeutung für den Welthandel....</td>\n",
       "      <td>NaN</td>\n",
       "      <td>Wien</td>\n",
       "      <td>NaN</td>\n",
       "      <td>1873</td>\n",
       "      <td>NaN</td>\n",
       "      <td>NaN</td>\n",
       "      <td>Digital Store 10077.f.1</td>\n",
       "      <td>NaN</td>\n",
       "      <td>NaN</td>\n",
       "      <td>NaN</td>\n",
       "      <td>German</td>\n",
       "      <td>NaN</td>\n",
       "    </tr>\n",
       "  </tbody>\n",
       "</table>\n",
       "</div>"
      ],
      "text/plain": [
       "   Physical Record ID  BL record ID                          ARK  \\\n",
       "0           4031040.0      14940086  ark:/81055/vdc_000000021AEC   \n",
       "1           4031043.0      15178564  ark:/81055/vdc_000000025FF8   \n",
       "2           4030703.0      14841678  ark:/81055/vdc_000000005322   \n",
       "\n",
       "  Type of resource Content type  \\\n",
       "0        Monograph         Text   \n",
       "1        Monograph         Text   \n",
       "2        Monograph         Text   \n",
       "\n",
       "                                           All names  \\\n",
       "0                        Żychliński, Ludwik [person]   \n",
       "1                        Żychliński, Ludwik [person]   \n",
       "2  Rehn, A. [person] ; Zwiedinek Von Suedenhorst,...   \n",
       "\n",
       "                                               Title Country of publication  \\\n",
       "0  Historya Sejmów Wielk. Ks. Poznańskiego do r. ...                    NaN   \n",
       "1            Pamiętniki z wojny Amerykańskiéj 1862 r                    NaN   \n",
       "2  Syrien und seine Bedeutung für den Welthandel....                    NaN   \n",
       "\n",
       "  Place of publication Publisher Date of publication (standardised) Edition  \\\n",
       "0               Poznań       NaN                               1867     NaN   \n",
       "1               Poznań       NaN                               1863     NaN   \n",
       "2                 Wien       NaN                               1873     NaN   \n",
       "\n",
       "  Physical description              BL shelfmark Topics Genre Literary form  \\\n",
       "0         2 tomes (8°)  Digital Store 9475.cc.22    NaN   NaN           NaN   \n",
       "1                  NaN    Digital Store 9603.f.3    NaN   NaN           NaN   \n",
       "2                  NaN   Digital Store 10077.f.1    NaN   NaN           NaN   \n",
       "\n",
       "  Languages Contents  \n",
       "0    Polish      NaN  \n",
       "1    Polish      NaN  \n",
       "2    German      NaN  "
      ]
     },
     "execution_count": 5,
     "metadata": {},
     "output_type": "execute_result"
    }
   ],
   "source": [
    "df.head(3)"
   ]
  },
  {
   "cell_type": "code",
   "execution_count": 6,
   "metadata": {},
   "outputs": [
    {
     "data": {
      "text/plain": [
       "Text                         49314\n",
       "Cartographic image ; Text        2\n",
       "Name: Content type, dtype: int64"
      ]
     },
     "execution_count": 6,
     "metadata": {},
     "output_type": "execute_result"
    }
   ],
   "source": [
    "df[\"Content type\"].value_counts()"
   ]
  },
  {
   "cell_type": "code",
   "execution_count": 7,
   "metadata": {},
   "outputs": [
    {
     "data": {
      "text/plain": [
       "1897         1491\n",
       "1896         1423\n",
       "1895         1269\n",
       "1893         1214\n",
       "1890         1178\n",
       "             ... \n",
       "1851-1873       1\n",
       "1835-1836       1\n",
       "1884-           1\n",
       "2971            1\n",
       "1893-           1\n",
       "Name: Date of publication (standardised), Length: 418, dtype: int64"
      ]
     },
     "execution_count": 7,
     "metadata": {},
     "output_type": "execute_result"
    }
   ],
   "source": [
    "df[\"Date of publication (standardised)\"].value_counts()"
   ]
  },
  {
   "cell_type": "code",
   "execution_count": 17,
   "metadata": {},
   "outputs": [
    {
     "data": {
      "text/plain": [
       "Periodical                                               38\n",
       "Directory                                                18\n",
       "Fiction                                                  14\n",
       "Source                                                    8\n",
       "Biography                                                 7\n",
       "Poetry or verse                                           5\n",
       "Dictionary                                                5\n",
       "Review                                                    4\n",
       "Pictorial work                                            4\n",
       "Libretto                                                  3\n",
       "Guidebook                                                 3\n",
       "Early works to 1800                                       3\n",
       "Statistics                                                3\n",
       "Drama                                                     2\n",
       "Illustration                                              2\n",
       "Atlas                                                     2\n",
       "Travel                                                    2\n",
       "Handbook or manual                                        2\n",
       "Gazetteer                                                 2\n",
       "Diary                                                     1\n",
       "Early works to 1800 ; Libretto                            1\n",
       "Correspondence                                            1\n",
       "Bibliography                                              1\n",
       "Ephemeris                                                 1\n",
       "Handbook or manual ; Periodical                           1\n",
       "Engraving ; Illustration ; Plan or view                   1\n",
       "Compendium or compilation                                 1\n",
       "History                                                   1\n",
       "Encyclopaedia                                             1\n",
       "Translations from English ; Translations into Russian     1\n",
       "Lithograph                                                1\n",
       "Diary ; Personal narrative                                1\n",
       "Concordance                                               1\n",
       "Hymnal                                                    1\n",
       "Humour or satire                                          1\n",
       "Lithograph ; Plan or view                                 1\n",
       "Children's fiction                                        1\n",
       "Biography ; Diary ; Personal narrative                    1\n",
       "Name: Genre, dtype: int64"
      ]
     },
     "execution_count": 17,
     "metadata": {},
     "output_type": "execute_result"
    }
   ],
   "source": [
    "df[\"Genre\"].value_counts()"
   ]
  },
  {
   "cell_type": "code",
   "execution_count": 18,
   "metadata": {},
   "outputs": [
    {
     "data": {
      "text/plain": [
       "Not fiction      298\n",
       "Fiction          177\n",
       "Poetry            27\n",
       "Dramas            15\n",
       "Novels            11\n",
       "Short stories      5\n",
       "Letters            1\n",
       "Mixed forms        1\n",
       "Name: Literary form, dtype: int64"
      ]
     },
     "execution_count": 18,
     "metadata": {},
     "output_type": "execute_result"
    }
   ],
   "source": [
    "df[\"Literary form\"].value_counts()"
   ]
  },
  {
   "cell_type": "code",
   "execution_count": null,
   "metadata": {},
   "outputs": [],
   "source": []
  }
 ],
 "metadata": {
  "kernelspec": {
   "display_name": "Python 3",
   "language": "python",
   "name": "python3"
  },
  "language_info": {
   "codemirror_mode": {
    "name": "ipython",
    "version": 3
   },
   "file_extension": ".py",
   "mimetype": "text/x-python",
   "name": "python",
   "nbconvert_exporter": "python",
   "pygments_lexer": "ipython3",
   "version": "3.8.0"
  }
 },
 "nbformat": 4,
 "nbformat_minor": 4
}
